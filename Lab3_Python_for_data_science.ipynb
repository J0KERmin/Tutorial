{
  "nbformat": 4,
  "nbformat_minor": 0,
  "metadata": {
    "colab": {
      "provenance": [],
      "authorship_tag": "ABX9TyPVfnxXKN1BC5A9krTNcpoV",
      "include_colab_link": true
    },
    "kernelspec": {
      "name": "python3",
      "display_name": "Python 3"
    },
    "language_info": {
      "name": "python"
    }
  },
  "cells": [
    {
      "cell_type": "markdown",
      "metadata": {
        "id": "view-in-github",
        "colab_type": "text"
      },
      "source": [
        "<a href=\"https://colab.research.google.com/github/J0KERmin/Tutorial/blob/main/Lab3_Python_for_data_science.ipynb\" target=\"_parent\"><img src=\"https://colab.research.google.com/assets/colab-badge.svg\" alt=\"Open In Colab\"/></a>"
      ]
    },
    {
      "cell_type": "markdown",
      "source": [
        "Мета лабораторної роботи полягає в розробці моделі класифікації, яка здатна визначити клас магазину (Small, Medium, High) на основі різних факторів."
      ],
      "metadata": {
        "id": "A3V4aRdqcORV"
      }
    },
    {
      "cell_type": "markdown",
      "source": [
        "В першу чергу імпортуємо необхідні бібліотеки:"
      ],
      "metadata": {
        "id": "yoVHOMrfcMJd"
      }
    },
    {
      "cell_type": "code",
      "source": [
        "import pandas as pd\n",
        "import statsmodels.api as sm\n",
        "import matplotlib.pyplot as plt\n",
        "import seaborn as sns\n",
        "import numpy as np"
      ],
      "metadata": {
        "id": "rSBw1iV-cVGH"
      },
      "execution_count": 69,
      "outputs": []
    },
    {
      "cell_type": "markdown",
      "source": [
        "Додаємо наш датасет:"
      ],
      "metadata": {
        "id": "8xDhXjCXcnyx"
      }
    },
    {
      "cell_type": "code",
      "source": [
        "import gdown\n",
        "import pandas as pd\n",
        "\n",
        "url = 'https://drive.google.com/uc?id=1AWIMDRHlQHqMObznZ751tpLBP8Y05zzo'\n",
        "output = '/content/BigMart_Sales_Data.csv'\n",
        "gdown.download(url, output, quiet=False)\n",
        "\n",
        "df = pd.read_csv(output)\n",
        "\n",
        "df.head()"
      ],
      "metadata": {
        "colab": {
          "base_uri": "https://localhost:8080/",
          "height": 280
        },
        "id": "9MGhs4IscoIn",
        "outputId": "b2d79e94-6c5a-46b3-e08f-df565f96634c"
      },
      "execution_count": 70,
      "outputs": [
        {
          "output_type": "stream",
          "name": "stderr",
          "text": [
            "Downloading...\n",
            "From: https://drive.google.com/uc?id=1AWIMDRHlQHqMObznZ751tpLBP8Y05zzo\n",
            "To: /content/BigMart_Sales_Data.csv\n",
            "100%|██████████| 526k/526k [00:00<00:00, 5.36MB/s]\n"
          ]
        },
        {
          "output_type": "execute_result",
          "data": {
            "text/plain": [
              "  Item_Identifier  Item_Weight Item_Fat_Content  Item_Visibility    Item_Type  \\\n",
              "0           FDW58       20.750          Low Fat         0.007565  Snack Foods   \n",
              "1           FDW14        8.300              reg         0.038428        Dairy   \n",
              "2           NCN55       14.600          Low Fat         0.099575       Others   \n",
              "3           FDQ58        7.315          Low Fat         0.015388  Snack Foods   \n",
              "4           FDY38          NaN          Regular         0.118599        Dairy   \n",
              "\n",
              "   Item_MRP Outlet_Identifier  Outlet_Establishment_Year Outlet_Size  \\\n",
              "0  107.8622            OUT049                       1999      Medium   \n",
              "1   87.3198            OUT017                       2007         NaN   \n",
              "2  241.7538            OUT010                       1998         NaN   \n",
              "3  155.0340            OUT017                       2007         NaN   \n",
              "4  234.2300            OUT027                       1985      Medium   \n",
              "\n",
              "  Outlet_Location_Type        Outlet_Type  \n",
              "0               Tier 1  Supermarket Type1  \n",
              "1               Tier 2  Supermarket Type1  \n",
              "2               Tier 3      Grocery Store  \n",
              "3               Tier 2  Supermarket Type1  \n",
              "4               Tier 3  Supermarket Type3  "
            ],
            "text/html": [
              "\n",
              "  <div id=\"df-e2da24be-386f-4d1d-99f0-96b2633ca648\" class=\"colab-df-container\">\n",
              "    <div>\n",
              "<style scoped>\n",
              "    .dataframe tbody tr th:only-of-type {\n",
              "        vertical-align: middle;\n",
              "    }\n",
              "\n",
              "    .dataframe tbody tr th {\n",
              "        vertical-align: top;\n",
              "    }\n",
              "\n",
              "    .dataframe thead th {\n",
              "        text-align: right;\n",
              "    }\n",
              "</style>\n",
              "<table border=\"1\" class=\"dataframe\">\n",
              "  <thead>\n",
              "    <tr style=\"text-align: right;\">\n",
              "      <th></th>\n",
              "      <th>Item_Identifier</th>\n",
              "      <th>Item_Weight</th>\n",
              "      <th>Item_Fat_Content</th>\n",
              "      <th>Item_Visibility</th>\n",
              "      <th>Item_Type</th>\n",
              "      <th>Item_MRP</th>\n",
              "      <th>Outlet_Identifier</th>\n",
              "      <th>Outlet_Establishment_Year</th>\n",
              "      <th>Outlet_Size</th>\n",
              "      <th>Outlet_Location_Type</th>\n",
              "      <th>Outlet_Type</th>\n",
              "    </tr>\n",
              "  </thead>\n",
              "  <tbody>\n",
              "    <tr>\n",
              "      <th>0</th>\n",
              "      <td>FDW58</td>\n",
              "      <td>20.750</td>\n",
              "      <td>Low Fat</td>\n",
              "      <td>0.007565</td>\n",
              "      <td>Snack Foods</td>\n",
              "      <td>107.8622</td>\n",
              "      <td>OUT049</td>\n",
              "      <td>1999</td>\n",
              "      <td>Medium</td>\n",
              "      <td>Tier 1</td>\n",
              "      <td>Supermarket Type1</td>\n",
              "    </tr>\n",
              "    <tr>\n",
              "      <th>1</th>\n",
              "      <td>FDW14</td>\n",
              "      <td>8.300</td>\n",
              "      <td>reg</td>\n",
              "      <td>0.038428</td>\n",
              "      <td>Dairy</td>\n",
              "      <td>87.3198</td>\n",
              "      <td>OUT017</td>\n",
              "      <td>2007</td>\n",
              "      <td>NaN</td>\n",
              "      <td>Tier 2</td>\n",
              "      <td>Supermarket Type1</td>\n",
              "    </tr>\n",
              "    <tr>\n",
              "      <th>2</th>\n",
              "      <td>NCN55</td>\n",
              "      <td>14.600</td>\n",
              "      <td>Low Fat</td>\n",
              "      <td>0.099575</td>\n",
              "      <td>Others</td>\n",
              "      <td>241.7538</td>\n",
              "      <td>OUT010</td>\n",
              "      <td>1998</td>\n",
              "      <td>NaN</td>\n",
              "      <td>Tier 3</td>\n",
              "      <td>Grocery Store</td>\n",
              "    </tr>\n",
              "    <tr>\n",
              "      <th>3</th>\n",
              "      <td>FDQ58</td>\n",
              "      <td>7.315</td>\n",
              "      <td>Low Fat</td>\n",
              "      <td>0.015388</td>\n",
              "      <td>Snack Foods</td>\n",
              "      <td>155.0340</td>\n",
              "      <td>OUT017</td>\n",
              "      <td>2007</td>\n",
              "      <td>NaN</td>\n",
              "      <td>Tier 2</td>\n",
              "      <td>Supermarket Type1</td>\n",
              "    </tr>\n",
              "    <tr>\n",
              "      <th>4</th>\n",
              "      <td>FDY38</td>\n",
              "      <td>NaN</td>\n",
              "      <td>Regular</td>\n",
              "      <td>0.118599</td>\n",
              "      <td>Dairy</td>\n",
              "      <td>234.2300</td>\n",
              "      <td>OUT027</td>\n",
              "      <td>1985</td>\n",
              "      <td>Medium</td>\n",
              "      <td>Tier 3</td>\n",
              "      <td>Supermarket Type3</td>\n",
              "    </tr>\n",
              "  </tbody>\n",
              "</table>\n",
              "</div>\n",
              "    <div class=\"colab-df-buttons\">\n",
              "\n",
              "  <div class=\"colab-df-container\">\n",
              "    <button class=\"colab-df-convert\" onclick=\"convertToInteractive('df-e2da24be-386f-4d1d-99f0-96b2633ca648')\"\n",
              "            title=\"Convert this dataframe to an interactive table.\"\n",
              "            style=\"display:none;\">\n",
              "\n",
              "  <svg xmlns=\"http://www.w3.org/2000/svg\" height=\"24px\" viewBox=\"0 -960 960 960\">\n",
              "    <path d=\"M120-120v-720h720v720H120Zm60-500h600v-160H180v160Zm220 220h160v-160H400v160Zm0 220h160v-160H400v160ZM180-400h160v-160H180v160Zm440 0h160v-160H620v160ZM180-180h160v-160H180v160Zm440 0h160v-160H620v160Z\"/>\n",
              "  </svg>\n",
              "    </button>\n",
              "\n",
              "  <style>\n",
              "    .colab-df-container {\n",
              "      display:flex;\n",
              "      gap: 12px;\n",
              "    }\n",
              "\n",
              "    .colab-df-convert {\n",
              "      background-color: #E8F0FE;\n",
              "      border: none;\n",
              "      border-radius: 50%;\n",
              "      cursor: pointer;\n",
              "      display: none;\n",
              "      fill: #1967D2;\n",
              "      height: 32px;\n",
              "      padding: 0 0 0 0;\n",
              "      width: 32px;\n",
              "    }\n",
              "\n",
              "    .colab-df-convert:hover {\n",
              "      background-color: #E2EBFA;\n",
              "      box-shadow: 0px 1px 2px rgba(60, 64, 67, 0.3), 0px 1px 3px 1px rgba(60, 64, 67, 0.15);\n",
              "      fill: #174EA6;\n",
              "    }\n",
              "\n",
              "    .colab-df-buttons div {\n",
              "      margin-bottom: 4px;\n",
              "    }\n",
              "\n",
              "    [theme=dark] .colab-df-convert {\n",
              "      background-color: #3B4455;\n",
              "      fill: #D2E3FC;\n",
              "    }\n",
              "\n",
              "    [theme=dark] .colab-df-convert:hover {\n",
              "      background-color: #434B5C;\n",
              "      box-shadow: 0px 1px 3px 1px rgba(0, 0, 0, 0.15);\n",
              "      filter: drop-shadow(0px 1px 2px rgba(0, 0, 0, 0.3));\n",
              "      fill: #FFFFFF;\n",
              "    }\n",
              "  </style>\n",
              "\n",
              "    <script>\n",
              "      const buttonEl =\n",
              "        document.querySelector('#df-e2da24be-386f-4d1d-99f0-96b2633ca648 button.colab-df-convert');\n",
              "      buttonEl.style.display =\n",
              "        google.colab.kernel.accessAllowed ? 'block' : 'none';\n",
              "\n",
              "      async function convertToInteractive(key) {\n",
              "        const element = document.querySelector('#df-e2da24be-386f-4d1d-99f0-96b2633ca648');\n",
              "        const dataTable =\n",
              "          await google.colab.kernel.invokeFunction('convertToInteractive',\n",
              "                                                    [key], {});\n",
              "        if (!dataTable) return;\n",
              "\n",
              "        const docLinkHtml = 'Like what you see? Visit the ' +\n",
              "          '<a target=\"_blank\" href=https://colab.research.google.com/notebooks/data_table.ipynb>data table notebook</a>'\n",
              "          + ' to learn more about interactive tables.';\n",
              "        element.innerHTML = '';\n",
              "        dataTable['output_type'] = 'display_data';\n",
              "        await google.colab.output.renderOutput(dataTable, element);\n",
              "        const docLink = document.createElement('div');\n",
              "        docLink.innerHTML = docLinkHtml;\n",
              "        element.appendChild(docLink);\n",
              "      }\n",
              "    </script>\n",
              "  </div>\n",
              "\n",
              "\n",
              "<div id=\"df-887488d6-5bd3-43fc-9940-9f4e11e0df13\">\n",
              "  <button class=\"colab-df-quickchart\" onclick=\"quickchart('df-887488d6-5bd3-43fc-9940-9f4e11e0df13')\"\n",
              "            title=\"Suggest charts\"\n",
              "            style=\"display:none;\">\n",
              "\n",
              "<svg xmlns=\"http://www.w3.org/2000/svg\" height=\"24px\"viewBox=\"0 0 24 24\"\n",
              "     width=\"24px\">\n",
              "    <g>\n",
              "        <path d=\"M19 3H5c-1.1 0-2 .9-2 2v14c0 1.1.9 2 2 2h14c1.1 0 2-.9 2-2V5c0-1.1-.9-2-2-2zM9 17H7v-7h2v7zm4 0h-2V7h2v10zm4 0h-2v-4h2v4z\"/>\n",
              "    </g>\n",
              "</svg>\n",
              "  </button>\n",
              "\n",
              "<style>\n",
              "  .colab-df-quickchart {\n",
              "      --bg-color: #E8F0FE;\n",
              "      --fill-color: #1967D2;\n",
              "      --hover-bg-color: #E2EBFA;\n",
              "      --hover-fill-color: #174EA6;\n",
              "      --disabled-fill-color: #AAA;\n",
              "      --disabled-bg-color: #DDD;\n",
              "  }\n",
              "\n",
              "  [theme=dark] .colab-df-quickchart {\n",
              "      --bg-color: #3B4455;\n",
              "      --fill-color: #D2E3FC;\n",
              "      --hover-bg-color: #434B5C;\n",
              "      --hover-fill-color: #FFFFFF;\n",
              "      --disabled-bg-color: #3B4455;\n",
              "      --disabled-fill-color: #666;\n",
              "  }\n",
              "\n",
              "  .colab-df-quickchart {\n",
              "    background-color: var(--bg-color);\n",
              "    border: none;\n",
              "    border-radius: 50%;\n",
              "    cursor: pointer;\n",
              "    display: none;\n",
              "    fill: var(--fill-color);\n",
              "    height: 32px;\n",
              "    padding: 0;\n",
              "    width: 32px;\n",
              "  }\n",
              "\n",
              "  .colab-df-quickchart:hover {\n",
              "    background-color: var(--hover-bg-color);\n",
              "    box-shadow: 0 1px 2px rgba(60, 64, 67, 0.3), 0 1px 3px 1px rgba(60, 64, 67, 0.15);\n",
              "    fill: var(--button-hover-fill-color);\n",
              "  }\n",
              "\n",
              "  .colab-df-quickchart-complete:disabled,\n",
              "  .colab-df-quickchart-complete:disabled:hover {\n",
              "    background-color: var(--disabled-bg-color);\n",
              "    fill: var(--disabled-fill-color);\n",
              "    box-shadow: none;\n",
              "  }\n",
              "\n",
              "  .colab-df-spinner {\n",
              "    border: 2px solid var(--fill-color);\n",
              "    border-color: transparent;\n",
              "    border-bottom-color: var(--fill-color);\n",
              "    animation:\n",
              "      spin 1s steps(1) infinite;\n",
              "  }\n",
              "\n",
              "  @keyframes spin {\n",
              "    0% {\n",
              "      border-color: transparent;\n",
              "      border-bottom-color: var(--fill-color);\n",
              "      border-left-color: var(--fill-color);\n",
              "    }\n",
              "    20% {\n",
              "      border-color: transparent;\n",
              "      border-left-color: var(--fill-color);\n",
              "      border-top-color: var(--fill-color);\n",
              "    }\n",
              "    30% {\n",
              "      border-color: transparent;\n",
              "      border-left-color: var(--fill-color);\n",
              "      border-top-color: var(--fill-color);\n",
              "      border-right-color: var(--fill-color);\n",
              "    }\n",
              "    40% {\n",
              "      border-color: transparent;\n",
              "      border-right-color: var(--fill-color);\n",
              "      border-top-color: var(--fill-color);\n",
              "    }\n",
              "    60% {\n",
              "      border-color: transparent;\n",
              "      border-right-color: var(--fill-color);\n",
              "    }\n",
              "    80% {\n",
              "      border-color: transparent;\n",
              "      border-right-color: var(--fill-color);\n",
              "      border-bottom-color: var(--fill-color);\n",
              "    }\n",
              "    90% {\n",
              "      border-color: transparent;\n",
              "      border-bottom-color: var(--fill-color);\n",
              "    }\n",
              "  }\n",
              "</style>\n",
              "\n",
              "  <script>\n",
              "    async function quickchart(key) {\n",
              "      const quickchartButtonEl =\n",
              "        document.querySelector('#' + key + ' button');\n",
              "      quickchartButtonEl.disabled = true;  // To prevent multiple clicks.\n",
              "      quickchartButtonEl.classList.add('colab-df-spinner');\n",
              "      try {\n",
              "        const charts = await google.colab.kernel.invokeFunction(\n",
              "            'suggestCharts', [key], {});\n",
              "      } catch (error) {\n",
              "        console.error('Error during call to suggestCharts:', error);\n",
              "      }\n",
              "      quickchartButtonEl.classList.remove('colab-df-spinner');\n",
              "      quickchartButtonEl.classList.add('colab-df-quickchart-complete');\n",
              "    }\n",
              "    (() => {\n",
              "      let quickchartButtonEl =\n",
              "        document.querySelector('#df-887488d6-5bd3-43fc-9940-9f4e11e0df13 button');\n",
              "      quickchartButtonEl.style.display =\n",
              "        google.colab.kernel.accessAllowed ? 'block' : 'none';\n",
              "    })();\n",
              "  </script>\n",
              "</div>\n",
              "    </div>\n",
              "  </div>\n"
            ]
          },
          "metadata": {},
          "execution_count": 70
        }
      ]
    },
    {
      "cell_type": "markdown",
      "source": [
        "Переглянемо коротку довідку про датасет:"
      ],
      "metadata": {
        "id": "JsAObrTgc4WG"
      }
    },
    {
      "cell_type": "code",
      "source": [
        "df.info()"
      ],
      "metadata": {
        "colab": {
          "base_uri": "https://localhost:8080/"
        },
        "id": "mQaEFZwNc4sz",
        "outputId": "6c2d6325-4274-4061-c859-22f38cbe93ed"
      },
      "execution_count": 71,
      "outputs": [
        {
          "output_type": "stream",
          "name": "stdout",
          "text": [
            "<class 'pandas.core.frame.DataFrame'>\n",
            "RangeIndex: 5681 entries, 0 to 5680\n",
            "Data columns (total 11 columns):\n",
            " #   Column                     Non-Null Count  Dtype  \n",
            "---  ------                     --------------  -----  \n",
            " 0   Item_Identifier            5681 non-null   object \n",
            " 1   Item_Weight                4705 non-null   float64\n",
            " 2   Item_Fat_Content           5681 non-null   object \n",
            " 3   Item_Visibility            5681 non-null   float64\n",
            " 4   Item_Type                  5681 non-null   object \n",
            " 5   Item_MRP                   5681 non-null   float64\n",
            " 6   Outlet_Identifier          5681 non-null   object \n",
            " 7   Outlet_Establishment_Year  5681 non-null   int64  \n",
            " 8   Outlet_Size                4075 non-null   object \n",
            " 9   Outlet_Location_Type       5681 non-null   object \n",
            " 10  Outlet_Type                5681 non-null   object \n",
            "dtypes: float64(3), int64(1), object(7)\n",
            "memory usage: 488.3+ KB\n"
          ]
        }
      ]
    },
    {
      "cell_type": "markdown",
      "source": [
        "Датасет має: 5681 рядок, 11 колонок, 3 бульові значення, 1 int64 і 7 об'єктів."
      ],
      "metadata": {
        "id": "BzVOeKFBc-SD"
      }
    },
    {
      "cell_type": "markdown",
      "source": [
        "Короткий опис назв стовпців:\n",
        "1. Item_Identifier - Ідентифікатор_товару\n",
        "2. Item_Weight - Вага_товару\n",
        "3. Item_Fat_Content - Вміст_жиру_товару\n",
        "4. Item_Visibility - Видимість_товару\n",
        "5. Item_Type - Тип_товару\n",
        "6. Item_MRP - Максимальна_роздрібна_ціна_товару\n",
        "7. Outlet_Identifier - Ідентифікатор_магазину\n",
        "8. Outlet_Establishment_Year - Рік_заснування_магазину\n",
        "9. Outlet_Size - Розмір_магазину\n",
        "10. Outlet_Location_Type - Тип_розташування_магазину\n",
        "11. Outlet_Type - Тип_магазину"
      ],
      "metadata": {
        "id": "xnyRXdqgdAPi"
      }
    },
    {
      "cell_type": "markdown",
      "source": [
        "Для зручності перейменуємо назви стовпців в датасеті"
      ],
      "metadata": {
        "id": "Si-QcvS7dBea"
      }
    },
    {
      "cell_type": "code",
      "source": [
        "df.rename(columns={'Item_Identifier': 'item_identifier',\n",
        "                   'Item_Weight':'item_weight',\n",
        "                   'Item_Fat_Content':'item_fat_content',\n",
        "                   'Item_Visibility':'item_visibility',\n",
        "                   'Item_Type':'item_type',\n",
        "                   'Item_MRP':'item_mrp',\n",
        "                   'Outlet_Identifier':'outlet_identifier',\n",
        "                   'Outlet_Establishment_Year':'outlet_establishment_year',\n",
        "                   'Outlet_Size':'outlet_size',\n",
        "                   'Outlet_Location_Type':'outlet_location_type',\n",
        "                   'Outlet_Type':'outlet_type'},inplace=True)\n"
      ],
      "metadata": {
        "id": "eSXHSc1sdDiz"
      },
      "execution_count": 72,
      "outputs": []
    },
    {
      "cell_type": "code",
      "source": [
        "df.head()\n"
      ],
      "metadata": {
        "colab": {
          "base_uri": "https://localhost:8080/",
          "height": 206
        },
        "id": "-rhCigZ6dILY",
        "outputId": "dd98ac53-0e25-46d9-89b2-d05a86a8ec0f"
      },
      "execution_count": 73,
      "outputs": [
        {
          "output_type": "execute_result",
          "data": {
            "text/plain": [
              "  item_identifier  item_weight item_fat_content  item_visibility    item_type  \\\n",
              "0           FDW58       20.750          Low Fat         0.007565  Snack Foods   \n",
              "1           FDW14        8.300              reg         0.038428        Dairy   \n",
              "2           NCN55       14.600          Low Fat         0.099575       Others   \n",
              "3           FDQ58        7.315          Low Fat         0.015388  Snack Foods   \n",
              "4           FDY38          NaN          Regular         0.118599        Dairy   \n",
              "\n",
              "   item_mrp outlet_identifier  outlet_establishment_year outlet_size  \\\n",
              "0  107.8622            OUT049                       1999      Medium   \n",
              "1   87.3198            OUT017                       2007         NaN   \n",
              "2  241.7538            OUT010                       1998         NaN   \n",
              "3  155.0340            OUT017                       2007         NaN   \n",
              "4  234.2300            OUT027                       1985      Medium   \n",
              "\n",
              "  outlet_location_type        outlet_type  \n",
              "0               Tier 1  Supermarket Type1  \n",
              "1               Tier 2  Supermarket Type1  \n",
              "2               Tier 3      Grocery Store  \n",
              "3               Tier 2  Supermarket Type1  \n",
              "4               Tier 3  Supermarket Type3  "
            ],
            "text/html": [
              "\n",
              "  <div id=\"df-3e60991a-e76f-4686-8d45-200ff1a89c4b\" class=\"colab-df-container\">\n",
              "    <div>\n",
              "<style scoped>\n",
              "    .dataframe tbody tr th:only-of-type {\n",
              "        vertical-align: middle;\n",
              "    }\n",
              "\n",
              "    .dataframe tbody tr th {\n",
              "        vertical-align: top;\n",
              "    }\n",
              "\n",
              "    .dataframe thead th {\n",
              "        text-align: right;\n",
              "    }\n",
              "</style>\n",
              "<table border=\"1\" class=\"dataframe\">\n",
              "  <thead>\n",
              "    <tr style=\"text-align: right;\">\n",
              "      <th></th>\n",
              "      <th>item_identifier</th>\n",
              "      <th>item_weight</th>\n",
              "      <th>item_fat_content</th>\n",
              "      <th>item_visibility</th>\n",
              "      <th>item_type</th>\n",
              "      <th>item_mrp</th>\n",
              "      <th>outlet_identifier</th>\n",
              "      <th>outlet_establishment_year</th>\n",
              "      <th>outlet_size</th>\n",
              "      <th>outlet_location_type</th>\n",
              "      <th>outlet_type</th>\n",
              "    </tr>\n",
              "  </thead>\n",
              "  <tbody>\n",
              "    <tr>\n",
              "      <th>0</th>\n",
              "      <td>FDW58</td>\n",
              "      <td>20.750</td>\n",
              "      <td>Low Fat</td>\n",
              "      <td>0.007565</td>\n",
              "      <td>Snack Foods</td>\n",
              "      <td>107.8622</td>\n",
              "      <td>OUT049</td>\n",
              "      <td>1999</td>\n",
              "      <td>Medium</td>\n",
              "      <td>Tier 1</td>\n",
              "      <td>Supermarket Type1</td>\n",
              "    </tr>\n",
              "    <tr>\n",
              "      <th>1</th>\n",
              "      <td>FDW14</td>\n",
              "      <td>8.300</td>\n",
              "      <td>reg</td>\n",
              "      <td>0.038428</td>\n",
              "      <td>Dairy</td>\n",
              "      <td>87.3198</td>\n",
              "      <td>OUT017</td>\n",
              "      <td>2007</td>\n",
              "      <td>NaN</td>\n",
              "      <td>Tier 2</td>\n",
              "      <td>Supermarket Type1</td>\n",
              "    </tr>\n",
              "    <tr>\n",
              "      <th>2</th>\n",
              "      <td>NCN55</td>\n",
              "      <td>14.600</td>\n",
              "      <td>Low Fat</td>\n",
              "      <td>0.099575</td>\n",
              "      <td>Others</td>\n",
              "      <td>241.7538</td>\n",
              "      <td>OUT010</td>\n",
              "      <td>1998</td>\n",
              "      <td>NaN</td>\n",
              "      <td>Tier 3</td>\n",
              "      <td>Grocery Store</td>\n",
              "    </tr>\n",
              "    <tr>\n",
              "      <th>3</th>\n",
              "      <td>FDQ58</td>\n",
              "      <td>7.315</td>\n",
              "      <td>Low Fat</td>\n",
              "      <td>0.015388</td>\n",
              "      <td>Snack Foods</td>\n",
              "      <td>155.0340</td>\n",
              "      <td>OUT017</td>\n",
              "      <td>2007</td>\n",
              "      <td>NaN</td>\n",
              "      <td>Tier 2</td>\n",
              "      <td>Supermarket Type1</td>\n",
              "    </tr>\n",
              "    <tr>\n",
              "      <th>4</th>\n",
              "      <td>FDY38</td>\n",
              "      <td>NaN</td>\n",
              "      <td>Regular</td>\n",
              "      <td>0.118599</td>\n",
              "      <td>Dairy</td>\n",
              "      <td>234.2300</td>\n",
              "      <td>OUT027</td>\n",
              "      <td>1985</td>\n",
              "      <td>Medium</td>\n",
              "      <td>Tier 3</td>\n",
              "      <td>Supermarket Type3</td>\n",
              "    </tr>\n",
              "  </tbody>\n",
              "</table>\n",
              "</div>\n",
              "    <div class=\"colab-df-buttons\">\n",
              "\n",
              "  <div class=\"colab-df-container\">\n",
              "    <button class=\"colab-df-convert\" onclick=\"convertToInteractive('df-3e60991a-e76f-4686-8d45-200ff1a89c4b')\"\n",
              "            title=\"Convert this dataframe to an interactive table.\"\n",
              "            style=\"display:none;\">\n",
              "\n",
              "  <svg xmlns=\"http://www.w3.org/2000/svg\" height=\"24px\" viewBox=\"0 -960 960 960\">\n",
              "    <path d=\"M120-120v-720h720v720H120Zm60-500h600v-160H180v160Zm220 220h160v-160H400v160Zm0 220h160v-160H400v160ZM180-400h160v-160H180v160Zm440 0h160v-160H620v160ZM180-180h160v-160H180v160Zm440 0h160v-160H620v160Z\"/>\n",
              "  </svg>\n",
              "    </button>\n",
              "\n",
              "  <style>\n",
              "    .colab-df-container {\n",
              "      display:flex;\n",
              "      gap: 12px;\n",
              "    }\n",
              "\n",
              "    .colab-df-convert {\n",
              "      background-color: #E8F0FE;\n",
              "      border: none;\n",
              "      border-radius: 50%;\n",
              "      cursor: pointer;\n",
              "      display: none;\n",
              "      fill: #1967D2;\n",
              "      height: 32px;\n",
              "      padding: 0 0 0 0;\n",
              "      width: 32px;\n",
              "    }\n",
              "\n",
              "    .colab-df-convert:hover {\n",
              "      background-color: #E2EBFA;\n",
              "      box-shadow: 0px 1px 2px rgba(60, 64, 67, 0.3), 0px 1px 3px 1px rgba(60, 64, 67, 0.15);\n",
              "      fill: #174EA6;\n",
              "    }\n",
              "\n",
              "    .colab-df-buttons div {\n",
              "      margin-bottom: 4px;\n",
              "    }\n",
              "\n",
              "    [theme=dark] .colab-df-convert {\n",
              "      background-color: #3B4455;\n",
              "      fill: #D2E3FC;\n",
              "    }\n",
              "\n",
              "    [theme=dark] .colab-df-convert:hover {\n",
              "      background-color: #434B5C;\n",
              "      box-shadow: 0px 1px 3px 1px rgba(0, 0, 0, 0.15);\n",
              "      filter: drop-shadow(0px 1px 2px rgba(0, 0, 0, 0.3));\n",
              "      fill: #FFFFFF;\n",
              "    }\n",
              "  </style>\n",
              "\n",
              "    <script>\n",
              "      const buttonEl =\n",
              "        document.querySelector('#df-3e60991a-e76f-4686-8d45-200ff1a89c4b button.colab-df-convert');\n",
              "      buttonEl.style.display =\n",
              "        google.colab.kernel.accessAllowed ? 'block' : 'none';\n",
              "\n",
              "      async function convertToInteractive(key) {\n",
              "        const element = document.querySelector('#df-3e60991a-e76f-4686-8d45-200ff1a89c4b');\n",
              "        const dataTable =\n",
              "          await google.colab.kernel.invokeFunction('convertToInteractive',\n",
              "                                                    [key], {});\n",
              "        if (!dataTable) return;\n",
              "\n",
              "        const docLinkHtml = 'Like what you see? Visit the ' +\n",
              "          '<a target=\"_blank\" href=https://colab.research.google.com/notebooks/data_table.ipynb>data table notebook</a>'\n",
              "          + ' to learn more about interactive tables.';\n",
              "        element.innerHTML = '';\n",
              "        dataTable['output_type'] = 'display_data';\n",
              "        await google.colab.output.renderOutput(dataTable, element);\n",
              "        const docLink = document.createElement('div');\n",
              "        docLink.innerHTML = docLinkHtml;\n",
              "        element.appendChild(docLink);\n",
              "      }\n",
              "    </script>\n",
              "  </div>\n",
              "\n",
              "\n",
              "<div id=\"df-e1e764bc-4ee9-4771-b6a6-4e681229913a\">\n",
              "  <button class=\"colab-df-quickchart\" onclick=\"quickchart('df-e1e764bc-4ee9-4771-b6a6-4e681229913a')\"\n",
              "            title=\"Suggest charts\"\n",
              "            style=\"display:none;\">\n",
              "\n",
              "<svg xmlns=\"http://www.w3.org/2000/svg\" height=\"24px\"viewBox=\"0 0 24 24\"\n",
              "     width=\"24px\">\n",
              "    <g>\n",
              "        <path d=\"M19 3H5c-1.1 0-2 .9-2 2v14c0 1.1.9 2 2 2h14c1.1 0 2-.9 2-2V5c0-1.1-.9-2-2-2zM9 17H7v-7h2v7zm4 0h-2V7h2v10zm4 0h-2v-4h2v4z\"/>\n",
              "    </g>\n",
              "</svg>\n",
              "  </button>\n",
              "\n",
              "<style>\n",
              "  .colab-df-quickchart {\n",
              "      --bg-color: #E8F0FE;\n",
              "      --fill-color: #1967D2;\n",
              "      --hover-bg-color: #E2EBFA;\n",
              "      --hover-fill-color: #174EA6;\n",
              "      --disabled-fill-color: #AAA;\n",
              "      --disabled-bg-color: #DDD;\n",
              "  }\n",
              "\n",
              "  [theme=dark] .colab-df-quickchart {\n",
              "      --bg-color: #3B4455;\n",
              "      --fill-color: #D2E3FC;\n",
              "      --hover-bg-color: #434B5C;\n",
              "      --hover-fill-color: #FFFFFF;\n",
              "      --disabled-bg-color: #3B4455;\n",
              "      --disabled-fill-color: #666;\n",
              "  }\n",
              "\n",
              "  .colab-df-quickchart {\n",
              "    background-color: var(--bg-color);\n",
              "    border: none;\n",
              "    border-radius: 50%;\n",
              "    cursor: pointer;\n",
              "    display: none;\n",
              "    fill: var(--fill-color);\n",
              "    height: 32px;\n",
              "    padding: 0;\n",
              "    width: 32px;\n",
              "  }\n",
              "\n",
              "  .colab-df-quickchart:hover {\n",
              "    background-color: var(--hover-bg-color);\n",
              "    box-shadow: 0 1px 2px rgba(60, 64, 67, 0.3), 0 1px 3px 1px rgba(60, 64, 67, 0.15);\n",
              "    fill: var(--button-hover-fill-color);\n",
              "  }\n",
              "\n",
              "  .colab-df-quickchart-complete:disabled,\n",
              "  .colab-df-quickchart-complete:disabled:hover {\n",
              "    background-color: var(--disabled-bg-color);\n",
              "    fill: var(--disabled-fill-color);\n",
              "    box-shadow: none;\n",
              "  }\n",
              "\n",
              "  .colab-df-spinner {\n",
              "    border: 2px solid var(--fill-color);\n",
              "    border-color: transparent;\n",
              "    border-bottom-color: var(--fill-color);\n",
              "    animation:\n",
              "      spin 1s steps(1) infinite;\n",
              "  }\n",
              "\n",
              "  @keyframes spin {\n",
              "    0% {\n",
              "      border-color: transparent;\n",
              "      border-bottom-color: var(--fill-color);\n",
              "      border-left-color: var(--fill-color);\n",
              "    }\n",
              "    20% {\n",
              "      border-color: transparent;\n",
              "      border-left-color: var(--fill-color);\n",
              "      border-top-color: var(--fill-color);\n",
              "    }\n",
              "    30% {\n",
              "      border-color: transparent;\n",
              "      border-left-color: var(--fill-color);\n",
              "      border-top-color: var(--fill-color);\n",
              "      border-right-color: var(--fill-color);\n",
              "    }\n",
              "    40% {\n",
              "      border-color: transparent;\n",
              "      border-right-color: var(--fill-color);\n",
              "      border-top-color: var(--fill-color);\n",
              "    }\n",
              "    60% {\n",
              "      border-color: transparent;\n",
              "      border-right-color: var(--fill-color);\n",
              "    }\n",
              "    80% {\n",
              "      border-color: transparent;\n",
              "      border-right-color: var(--fill-color);\n",
              "      border-bottom-color: var(--fill-color);\n",
              "    }\n",
              "    90% {\n",
              "      border-color: transparent;\n",
              "      border-bottom-color: var(--fill-color);\n",
              "    }\n",
              "  }\n",
              "</style>\n",
              "\n",
              "  <script>\n",
              "    async function quickchart(key) {\n",
              "      const quickchartButtonEl =\n",
              "        document.querySelector('#' + key + ' button');\n",
              "      quickchartButtonEl.disabled = true;  // To prevent multiple clicks.\n",
              "      quickchartButtonEl.classList.add('colab-df-spinner');\n",
              "      try {\n",
              "        const charts = await google.colab.kernel.invokeFunction(\n",
              "            'suggestCharts', [key], {});\n",
              "      } catch (error) {\n",
              "        console.error('Error during call to suggestCharts:', error);\n",
              "      }\n",
              "      quickchartButtonEl.classList.remove('colab-df-spinner');\n",
              "      quickchartButtonEl.classList.add('colab-df-quickchart-complete');\n",
              "    }\n",
              "    (() => {\n",
              "      let quickchartButtonEl =\n",
              "        document.querySelector('#df-e1e764bc-4ee9-4771-b6a6-4e681229913a button');\n",
              "      quickchartButtonEl.style.display =\n",
              "        google.colab.kernel.accessAllowed ? 'block' : 'none';\n",
              "    })();\n",
              "  </script>\n",
              "</div>\n",
              "    </div>\n",
              "  </div>\n"
            ]
          },
          "metadata": {},
          "execution_count": 73
        }
      ]
    },
    {
      "cell_type": "markdown",
      "source": [
        "Перевіримо, чи є в датасеті NaN елементи (пропуски в даних):"
      ],
      "metadata": {
        "id": "chPpx0-LdQZC"
      }
    },
    {
      "cell_type": "code",
      "source": [
        "df.isnull().sum()"
      ],
      "metadata": {
        "colab": {
          "base_uri": "https://localhost:8080/"
        },
        "id": "bFjvHoyOdRIL",
        "outputId": "c40ae3ee-375e-4e25-8137-28fb1faa4773"
      },
      "execution_count": 74,
      "outputs": [
        {
          "output_type": "execute_result",
          "data": {
            "text/plain": [
              "item_identifier                 0\n",
              "item_weight                   976\n",
              "item_fat_content                0\n",
              "item_visibility                 0\n",
              "item_type                       0\n",
              "item_mrp                        0\n",
              "outlet_identifier               0\n",
              "outlet_establishment_year       0\n",
              "outlet_size                  1606\n",
              "outlet_location_type            0\n",
              "outlet_type                     0\n",
              "dtype: int64"
            ]
          },
          "metadata": {},
          "execution_count": 74
        }
      ]
    },
    {
      "cell_type": "markdown",
      "source": [
        "В даному датасеті є чимало NaN елементів, які варто видалити або заповнити."
      ],
      "metadata": {
        "id": "-UL-L5XTdT1I"
      }
    },
    {
      "cell_type": "markdown",
      "source": [
        "Видалимо рядки, в яких є хоча б один NaN елемент:"
      ],
      "metadata": {
        "id": "rtDx0BTddXkz"
      }
    },
    {
      "cell_type": "code",
      "source": [
        "df = df.dropna()"
      ],
      "metadata": {
        "id": "ejaR0bgedYra"
      },
      "execution_count": 75,
      "outputs": []
    },
    {
      "cell_type": "markdown",
      "source": [
        "Перевіримо, чи є в датасеті залишились NaN елементи (пропуски в даних):"
      ],
      "metadata": {
        "id": "NNWLMsVMdcLv"
      }
    },
    {
      "cell_type": "code",
      "source": [
        "df.isnull().sum()"
      ],
      "metadata": {
        "colab": {
          "base_uri": "https://localhost:8080/"
        },
        "id": "ojKMZcNZdcun",
        "outputId": "bd3ce22f-38a2-45d4-c6b9-d972bc395bc2"
      },
      "execution_count": 76,
      "outputs": [
        {
          "output_type": "execute_result",
          "data": {
            "text/plain": [
              "item_identifier              0\n",
              "item_weight                  0\n",
              "item_fat_content             0\n",
              "item_visibility              0\n",
              "item_type                    0\n",
              "item_mrp                     0\n",
              "outlet_identifier            0\n",
              "outlet_establishment_year    0\n",
              "outlet_size                  0\n",
              "outlet_location_type         0\n",
              "outlet_type                  0\n",
              "dtype: int64"
            ]
          },
          "metadata": {},
          "execution_count": 76
        }
      ]
    },
    {
      "cell_type": "markdown",
      "source": [
        "В датасеті було успішно видалені NaN елементи."
      ],
      "metadata": {
        "id": "_QSOCiQido9i"
      }
    },
    {
      "cell_type": "markdown",
      "source": [
        "**Розвідувальний аналіз даних**"
      ],
      "metadata": {
        "id": "rbgBJBncdrx4"
      }
    },
    {
      "cell_type": "code",
      "source": [
        "df.describe()"
      ],
      "metadata": {
        "colab": {
          "base_uri": "https://localhost:8080/",
          "height": 300
        },
        "id": "up7P9mJEdpkH",
        "outputId": "6da07d46-f6ee-4380-cc3a-2ceea02aef0f"
      },
      "execution_count": 77,
      "outputs": [
        {
          "output_type": "execute_result",
          "data": {
            "text/plain": [
              "       item_weight  item_visibility     item_mrp  outlet_establishment_year\n",
              "count  3099.000000      3099.000000  3099.000000                3099.000000\n",
              "mean     12.658206         0.059063   140.036189                1999.189739\n",
              "std       4.616934         0.043592    61.608135                   7.387906\n",
              "min       4.555000         0.000000    31.990000                1987.000000\n",
              "25%       8.675000         0.025824    93.310700                1997.000000\n",
              "50%      12.350000         0.049154   141.315400                1999.000000\n",
              "75%      16.600000         0.085354   184.993700                2004.000000\n",
              "max      21.350000         0.185913   266.588400                2009.000000"
            ],
            "text/html": [
              "\n",
              "  <div id=\"df-4c0c8cf3-a93b-4eb0-abee-facf97bc5f39\" class=\"colab-df-container\">\n",
              "    <div>\n",
              "<style scoped>\n",
              "    .dataframe tbody tr th:only-of-type {\n",
              "        vertical-align: middle;\n",
              "    }\n",
              "\n",
              "    .dataframe tbody tr th {\n",
              "        vertical-align: top;\n",
              "    }\n",
              "\n",
              "    .dataframe thead th {\n",
              "        text-align: right;\n",
              "    }\n",
              "</style>\n",
              "<table border=\"1\" class=\"dataframe\">\n",
              "  <thead>\n",
              "    <tr style=\"text-align: right;\">\n",
              "      <th></th>\n",
              "      <th>item_weight</th>\n",
              "      <th>item_visibility</th>\n",
              "      <th>item_mrp</th>\n",
              "      <th>outlet_establishment_year</th>\n",
              "    </tr>\n",
              "  </thead>\n",
              "  <tbody>\n",
              "    <tr>\n",
              "      <th>count</th>\n",
              "      <td>3099.000000</td>\n",
              "      <td>3099.000000</td>\n",
              "      <td>3099.000000</td>\n",
              "      <td>3099.000000</td>\n",
              "    </tr>\n",
              "    <tr>\n",
              "      <th>mean</th>\n",
              "      <td>12.658206</td>\n",
              "      <td>0.059063</td>\n",
              "      <td>140.036189</td>\n",
              "      <td>1999.189739</td>\n",
              "    </tr>\n",
              "    <tr>\n",
              "      <th>std</th>\n",
              "      <td>4.616934</td>\n",
              "      <td>0.043592</td>\n",
              "      <td>61.608135</td>\n",
              "      <td>7.387906</td>\n",
              "    </tr>\n",
              "    <tr>\n",
              "      <th>min</th>\n",
              "      <td>4.555000</td>\n",
              "      <td>0.000000</td>\n",
              "      <td>31.990000</td>\n",
              "      <td>1987.000000</td>\n",
              "    </tr>\n",
              "    <tr>\n",
              "      <th>25%</th>\n",
              "      <td>8.675000</td>\n",
              "      <td>0.025824</td>\n",
              "      <td>93.310700</td>\n",
              "      <td>1997.000000</td>\n",
              "    </tr>\n",
              "    <tr>\n",
              "      <th>50%</th>\n",
              "      <td>12.350000</td>\n",
              "      <td>0.049154</td>\n",
              "      <td>141.315400</td>\n",
              "      <td>1999.000000</td>\n",
              "    </tr>\n",
              "    <tr>\n",
              "      <th>75%</th>\n",
              "      <td>16.600000</td>\n",
              "      <td>0.085354</td>\n",
              "      <td>184.993700</td>\n",
              "      <td>2004.000000</td>\n",
              "    </tr>\n",
              "    <tr>\n",
              "      <th>max</th>\n",
              "      <td>21.350000</td>\n",
              "      <td>0.185913</td>\n",
              "      <td>266.588400</td>\n",
              "      <td>2009.000000</td>\n",
              "    </tr>\n",
              "  </tbody>\n",
              "</table>\n",
              "</div>\n",
              "    <div class=\"colab-df-buttons\">\n",
              "\n",
              "  <div class=\"colab-df-container\">\n",
              "    <button class=\"colab-df-convert\" onclick=\"convertToInteractive('df-4c0c8cf3-a93b-4eb0-abee-facf97bc5f39')\"\n",
              "            title=\"Convert this dataframe to an interactive table.\"\n",
              "            style=\"display:none;\">\n",
              "\n",
              "  <svg xmlns=\"http://www.w3.org/2000/svg\" height=\"24px\" viewBox=\"0 -960 960 960\">\n",
              "    <path d=\"M120-120v-720h720v720H120Zm60-500h600v-160H180v160Zm220 220h160v-160H400v160Zm0 220h160v-160H400v160ZM180-400h160v-160H180v160Zm440 0h160v-160H620v160ZM180-180h160v-160H180v160Zm440 0h160v-160H620v160Z\"/>\n",
              "  </svg>\n",
              "    </button>\n",
              "\n",
              "  <style>\n",
              "    .colab-df-container {\n",
              "      display:flex;\n",
              "      gap: 12px;\n",
              "    }\n",
              "\n",
              "    .colab-df-convert {\n",
              "      background-color: #E8F0FE;\n",
              "      border: none;\n",
              "      border-radius: 50%;\n",
              "      cursor: pointer;\n",
              "      display: none;\n",
              "      fill: #1967D2;\n",
              "      height: 32px;\n",
              "      padding: 0 0 0 0;\n",
              "      width: 32px;\n",
              "    }\n",
              "\n",
              "    .colab-df-convert:hover {\n",
              "      background-color: #E2EBFA;\n",
              "      box-shadow: 0px 1px 2px rgba(60, 64, 67, 0.3), 0px 1px 3px 1px rgba(60, 64, 67, 0.15);\n",
              "      fill: #174EA6;\n",
              "    }\n",
              "\n",
              "    .colab-df-buttons div {\n",
              "      margin-bottom: 4px;\n",
              "    }\n",
              "\n",
              "    [theme=dark] .colab-df-convert {\n",
              "      background-color: #3B4455;\n",
              "      fill: #D2E3FC;\n",
              "    }\n",
              "\n",
              "    [theme=dark] .colab-df-convert:hover {\n",
              "      background-color: #434B5C;\n",
              "      box-shadow: 0px 1px 3px 1px rgba(0, 0, 0, 0.15);\n",
              "      filter: drop-shadow(0px 1px 2px rgba(0, 0, 0, 0.3));\n",
              "      fill: #FFFFFF;\n",
              "    }\n",
              "  </style>\n",
              "\n",
              "    <script>\n",
              "      const buttonEl =\n",
              "        document.querySelector('#df-4c0c8cf3-a93b-4eb0-abee-facf97bc5f39 button.colab-df-convert');\n",
              "      buttonEl.style.display =\n",
              "        google.colab.kernel.accessAllowed ? 'block' : 'none';\n",
              "\n",
              "      async function convertToInteractive(key) {\n",
              "        const element = document.querySelector('#df-4c0c8cf3-a93b-4eb0-abee-facf97bc5f39');\n",
              "        const dataTable =\n",
              "          await google.colab.kernel.invokeFunction('convertToInteractive',\n",
              "                                                    [key], {});\n",
              "        if (!dataTable) return;\n",
              "\n",
              "        const docLinkHtml = 'Like what you see? Visit the ' +\n",
              "          '<a target=\"_blank\" href=https://colab.research.google.com/notebooks/data_table.ipynb>data table notebook</a>'\n",
              "          + ' to learn more about interactive tables.';\n",
              "        element.innerHTML = '';\n",
              "        dataTable['output_type'] = 'display_data';\n",
              "        await google.colab.output.renderOutput(dataTable, element);\n",
              "        const docLink = document.createElement('div');\n",
              "        docLink.innerHTML = docLinkHtml;\n",
              "        element.appendChild(docLink);\n",
              "      }\n",
              "    </script>\n",
              "  </div>\n",
              "\n",
              "\n",
              "<div id=\"df-15b89ca8-a78c-4aab-9bd7-19e5181db915\">\n",
              "  <button class=\"colab-df-quickchart\" onclick=\"quickchart('df-15b89ca8-a78c-4aab-9bd7-19e5181db915')\"\n",
              "            title=\"Suggest charts\"\n",
              "            style=\"display:none;\">\n",
              "\n",
              "<svg xmlns=\"http://www.w3.org/2000/svg\" height=\"24px\"viewBox=\"0 0 24 24\"\n",
              "     width=\"24px\">\n",
              "    <g>\n",
              "        <path d=\"M19 3H5c-1.1 0-2 .9-2 2v14c0 1.1.9 2 2 2h14c1.1 0 2-.9 2-2V5c0-1.1-.9-2-2-2zM9 17H7v-7h2v7zm4 0h-2V7h2v10zm4 0h-2v-4h2v4z\"/>\n",
              "    </g>\n",
              "</svg>\n",
              "  </button>\n",
              "\n",
              "<style>\n",
              "  .colab-df-quickchart {\n",
              "      --bg-color: #E8F0FE;\n",
              "      --fill-color: #1967D2;\n",
              "      --hover-bg-color: #E2EBFA;\n",
              "      --hover-fill-color: #174EA6;\n",
              "      --disabled-fill-color: #AAA;\n",
              "      --disabled-bg-color: #DDD;\n",
              "  }\n",
              "\n",
              "  [theme=dark] .colab-df-quickchart {\n",
              "      --bg-color: #3B4455;\n",
              "      --fill-color: #D2E3FC;\n",
              "      --hover-bg-color: #434B5C;\n",
              "      --hover-fill-color: #FFFFFF;\n",
              "      --disabled-bg-color: #3B4455;\n",
              "      --disabled-fill-color: #666;\n",
              "  }\n",
              "\n",
              "  .colab-df-quickchart {\n",
              "    background-color: var(--bg-color);\n",
              "    border: none;\n",
              "    border-radius: 50%;\n",
              "    cursor: pointer;\n",
              "    display: none;\n",
              "    fill: var(--fill-color);\n",
              "    height: 32px;\n",
              "    padding: 0;\n",
              "    width: 32px;\n",
              "  }\n",
              "\n",
              "  .colab-df-quickchart:hover {\n",
              "    background-color: var(--hover-bg-color);\n",
              "    box-shadow: 0 1px 2px rgba(60, 64, 67, 0.3), 0 1px 3px 1px rgba(60, 64, 67, 0.15);\n",
              "    fill: var(--button-hover-fill-color);\n",
              "  }\n",
              "\n",
              "  .colab-df-quickchart-complete:disabled,\n",
              "  .colab-df-quickchart-complete:disabled:hover {\n",
              "    background-color: var(--disabled-bg-color);\n",
              "    fill: var(--disabled-fill-color);\n",
              "    box-shadow: none;\n",
              "  }\n",
              "\n",
              "  .colab-df-spinner {\n",
              "    border: 2px solid var(--fill-color);\n",
              "    border-color: transparent;\n",
              "    border-bottom-color: var(--fill-color);\n",
              "    animation:\n",
              "      spin 1s steps(1) infinite;\n",
              "  }\n",
              "\n",
              "  @keyframes spin {\n",
              "    0% {\n",
              "      border-color: transparent;\n",
              "      border-bottom-color: var(--fill-color);\n",
              "      border-left-color: var(--fill-color);\n",
              "    }\n",
              "    20% {\n",
              "      border-color: transparent;\n",
              "      border-left-color: var(--fill-color);\n",
              "      border-top-color: var(--fill-color);\n",
              "    }\n",
              "    30% {\n",
              "      border-color: transparent;\n",
              "      border-left-color: var(--fill-color);\n",
              "      border-top-color: var(--fill-color);\n",
              "      border-right-color: var(--fill-color);\n",
              "    }\n",
              "    40% {\n",
              "      border-color: transparent;\n",
              "      border-right-color: var(--fill-color);\n",
              "      border-top-color: var(--fill-color);\n",
              "    }\n",
              "    60% {\n",
              "      border-color: transparent;\n",
              "      border-right-color: var(--fill-color);\n",
              "    }\n",
              "    80% {\n",
              "      border-color: transparent;\n",
              "      border-right-color: var(--fill-color);\n",
              "      border-bottom-color: var(--fill-color);\n",
              "    }\n",
              "    90% {\n",
              "      border-color: transparent;\n",
              "      border-bottom-color: var(--fill-color);\n",
              "    }\n",
              "  }\n",
              "</style>\n",
              "\n",
              "  <script>\n",
              "    async function quickchart(key) {\n",
              "      const quickchartButtonEl =\n",
              "        document.querySelector('#' + key + ' button');\n",
              "      quickchartButtonEl.disabled = true;  // To prevent multiple clicks.\n",
              "      quickchartButtonEl.classList.add('colab-df-spinner');\n",
              "      try {\n",
              "        const charts = await google.colab.kernel.invokeFunction(\n",
              "            'suggestCharts', [key], {});\n",
              "      } catch (error) {\n",
              "        console.error('Error during call to suggestCharts:', error);\n",
              "      }\n",
              "      quickchartButtonEl.classList.remove('colab-df-spinner');\n",
              "      quickchartButtonEl.classList.add('colab-df-quickchart-complete');\n",
              "    }\n",
              "    (() => {\n",
              "      let quickchartButtonEl =\n",
              "        document.querySelector('#df-15b89ca8-a78c-4aab-9bd7-19e5181db915 button');\n",
              "      quickchartButtonEl.style.display =\n",
              "        google.colab.kernel.accessAllowed ? 'block' : 'none';\n",
              "    })();\n",
              "  </script>\n",
              "</div>\n",
              "    </div>\n",
              "  </div>\n"
            ]
          },
          "metadata": {},
          "execution_count": 77
        }
      ]
    },
    {
      "cell_type": "markdown",
      "source": [
        "Будуємо коробчасту діаграму для показника \"item_mrp\":"
      ],
      "metadata": {
        "id": "xQZYshEDdw5v"
      }
    },
    {
      "cell_type": "code",
      "source": [
        "df[['item_mrp']].boxplot(figsize=(8,6))"
      ],
      "metadata": {
        "colab": {
          "base_uri": "https://localhost:8080/",
          "height": 540
        },
        "id": "8Lfj3SiRdxuD",
        "outputId": "b6ed7d6d-ff58-46d8-b124-834ba960f9a6"
      },
      "execution_count": 78,
      "outputs": [
        {
          "output_type": "execute_result",
          "data": {
            "text/plain": [
              "<Axes: >"
            ]
          },
          "metadata": {},
          "execution_count": 78
        },
        {
          "output_type": "display_data",
          "data": {
            "text/plain": [
              "<Figure size 800x600 with 1 Axes>"
            ],
            "image/png": "[encoded data removed]"
          },
          "metadata": {}
        }
      ]
    },
    {
      "cell_type": "markdown",
      "source": [
        "Я обрала не видаляти данні, так як не бачу сильних викидів в датасеті."
      ],
      "metadata": {
        "id": "3pC-flVEd2Gy"
      }
    },
    {
      "cell_type": "markdown",
      "source": [
        "Будуємо коробчасту діаграму для показника \"item_visibility\":"
      ],
      "metadata": {
        "id": "amtk8kCcd27c"
      }
    },
    {
      "cell_type": "code",
      "source": [
        "df[['item_visibility']].boxplot(figsize=(8,6))"
      ],
      "metadata": {
        "colab": {
          "base_uri": "https://localhost:8080/",
          "height": 540
        },
        "id": "6dDjQcACd5iS",
        "outputId": "079abc89-ff30-4146-af5f-73d7411f6a5e"
      },
      "execution_count": 79,
      "outputs": [
        {
          "output_type": "execute_result",
          "data": {
            "text/plain": [
              "<Axes: >"
            ]
          },
          "metadata": {},
          "execution_count": 79
        },
        {
          "output_type": "display_data",
          "data": {
            "text/plain": [
              "<Figure size 800x600 with 1 Axes>"
            ],
            "image/png": "[encoded data removed]"
          },
          "metadata": {}
        }
      ]
    },
    {
      "cell_type": "markdown",
      "source": [
        "Видаляю інформацію про коеф. видимості товару, який вище за 0.175(значення найбільше відрізняються від інших):"
      ],
      "metadata": {
        "id": "eSSfUNSSd7xH"
      }
    },
    {
      "cell_type": "code",
      "source": [
        "df.drop(df[df['item_visibility'] > 0.175].index, inplace=True)"
      ],
      "metadata": {
        "id": "hPVzQwpid8U8"
      },
      "execution_count": 80,
      "outputs": []
    },
    {
      "cell_type": "markdown",
      "source": [
        "Будуємо коробчасту діаграму для показника \"item_weight\":"
      ],
      "metadata": {
        "id": "ywDgf7uTd_by"
      }
    },
    {
      "cell_type": "code",
      "source": [
        "df[['item_weight']].boxplot(figsize=(8,6))"
      ],
      "metadata": {
        "colab": {
          "base_uri": "https://localhost:8080/",
          "height": 540
        },
        "id": "TJxAfNLbeAxv",
        "outputId": "9fabd0d3-da31-45b6-f4bc-37d362266c8b"
      },
      "execution_count": 81,
      "outputs": [
        {
          "output_type": "execute_result",
          "data": {
            "text/plain": [
              "<Axes: >"
            ]
          },
          "metadata": {},
          "execution_count": 81
        },
        {
          "output_type": "display_data",
          "data": {
            "text/plain": [
              "<Figure size 800x600 with 1 Axes>"
            ],
            "image/png": "[encoded data removed]"
          },
          "metadata": {}
        }
      ]
    },
    {
      "cell_type": "markdown",
      "source": [
        "Я обрала не видаляти данні, так як не бачу сильних викидів в датасеті."
      ],
      "metadata": {
        "id": "MW2ZL0EgePMn"
      }
    },
    {
      "cell_type": "markdown",
      "source": [
        "Будуємо коробчасту діаграму для показника \"outlet_establishment_year\":"
      ],
      "metadata": {
        "id": "u20ZNgizeFMF"
      }
    },
    {
      "cell_type": "code",
      "source": [
        "df[['outlet_establishment_year']].boxplot(figsize=(8,6))"
      ],
      "metadata": {
        "colab": {
          "base_uri": "https://localhost:8080/",
          "height": 544
        },
        "id": "oRbczEq-eWhv",
        "outputId": "93b2fa96-a895-4053-bb86-5c624c4e0fbe"
      },
      "execution_count": 82,
      "outputs": [
        {
          "output_type": "execute_result",
          "data": {
            "text/plain": [
              "<Axes: >"
            ]
          },
          "metadata": {},
          "execution_count": 82
        },
        {
          "output_type": "display_data",
          "data": {
            "text/plain": [
              "<Figure size 800x600 with 1 Axes>"
            ],
            "image/png": "[encoded data removed]"
          },
          "metadata": {}
        }
      ]
    },
    {
      "cell_type": "markdown",
      "source": [
        "Видаляю інформацію про рік створення компанії, які засновані до 1990 (значення найбільше відрізняються від інших)"
      ],
      "metadata": {
        "id": "plAWef8LeZA1"
      }
    },
    {
      "cell_type": "code",
      "source": [
        "df.drop(df[df['outlet_establishment_year'] < 1990].index, inplace=True)"
      ],
      "metadata": {
        "id": "frHbx-vCeZ33"
      },
      "execution_count": 83,
      "outputs": []
    },
    {
      "cell_type": "markdown",
      "source": [
        "Переглянемо основну статистику числових показників після внесених змін:"
      ],
      "metadata": {
        "id": "N9b6vbipeb03"
      }
    },
    {
      "cell_type": "code",
      "source": [
        "df.describe()"
      ],
      "metadata": {
        "colab": {
          "base_uri": "https://localhost:8080/",
          "height": 300
        },
        "id": "Z7rl6imRedh4",
        "outputId": "883b81a0-a3ef-4d53-e5c7-93ac6496175d"
      },
      "execution_count": 84,
      "outputs": [
        {
          "output_type": "execute_result",
          "data": {
            "text/plain": [
              "       item_weight  item_visibility     item_mrp  outlet_establishment_year\n",
              "count  2461.000000      2461.000000  2461.000000                2461.000000\n",
              "mean     12.700000         0.057822   139.759250                2002.234864\n",
              "std       4.616615         0.042525    61.755118                   4.656504\n",
              "min       4.555000         0.000000    32.390000                1997.000000\n",
              "25%       8.710000         0.025581    92.580400                1997.000000\n",
              "50%      12.500000         0.048107   141.015400                1999.000000\n",
              "75%      16.700000         0.083854   185.160800                2004.000000\n",
              "max      21.350000         0.174758   266.588400                2009.000000"
            ],
            "text/html": [
              "\n",
              "  <div id=\"df-9dc1dc79-c04e-48b0-9e4f-362772a8c919\" class=\"colab-df-container\">\n",
              "    <div>\n",
              "<style scoped>\n",
              "    .dataframe tbody tr th:only-of-type {\n",
              "        vertical-align: middle;\n",
              "    }\n",
              "\n",
              "    .dataframe tbody tr th {\n",
              "        vertical-align: top;\n",
              "    }\n",
              "\n",
              "    .dataframe thead th {\n",
              "        text-align: right;\n",
              "    }\n",
              "</style>\n",
              "<table border=\"1\" class=\"dataframe\">\n",
              "  <thead>\n",
              "    <tr style=\"text-align: right;\">\n",
              "      <th></th>\n",
              "      <th>item_weight</th>\n",
              "      <th>item_visibility</th>\n",
              "      <th>item_mrp</th>\n",
              "      <th>outlet_establishment_year</th>\n",
              "    </tr>\n",
              "  </thead>\n",
              "  <tbody>\n",
              "    <tr>\n",
              "      <th>count</th>\n",
              "      <td>2461.000000</td>\n",
              "      <td>2461.000000</td>\n",
              "      <td>2461.000000</td>\n",
              "      <td>2461.000000</td>\n",
              "    </tr>\n",
              "    <tr>\n",
              "      <th>mean</th>\n",
              "      <td>12.700000</td>\n",
              "      <td>0.057822</td>\n",
              "      <td>139.759250</td>\n",
              "      <td>2002.234864</td>\n",
              "    </tr>\n",
              "    <tr>\n",
              "      <th>std</th>\n",
              "      <td>4.616615</td>\n",
              "      <td>0.042525</td>\n",
              "      <td>61.755118</td>\n",
              "      <td>4.656504</td>\n",
              "    </tr>\n",
              "    <tr>\n",
              "      <th>min</th>\n",
              "      <td>4.555000</td>\n",
              "      <td>0.000000</td>\n",
              "      <td>32.390000</td>\n",
              "      <td>1997.000000</td>\n",
              "    </tr>\n",
              "    <tr>\n",
              "      <th>25%</th>\n",
              "      <td>8.710000</td>\n",
              "      <td>0.025581</td>\n",
              "      <td>92.580400</td>\n",
              "      <td>1997.000000</td>\n",
              "    </tr>\n",
              "    <tr>\n",
              "      <th>50%</th>\n",
              "      <td>12.500000</td>\n",
              "      <td>0.048107</td>\n",
              "      <td>141.015400</td>\n",
              "      <td>1999.000000</td>\n",
              "    </tr>\n",
              "    <tr>\n",
              "      <th>75%</th>\n",
              "      <td>16.700000</td>\n",
              "      <td>0.083854</td>\n",
              "      <td>185.160800</td>\n",
              "      <td>2004.000000</td>\n",
              "    </tr>\n",
              "    <tr>\n",
              "      <th>max</th>\n",
              "      <td>21.350000</td>\n",
              "      <td>0.174758</td>\n",
              "      <td>266.588400</td>\n",
              "      <td>2009.000000</td>\n",
              "    </tr>\n",
              "  </tbody>\n",
              "</table>\n",
              "</div>\n",
              "    <div class=\"colab-df-buttons\">\n",
              "\n",
              "  <div class=\"colab-df-container\">\n",
              "    <button class=\"colab-df-convert\" onclick=\"convertToInteractive('df-9dc1dc79-c04e-48b0-9e4f-362772a8c919')\"\n",
              "            title=\"Convert this dataframe to an interactive table.\"\n",
              "            style=\"display:none;\">\n",
              "\n",
              "  <svg xmlns=\"http://www.w3.org/2000/svg\" height=\"24px\" viewBox=\"0 -960 960 960\">\n",
              "    <path d=\"M120-120v-720h720v720H120Zm60-500h600v-160H180v160Zm220 220h160v-160H400v160Zm0 220h160v-160H400v160ZM180-400h160v-160H180v160Zm440 0h160v-160H620v160ZM180-180h160v-160H180v160Zm440 0h160v-160H620v160Z\"/>\n",
              "  </svg>\n",
              "    </button>\n",
              "\n",
              "  <style>\n",
              "    .colab-df-container {\n",
              "      display:flex;\n",
              "      gap: 12px;\n",
              "    }\n",
              "\n",
              "    .colab-df-convert {\n",
              "      background-color: #E8F0FE;\n",
              "      border: none;\n",
              "      border-radius: 50%;\n",
              "      cursor: pointer;\n",
              "      display: none;\n",
              "      fill: #1967D2;\n",
              "      height: 32px;\n",
              "      padding: 0 0 0 0;\n",
              "      width: 32px;\n",
              "    }\n",
              "\n",
              "    .colab-df-convert:hover {\n",
              "      background-color: #E2EBFA;\n",
              "      box-shadow: 0px 1px 2px rgba(60, 64, 67, 0.3), 0px 1px 3px 1px rgba(60, 64, 67, 0.15);\n",
              "      fill: #174EA6;\n",
              "    }\n",
              "\n",
              "    .colab-df-buttons div {\n",
              "      margin-bottom: 4px;\n",
              "    }\n",
              "\n",
              "    [theme=dark] .colab-df-convert {\n",
              "      background-color: #3B4455;\n",
              "      fill: #D2E3FC;\n",
              "    }\n",
              "\n",
              "    [theme=dark] .colab-df-convert:hover {\n",
              "      background-color: #434B5C;\n",
              "      box-shadow: 0px 1px 3px 1px rgba(0, 0, 0, 0.15);\n",
              "      filter: drop-shadow(0px 1px 2px rgba(0, 0, 0, 0.3));\n",
              "      fill: #FFFFFF;\n",
              "    }\n",
              "  </style>\n",
              "\n",
              "    <script>\n",
              "      const buttonEl =\n",
              "        document.querySelector('#df-9dc1dc79-c04e-48b0-9e4f-362772a8c919 button.colab-df-convert');\n",
              "      buttonEl.style.display =\n",
              "        google.colab.kernel.accessAllowed ? 'block' : 'none';\n",
              "\n",
              "      async function convertToInteractive(key) {\n",
              "        const element = document.querySelector('#df-9dc1dc79-c04e-48b0-9e4f-362772a8c919');\n",
              "        const dataTable =\n",
              "          await google.colab.kernel.invokeFunction('convertToInteractive',\n",
              "                                                    [key], {});\n",
              "        if (!dataTable) return;\n",
              "\n",
              "        const docLinkHtml = 'Like what you see? Visit the ' +\n",
              "          '<a target=\"_blank\" href=https://colab.research.google.com/notebooks/data_table.ipynb>data table notebook</a>'\n",
              "          + ' to learn more about interactive tables.';\n",
              "        element.innerHTML = '';\n",
              "        dataTable['output_type'] = 'display_data';\n",
              "        await google.colab.output.renderOutput(dataTable, element);\n",
              "        const docLink = document.createElement('div');\n",
              "        docLink.innerHTML = docLinkHtml;\n",
              "        element.appendChild(docLink);\n",
              "      }\n",
              "    </script>\n",
              "  </div>\n",
              "\n",
              "\n",
              "<div id=\"df-eda28434-c417-4c57-b31c-d4ef584a2b9e\">\n",
              "  <button class=\"colab-df-quickchart\" onclick=\"quickchart('df-eda28434-c417-4c57-b31c-d4ef584a2b9e')\"\n",
              "            title=\"Suggest charts\"\n",
              "            style=\"display:none;\">\n",
              "\n",
              "<svg xmlns=\"http://www.w3.org/2000/svg\" height=\"24px\"viewBox=\"0 0 24 24\"\n",
              "     width=\"24px\">\n",
              "    <g>\n",
              "        <path d=\"M19 3H5c-1.1 0-2 .9-2 2v14c0 1.1.9 2 2 2h14c1.1 0 2-.9 2-2V5c0-1.1-.9-2-2-2zM9 17H7v-7h2v7zm4 0h-2V7h2v10zm4 0h-2v-4h2v4z\"/>\n",
              "    </g>\n",
              "</svg>\n",
              "  </button>\n",
              "\n",
              "<style>\n",
              "  .colab-df-quickchart {\n",
              "      --bg-color: #E8F0FE;\n",
              "      --fill-color: #1967D2;\n",
              "      --hover-bg-color: #E2EBFA;\n",
              "      --hover-fill-color: #174EA6;\n",
              "      --disabled-fill-color: #AAA;\n",
              "      --disabled-bg-color: #DDD;\n",
              "  }\n",
              "\n",
              "  [theme=dark] .colab-df-quickchart {\n",
              "      --bg-color: #3B4455;\n",
              "      --fill-color: #D2E3FC;\n",
              "      --hover-bg-color: #434B5C;\n",
              "      --hover-fill-color: #FFFFFF;\n",
              "      --disabled-bg-color: #3B4455;\n",
              "      --disabled-fill-color: #666;\n",
              "  }\n",
              "\n",
              "  .colab-df-quickchart {\n",
              "    background-color: var(--bg-color);\n",
              "    border: none;\n",
              "    border-radius: 50%;\n",
              "    cursor: pointer;\n",
              "    display: none;\n",
              "    fill: var(--fill-color);\n",
              "    height: 32px;\n",
              "    padding: 0;\n",
              "    width: 32px;\n",
              "  }\n",
              "\n",
              "  .colab-df-quickchart:hover {\n",
              "    background-color: var(--hover-bg-color);\n",
              "    box-shadow: 0 1px 2px rgba(60, 64, 67, 0.3), 0 1px 3px 1px rgba(60, 64, 67, 0.15);\n",
              "    fill: var(--button-hover-fill-color);\n",
              "  }\n",
              "\n",
              "  .colab-df-quickchart-complete:disabled,\n",
              "  .colab-df-quickchart-complete:disabled:hover {\n",
              "    background-color: var(--disabled-bg-color);\n",
              "    fill: var(--disabled-fill-color);\n",
              "    box-shadow: none;\n",
              "  }\n",
              "\n",
              "  .colab-df-spinner {\n",
              "    border: 2px solid var(--fill-color);\n",
              "    border-color: transparent;\n",
              "    border-bottom-color: var(--fill-color);\n",
              "    animation:\n",
              "      spin 1s steps(1) infinite;\n",
              "  }\n",
              "\n",
              "  @keyframes spin {\n",
              "    0% {\n",
              "      border-color: transparent;\n",
              "      border-bottom-color: var(--fill-color);\n",
              "      border-left-color: var(--fill-color);\n",
              "    }\n",
              "    20% {\n",
              "      border-color: transparent;\n",
              "      border-left-color: var(--fill-color);\n",
              "      border-top-color: var(--fill-color);\n",
              "    }\n",
              "    30% {\n",
              "      border-color: transparent;\n",
              "      border-left-color: var(--fill-color);\n",
              "      border-top-color: var(--fill-color);\n",
              "      border-right-color: var(--fill-color);\n",
              "    }\n",
              "    40% {\n",
              "      border-color: transparent;\n",
              "      border-right-color: var(--fill-color);\n",
              "      border-top-color: var(--fill-color);\n",
              "    }\n",
              "    60% {\n",
              "      border-color: transparent;\n",
              "      border-right-color: var(--fill-color);\n",
              "    }\n",
              "    80% {\n",
              "      border-color: transparent;\n",
              "      border-right-color: var(--fill-color);\n",
              "      border-bottom-color: var(--fill-color);\n",
              "    }\n",
              "    90% {\n",
              "      border-color: transparent;\n",
              "      border-bottom-color: var(--fill-color);\n",
              "    }\n",
              "  }\n",
              "</style>\n",
              "\n",
              "  <script>\n",
              "    async function quickchart(key) {\n",
              "      const quickchartButtonEl =\n",
              "        document.querySelector('#' + key + ' button');\n",
              "      quickchartButtonEl.disabled = true;  // To prevent multiple clicks.\n",
              "      quickchartButtonEl.classList.add('colab-df-spinner');\n",
              "      try {\n",
              "        const charts = await google.colab.kernel.invokeFunction(\n",
              "            'suggestCharts', [key], {});\n",
              "      } catch (error) {\n",
              "        console.error('Error during call to suggestCharts:', error);\n",
              "      }\n",
              "      quickchartButtonEl.classList.remove('colab-df-spinner');\n",
              "      quickchartButtonEl.classList.add('colab-df-quickchart-complete');\n",
              "    }\n",
              "    (() => {\n",
              "      let quickchartButtonEl =\n",
              "        document.querySelector('#df-eda28434-c417-4c57-b31c-d4ef584a2b9e button');\n",
              "      quickchartButtonEl.style.display =\n",
              "        google.colab.kernel.accessAllowed ? 'block' : 'none';\n",
              "    })();\n",
              "  </script>\n",
              "</div>\n",
              "    </div>\n",
              "  </div>\n"
            ]
          },
          "metadata": {},
          "execution_count": 84
        }
      ]
    },
    {
      "cell_type": "markdown",
      "source": [
        "Перекодуємо дані в стовпці \"outlet_location_type\" та \"item_fat_content\" в числові:"
      ],
      "metadata": {
        "id": "wbbqHFWDehtG"
      }
    },
    {
      "cell_type": "code",
      "source": [
        "df.outlet_location_type = df.outlet_location_type.replace ({'Tier 1': 1,\n",
        "                                                            'Tier 2': 2,\n",
        "                                                            'Tier 3': 3})\n",
        "df['item_fat_content'].replace({'reg': 'Regular', 'LF': 'Low Fat', 'low fat': 'Low Fat'}, inplace=True)\n",
        "df.item_fat_content = df.item_fat_content.replace({'Regular': '1', 'Low Fat': '0'})\n",
        "df.outlet_type = df.outlet_type.replace({'Supermarket Type1': '1', 'Supermarket Type2': '2', 'Supermarket Type3' : '3', 'Grocery Store' : '4'})"
      ],
      "metadata": {
        "id": "VuPTbZ1ZejXZ"
      },
      "execution_count": 85,
      "outputs": []
    },
    {
      "cell_type": "markdown",
      "source": [
        "Після змін датасет має такий вигляд (перші 5 записів):"
      ],
      "metadata": {
        "id": "xWm2nRawesef"
      }
    },
    {
      "cell_type": "code",
      "source": [
        "df.head()"
      ],
      "metadata": {
        "colab": {
          "base_uri": "https://localhost:8080/",
          "height": 206
        },
        "id": "IS7FKdFAetvw",
        "outputId": "6f933ad7-713d-421d-9402-24a3fd9e6951"
      },
      "execution_count": 86,
      "outputs": [
        {
          "output_type": "execute_result",
          "data": {
            "text/plain": [
              "   item_identifier  item_weight item_fat_content  item_visibility  \\\n",
              "0            FDW58       20.750                0         0.007565   \n",
              "5            FDH56        9.800                1         0.063817   \n",
              "6            FDL48       19.350                1         0.082602   \n",
              "13           FDU11        4.785                0         0.092738   \n",
              "15           FDM24        6.135                1         0.079451   \n",
              "\n",
              "                item_type  item_mrp outlet_identifier  \\\n",
              "0             Snack Foods  107.8622            OUT049   \n",
              "5   Fruits and Vegetables  117.1492            OUT046   \n",
              "6            Baking Goods   50.1034            OUT018   \n",
              "13                 Breads  122.3098            OUT049   \n",
              "15           Baking Goods  151.6366            OUT049   \n",
              "\n",
              "    outlet_establishment_year outlet_size  outlet_location_type outlet_type  \n",
              "0                        1999      Medium                     1           1  \n",
              "5                        1997       Small                     1           1  \n",
              "6                        2009      Medium                     3           2  \n",
              "13                       1999      Medium                     1           1  \n",
              "15                       1999      Medium                     1           1  "
            ],
            "text/html": [
              "\n",
              "  <div id=\"df-af19e815-d318-40df-b345-a69e5e098f66\" class=\"colab-df-container\">\n",
              "    <div>\n",
              "<style scoped>\n",
              "    .dataframe tbody tr th:only-of-type {\n",
              "        vertical-align: middle;\n",
              "    }\n",
              "\n",
              "    .dataframe tbody tr th {\n",
              "        vertical-align: top;\n",
              "    }\n",
              "\n",
              "    .dataframe thead th {\n",
              "        text-align: right;\n",
              "    }\n",
              "</style>\n",
              "<table border=\"1\" class=\"dataframe\">\n",
              "  <thead>\n",
              "    <tr style=\"text-align: right;\">\n",
              "      <th></th>\n",
              "      <th>item_identifier</th>\n",
              "      <th>item_weight</th>\n",
              "      <th>item_fat_content</th>\n",
              "      <th>item_visibility</th>\n",
              "      <th>item_type</th>\n",
              "      <th>item_mrp</th>\n",
              "      <th>outlet_identifier</th>\n",
              "      <th>outlet_establishment_year</th>\n",
              "      <th>outlet_size</th>\n",
              "      <th>outlet_location_type</th>\n",
              "      <th>outlet_type</th>\n",
              "    </tr>\n",
              "  </thead>\n",
              "  <tbody>\n",
              "    <tr>\n",
              "      <th>0</th>\n",
              "      <td>FDW58</td>\n",
              "      <td>20.750</td>\n",
              "      <td>0</td>\n",
              "      <td>0.007565</td>\n",
              "      <td>Snack Foods</td>\n",
              "      <td>107.8622</td>\n",
              "      <td>OUT049</td>\n",
              "      <td>1999</td>\n",
              "      <td>Medium</td>\n",
              "      <td>1</td>\n",
              "      <td>1</td>\n",
              "    </tr>\n",
              "    <tr>\n",
              "      <th>5</th>\n",
              "      <td>FDH56</td>\n",
              "      <td>9.800</td>\n",
              "      <td>1</td>\n",
              "      <td>0.063817</td>\n",
              "      <td>Fruits and Vegetables</td>\n",
              "      <td>117.1492</td>\n",
              "      <td>OUT046</td>\n",
              "      <td>1997</td>\n",
              "      <td>Small</td>\n",
              "      <td>1</td>\n",
              "      <td>1</td>\n",
              "    </tr>\n",
              "    <tr>\n",
              "      <th>6</th>\n",
              "      <td>FDL48</td>\n",
              "      <td>19.350</td>\n",
              "      <td>1</td>\n",
              "      <td>0.082602</td>\n",
              "      <td>Baking Goods</td>\n",
              "      <td>50.1034</td>\n",
              "      <td>OUT018</td>\n",
              "      <td>2009</td>\n",
              "      <td>Medium</td>\n",
              "      <td>3</td>\n",
              "      <td>2</td>\n",
              "    </tr>\n",
              "    <tr>\n",
              "      <th>13</th>\n",
              "      <td>FDU11</td>\n",
              "      <td>4.785</td>\n",
              "      <td>0</td>\n",
              "      <td>0.092738</td>\n",
              "      <td>Breads</td>\n",
              "      <td>122.3098</td>\n",
              "      <td>OUT049</td>\n",
              "      <td>1999</td>\n",
              "      <td>Medium</td>\n",
              "      <td>1</td>\n",
              "      <td>1</td>\n",
              "    </tr>\n",
              "    <tr>\n",
              "      <th>15</th>\n",
              "      <td>FDM24</td>\n",
              "      <td>6.135</td>\n",
              "      <td>1</td>\n",
              "      <td>0.079451</td>\n",
              "      <td>Baking Goods</td>\n",
              "      <td>151.6366</td>\n",
              "      <td>OUT049</td>\n",
              "      <td>1999</td>\n",
              "      <td>Medium</td>\n",
              "      <td>1</td>\n",
              "      <td>1</td>\n",
              "    </tr>\n",
              "  </tbody>\n",
              "</table>\n",
              "</div>\n",
              "    <div class=\"colab-df-buttons\">\n",
              "\n",
              "  <div class=\"colab-df-container\">\n",
              "    <button class=\"colab-df-convert\" onclick=\"convertToInteractive('df-af19e815-d318-40df-b345-a69e5e098f66')\"\n",
              "            title=\"Convert this dataframe to an interactive table.\"\n",
              "            style=\"display:none;\">\n",
              "\n",
              "  <svg xmlns=\"http://www.w3.org/2000/svg\" height=\"24px\" viewBox=\"0 -960 960 960\">\n",
              "    <path d=\"M120-120v-720h720v720H120Zm60-500h600v-160H180v160Zm220 220h160v-160H400v160Zm0 220h160v-160H400v160ZM180-400h160v-160H180v160Zm440 0h160v-160H620v160ZM180-180h160v-160H180v160Zm440 0h160v-160H620v160Z\"/>\n",
              "  </svg>\n",
              "    </button>\n",
              "\n",
              "  <style>\n",
              "    .colab-df-container {\n",
              "      display:flex;\n",
              "      gap: 12px;\n",
              "    }\n",
              "\n",
              "    .colab-df-convert {\n",
              "      background-color: #E8F0FE;\n",
              "      border: none;\n",
              "      border-radius: 50%;\n",
              "      cursor: pointer;\n",
              "      display: none;\n",
              "      fill: #1967D2;\n",
              "      height: 32px;\n",
              "      padding: 0 0 0 0;\n",
              "      width: 32px;\n",
              "    }\n",
              "\n",
              "    .colab-df-convert:hover {\n",
              "      background-color: #E2EBFA;\n",
              "      box-shadow: 0px 1px 2px rgba(60, 64, 67, 0.3), 0px 1px 3px 1px rgba(60, 64, 67, 0.15);\n",
              "      fill: #174EA6;\n",
              "    }\n",
              "\n",
              "    .colab-df-buttons div {\n",
              "      margin-bottom: 4px;\n",
              "    }\n",
              "\n",
              "    [theme=dark] .colab-df-convert {\n",
              "      background-color: #3B4455;\n",
              "      fill: #D2E3FC;\n",
              "    }\n",
              "\n",
              "    [theme=dark] .colab-df-convert:hover {\n",
              "      background-color: #434B5C;\n",
              "      box-shadow: 0px 1px 3px 1px rgba(0, 0, 0, 0.15);\n",
              "      filter: drop-shadow(0px 1px 2px rgba(0, 0, 0, 0.3));\n",
              "      fill: #FFFFFF;\n",
              "    }\n",
              "  </style>\n",
              "\n",
              "    <script>\n",
              "      const buttonEl =\n",
              "        document.querySelector('#df-af19e815-d318-40df-b345-a69e5e098f66 button.colab-df-convert');\n",
              "      buttonEl.style.display =\n",
              "        google.colab.kernel.accessAllowed ? 'block' : 'none';\n",
              "\n",
              "      async function convertToInteractive(key) {\n",
              "        const element = document.querySelector('#df-af19e815-d318-40df-b345-a69e5e098f66');\n",
              "        const dataTable =\n",
              "          await google.colab.kernel.invokeFunction('convertToInteractive',\n",
              "                                                    [key], {});\n",
              "        if (!dataTable) return;\n",
              "\n",
              "        const docLinkHtml = 'Like what you see? Visit the ' +\n",
              "          '<a target=\"_blank\" href=https://colab.research.google.com/notebooks/data_table.ipynb>data table notebook</a>'\n",
              "          + ' to learn more about interactive tables.';\n",
              "        element.innerHTML = '';\n",
              "        dataTable['output_type'] = 'display_data';\n",
              "        await google.colab.output.renderOutput(dataTable, element);\n",
              "        const docLink = document.createElement('div');\n",
              "        docLink.innerHTML = docLinkHtml;\n",
              "        element.appendChild(docLink);\n",
              "      }\n",
              "    </script>\n",
              "  </div>\n",
              "\n",
              "\n",
              "<div id=\"df-c72f113c-6429-412f-85b9-eb9d19057112\">\n",
              "  <button class=\"colab-df-quickchart\" onclick=\"quickchart('df-c72f113c-6429-412f-85b9-eb9d19057112')\"\n",
              "            title=\"Suggest charts\"\n",
              "            style=\"display:none;\">\n",
              "\n",
              "<svg xmlns=\"http://www.w3.org/2000/svg\" height=\"24px\"viewBox=\"0 0 24 24\"\n",
              "     width=\"24px\">\n",
              "    <g>\n",
              "        <path d=\"M19 3H5c-1.1 0-2 .9-2 2v14c0 1.1.9 2 2 2h14c1.1 0 2-.9 2-2V5c0-1.1-.9-2-2-2zM9 17H7v-7h2v7zm4 0h-2V7h2v10zm4 0h-2v-4h2v4z\"/>\n",
              "    </g>\n",
              "</svg>\n",
              "  </button>\n",
              "\n",
              "<style>\n",
              "  .colab-df-quickchart {\n",
              "      --bg-color: #E8F0FE;\n",
              "      --fill-color: #1967D2;\n",
              "      --hover-bg-color: #E2EBFA;\n",
              "      --hover-fill-color: #174EA6;\n",
              "      --disabled-fill-color: #AAA;\n",
              "      --disabled-bg-color: #DDD;\n",
              "  }\n",
              "\n",
              "  [theme=dark] .colab-df-quickchart {\n",
              "      --bg-color: #3B4455;\n",
              "      --fill-color: #D2E3FC;\n",
              "      --hover-bg-color: #434B5C;\n",
              "      --hover-fill-color: #FFFFFF;\n",
              "      --disabled-bg-color: #3B4455;\n",
              "      --disabled-fill-color: #666;\n",
              "  }\n",
              "\n",
              "  .colab-df-quickchart {\n",
              "    background-color: var(--bg-color);\n",
              "    border: none;\n",
              "    border-radius: 50%;\n",
              "    cursor: pointer;\n",
              "    display: none;\n",
              "    fill: var(--fill-color);\n",
              "    height: 32px;\n",
              "    padding: 0;\n",
              "    width: 32px;\n",
              "  }\n",
              "\n",
              "  .colab-df-quickchart:hover {\n",
              "    background-color: var(--hover-bg-color);\n",
              "    box-shadow: 0 1px 2px rgba(60, 64, 67, 0.3), 0 1px 3px 1px rgba(60, 64, 67, 0.15);\n",
              "    fill: var(--button-hover-fill-color);\n",
              "  }\n",
              "\n",
              "  .colab-df-quickchart-complete:disabled,\n",
              "  .colab-df-quickchart-complete:disabled:hover {\n",
              "    background-color: var(--disabled-bg-color);\n",
              "    fill: var(--disabled-fill-color);\n",
              "    box-shadow: none;\n",
              "  }\n",
              "\n",
              "  .colab-df-spinner {\n",
              "    border: 2px solid var(--fill-color);\n",
              "    border-color: transparent;\n",
              "    border-bottom-color: var(--fill-color);\n",
              "    animation:\n",
              "      spin 1s steps(1) infinite;\n",
              "  }\n",
              "\n",
              "  @keyframes spin {\n",
              "    0% {\n",
              "      border-color: transparent;\n",
              "      border-bottom-color: var(--fill-color);\n",
              "      border-left-color: var(--fill-color);\n",
              "    }\n",
              "    20% {\n",
              "      border-color: transparent;\n",
              "      border-left-color: var(--fill-color);\n",
              "      border-top-color: var(--fill-color);\n",
              "    }\n",
              "    30% {\n",
              "      border-color: transparent;\n",
              "      border-left-color: var(--fill-color);\n",
              "      border-top-color: var(--fill-color);\n",
              "      border-right-color: var(--fill-color);\n",
              "    }\n",
              "    40% {\n",
              "      border-color: transparent;\n",
              "      border-right-color: var(--fill-color);\n",
              "      border-top-color: var(--fill-color);\n",
              "    }\n",
              "    60% {\n",
              "      border-color: transparent;\n",
              "      border-right-color: var(--fill-color);\n",
              "    }\n",
              "    80% {\n",
              "      border-color: transparent;\n",
              "      border-right-color: var(--fill-color);\n",
              "      border-bottom-color: var(--fill-color);\n",
              "    }\n",
              "    90% {\n",
              "      border-color: transparent;\n",
              "      border-bottom-color: var(--fill-color);\n",
              "    }\n",
              "  }\n",
              "</style>\n",
              "\n",
              "  <script>\n",
              "    async function quickchart(key) {\n",
              "      const quickchartButtonEl =\n",
              "        document.querySelector('#' + key + ' button');\n",
              "      quickchartButtonEl.disabled = true;  // To prevent multiple clicks.\n",
              "      quickchartButtonEl.classList.add('colab-df-spinner');\n",
              "      try {\n",
              "        const charts = await google.colab.kernel.invokeFunction(\n",
              "            'suggestCharts', [key], {});\n",
              "      } catch (error) {\n",
              "        console.error('Error during call to suggestCharts:', error);\n",
              "      }\n",
              "      quickchartButtonEl.classList.remove('colab-df-spinner');\n",
              "      quickchartButtonEl.classList.add('colab-df-quickchart-complete');\n",
              "    }\n",
              "    (() => {\n",
              "      let quickchartButtonEl =\n",
              "        document.querySelector('#df-c72f113c-6429-412f-85b9-eb9d19057112 button');\n",
              "      quickchartButtonEl.style.display =\n",
              "        google.colab.kernel.accessAllowed ? 'block' : 'none';\n",
              "    })();\n",
              "  </script>\n",
              "</div>\n",
              "    </div>\n",
              "  </div>\n"
            ]
          },
          "metadata": {},
          "execution_count": 86
        }
      ]
    },
    {
      "cell_type": "code",
      "source": [
        "df.dtypes"
      ],
      "metadata": {
        "colab": {
          "base_uri": "https://localhost:8080/"
        },
        "id": "Jszz3sZ4evwH",
        "outputId": "15f73045-04e4-4120-e42e-04daba667aa5"
      },
      "execution_count": 87,
      "outputs": [
        {
          "output_type": "execute_result",
          "data": {
            "text/plain": [
              "item_identifier               object\n",
              "item_weight                  float64\n",
              "item_fat_content              object\n",
              "item_visibility              float64\n",
              "item_type                     object\n",
              "item_mrp                     float64\n",
              "outlet_identifier             object\n",
              "outlet_establishment_year      int64\n",
              "outlet_size                   object\n",
              "outlet_location_type           int64\n",
              "outlet_type                   object\n",
              "dtype: object"
            ]
          },
          "metadata": {},
          "execution_count": 87
        }
      ]
    },
    {
      "cell_type": "markdown",
      "source": [
        "Змінимо тип даних в стовпцях, які ми щойно змінювали:"
      ],
      "metadata": {
        "id": "sjZYcXGNezi5"
      }
    },
    {
      "cell_type": "code",
      "source": [
        "df.outlet_location_type = df.outlet_location_type.astype(int)\n",
        "df.item_fat_content = df.item_fat_content.astype(int)\n",
        "# df.outlet_size = df.outlet_size.astype(int)\n",
        "df.outlet_type = df.outlet_type.astype(int)\n",
        "df.dtypes"
      ],
      "metadata": {
        "colab": {
          "base_uri": "https://localhost:8080/"
        },
        "id": "XOrha5ane085",
        "outputId": "48a2aa44-5e11-4e4d-b187-8685f2ab421a"
      },
      "execution_count": 88,
      "outputs": [
        {
          "output_type": "execute_result",
          "data": {
            "text/plain": [
              "item_identifier               object\n",
              "item_weight                  float64\n",
              "item_fat_content               int64\n",
              "item_visibility              float64\n",
              "item_type                     object\n",
              "item_mrp                     float64\n",
              "outlet_identifier             object\n",
              "outlet_establishment_year      int64\n",
              "outlet_size                   object\n",
              "outlet_location_type           int64\n",
              "outlet_type                    int64\n",
              "dtype: object"
            ]
          },
          "metadata": {},
          "execution_count": 88
        }
      ]
    },
    {
      "cell_type": "code",
      "source": [
        "object_columns = df.select_dtypes(include=['object']).columns\n",
        "data = df.drop(object_columns, axis=1)\n",
        "\n",
        "print(data)"
      ],
      "metadata": {
        "colab": {
          "base_uri": "https://localhost:8080/"
        },
        "id": "n9oPGJmOe6Hm",
        "outputId": "08cf2be6-2e05-4e45-8f72-05c5614c0c4e"
      },
      "execution_count": 89,
      "outputs": [
        {
          "output_type": "stream",
          "name": "stdout",
          "text": [
            "      item_weight  item_fat_content  item_visibility  item_mrp  \\\n",
            "0          20.750                 0         0.007565  107.8622   \n",
            "5           9.800                 1         0.063817  117.1492   \n",
            "6          19.350                 1         0.082602   50.1034   \n",
            "13          4.785                 0         0.092738  122.3098   \n",
            "15          6.135                 1         0.079451  151.6366   \n",
            "...           ...               ...              ...       ...   \n",
            "5673        7.070                 0         0.094053  116.0834   \n",
            "5674       15.700                 0         0.030704   43.2770   \n",
            "5675       13.000                 1         0.070411   63.4484   \n",
            "5676       10.500                 1         0.013496  141.3154   \n",
            "5677        7.600                 1         0.142991  169.1448   \n",
            "\n",
            "      outlet_establishment_year  outlet_location_type  outlet_type  \n",
            "0                          1999                     1            1  \n",
            "5                          1997                     1            1  \n",
            "6                          2009                     3            2  \n",
            "13                         1999                     1            1  \n",
            "15                         1999                     1            1  \n",
            "...                         ...                   ...          ...  \n",
            "5673                       2009                     3            2  \n",
            "5674                       1997                     1            1  \n",
            "5675                       1999                     1            1  \n",
            "5676                       1997                     1            1  \n",
            "5677                       2009                     3            2  \n",
            "\n",
            "[2461 rows x 7 columns]\n"
          ]
        }
      ]
    },
    {
      "cell_type": "code",
      "source": [
        "data.dtypes"
      ],
      "metadata": {
        "colab": {
          "base_uri": "https://localhost:8080/"
        },
        "id": "5jXd2gk1e806",
        "outputId": "0236247e-0cad-4c6b-cc8a-b4042696c3e0"
      },
      "execution_count": 90,
      "outputs": [
        {
          "output_type": "execute_result",
          "data": {
            "text/plain": [
              "item_weight                  float64\n",
              "item_fat_content               int64\n",
              "item_visibility              float64\n",
              "item_mrp                     float64\n",
              "outlet_establishment_year      int64\n",
              "outlet_location_type           int64\n",
              "outlet_type                    int64\n",
              "dtype: object"
            ]
          },
          "metadata": {},
          "execution_count": 90
        }
      ]
    },
    {
      "cell_type": "markdown",
      "source": [
        "Всі типи даних були коректно змінені, а непотрібні стовпці видалені"
      ],
      "metadata": {
        "id": "sbjJn3vHe-7H"
      }
    },
    {
      "cell_type": "markdown",
      "source": [
        "**Побудова моделей регресії**"
      ],
      "metadata": {
        "id": "dHa79DRCfFLl"
      }
    },
    {
      "cell_type": "markdown",
      "source": [
        "Залежною змінною Y для майбутніх моделей класифікації було обрано outlet_size:"
      ],
      "metadata": {
        "id": "Yol3lGWMfPqN"
      }
    },
    {
      "cell_type": "code",
      "source": [
        "Y = df['outlet_size']\n",
        "Y"
      ],
      "metadata": {
        "colab": {
          "base_uri": "https://localhost:8080/"
        },
        "id": "v46cJNt7fhGQ",
        "outputId": "ca12b13f-7399-4a36-ecfe-4c035cc25a05"
      },
      "execution_count": 91,
      "outputs": [
        {
          "output_type": "execute_result",
          "data": {
            "text/plain": [
              "0       Medium\n",
              "5        Small\n",
              "6       Medium\n",
              "13      Medium\n",
              "15      Medium\n",
              "         ...  \n",
              "5673    Medium\n",
              "5674     Small\n",
              "5675    Medium\n",
              "5676     Small\n",
              "5677    Medium\n",
              "Name: outlet_size, Length: 2461, dtype: object"
            ]
          },
          "metadata": {},
          "execution_count": 91
        }
      ]
    },
    {
      "cell_type": "markdown",
      "source": [
        "До масиву незалежних змінних віднесемо всі інші кількісні змінні в датасеті:"
      ],
      "metadata": {
        "id": "hzQoM9HEf1qT"
      }
    },
    {
      "cell_type": "code",
      "source": [
        "X = df.select_dtypes(exclude=['object']).values\n",
        "X"
      ],
      "metadata": {
        "colab": {
          "base_uri": "https://localhost:8080/"
        },
        "id": "XkKQiCSLf2am",
        "outputId": "ede1c4d8-07db-4d18-feff-c8eaeffeee02"
      },
      "execution_count": 92,
      "outputs": [
        {
          "output_type": "execute_result",
          "data": {
            "text/plain": [
              "array([[2.07500000e+01, 0.00000000e+00, 7.56483600e-03, ...,\n",
              "        1.99900000e+03, 1.00000000e+00, 1.00000000e+00],\n",
              "       [9.80000000e+00, 1.00000000e+00, 6.38172060e-02, ...,\n",
              "        1.99700000e+03, 1.00000000e+00, 1.00000000e+00],\n",
              "       [1.93500000e+01, 1.00000000e+00, 8.26015370e-02, ...,\n",
              "        2.00900000e+03, 3.00000000e+00, 2.00000000e+00],\n",
              "       ...,\n",
              "       [1.30000000e+01, 1.00000000e+00, 7.04109590e-02, ...,\n",
              "        1.99900000e+03, 1.00000000e+00, 1.00000000e+00],\n",
              "       [1.05000000e+01, 1.00000000e+00, 1.34964660e-02, ...,\n",
              "        1.99700000e+03, 1.00000000e+00, 1.00000000e+00],\n",
              "       [7.60000000e+00, 1.00000000e+00, 1.42990896e-01, ...,\n",
              "        2.00900000e+03, 3.00000000e+00, 2.00000000e+00]])"
            ]
          },
          "metadata": {},
          "execution_count": 92
        }
      ]
    },
    {
      "cell_type": "code",
      "source": [
        "X.shape"
      ],
      "metadata": {
        "colab": {
          "base_uri": "https://localhost:8080/"
        },
        "id": "xTUMonsGf8tl",
        "outputId": "4e22ef52-8762-4940-99bb-103e4a3b998e"
      },
      "execution_count": 93,
      "outputs": [
        {
          "output_type": "execute_result",
          "data": {
            "text/plain": [
              "(2461, 7)"
            ]
          },
          "metadata": {},
          "execution_count": 93
        }
      ]
    },
    {
      "cell_type": "markdown",
      "source": [
        "Даний масив складається з 2461 рядків і 7 стовпців."
      ],
      "metadata": {
        "id": "nxyn4IrdgAJH"
      }
    },
    {
      "cell_type": "markdown",
      "source": [
        "Імпортуємо функцію для розбиття даних на навчальний і тестовий набори:"
      ],
      "metadata": {
        "id": "tXqEHcwTgBQq"
      }
    },
    {
      "cell_type": "code",
      "source": [
        "from sklearn.model_selection import train_test_split"
      ],
      "metadata": {
        "id": "_xUMZQF6f_xV"
      },
      "execution_count": 94,
      "outputs": []
    },
    {
      "cell_type": "markdown",
      "source": [
        "Розділяємо незалежні (X) і залежні (Y) змінні на навчальні та тестові набори даних:"
      ],
      "metadata": {
        "id": "EBHAPDeFgMQg"
      }
    },
    {
      "cell_type": "code",
      "source": [
        "X_train, X_test, Y_train, Y_test = train_test_split(X, Y, test_size=0.2, random_state=42)"
      ],
      "metadata": {
        "id": "9YX6HRvFgQpT"
      },
      "execution_count": 95,
      "outputs": []
    },
    {
      "cell_type": "markdown",
      "source": [
        "1. Лінійна регресійна модель:"
      ],
      "metadata": {
        "id": "RTurTxbcgUW3"
      }
    },
    {
      "cell_type": "markdown",
      "source": [
        "Застосування OneHotEncoder тут є важливим, оскільки вона перетворює категоріальні дані у форму, придатну для використання у регресійних метриках."
      ],
      "metadata": {
        "id": "s5u15g_Wif9G"
      }
    },
    {
      "cell_type": "code",
      "source": [
        "import pandas as pd\n",
        "from sklearn.model_selection import train_test_split\n",
        "from sklearn.linear_model import LinearRegression\n",
        "from sklearn.preprocessing import OneHotEncoder, LabelEncoder\n",
        "from sklearn.metrics import mean_absolute_error, mean_squared_error, r2_score\n",
        "\n",
        "# Припустимо, що цільовий стовпець називається 'outlet_size'\n",
        "target_column = 'outlet_size'\n",
        "\n",
        "# Ініціалізуємо LabelEncoder\n",
        "label_encoder = LabelEncoder()\n",
        "\n",
        "# Кодуємо цільову змінну Y\n",
        "df[target_column] = label_encoder.fit_transform(df[target_column])\n",
        "\n",
        "# Перетворюємо категоріальні ознаки у числові\n",
        "df_encoded = pd.get_dummies(df)\n",
        "\n",
        "# Розділяємо дані на тренувальні та тестові набори після one-hot encoding\n",
        "train_data, test_data = train_test_split(df_encoded, test_size=0.2, random_state=42)\n",
        "\n",
        "# Розділяємо на ознаки та цільову змінну\n",
        "X_train = train_data.drop(columns=[target_column])\n",
        "Y_train = train_data[target_column]\n",
        "X_test = test_data.drop(columns=[target_column])\n",
        "Y_test = test_data[target_column]\n",
        "\n",
        "# Створюємо та тренуємо модель лінійної регресії\n",
        "linear_model = LinearRegression()\n",
        "linear_model.fit(X_train, Y_train)\n",
        "\n",
        "# Прогнозуємо на тренувальних та тестових даних\n",
        "Y_pred_train = linear_model.predict(X_train)\n",
        "Y_pred_test = linear_model.predict(X_test)\n",
        "\n",
        "# Зворотне перетворення закодованих значень для оцінки метрик\n",
        "Y_pred_train_original = label_encoder.inverse_transform(Y_pred_train.astype(int))\n",
        "Y_pred_test_original = label_encoder.inverse_transform(Y_pred_test.astype(int))\n",
        "\n",
        "# Обчислення метрик для тестового набору даних\n",
        "mae_test = mean_absolute_error(Y_test, Y_pred_test_original)\n",
        "mse_test = mean_squared_error(Y_test, Y_pred_test_original)\n",
        "rmse_test = mse_test ** 0.5\n",
        "r2_test = r2_score(Y_test, Y_pred_test_original)\n",
        "\n",
        "# Вивід результатів для тестового набору даних\n",
        "print(\"\\nTest Metrics:\")\n",
        "print(\"MAE (Test):\", mae_test)\n",
        "print(\"MSE (Test):\", mse_test)\n",
        "print(\"RMSE (Test):\", rmse_test)\n",
        "print(\"R-squared (Test):\", r2_test)\n",
        "\n"
      ],
      "metadata": {
        "colab": {
          "base_uri": "https://localhost:8080/"
        },
        "id": "hMEgftXqp4x4",
        "outputId": "3067d183-2f7c-4af9-8257-69f69d4d4529"
      },
      "execution_count": 99,
      "outputs": [
        {
          "output_type": "stream",
          "name": "stdout",
          "text": [
            "\n",
            "Test Metrics:\n",
            "MAE (Test): 0.19066937119675456\n",
            "MSE (Test): 0.19066937119675456\n",
            "RMSE (Test): 0.43665704070443495\n",
            "R-squared (Test): 0.23679183135704884\n"
          ]
        }
      ]
    },
    {
      "cell_type": "markdown",
      "source": [
        "\n",
        "З виведеними метриками для тестового набору даних можна зробити наступні висновки:\n",
        "\n",
        "MAE (Test): 0.1907: Середнє абсолютне значення помилки (MAE) вказує на середню абсолютну відмінність між прогнозованими та фактичними значеннями. MAE становить близько 0.1907, що вказує на те, що модель в середньому помиляється на 0.1907 одиниць.\n",
        "\n",
        "MSE (Test): 0.1907: Середній квадрат помилки (MSE) вимірює середній квадрат різниці між прогнозованими та фактичними значеннями. MSE також дорівнює близько 0.1907.\n",
        "\n",
        "RMSE (Test): 0.4367: Корень середньоквадратичного помилок (RMSE) представляє собою корінь з MSE і вказує на середню абсолютну відмінність між прогнозованими та фактичними значеннями у ваших оригінальних одиницях вимірювання.\n",
        "\n",
        "R-squared (Test): 0.2368: Коефіцієнт детермінації (R-squared) вказує на частку варіації в цільовій змінній, яку можна пояснити моделлю. R-squared становить приблизно 0.2368, що може свідчити про те, що модель не дуже добре пояснює варіацію в цільовій змінній.\n",
        "\n",
        "Загалом, ці метрики свідчать про те, що модель може бути поліпшена або оптимізована для отримання кращих прогнозів. Подальше вдосконалення моделі може включати у себе оптимізацію гіперпараметрів, використання інших методів регуляризації чи вдосконалення якості вхідних даних."
      ],
      "metadata": {
        "id": "rzODGgZns_NH"
      }
    },
    {
      "cell_type": "markdown",
      "source": [
        "#### 2. Лінійна регресійна модель із регуляризацією Ridge"
      ],
      "metadata": {
        "id": "poxy8I5AirQc"
      }
    },
    {
      "cell_type": "markdown",
      "source": [
        "Коли ми маємо справу з великою кількістю ознак або коли ознаки взаємозв'язані, може виникнути проблема мультиколінеарності, яка призводить до нестабільності оцінок коефіцієнтів та збільшення дисперсії оцінок. Регуляризація Ridge допомагає вирішити цю проблему, додаючи штраф за великі значення коефіцієнтів моделі."
      ],
      "metadata": {
        "id": "0ZkNMAhLzAWy"
      }
    },
    {
      "cell_type": "code",
      "source": [
        "from sklearn.linear_model import Ridge\n",
        "\n",
        "# Створення екземпляра Ridge моделі\n",
        "ridge_model = Ridge(alpha=1.0)\n",
        "\n",
        "# Застосування OneHotEncoder до колонки Y_train\n",
        "encoded_Y_train = encoder.fit_transform(pd.DataFrame(Y_train))\n",
        "\n",
        "# Застосування OneHotEncoder до колонки Y_test\n",
        "encoded_Y_test = encoder.transform(pd.DataFrame(Y_test))\n",
        "\n",
        "# Тренування моделі Ridge\n",
        "ridge_model.fit(X_train, encoded_Y_train)\n",
        "\n",
        "# Оцінка моделі Ridge\n",
        "train_score_ridge = ridge_model.score(X_train, encoded_Y_train)\n",
        "test_score_ridge = ridge_model.score(X_test, encoded_Y_test)\n",
        "\n",
        "print(\"Оцінка Ridge регресії для тренувальних даних {}\".format(train_score_ridge))\n",
        "print(\"Оцінка Ridge регресії для тестових даних {}\".format(test_score_ridge))\n",
        "\n",
        "# Використання натренованої моделі Ridge для прогнозу на тестовому наборі даних:\n",
        "Y_pred_ridge = ridge_model.predict(X_test)  # Прогнозовані мітки класів\n",
        "\n",
        "# Також робимо прогнози на навчальному наборі для подальшої оцінки перенавчання моделі:\n",
        "predicted_train_ridge = ridge_model.predict(X_train)  # Прогнозовані мітки класів на навчальних даних\n",
        "\n",
        "# Застосування OneHotEncoder до колонки Y_test\n",
        "encoded_Y_test = encoder.transform(pd.DataFrame(Y_test))\n",
        "\n",
        "# Обчислення метрик:\n",
        "mae_ridge = mean_absolute_error(encoded_Y_test, Y_pred_ridge)\n",
        "print(\"Mean Absolute Error (Ridge):\", mae_ridge)\n",
        "\n",
        "mse_ridge = mean_squared_error(encoded_Y_test, Y_pred_ridge)\n",
        "print(\"Mean Squared Error (Ridge):\", mse_ridge)\n",
        "print(\"RMSE (Ridge): \", mse_ridge**(1/2.0))\n",
        "\n",
        "r2_ridge = r2_score(encoded_Y_test, Y_pred_ridge)\n",
        "print(\"R-squared (Ridge):\", r2_ridge)\n",
        "\n",
        "\n"
      ],
      "metadata": {
        "colab": {
          "base_uri": "https://localhost:8080/"
        },
        "id": "G8_nQFj_jBrs",
        "outputId": "570b7f1a-e11b-4ec7-cf6c-c2fe70312734"
      },
      "execution_count": 97,
      "outputs": [
        {
          "output_type": "stream",
          "name": "stderr",
          "text": [
            "/usr/local/lib/python3.10/dist-packages/sklearn/preprocessing/_encoders.py:868: FutureWarning: `sparse` was renamed to `sparse_output` in version 1.2 and will be removed in 1.4. `sparse_output` is ignored unless you leave `sparse` to its default value.\n",
            "  warnings.warn(\n"
          ]
        },
        {
          "output_type": "stream",
          "name": "stdout",
          "text": [
            "Оцінка Ridge регресії для тренувальних даних 0.9999964151782069\n",
            "Оцінка Ridge регресії для тестових даних 0.9999916641065898\n",
            "Mean Absolute Error (Ridge): 0.0012985241923392033\n",
            "Mean Squared Error (Ridge): 2.0825242970200174e-06\n",
            "RMSE (Ridge):  0.001443095387360107\n",
            "R-squared (Ridge): 0.9999916641065898\n"
          ]
        }
      ]
    },
    {
      "cell_type": "markdown",
      "source": [
        "У цьому коді використовується модель Ridge замість лінійної регресії, але загальна структура коду залишається подібною. Зверніть увагу на параметр alpha, який визначає силу регуляризації у моделі Ridge. Його можна налаштувати відповідно до потреб."
      ],
      "metadata": {
        "id": "pHQJdBhditpH"
      }
    },
    {
      "cell_type": "markdown",
      "source": [
        "\n",
        "Оцінки Ridge регресії для тренувальних і тестових даних свідчать про високу точність моделі:\n",
        "\n",
        "1. Оцінка Ridge регресії для тренувальних даних: 0.9999964151782069\n",
        "2. Оцінка Ridge регресії для тестових даних: 0.9999916641065898\n",
        "\n",
        "Це свідчить про те, що модель добре підлаштована до тренувальних і тестових даних і відображає їхню структуру з високою точністю.\n",
        "\n",
        "Додатково, метрики помилок також дуже низькі:\n",
        "\n",
        "1. Mean Absolute Error (Ridge): 0.0012985241923392033\n",
        "2. Mean Squared Error (Ridge): 2.0825242970200174e-06\n",
        "3. RMSE (Ridge): 0.001443095387360107\n",
        "4. R-squared (Ridge): 0.9999916641065898\n",
        "\n",
        "Ці значення підтверджують високу ефективність моделі на тестовому наборі даних. Модель майже ідеально передбачає цільову змінну, і різниця між прогнозованими та спостережуваними значеннями є мінімальною.\n",
        "\n",
        "Отже, можна зробити висновок, що модель Ridge демонструє дуже добрі результати на якості прогнозування, як для тренувальних, так і для тестових даних."
      ],
      "metadata": {
        "id": "BoVxXRdOmr6D"
      }
    },
    {
      "cell_type": "markdown",
      "source": [
        "**3.\tЛінійна регресійна модель із регуляризацією Lasso:**"
      ],
      "metadata": {
        "id": "nA5CuEHOn1dQ"
      }
    },
    {
      "cell_type": "markdown",
      "source": [
        "Лінійна регресійна модель із регуляризацією Lasso (Least Absolute Shrinkage and Selection Operator) є однією з методів лінійної регресії, яка використовується для моделювання залежностей між залежною (відгуковою) змінною і однією або декількома незалежними (пояснювальними) змінними. Основна ідея лінійної регресії полягає в тому, щоб знайти лінійну залежність між змінними, яка найкращим чином описує спостережені дані."
      ],
      "metadata": {
        "id": "8cY81RO-ytgF"
      }
    },
    {
      "cell_type": "code",
      "source": [
        "from sklearn.linear_model import Lasso\n",
        "\n",
        "# Ініціалізуємо Lasso модель\n",
        "lasso_model = Lasso(alpha=1.0)\n",
        "\n",
        "# Тренуємо модель на тренувальних даних\n",
        "lasso_model.fit(X_train, Y_train)\n",
        "\n",
        "# Прогнозуємо на тренувальних та тестових даних\n",
        "Y_pred_train_lasso = lasso_model.predict(X_train)\n",
        "Y_pred_test_lasso = lasso_model.predict(X_test)\n",
        "\n",
        "# Зворотне перетворення закодованих значень для оцінки метрик\n",
        "Y_pred_train_original_lasso = label_encoder.inverse_transform(Y_pred_train_lasso.astype(int))\n",
        "Y_pred_test_original_lasso = label_encoder.inverse_transform(Y_pred_test_lasso.astype(int))\n",
        "\n",
        "# Обчислення метрик для тестового набору даних\n",
        "mae_test_lasso = mean_absolute_error(Y_test, Y_pred_test_original_lasso)\n",
        "mse_test_lasso = mean_squared_error(Y_test, Y_pred_test_original_lasso)\n",
        "rmse_test_lasso = mse_test_lasso ** 0.5\n",
        "r2_test_lasso = r2_score(Y_test, Y_pred_test_original_lasso)\n",
        "\n",
        "# Вивід результатів для тестового набору даних\n",
        "print(\"\\nLasso Regression Test Metrics:\")\n",
        "print(\"MAE (Test):\", mae_test_lasso)\n",
        "print(\"MSE (Test):\", mse_test_lasso)\n",
        "print(\"RMSE (Test):\", rmse_test_lasso)\n",
        "print(\"R-squared (Test):\", r2_test_lasso)\n"
      ],
      "metadata": {
        "colab": {
          "base_uri": "https://localhost:8080/"
        },
        "id": "Qfyb3NCsusRi",
        "outputId": "8028657d-8d2f-40cc-8de5-ea2703701b26"
      },
      "execution_count": 100,
      "outputs": [
        {
          "output_type": "stream",
          "name": "stdout",
          "text": [
            "\n",
            "Lasso Regression Test Metrics:\n",
            "MAE (Test): 0.513184584178499\n",
            "MSE (Test): 0.513184584178499\n",
            "RMSE (Test): 0.7163690279307858\n",
            "R-squared (Test): -1.0541666666666663\n"
          ]
        }
      ]
    },
    {
      "cell_type": "markdown",
      "source": [
        "Оцінки Lasso регресії для тестового набору даних вказують на те, що модель може виявитися менш ефективною порівняно з Ridge регресією та звичайною лінійною регресією:\n",
        "\n",
        "1. MAE (Test): 0.513184584178499\n",
        "2. MSE (Test): 0.513184584178499\n",
        "3. RMSE (Test): 0.7163690279307858\n",
        "4. R-squared (Test): -1.0541666666666663\n",
        "\n",
        "Висока значення MAE, MSE і RMSE свідчать про значний рівень похибки моделі, що може означати меншу точність прогнозів. Важливо врахувати, що R-squared негативний, що може вказувати на те, що модель не тільки не пояснює варіації вихідної змінної, але також випадково давала б кращі результати, використовуючи простий середній прогноз для кожного випадку.\n",
        "\n",
        "У випадку Lasso регресії може бути корисно експериментувати з різними значеннями гіперпараметра альфа, якщо це ємноє в даному випадку. Зменшення альфа може допомогти покращити результати, але також слід ретельно слідкувати за можливістю перенавчання."
      ],
      "metadata": {
        "id": "VIJue1_Zu_ac"
      }
    },
    {
      "cell_type": "markdown",
      "source": [
        "Спробуємо змінити значення гіперпараметра alpha:"
      ],
      "metadata": {
        "id": "uwWasXc6vgNQ"
      }
    },
    {
      "cell_type": "code",
      "source": [
        "from sklearn.linear_model import Lasso\n",
        "\n",
        "# Ініціалізуємо Lasso модель\n",
        "lasso_model = Lasso(alpha=5.0)\n",
        "\n",
        "# Тренуємо модель на тренувальних даних\n",
        "lasso_model.fit(X_train, Y_train)\n",
        "\n",
        "# Прогнозуємо на тренувальних та тестових даних\n",
        "Y_pred_train_lasso = lasso_model.predict(X_train)\n",
        "Y_pred_test_lasso = lasso_model.predict(X_test)\n",
        "\n",
        "# Зворотне перетворення закодованих значень для оцінки метрик\n",
        "Y_pred_train_original_lasso = label_encoder.inverse_transform(Y_pred_train_lasso.astype(int))\n",
        "Y_pred_test_original_lasso = label_encoder.inverse_transform(Y_pred_test_lasso.astype(int))\n",
        "\n",
        "# Обчислення метрик для тестового набору даних\n",
        "mae_test_lasso = mean_absolute_error(Y_test, Y_pred_test_original_lasso)\n",
        "mse_test_lasso = mean_squared_error(Y_test, Y_pred_test_original_lasso)\n",
        "rmse_test_lasso = mse_test_lasso ** 0.5\n",
        "r2_test_lasso = r2_score(Y_test, Y_pred_test_original_lasso)\n",
        "\n",
        "# Вивід результатів для тестового набору даних\n",
        "print(\"\\nLasso Regression Test Metrics:\")\n",
        "print(\"MAE (Test):\", mae_test_lasso)\n",
        "print(\"MSE (Test):\", mse_test_lasso)\n",
        "print(\"RMSE (Test):\", rmse_test_lasso)\n",
        "print(\"R-squared (Test):\", r2_test_lasso)"
      ],
      "metadata": {
        "colab": {
          "base_uri": "https://localhost:8080/"
        },
        "id": "KVc16GPex8hc",
        "outputId": "6d8d4129-9f67-42b8-d52f-899ba800e96e"
      },
      "execution_count": 101,
      "outputs": [
        {
          "output_type": "stream",
          "name": "stdout",
          "text": [
            "\n",
            "Lasso Regression Test Metrics:\n",
            "MAE (Test): 0.513184584178499\n",
            "MSE (Test): 0.513184584178499\n",
            "RMSE (Test): 0.7163690279307858\n",
            "R-squared (Test): -1.0541666666666663\n"
          ]
        }
      ]
    },
    {
      "cell_type": "markdown",
      "source": [
        "Ніяких змін не видно."
      ],
      "metadata": {
        "id": "USbNxSExx-yK"
      }
    },
    {
      "cell_type": "markdown",
      "source": [
        "Пробуємо зменшити alpha до 0.0:"
      ],
      "metadata": {
        "id": "hlcE3LpGyCTU"
      }
    },
    {
      "cell_type": "code",
      "source": [
        "from sklearn.linear_model import Lasso\n",
        "\n",
        "# Ініціалізуємо Lasso модель\n",
        "lasso_model = Lasso(alpha=0.0)\n",
        "\n",
        "# Тренуємо модель на тренувальних даних\n",
        "lasso_model.fit(X_train, Y_train)\n",
        "\n",
        "# Прогнозуємо на тренувальних та тестових даних\n",
        "Y_pred_train_lasso = lasso_model.predict(X_train)\n",
        "Y_pred_test_lasso = lasso_model.predict(X_test)\n",
        "\n",
        "# Зворотне перетворення закодованих значень для оцінки метрик\n",
        "Y_pred_train_original_lasso = label_encoder.inverse_transform(Y_pred_train_lasso.astype(int))\n",
        "Y_pred_test_original_lasso = label_encoder.inverse_transform(Y_pred_test_lasso.astype(int))\n",
        "\n",
        "# Обчислення метрик для тестового набору даних\n",
        "mae_test_lasso = mean_absolute_error(Y_test, Y_pred_test_original_lasso)\n",
        "mse_test_lasso = mean_squared_error(Y_test, Y_pred_test_original_lasso)\n",
        "rmse_test_lasso = mse_test_lasso ** 0.5\n",
        "r2_test_lasso = r2_score(Y_test, Y_pred_test_original_lasso)\n",
        "\n",
        "# Вивід результатів для тестового набору даних\n",
        "print(\"\\nLasso Regression Test Metrics:\")\n",
        "print(\"MAE (Test):\", mae_test_lasso)\n",
        "print(\"MSE (Test):\", mse_test_lasso)\n",
        "print(\"RMSE (Test):\", rmse_test_lasso)\n",
        "print(\"R-squared (Test):\", r2_test_lasso)"
      ],
      "metadata": {
        "colab": {
          "base_uri": "https://localhost:8080/"
        },
        "id": "utuGKjZmvMv7",
        "outputId": "9f24cac0-103f-4994-c5a5-ac567261d757"
      },
      "execution_count": 102,
      "outputs": [
        {
          "output_type": "stream",
          "name": "stderr",
          "text": [
            "<ipython-input-102-e280a47630d0>:7: UserWarning: With alpha=0, this algorithm does not converge well. You are advised to use the LinearRegression estimator\n",
            "  lasso_model.fit(X_train, Y_train)\n",
            "/usr/local/lib/python3.10/dist-packages/sklearn/linear_model/_coordinate_descent.py:631: UserWarning: Coordinate descent with no regularization may lead to unexpected results and is discouraged.\n",
            "  model = cd_fast.enet_coordinate_descent(\n"
          ]
        },
        {
          "output_type": "stream",
          "name": "stdout",
          "text": [
            "\n",
            "Lasso Regression Test Metrics:\n",
            "MAE (Test): 0.27586206896551724\n",
            "MSE (Test): 0.27586206896551724\n",
            "RMSE (Test): 0.5252257314388902\n",
            "R-squared (Test): -0.10421607378129116\n"
          ]
        }
      ]
    },
    {
      "cell_type": "markdown",
      "source": [
        "\n",
        "Якщо при alpha 0.0 значення R-squared залишається від'ємним, можливо, це свідчить про те, що використання Lasso-регресії не є найкращим варіантом для цього датасету або його конфігурації.\n",
        "\n",
        "Тому шукаємо найкращий alpha:"
      ],
      "metadata": {
        "id": "i08Ag7gpwebH"
      }
    },
    {
      "cell_type": "markdown",
      "source": [],
      "metadata": {
        "id": "garf8SP5w9oB"
      }
    },
    {
      "cell_type": "code",
      "source": [
        "import pandas as pd\n",
        "from sklearn.model_selection import train_test_split, GridSearchCV\n",
        "from sklearn.linear_model import Lasso\n",
        "from sklearn.preprocessing import OneHotEncoder, LabelEncoder\n",
        "from sklearn.metrics import mean_squared_error\n",
        "\n",
        "# Припустимо, що цільовий стовпець називається 'outlet_size'\n",
        "target_column = 'outlet_size'\n",
        "\n",
        "# Ініціалізуємо LabelEncoder\n",
        "label_encoder = LabelEncoder()\n",
        "\n",
        "# Кодуємо цільову змінну Y\n",
        "df[target_column] = label_encoder.fit_transform(df[target_column])\n",
        "\n",
        "# Перетворюємо категоріальні ознаки у числові\n",
        "df_encoded = pd.get_dummies(df)\n",
        "\n",
        "# Розділяємо дані на тренувальні та тестові набори після one-hot encoding\n",
        "train_data, test_data = train_test_split(df_encoded, test_size=0.2, random_state=42)\n",
        "\n",
        "# Розділяємо на ознаки та цільову змінну\n",
        "X_train = train_data.drop(columns=[target_column])\n",
        "Y_train = train_data[target_column]\n",
        "X_test = test_data.drop(columns=[target_column])\n",
        "Y_test = test_data[target_column]\n",
        "\n",
        "# Створюємо об'єкт моделі Lasso\n",
        "lasso_reg = Lasso()\n",
        "\n",
        "# Визначаємо параметри для Grid Search\n",
        "params_lasso = {'alpha': [0.001, 0.01, 0.1, 1, 10, 100]}\n",
        "\n",
        "# Створюємо об'єкт GridSearchCV\n",
        "grid_search_lasso = GridSearchCV(lasso_reg, params_lasso, scoring='neg_mean_squared_error', cv=5)\n",
        "\n",
        "# Застосовуємо GridSearchCV до тренувальних даних для пошуку найкращих гіперпараметрів\n",
        "grid_search_lasso.fit(X_train, Y_train)\n",
        "\n",
        "# Виводимо найкращі знайдені гіперпараметри\n",
        "print(\"Best Hyperparameters for Lasso:\")\n",
        "print(grid_search_lasso.best_params_)\n",
        "\n",
        "# Побудова моделі з оптимальним значенням alpha\n",
        "lasso_model_optimal_alpha = Lasso(alpha=grid_search_lasso.best_params_['alpha'])\n",
        "lasso_model_optimal_alpha.fit(X_train, Y_train)\n",
        "\n",
        "# Прогноз на тестових даних\n",
        "Y_pred_test_optimal_alpha = lasso_model_optimal_alpha.predict(X_test)\n",
        "\n",
        "# Зворотне перетворення закодованих значень для оцінки метрик\n",
        "Y_pred_test_original_optimal_alpha = label_encoder.inverse_transform(Y_pred_test_optimal_alpha.astype(int))\n",
        "\n",
        "# Обчислення метрик для тестового набору даних\n",
        "mae_test_optimal_alpha = mean_absolute_error(Y_test, Y_pred_test_original_optimal_alpha)\n",
        "mse_test_optimal_alpha = mean_squared_error(Y_test, Y_pred_test_original_optimal_alpha)\n",
        "rmse_test_optimal_alpha = mse_test_optimal_alpha ** 0.5\n",
        "r2_test_optimal_alpha = r2_score(Y_test, Y_pred_test_original_optimal_alpha)\n",
        "\n",
        "# Вивід результатів для тестового набору даних\n",
        "print(\"\\nTest Metrics with Optimal Alpha:\")\n",
        "print(\"MAE (Test):\", mae_test_optimal_alpha)\n",
        "print(\"MSE (Test):\", mse_test_optimal_alpha)\n",
        "print(\"RMSE (Test):\", rmse_test_optimal_alpha)\n",
        "print(\"R-squared (Test):\", r2_test_optimal_alpha)\n"
      ],
      "metadata": {
        "colab": {
          "base_uri": "https://localhost:8080/"
        },
        "id": "6Z4fdFixw-Lp",
        "outputId": "daa9e60c-4598-4adb-db24-c80fdc610801"
      },
      "execution_count": 103,
      "outputs": [
        {
          "output_type": "stream",
          "name": "stdout",
          "text": [
            "Best Hyperparameters for Lasso:\n",
            "{'alpha': 0.001}\n",
            "\n",
            "Test Metrics with Optimal Alpha:\n",
            "MAE (Test): 0.513184584178499\n",
            "MSE (Test): 0.513184584178499\n",
            "RMSE (Test): 0.7163690279307858\n",
            "R-squared (Test): -1.0541666666666663\n"
          ]
        }
      ]
    },
    {
      "cell_type": "markdown",
      "source": [
        "Для моделі Lasso з оптимальним значенням гіперпараметра alpha, яке дорівнює 0.001, отримали наступні результати на тестовому наборі даних:\n",
        "\n",
        "MAE (Mean Absolute Error): 0.513 - Це середня абсолютна помилка прогнозів моделі, що вказує на середню величину розбіжності між фактичними та прогнозованими значеннями. В даному випадку, чим менше MAE, тим краще.\n",
        "\n",
        "MSE (Mean Squared Error): 0.513 - Це середньоквадратична помилка, яка вимірює квадрат розбіжності між фактичними та прогнозованими значеннями. Знову ж таки, менше значення MSE вказує на кращу ефективність моделі.\n",
        "\n",
        "RMSE (Root Mean Squared Error): 0.716 - Корінь середньоквадратичної помилки, що представляє собою корінь квадратний від MSE. Використовується для того, щоб пом'якшити вплив великих помилок.\n",
        "\n",
        "R-squared (Coefficient of Determination): -1.054 - Це коефіцієнт детермінації, який вказує на відсоток варіації в залежній змінній, який може бути передбачений моделлю. Значення в діапазоні від -∞ до 1, де 1 вказує на ідеальну модель. У вас від'ємне значення, що може свідчити про те, що модель погіршила передбачуваність порівняно з середнім значенням.\n",
        "\n",
        "Узагальнюючи, модель Lasso із зазначеними гіперпараметрами показала певний рівень помилок і виявилася менш ефективною в порівнянні з ідеальною моделлю. Можливо, варто розглянути інші стратегії підбору гіперпараметрів або використовувати інші моделі для покращення результатів."
      ],
      "metadata": {
        "id": "lWxcrAVQxu4Y"
      }
    },
    {
      "cell_type": "markdown",
      "source": [
        "Загальний висновок з лабораторної роботи:\n",
        "\n",
        "Оцінка моделі без регуляризації:\n",
        "\n",
        "Спостережуємо досить низькі значення MAE (0.1907) та MSE (0.1907), що свідчить про добру точність моделі на тестовому наборі.\n",
        "Значення RMSE (0.4367) вказує на те, що модель вносить невеликі помилки у прогнозування.\n",
        "Значення R-squared (0.2368) вказує на те, що модель може пояснювати лише невеликий відсоток варіації у вихідних даних.\n",
        "Оцінка моделі Ridge регресії:\n",
        "\n",
        "Оцінки для тренувальних та тестових даних практично ідентичні (близькі до 1), що свідчить про високу точність та гарне узагальнення моделі.\n",
        "Значення MAE, MSE та RMSE для Ridge дуже малі, вказуючи на невеликі помилки моделі.\n",
        "Значення R-squared для Ridge близьке до 1, що свідчить про велику відсоткову варіацію, пояснену моделлю.\n",
        "Оцінка моделі Lasso регресії:\n",
        "\n",
        "Значення MAE, MSE та RMSE для Lasso вищі, що вказує на більші помилки моделі порівняно з Ridge та базовою лінійною регресією.\n",
        "Значення R-squared для Lasso негативне, що може вказувати на те, що модель не вдалося адекватно пояснити варіацію у вихідних даних.\n",
        "Оптимізація гіперпараметрів для Lasso:\n",
        "\n",
        "Найкращий гіперпараметр для Lasso - α=0.001.\n",
        "Оптимізована Lasso модель не покращила значущо результати, і метрики залишилися на високому рівні.\n",
        "\n",
        "\n",
        "Узагальнюючи, модель Ridge регресії показує найкращі результати, враховуючи високі значення R-squared та дуже низькі помилки. Лассо регресія, навпаки, може виявитися менш ефективною для даного набору даних, але оптимізацією гіперпараметра α не вдалася покращити її продуктивність.\n",
        "\n",
        "\n",
        "\n",
        "\n",
        "\n",
        "\n"
      ],
      "metadata": {
        "id": "iEVbXHPQzt0g"
      }
    }
  ]
}