{
  "nbformat": 4,
  "nbformat_minor": 0,
  "metadata": {
    "colab": {
      "provenance": [],
      "authorship_tag": "ABX9TyPbu3yv+CrwDm1ghPjhDbOK",
      "include_colab_link": true
    },
    "kernelspec": {
      "name": "python3",
      "display_name": "Python 3"
    },
    "language_info": {
      "name": "python"
    }
  },
  "cells": [
    {
      "cell_type": "markdown",
      "metadata": {
        "id": "view-in-github",
        "colab_type": "text"
      },
      "source": [
        "<a href=\"https://colab.research.google.com/github/J0KERmin/Tutorial/blob/main/ML_1_2.ipynb\" target=\"_parent\"><img src=\"https://colab.research.google.com/assets/colab-badge.svg\" alt=\"Open In Colab\"/></a>"
      ]
    },
    {
      "cell_type": "code",
      "execution_count": 1,
      "metadata": {
        "id": "n7ozzbTVnfX5"
      },
      "outputs": [],
      "source": [
        "import pandas as pd\n",
        "import numpy as np"
      ]
    },
    {
      "cell_type": "markdown",
      "source": [
        "Огляд даних:"
      ],
      "metadata": {
        "id": "Q5FPsSG7oDLT"
      }
    },
    {
      "cell_type": "code",
      "source": [
        "import io\n",
        "import requests\n",
        "\n",
        "# Посилання на файл\n",
        "file_url = 'https://drive.google.com/uc?export=download&id=1iJY-MgxD1vl99vrmRcGdhXZFeKcJQNFc'\n",
        "\n",
        "# Завантаження файлу\n",
        "response = requests.get(file_url)\n",
        "file_data = io.BytesIO(response.content)\n",
        "\n",
        "# Зчитування Excel-файлу\n",
        "df = pd.read_csv(file_data)\n",
        "\n",
        "# Перевіримо перші кілька рядків даних для ознайомлення\n",
        "print(df.head())\n"
      ],
      "metadata": {
        "colab": {
          "base_uri": "https://localhost:8080/"
        },
        "id": "wm_fI4gkoGgh",
        "outputId": "8209e6be-0c58-4bfa-b15d-cfbb8bc703f1"
      },
      "execution_count": 6,
      "outputs": [
        {
          "output_type": "stream",
          "name": "stdout",
          "text": [
            "          id  vendor_id  pickup_datetime dropoff_datetime  passenger_count  \\\n",
            "0  id2875421          2  3/14/2016 17:24  3/14/2016 17:32                1   \n",
            "1  id2377394          1   6/12/2016 0:43   6/12/2016 0:54                1   \n",
            "2  id3858529          2  1/19/2016 11:35  1/19/2016 12:10                1   \n",
            "3  id3504673          2   4/6/2016 19:32   4/6/2016 19:39                1   \n",
            "4  id2181028          2  3/26/2016 13:30  3/26/2016 13:38                1   \n",
            "\n",
            "   pickup_longitude  pickup_latitude  dropoff_longitude  dropoff_latitude  \\\n",
            "0        -73.982155        40.767937         -73.964630         40.765602   \n",
            "1        -73.980415        40.738564         -73.999481         40.731152   \n",
            "2        -73.979027        40.763939         -74.005333         40.710087   \n",
            "3        -74.010040        40.719971         -74.012268         40.706718   \n",
            "4        -73.973053        40.793209         -73.972923         40.782520   \n",
            "\n",
            "  store_and_fwd_flag  \n",
            "0                  N  \n",
            "1                  N  \n",
            "2                  N  \n",
            "3                  N  \n",
            "4                  N  \n"
          ]
        }
      ]
    },
    {
      "cell_type": "markdown",
      "source": [
        "2. Залежна змінна"
      ],
      "metadata": {
        "id": "YMwBlH15p6RF"
      }
    },
    {
      "cell_type": "code",
      "source": [
        "# Створимо новий стовпчик trip_duration - тривалість поїздки в секундах\n",
        "df['pickup_datetime'] = pd.to_datetime(df['pickup_datetime'])\n",
        "df['dropoff_datetime'] = pd.to_datetime(df['dropoff_datetime'])\n",
        "df['trip_duration'] = (df['dropoff_datetime'] - df['pickup_datetime']).dt.total_seconds()"
      ],
      "metadata": {
        "id": "abhQVV7wp6yh"
      },
      "execution_count": 7,
      "outputs": []
    },
    {
      "cell_type": "code",
      "source": [
        "# Перевіримо перші кілька рядків даних після додавання нової колонки\n",
        "print(df.head())"
      ],
      "metadata": {
        "colab": {
          "base_uri": "https://localhost:8080/"
        },
        "id": "TVnZUx1gqCNN",
        "outputId": "ad4ca009-9e34-476e-9973-dbb14b4a18f1"
      },
      "execution_count": 8,
      "outputs": [
        {
          "output_type": "stream",
          "name": "stdout",
          "text": [
            "          id  vendor_id     pickup_datetime    dropoff_datetime  \\\n",
            "0  id2875421          2 2016-03-14 17:24:00 2016-03-14 17:32:00   \n",
            "1  id2377394          1 2016-06-12 00:43:00 2016-06-12 00:54:00   \n",
            "2  id3858529          2 2016-01-19 11:35:00 2016-01-19 12:10:00   \n",
            "3  id3504673          2 2016-04-06 19:32:00 2016-04-06 19:39:00   \n",
            "4  id2181028          2 2016-03-26 13:30:00 2016-03-26 13:38:00   \n",
            "\n",
            "   passenger_count  pickup_longitude  pickup_latitude  dropoff_longitude  \\\n",
            "0                1        -73.982155        40.767937         -73.964630   \n",
            "1                1        -73.980415        40.738564         -73.999481   \n",
            "2                1        -73.979027        40.763939         -74.005333   \n",
            "3                1        -74.010040        40.719971         -74.012268   \n",
            "4                1        -73.973053        40.793209         -73.972923   \n",
            "\n",
            "   dropoff_latitude store_and_fwd_flag  trip_duration  \n",
            "0         40.765602                  N          480.0  \n",
            "1         40.731152                  N          660.0  \n",
            "2         40.710087                  N         2100.0  \n",
            "3         40.706718                  N          420.0  \n",
            "4         40.782520                  N          480.0  \n"
          ]
        }
      ]
    },
    {
      "cell_type": "markdown",
      "source": [
        "3. Видалення зайвого"
      ],
      "metadata": {
        "id": "aoVE1BFiqG5T"
      }
    },
    {
      "cell_type": "code",
      "source": [
        "# Видаляємо стовпчик dropoff_datetime з датасету\n",
        "df.drop(columns=['dropoff_datetime'], inplace=True)"
      ],
      "metadata": {
        "id": "Q7fpSbR0qHgd"
      },
      "execution_count": 9,
      "outputs": []
    },
    {
      "cell_type": "code",
      "source": [
        "# Перевіримо перші кілька рядків даних після видалення колонки\n",
        "print(df.head())"
      ],
      "metadata": {
        "colab": {
          "base_uri": "https://localhost:8080/"
        },
        "id": "PjTL5hI_qJbR",
        "outputId": "ba62a66a-2f14-411a-8de0-cd242c8affc2"
      },
      "execution_count": 10,
      "outputs": [
        {
          "output_type": "stream",
          "name": "stdout",
          "text": [
            "          id  vendor_id     pickup_datetime  passenger_count  \\\n",
            "0  id2875421          2 2016-03-14 17:24:00                1   \n",
            "1  id2377394          1 2016-06-12 00:43:00                1   \n",
            "2  id3858529          2 2016-01-19 11:35:00                1   \n",
            "3  id3504673          2 2016-04-06 19:32:00                1   \n",
            "4  id2181028          2 2016-03-26 13:30:00                1   \n",
            "\n",
            "   pickup_longitude  pickup_latitude  dropoff_longitude  dropoff_latitude  \\\n",
            "0        -73.982155        40.767937         -73.964630         40.765602   \n",
            "1        -73.980415        40.738564         -73.999481         40.731152   \n",
            "2        -73.979027        40.763939         -74.005333         40.710087   \n",
            "3        -74.010040        40.719971         -74.012268         40.706718   \n",
            "4        -73.973053        40.793209         -73.972923         40.782520   \n",
            "\n",
            "  store_and_fwd_flag  trip_duration  \n",
            "0                  N          480.0  \n",
            "1                  N          660.0  \n",
            "2                  N         2100.0  \n",
            "3                  N          420.0  \n",
            "4                  N          480.0  \n"
          ]
        }
      ]
    },
    {
      "cell_type": "markdown",
      "source": [
        "4. Створення нових ознак"
      ],
      "metadata": {
        "id": "yPV94A3XqNv4"
      }
    },
    {
      "cell_type": "code",
      "source": [
        "# Створимо нові ознаки на основі наявних\n",
        "# - Час доби, коли почалася поїздка\n",
        "df['pickup_hour'] = df['pickup_datetime'].dt.hour\n",
        "# - День тижня, коли почалася поїздка\n",
        "df['pickup_day_of_week'] = df['pickup_datetime'].dt.dayofweek\n",
        "# - Чи була поїздка у вихідний день (субота або неділя)\n",
        "df['is_weekend'] = df['pickup_day_of_week'].isin([5, 6]).astype(int)"
      ],
      "metadata": {
        "id": "S8YFgHx0qOXl"
      },
      "execution_count": 11,
      "outputs": []
    },
    {
      "cell_type": "code",
      "source": [
        "# Перевіримо перші кілька рядків даних після додавання нових ознак\n",
        "print(df.head())"
      ],
      "metadata": {
        "colab": {
          "base_uri": "https://localhost:8080/"
        },
        "id": "typ6CfWMqVUh",
        "outputId": "6dc44034-6bc3-4441-aa75-4842b842a524"
      },
      "execution_count": 12,
      "outputs": [
        {
          "output_type": "stream",
          "name": "stdout",
          "text": [
            "          id  vendor_id     pickup_datetime  passenger_count  \\\n",
            "0  id2875421          2 2016-03-14 17:24:00                1   \n",
            "1  id2377394          1 2016-06-12 00:43:00                1   \n",
            "2  id3858529          2 2016-01-19 11:35:00                1   \n",
            "3  id3504673          2 2016-04-06 19:32:00                1   \n",
            "4  id2181028          2 2016-03-26 13:30:00                1   \n",
            "\n",
            "   pickup_longitude  pickup_latitude  dropoff_longitude  dropoff_latitude  \\\n",
            "0        -73.982155        40.767937         -73.964630         40.765602   \n",
            "1        -73.980415        40.738564         -73.999481         40.731152   \n",
            "2        -73.979027        40.763939         -74.005333         40.710087   \n",
            "3        -74.010040        40.719971         -74.012268         40.706718   \n",
            "4        -73.973053        40.793209         -73.972923         40.782520   \n",
            "\n",
            "  store_and_fwd_flag  trip_duration  pickup_hour  pickup_day_of_week  \\\n",
            "0                  N          480.0           17                   0   \n",
            "1                  N          660.0            0                   6   \n",
            "2                  N         2100.0           11                   1   \n",
            "3                  N          420.0           19                   2   \n",
            "4                  N          480.0           13                   5   \n",
            "\n",
            "   is_weekend  \n",
            "0           0  \n",
            "1           1  \n",
            "2           0  \n",
            "3           0  \n",
            "4           1  \n"
          ]
        }
      ]
    },
    {
      "cell_type": "markdown",
      "source": [
        "Коли ми готуємо дані для побудови моделі машинного навчання, важливо створити нові ознаки (фічі), які можуть допомогти моделі краще зрозуміти і передбачити залежну змінну. У нашому випадку ми працюємо з даними про поїздки таксі і наша цільова змінна — це тривалість поїздки. Ось як і які нові ознаки ми створили з наявних даних:\n",
        "\n",
        "1. Час доби, коли почалася поїздка (pickup_hour)\n",
        "\n",
        "Чому це важливо: Час доби може значно впливати на тривалість поїздки. Наприклад, поїздки в годину пік (ранок або вечір) можуть тривати довше через затори. Виділення години початку поїздки допомагає моделі врахувати ці варіації.\n",
        "\n",
        "2. День тижня, коли почалася поїздка (pickup_day_of_week)\n",
        "\n",
        "День тижня також може впливати на тривалість поїздки. Поїздки в будні дні можуть відрізнятися від поїздок у вихідні через різну активність на дорогах. Виділення дня тижня дозволяє моделі врахувати ці відмінності.\n",
        "\n",
        "3. Чи була поїздка у вихідний день (is_weekend)\n",
        "\n",
        "Вихідні дні (субота і неділя) можуть мати іншу динаміку руху в порівнянні з буднями. Створення ознаки, яка вказує на те, чи поїздка була у вихідний день, допомагає моделі врахувати цю відмінність. Це бінарна ознака, де 1 означає, що поїздка була у вихідний, і 0 — у будній день."
      ],
      "metadata": {
        "id": "eMq1ag6mq1v9"
      }
    },
    {
      "cell_type": "markdown",
      "source": [
        "Збережемо оновлений датасет у новий CSV файл для подальшого використання"
      ],
      "metadata": {
        "id": "1AYRxEVFsHc2"
      }
    },
    {
      "cell_type": "code",
      "source": [
        "df.to_csv('taxi_dataset_with_features.csv', index=False)"
      ],
      "metadata": {
        "id": "CKzN-8xisFZp"
      },
      "execution_count": null,
      "outputs": []
    },
    {
      "cell_type": "markdown",
      "source": [
        "#Лабораторна робота №2: Машинне навчання"
      ],
      "metadata": {
        "id": "mXEKNgklr1SL"
      }
    },
    {
      "cell_type": "code",
      "source": [
        "import pandas as pd\n",
        "from sklearn.model_selection import train_test_split\n",
        "from sklearn.linear_model import LinearRegression\n",
        "from sklearn.metrics import mean_squared_error, mean_absolute_error, mean_squared_log_error\n",
        "import numpy as np\n",
        "\n",
        "\n",
        "# Перевірка перших кількох рядків даних\n",
        "print(df.head())"
      ],
      "metadata": {
        "colab": {
          "base_uri": "https://localhost:8080/"
        },
        "id": "QXis0PSKr05x",
        "outputId": "caa20739-40f0-4b6b-a847-fc4fa370b31a"
      },
      "execution_count": 17,
      "outputs": [
        {
          "output_type": "stream",
          "name": "stdout",
          "text": [
            "          id  vendor_id     pickup_datetime  passenger_count  \\\n",
            "0  id2875421          2 2016-03-14 17:24:00                1   \n",
            "1  id2377394          1 2016-06-12 00:43:00                1   \n",
            "2  id3858529          2 2016-01-19 11:35:00                1   \n",
            "3  id3504673          2 2016-04-06 19:32:00                1   \n",
            "4  id2181028          2 2016-03-26 13:30:00                1   \n",
            "\n",
            "   pickup_longitude  pickup_latitude  dropoff_longitude  dropoff_latitude  \\\n",
            "0        -73.982155        40.767937         -73.964630         40.765602   \n",
            "1        -73.980415        40.738564         -73.999481         40.731152   \n",
            "2        -73.979027        40.763939         -74.005333         40.710087   \n",
            "3        -74.010040        40.719971         -74.012268         40.706718   \n",
            "4        -73.973053        40.793209         -73.972923         40.782520   \n",
            "\n",
            "  store_and_fwd_flag  trip_duration  pickup_hour  pickup_day_of_week  \\\n",
            "0                  N          480.0           17                   0   \n",
            "1                  N          660.0            0                   6   \n",
            "2                  N         2100.0           11                   1   \n",
            "3                  N          420.0           19                   2   \n",
            "4                  N          480.0           13                   5   \n",
            "\n",
            "   is_weekend  \n",
            "0           0  \n",
            "1           1  \n",
            "2           0  \n",
            "3           0  \n",
            "4           1  \n"
          ]
        }
      ]
    },
    {
      "cell_type": "markdown",
      "source": [
        "2. Формування тестової та навчальної вибірок\n",
        "\n",
        "Розділимо дані на навчальну та тестову вибірки."
      ],
      "metadata": {
        "id": "mIvgw2mtsrbv"
      }
    },
    {
      "cell_type": "code",
      "source": [
        "# Вибір ознак та цільової змінної\n",
        "features = ['vendor_id', 'passenger_count', 'pickup_longitude', 'pickup_latitude',\n",
        "            'dropoff_longitude', 'dropoff_latitude', 'pickup_hour', 'pickup_day_of_week', 'is_weekend']\n",
        "target = 'trip_duration'\n",
        "\n",
        "X = df[features]\n",
        "y = df[target]\n",
        "\n",
        "# Розділення даних на навчальну та тестову вибірки (80% тренувальні, 20% тестові)\n",
        "X_train, X_test, y_train, y_test = train_test_split(X, y, test_size=0.2, random_state=42)\n",
        "\n",
        "# Перевірка розмірів вибірок\n",
        "print(X_train.shape, X_test.shape)"
      ],
      "metadata": {
        "colab": {
          "base_uri": "https://localhost:8080/"
        },
        "id": "pvLYVHn8rtMP",
        "outputId": "762eb663-4b89-4c7e-f434-63063d79ff6a"
      },
      "execution_count": 18,
      "outputs": [
        {
          "output_type": "stream",
          "name": "stdout",
          "text": [
            "(838860, 9) (209715, 9)\n"
          ]
        }
      ]
    },
    {
      "cell_type": "markdown",
      "source": [
        "3. Побудова лінійних моделей\n",
        "\n",
        "Побудуємо лінійну модель для прогнозування тривалості поїздки."
      ],
      "metadata": {
        "id": "fiAwpBzXsv6Q"
      }
    },
    {
      "cell_type": "code",
      "source": [
        "# Створення та навчання лінійної моделі\n",
        "model = LinearRegression()\n",
        "model.fit(X_train, y_train)\n",
        "\n",
        "# Прогнозування на тестовій вибірці\n",
        "y_pred = model.predict(X_test)\n",
        "\n",
        "# Переведення від’ємних прогнозів у нулі\n",
        "y_pred = np.maximum(y_pred, 0)\n"
      ],
      "metadata": {
        "id": "7q3N7Oeesw-b"
      },
      "execution_count": 19,
      "outputs": []
    },
    {
      "cell_type": "markdown",
      "source": [
        "4. Оцінка якості моделей за допомогою метрик\n",
        "\n",
        "Обчислимо метрики MSE, RMSE, MAE та RMSLE."
      ],
      "metadata": {
        "id": "K991z7Nis1Kz"
      }
    },
    {
      "cell_type": "code",
      "source": [
        "# Обчислення метрик\n",
        "mse = mean_squared_error(y_test, y_pred)\n",
        "rmse = np.sqrt(mse)\n",
        "mae = mean_absolute_error(y_test, y_pred)\n",
        "rmsle = np.sqrt(mean_squared_log_error(y_test, y_pred))\n",
        "\n",
        "# Виведення результатів\n",
        "print(f\"MSE: {mse}\")\n",
        "print(f\"RMSE: {rmse}\")\n",
        "print(f\"MAE: {mae}\")\n",
        "print(f\"RMSLE: {rmsle}\")\n"
      ],
      "metadata": {
        "colab": {
          "base_uri": "https://localhost:8080/"
        },
        "id": "KB3SBDyBs2Ja",
        "outputId": "c79c2d6c-853b-4ec0-cdeb-b8469c99c06b"
      },
      "execution_count": 21,
      "outputs": [
        {
          "output_type": "stream",
          "name": "stdout",
          "text": [
            "MSE: 9748064.83884706\n",
            "RMSE: 3122.18911003915\n",
            "MAE: 581.6020535206754\n",
            "RMSLE: 0.9070283230932916\n"
          ]
        }
      ]
    },
    {
      "cell_type": "markdown",
      "source": [
        "*Висновок*\n",
        "\n",
        "MSE (Mean Squared Error):\n",
        "\n",
        "MSE є середнім квадратичним відхиленням прогнозів від фактичних значень. Значення 9748064.83884706 вказує на досить високий рівень помилки. Оскільки ця метрика підносить помилки до квадрату, вона дуже чутлива до великих помилок. Це свідчить про те, що деякі прогнози мають значні відхилення від фактичних значень.\n",
        "RMSE (Root Mean Squared Error):\n",
        "\n",
        "RMSE є квадратним коренем із MSE і зберігає одиниці виміру цільової змінної. Значення 3122.18911003915 вказує, що середня помилка прогнозу становить близько 3122 секунд (або близько 52 хвилин). Це також вказує на значні відхилення в прогнозах, що може бути неприйнятним у деяких застосуваннях.\n",
        "MAE (Mean Absolute Error):\n",
        "\n",
        "MAE є середнім абсолютним відхиленням прогнозів від фактичних значень. Значення 581.6020535206754 означає, що в середньому прогноз моделі відрізняється від фактичного значення на 581 секунду (або приблизно 9.7 хвилин). Це показує середню помилку, яка є меншою, ніж значення RMSE, що свідчить про наявність великих відхилень у деяких прогнозах, які впливають на RMSE.\n",
        "RMSLE (Root Mean Squared Logarithmic Error):\n",
        "\n",
        "RMSLE використовується для врахування відносних помилок і менш чутлива до великих відхилень. Значення 0.9070283230932916 вказує на відносно високу логарифмічну помилку. Ця метрика корисна, коли важливо зменшити відносні помилки для невеликих значень, але тут показує, що модель не є оптимальною для таких випадків.\n",
        "\n",
        "\n",
        "Висновки про якість моделі\n",
        "\n",
        "Високі значення MSE та RMSE свідчать про наявність великих помилок у прогнозах. Це може бути результатом відсутності важливих ознак або того, що лінійна модель не здатна адекватно захопити складність взаємозв'язків у даних.\n",
        "\n",
        "MAE показує середню помилку, яка є меншою порівняно з RMSE, що свідчить про наявність кількох великих помилок, які значно впливають на MSE та RMSE.\n",
        "\n",
        "RMSLE свідчить про те, що модель має проблеми з прогнозуванням як невеликих, так і великих значень тривалості поїздок."
      ],
      "metadata": {
        "id": "30rBAVnitW-y"
      }
    }
  ]
}