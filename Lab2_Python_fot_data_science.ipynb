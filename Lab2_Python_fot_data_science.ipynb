{
  "nbformat": 4,
  "nbformat_minor": 0,
  "metadata": {
    "colab": {
      "provenance": [],
      "authorship_tag": "ABX9TyMUNSfqmOyiEm7MGewrkgiE",
      "include_colab_link": true
    },
    "kernelspec": {
      "name": "python3",
      "display_name": "Python 3"
    },
    "language_info": {
      "name": "python"
    }
  },
  "cells": [
    {
      "cell_type": "markdown",
      "metadata": {
        "id": "view-in-github",
        "colab_type": "text"
      },
      "source": [
        "<a href=\"https://colab.research.google.com/github/J0KERmin/Tutorial/blob/main/Lab2_Python_fot_data_science.ipynb\" target=\"_parent\"><img src=\"https://colab.research.google.com/assets/colab-badge.svg\" alt=\"Open In Colab\"/></a>"
      ]
    },
    {
      "cell_type": "markdown",
      "source": [
        "Постановка задачі: розробити модель класифікації, яка здатна визначити класс магазину (Small, Medium, High) (стовпчик Outlet_Size).\n",
        "Розуміння, як різні фактори впливають на товар в різних магазинах, може допомагати в бізнес-аналітиці власникам та постачальникам.\n"
      ],
      "metadata": {
        "id": "alalylzJseKi"
      }
    },
    {
      "cell_type": "markdown",
      "source": [
        "1. Item_Identifier: Унікальний ідентифікатор товару.\n",
        "2. Item_Weight: Вага товару.\n",
        "3. Item_Fat_Content: Вміст жиру у товарі, де \"Low Fat\" вказує на низький вміст жиру, а \"Regular\" - на звичайний.\n",
        "4. Item_Visibility: Видимість товару в магазині, може вказувати на те, наскільки добре товар виставлений для покупців.\n",
        "5. Item_Type: Категорія товару, наприклад, \"Snack Foods\", \"Dairy\", \"Others\" і т.д.\n",
        "6. Item_MRP: Максимальний роздрібний ціновий показник (Maximum Retail Price) товару.\n",
        "7. Outlet_Identifier: Унікальний ідентифікатор магазину.\n",
        "8. Outlet_Establishment_Year: Рік відкриття магазину.\n",
        "9. Outlet_Size: Розмір магазину (може бути (Small, Medium, High)).\n",
        "10. Outlet_Location_Type: Тип розташування магазину (\"Tier 1\", \"Tier 2\" або \"Tier 3\").\n",
        "11. Outlet_Type: Тип магазину, наприклад, \"Supermarket Type1\", \"Grocery Store\", \"Supermarket Type3\" і т.д."
      ],
      "metadata": {
        "id": "es6YrakNtYxL"
      }
    },
    {
      "cell_type": "markdown",
      "source": [
        "В першу чергу імпортуємо необхідні бібліотеки:"
      ],
      "metadata": {
        "id": "IQACfexWur-7"
      }
    },
    {
      "cell_type": "code",
      "execution_count": 136,
      "metadata": {
        "id": "tKBvM8xgZruh"
      },
      "outputs": [],
      "source": [
        "import pandas as pd\n",
        "import statsmodels.api as sm\n",
        "import matplotlib.pyplot as plt\n",
        "import seaborn as sns\n",
        "import numpy as np"
      ]
    },
    {
      "cell_type": "markdown",
      "source": [
        "Далі зчитаємо файл з початковими даними:"
      ],
      "metadata": {
        "id": "eAM0sE4ivHzN"
      }
    },
    {
      "cell_type": "code",
      "source": [
        "!pip install gdown\n",
        "\n",
        "import gdown\n",
        "import pandas as pd\n",
        "\n",
        "url = 'https://drive.google.com/uc?id=1AWIMDRHlQHqMObznZ751tpLBP8Y05zzo'\n",
        "output = '/content/BigMart_Sales_Data.csv'\n",
        "gdown.download(url, output, quiet=False)\n",
        "\n",
        "df = pd.read_csv(output)\n",
        "\n",
        "df.head()"
      ],
      "metadata": {
        "colab": {
          "base_uri": "https://localhost:8080/",
          "height": 501
        },
        "id": "wFRcc89NvIPR",
        "outputId": "acd75f3a-9fc3-48c6-b810-ef44c12b418e"
      },
      "execution_count": 137,
      "outputs": [
        {
          "output_type": "stream",
          "name": "stdout",
          "text": [
            "Requirement already satisfied: gdown in /usr/local/lib/python3.10/dist-packages (4.6.6)\n",
            "Requirement already satisfied: filelock in /usr/local/lib/python3.10/dist-packages (from gdown) (3.13.1)\n",
            "Requirement already satisfied: requests[socks] in /usr/local/lib/python3.10/dist-packages (from gdown) (2.31.0)\n",
            "Requirement already satisfied: six in /usr/local/lib/python3.10/dist-packages (from gdown) (1.16.0)\n",
            "Requirement already satisfied: tqdm in /usr/local/lib/python3.10/dist-packages (from gdown) (4.66.1)\n",
            "Requirement already satisfied: beautifulsoup4 in /usr/local/lib/python3.10/dist-packages (from gdown) (4.11.2)\n",
            "Requirement already satisfied: soupsieve>1.2 in /usr/local/lib/python3.10/dist-packages (from beautifulsoup4->gdown) (2.5)\n",
            "Requirement already satisfied: charset-normalizer<4,>=2 in /usr/local/lib/python3.10/dist-packages (from requests[socks]->gdown) (3.3.2)\n",
            "Requirement already satisfied: idna<4,>=2.5 in /usr/local/lib/python3.10/dist-packages (from requests[socks]->gdown) (3.4)\n",
            "Requirement already satisfied: urllib3<3,>=1.21.1 in /usr/local/lib/python3.10/dist-packages (from requests[socks]->gdown) (2.0.7)\n",
            "Requirement already satisfied: certifi>=2017.4.17 in /usr/local/lib/python3.10/dist-packages (from requests[socks]->gdown) (2023.7.22)\n",
            "Requirement already satisfied: PySocks!=1.5.7,>=1.5.6 in /usr/local/lib/python3.10/dist-packages (from requests[socks]->gdown) (1.7.1)\n"
          ]
        },
        {
          "output_type": "stream",
          "name": "stderr",
          "text": [
            "Downloading...\n",
            "From: https://drive.google.com/uc?id=1AWIMDRHlQHqMObznZ751tpLBP8Y05zzo\n",
            "To: /content/BigMart_Sales_Data.csv\n",
            "100%|██████████| 526k/526k [00:00<00:00, 6.20MB/s]\n"
          ]
        },
        {
          "output_type": "execute_result",
          "data": {
            "text/plain": [
              "  Item_Identifier  Item_Weight Item_Fat_Content  Item_Visibility    Item_Type  \\\n",
              "0           FDW58       20.750          Low Fat         0.007565  Snack Foods   \n",
              "1           FDW14        8.300              reg         0.038428        Dairy   \n",
              "2           NCN55       14.600          Low Fat         0.099575       Others   \n",
              "3           FDQ58        7.315          Low Fat         0.015388  Snack Foods   \n",
              "4           FDY38          NaN          Regular         0.118599        Dairy   \n",
              "\n",
              "   Item_MRP Outlet_Identifier  Outlet_Establishment_Year Outlet_Size  \\\n",
              "0  107.8622            OUT049                       1999      Medium   \n",
              "1   87.3198            OUT017                       2007         NaN   \n",
              "2  241.7538            OUT010                       1998         NaN   \n",
              "3  155.0340            OUT017                       2007         NaN   \n",
              "4  234.2300            OUT027                       1985      Medium   \n",
              "\n",
              "  Outlet_Location_Type        Outlet_Type  \n",
              "0               Tier 1  Supermarket Type1  \n",
              "1               Tier 2  Supermarket Type1  \n",
              "2               Tier 3      Grocery Store  \n",
              "3               Tier 2  Supermarket Type1  \n",
              "4               Tier 3  Supermarket Type3  "
            ],
            "text/html": [
              "\n",
              "  <div id=\"df-1d993b58-92fe-4262-94f2-9c2e5acfc7f6\" class=\"colab-df-container\">\n",
              "    <div>\n",
              "<style scoped>\n",
              "    .dataframe tbody tr th:only-of-type {\n",
              "        vertical-align: middle;\n",
              "    }\n",
              "\n",
              "    .dataframe tbody tr th {\n",
              "        vertical-align: top;\n",
              "    }\n",
              "\n",
              "    .dataframe thead th {\n",
              "        text-align: right;\n",
              "    }\n",
              "</style>\n",
              "<table border=\"1\" class=\"dataframe\">\n",
              "  <thead>\n",
              "    <tr style=\"text-align: right;\">\n",
              "      <th></th>\n",
              "      <th>Item_Identifier</th>\n",
              "      <th>Item_Weight</th>\n",
              "      <th>Item_Fat_Content</th>\n",
              "      <th>Item_Visibility</th>\n",
              "      <th>Item_Type</th>\n",
              "      <th>Item_MRP</th>\n",
              "      <th>Outlet_Identifier</th>\n",
              "      <th>Outlet_Establishment_Year</th>\n",
              "      <th>Outlet_Size</th>\n",
              "      <th>Outlet_Location_Type</th>\n",
              "      <th>Outlet_Type</th>\n",
              "    </tr>\n",
              "  </thead>\n",
              "  <tbody>\n",
              "    <tr>\n",
              "      <th>0</th>\n",
              "      <td>FDW58</td>\n",
              "      <td>20.750</td>\n",
              "      <td>Low Fat</td>\n",
              "      <td>0.007565</td>\n",
              "      <td>Snack Foods</td>\n",
              "      <td>107.8622</td>\n",
              "      <td>OUT049</td>\n",
              "      <td>1999</td>\n",
              "      <td>Medium</td>\n",
              "      <td>Tier 1</td>\n",
              "      <td>Supermarket Type1</td>\n",
              "    </tr>\n",
              "    <tr>\n",
              "      <th>1</th>\n",
              "      <td>FDW14</td>\n",
              "      <td>8.300</td>\n",
              "      <td>reg</td>\n",
              "      <td>0.038428</td>\n",
              "      <td>Dairy</td>\n",
              "      <td>87.3198</td>\n",
              "      <td>OUT017</td>\n",
              "      <td>2007</td>\n",
              "      <td>NaN</td>\n",
              "      <td>Tier 2</td>\n",
              "      <td>Supermarket Type1</td>\n",
              "    </tr>\n",
              "    <tr>\n",
              "      <th>2</th>\n",
              "      <td>NCN55</td>\n",
              "      <td>14.600</td>\n",
              "      <td>Low Fat</td>\n",
              "      <td>0.099575</td>\n",
              "      <td>Others</td>\n",
              "      <td>241.7538</td>\n",
              "      <td>OUT010</td>\n",
              "      <td>1998</td>\n",
              "      <td>NaN</td>\n",
              "      <td>Tier 3</td>\n",
              "      <td>Grocery Store</td>\n",
              "    </tr>\n",
              "    <tr>\n",
              "      <th>3</th>\n",
              "      <td>FDQ58</td>\n",
              "      <td>7.315</td>\n",
              "      <td>Low Fat</td>\n",
              "      <td>0.015388</td>\n",
              "      <td>Snack Foods</td>\n",
              "      <td>155.0340</td>\n",
              "      <td>OUT017</td>\n",
              "      <td>2007</td>\n",
              "      <td>NaN</td>\n",
              "      <td>Tier 2</td>\n",
              "      <td>Supermarket Type1</td>\n",
              "    </tr>\n",
              "    <tr>\n",
              "      <th>4</th>\n",
              "      <td>FDY38</td>\n",
              "      <td>NaN</td>\n",
              "      <td>Regular</td>\n",
              "      <td>0.118599</td>\n",
              "      <td>Dairy</td>\n",
              "      <td>234.2300</td>\n",
              "      <td>OUT027</td>\n",
              "      <td>1985</td>\n",
              "      <td>Medium</td>\n",
              "      <td>Tier 3</td>\n",
              "      <td>Supermarket Type3</td>\n",
              "    </tr>\n",
              "  </tbody>\n",
              "</table>\n",
              "</div>\n",
              "    <div class=\"colab-df-buttons\">\n",
              "\n",
              "  <div class=\"colab-df-container\">\n",
              "    <button class=\"colab-df-convert\" onclick=\"convertToInteractive('df-1d993b58-92fe-4262-94f2-9c2e5acfc7f6')\"\n",
              "            title=\"Convert this dataframe to an interactive table.\"\n",
              "            style=\"display:none;\">\n",
              "\n",
              "  <svg xmlns=\"http://www.w3.org/2000/svg\" height=\"24px\" viewBox=\"0 -960 960 960\">\n",
              "    <path d=\"M120-120v-720h720v720H120Zm60-500h600v-160H180v160Zm220 220h160v-160H400v160Zm0 220h160v-160H400v160ZM180-400h160v-160H180v160Zm440 0h160v-160H620v160ZM180-180h160v-160H180v160Zm440 0h160v-160H620v160Z\"/>\n",
              "  </svg>\n",
              "    </button>\n",
              "\n",
              "  <style>\n",
              "    .colab-df-container {\n",
              "      display:flex;\n",
              "      gap: 12px;\n",
              "    }\n",
              "\n",
              "    .colab-df-convert {\n",
              "      background-color: #E8F0FE;\n",
              "      border: none;\n",
              "      border-radius: 50%;\n",
              "      cursor: pointer;\n",
              "      display: none;\n",
              "      fill: #1967D2;\n",
              "      height: 32px;\n",
              "      padding: 0 0 0 0;\n",
              "      width: 32px;\n",
              "    }\n",
              "\n",
              "    .colab-df-convert:hover {\n",
              "      background-color: #E2EBFA;\n",
              "      box-shadow: 0px 1px 2px rgba(60, 64, 67, 0.3), 0px 1px 3px 1px rgba(60, 64, 67, 0.15);\n",
              "      fill: #174EA6;\n",
              "    }\n",
              "\n",
              "    .colab-df-buttons div {\n",
              "      margin-bottom: 4px;\n",
              "    }\n",
              "\n",
              "    [theme=dark] .colab-df-convert {\n",
              "      background-color: #3B4455;\n",
              "      fill: #D2E3FC;\n",
              "    }\n",
              "\n",
              "    [theme=dark] .colab-df-convert:hover {\n",
              "      background-color: #434B5C;\n",
              "      box-shadow: 0px 1px 3px 1px rgba(0, 0, 0, 0.15);\n",
              "      filter: drop-shadow(0px 1px 2px rgba(0, 0, 0, 0.3));\n",
              "      fill: #FFFFFF;\n",
              "    }\n",
              "  </style>\n",
              "\n",
              "    <script>\n",
              "      const buttonEl =\n",
              "        document.querySelector('#df-1d993b58-92fe-4262-94f2-9c2e5acfc7f6 button.colab-df-convert');\n",
              "      buttonEl.style.display =\n",
              "        google.colab.kernel.accessAllowed ? 'block' : 'none';\n",
              "\n",
              "      async function convertToInteractive(key) {\n",
              "        const element = document.querySelector('#df-1d993b58-92fe-4262-94f2-9c2e5acfc7f6');\n",
              "        const dataTable =\n",
              "          await google.colab.kernel.invokeFunction('convertToInteractive',\n",
              "                                                    [key], {});\n",
              "        if (!dataTable) return;\n",
              "\n",
              "        const docLinkHtml = 'Like what you see? Visit the ' +\n",
              "          '<a target=\"_blank\" href=https://colab.research.google.com/notebooks/data_table.ipynb>data table notebook</a>'\n",
              "          + ' to learn more about interactive tables.';\n",
              "        element.innerHTML = '';\n",
              "        dataTable['output_type'] = 'display_data';\n",
              "        await google.colab.output.renderOutput(dataTable, element);\n",
              "        const docLink = document.createElement('div');\n",
              "        docLink.innerHTML = docLinkHtml;\n",
              "        element.appendChild(docLink);\n",
              "      }\n",
              "    </script>\n",
              "  </div>\n",
              "\n",
              "\n",
              "<div id=\"df-7ac787e1-e906-4a88-82ac-85adb34db78d\">\n",
              "  <button class=\"colab-df-quickchart\" onclick=\"quickchart('df-7ac787e1-e906-4a88-82ac-85adb34db78d')\"\n",
              "            title=\"Suggest charts\"\n",
              "            style=\"display:none;\">\n",
              "\n",
              "<svg xmlns=\"http://www.w3.org/2000/svg\" height=\"24px\"viewBox=\"0 0 24 24\"\n",
              "     width=\"24px\">\n",
              "    <g>\n",
              "        <path d=\"M19 3H5c-1.1 0-2 .9-2 2v14c0 1.1.9 2 2 2h14c1.1 0 2-.9 2-2V5c0-1.1-.9-2-2-2zM9 17H7v-7h2v7zm4 0h-2V7h2v10zm4 0h-2v-4h2v4z\"/>\n",
              "    </g>\n",
              "</svg>\n",
              "  </button>\n",
              "\n",
              "<style>\n",
              "  .colab-df-quickchart {\n",
              "      --bg-color: #E8F0FE;\n",
              "      --fill-color: #1967D2;\n",
              "      --hover-bg-color: #E2EBFA;\n",
              "      --hover-fill-color: #174EA6;\n",
              "      --disabled-fill-color: #AAA;\n",
              "      --disabled-bg-color: #DDD;\n",
              "  }\n",
              "\n",
              "  [theme=dark] .colab-df-quickchart {\n",
              "      --bg-color: #3B4455;\n",
              "      --fill-color: #D2E3FC;\n",
              "      --hover-bg-color: #434B5C;\n",
              "      --hover-fill-color: #FFFFFF;\n",
              "      --disabled-bg-color: #3B4455;\n",
              "      --disabled-fill-color: #666;\n",
              "  }\n",
              "\n",
              "  .colab-df-quickchart {\n",
              "    background-color: var(--bg-color);\n",
              "    border: none;\n",
              "    border-radius: 50%;\n",
              "    cursor: pointer;\n",
              "    display: none;\n",
              "    fill: var(--fill-color);\n",
              "    height: 32px;\n",
              "    padding: 0;\n",
              "    width: 32px;\n",
              "  }\n",
              "\n",
              "  .colab-df-quickchart:hover {\n",
              "    background-color: var(--hover-bg-color);\n",
              "    box-shadow: 0 1px 2px rgba(60, 64, 67, 0.3), 0 1px 3px 1px rgba(60, 64, 67, 0.15);\n",
              "    fill: var(--button-hover-fill-color);\n",
              "  }\n",
              "\n",
              "  .colab-df-quickchart-complete:disabled,\n",
              "  .colab-df-quickchart-complete:disabled:hover {\n",
              "    background-color: var(--disabled-bg-color);\n",
              "    fill: var(--disabled-fill-color);\n",
              "    box-shadow: none;\n",
              "  }\n",
              "\n",
              "  .colab-df-spinner {\n",
              "    border: 2px solid var(--fill-color);\n",
              "    border-color: transparent;\n",
              "    border-bottom-color: var(--fill-color);\n",
              "    animation:\n",
              "      spin 1s steps(1) infinite;\n",
              "  }\n",
              "\n",
              "  @keyframes spin {\n",
              "    0% {\n",
              "      border-color: transparent;\n",
              "      border-bottom-color: var(--fill-color);\n",
              "      border-left-color: var(--fill-color);\n",
              "    }\n",
              "    20% {\n",
              "      border-color: transparent;\n",
              "      border-left-color: var(--fill-color);\n",
              "      border-top-color: var(--fill-color);\n",
              "    }\n",
              "    30% {\n",
              "      border-color: transparent;\n",
              "      border-left-color: var(--fill-color);\n",
              "      border-top-color: var(--fill-color);\n",
              "      border-right-color: var(--fill-color);\n",
              "    }\n",
              "    40% {\n",
              "      border-color: transparent;\n",
              "      border-right-color: var(--fill-color);\n",
              "      border-top-color: var(--fill-color);\n",
              "    }\n",
              "    60% {\n",
              "      border-color: transparent;\n",
              "      border-right-color: var(--fill-color);\n",
              "    }\n",
              "    80% {\n",
              "      border-color: transparent;\n",
              "      border-right-color: var(--fill-color);\n",
              "      border-bottom-color: var(--fill-color);\n",
              "    }\n",
              "    90% {\n",
              "      border-color: transparent;\n",
              "      border-bottom-color: var(--fill-color);\n",
              "    }\n",
              "  }\n",
              "</style>\n",
              "\n",
              "  <script>\n",
              "    async function quickchart(key) {\n",
              "      const quickchartButtonEl =\n",
              "        document.querySelector('#' + key + ' button');\n",
              "      quickchartButtonEl.disabled = true;  // To prevent multiple clicks.\n",
              "      quickchartButtonEl.classList.add('colab-df-spinner');\n",
              "      try {\n",
              "        const charts = await google.colab.kernel.invokeFunction(\n",
              "            'suggestCharts', [key], {});\n",
              "      } catch (error) {\n",
              "        console.error('Error during call to suggestCharts:', error);\n",
              "      }\n",
              "      quickchartButtonEl.classList.remove('colab-df-spinner');\n",
              "      quickchartButtonEl.classList.add('colab-df-quickchart-complete');\n",
              "    }\n",
              "    (() => {\n",
              "      let quickchartButtonEl =\n",
              "        document.querySelector('#df-7ac787e1-e906-4a88-82ac-85adb34db78d button');\n",
              "      quickchartButtonEl.style.display =\n",
              "        google.colab.kernel.accessAllowed ? 'block' : 'none';\n",
              "    })();\n",
              "  </script>\n",
              "</div>\n",
              "    </div>\n",
              "  </div>\n"
            ]
          },
          "metadata": {},
          "execution_count": 137
        }
      ]
    },
    {
      "cell_type": "markdown",
      "source": [
        "Наступним кроком виведемо датасет на екран:"
      ],
      "metadata": {
        "id": "Ham_3ydm4QFW"
      }
    },
    {
      "cell_type": "code",
      "source": [
        "df.head()"
      ],
      "metadata": {
        "colab": {
          "base_uri": "https://localhost:8080/",
          "height": 206
        },
        "id": "4TCmd-x14PzW",
        "outputId": "7753804f-9d29-4e66-e2ea-64a264bfb427"
      },
      "execution_count": 138,
      "outputs": [
        {
          "output_type": "execute_result",
          "data": {
            "text/plain": [
              "  Item_Identifier  Item_Weight Item_Fat_Content  Item_Visibility    Item_Type  \\\n",
              "0           FDW58       20.750          Low Fat         0.007565  Snack Foods   \n",
              "1           FDW14        8.300              reg         0.038428        Dairy   \n",
              "2           NCN55       14.600          Low Fat         0.099575       Others   \n",
              "3           FDQ58        7.315          Low Fat         0.015388  Snack Foods   \n",
              "4           FDY38          NaN          Regular         0.118599        Dairy   \n",
              "\n",
              "   Item_MRP Outlet_Identifier  Outlet_Establishment_Year Outlet_Size  \\\n",
              "0  107.8622            OUT049                       1999      Medium   \n",
              "1   87.3198            OUT017                       2007         NaN   \n",
              "2  241.7538            OUT010                       1998         NaN   \n",
              "3  155.0340            OUT017                       2007         NaN   \n",
              "4  234.2300            OUT027                       1985      Medium   \n",
              "\n",
              "  Outlet_Location_Type        Outlet_Type  \n",
              "0               Tier 1  Supermarket Type1  \n",
              "1               Tier 2  Supermarket Type1  \n",
              "2               Tier 3      Grocery Store  \n",
              "3               Tier 2  Supermarket Type1  \n",
              "4               Tier 3  Supermarket Type3  "
            ],
            "text/html": [
              "\n",
              "  <div id=\"df-395bd362-001c-436b-9b63-6db524db43f4\" class=\"colab-df-container\">\n",
              "    <div>\n",
              "<style scoped>\n",
              "    .dataframe tbody tr th:only-of-type {\n",
              "        vertical-align: middle;\n",
              "    }\n",
              "\n",
              "    .dataframe tbody tr th {\n",
              "        vertical-align: top;\n",
              "    }\n",
              "\n",
              "    .dataframe thead th {\n",
              "        text-align: right;\n",
              "    }\n",
              "</style>\n",
              "<table border=\"1\" class=\"dataframe\">\n",
              "  <thead>\n",
              "    <tr style=\"text-align: right;\">\n",
              "      <th></th>\n",
              "      <th>Item_Identifier</th>\n",
              "      <th>Item_Weight</th>\n",
              "      <th>Item_Fat_Content</th>\n",
              "      <th>Item_Visibility</th>\n",
              "      <th>Item_Type</th>\n",
              "      <th>Item_MRP</th>\n",
              "      <th>Outlet_Identifier</th>\n",
              "      <th>Outlet_Establishment_Year</th>\n",
              "      <th>Outlet_Size</th>\n",
              "      <th>Outlet_Location_Type</th>\n",
              "      <th>Outlet_Type</th>\n",
              "    </tr>\n",
              "  </thead>\n",
              "  <tbody>\n",
              "    <tr>\n",
              "      <th>0</th>\n",
              "      <td>FDW58</td>\n",
              "      <td>20.750</td>\n",
              "      <td>Low Fat</td>\n",
              "      <td>0.007565</td>\n",
              "      <td>Snack Foods</td>\n",
              "      <td>107.8622</td>\n",
              "      <td>OUT049</td>\n",
              "      <td>1999</td>\n",
              "      <td>Medium</td>\n",
              "      <td>Tier 1</td>\n",
              "      <td>Supermarket Type1</td>\n",
              "    </tr>\n",
              "    <tr>\n",
              "      <th>1</th>\n",
              "      <td>FDW14</td>\n",
              "      <td>8.300</td>\n",
              "      <td>reg</td>\n",
              "      <td>0.038428</td>\n",
              "      <td>Dairy</td>\n",
              "      <td>87.3198</td>\n",
              "      <td>OUT017</td>\n",
              "      <td>2007</td>\n",
              "      <td>NaN</td>\n",
              "      <td>Tier 2</td>\n",
              "      <td>Supermarket Type1</td>\n",
              "    </tr>\n",
              "    <tr>\n",
              "      <th>2</th>\n",
              "      <td>NCN55</td>\n",
              "      <td>14.600</td>\n",
              "      <td>Low Fat</td>\n",
              "      <td>0.099575</td>\n",
              "      <td>Others</td>\n",
              "      <td>241.7538</td>\n",
              "      <td>OUT010</td>\n",
              "      <td>1998</td>\n",
              "      <td>NaN</td>\n",
              "      <td>Tier 3</td>\n",
              "      <td>Grocery Store</td>\n",
              "    </tr>\n",
              "    <tr>\n",
              "      <th>3</th>\n",
              "      <td>FDQ58</td>\n",
              "      <td>7.315</td>\n",
              "      <td>Low Fat</td>\n",
              "      <td>0.015388</td>\n",
              "      <td>Snack Foods</td>\n",
              "      <td>155.0340</td>\n",
              "      <td>OUT017</td>\n",
              "      <td>2007</td>\n",
              "      <td>NaN</td>\n",
              "      <td>Tier 2</td>\n",
              "      <td>Supermarket Type1</td>\n",
              "    </tr>\n",
              "    <tr>\n",
              "      <th>4</th>\n",
              "      <td>FDY38</td>\n",
              "      <td>NaN</td>\n",
              "      <td>Regular</td>\n",
              "      <td>0.118599</td>\n",
              "      <td>Dairy</td>\n",
              "      <td>234.2300</td>\n",
              "      <td>OUT027</td>\n",
              "      <td>1985</td>\n",
              "      <td>Medium</td>\n",
              "      <td>Tier 3</td>\n",
              "      <td>Supermarket Type3</td>\n",
              "    </tr>\n",
              "  </tbody>\n",
              "</table>\n",
              "</div>\n",
              "    <div class=\"colab-df-buttons\">\n",
              "\n",
              "  <div class=\"colab-df-container\">\n",
              "    <button class=\"colab-df-convert\" onclick=\"convertToInteractive('df-395bd362-001c-436b-9b63-6db524db43f4')\"\n",
              "            title=\"Convert this dataframe to an interactive table.\"\n",
              "            style=\"display:none;\">\n",
              "\n",
              "  <svg xmlns=\"http://www.w3.org/2000/svg\" height=\"24px\" viewBox=\"0 -960 960 960\">\n",
              "    <path d=\"M120-120v-720h720v720H120Zm60-500h600v-160H180v160Zm220 220h160v-160H400v160Zm0 220h160v-160H400v160ZM180-400h160v-160H180v160Zm440 0h160v-160H620v160ZM180-180h160v-160H180v160Zm440 0h160v-160H620v160Z\"/>\n",
              "  </svg>\n",
              "    </button>\n",
              "\n",
              "  <style>\n",
              "    .colab-df-container {\n",
              "      display:flex;\n",
              "      gap: 12px;\n",
              "    }\n",
              "\n",
              "    .colab-df-convert {\n",
              "      background-color: #E8F0FE;\n",
              "      border: none;\n",
              "      border-radius: 50%;\n",
              "      cursor: pointer;\n",
              "      display: none;\n",
              "      fill: #1967D2;\n",
              "      height: 32px;\n",
              "      padding: 0 0 0 0;\n",
              "      width: 32px;\n",
              "    }\n",
              "\n",
              "    .colab-df-convert:hover {\n",
              "      background-color: #E2EBFA;\n",
              "      box-shadow: 0px 1px 2px rgba(60, 64, 67, 0.3), 0px 1px 3px 1px rgba(60, 64, 67, 0.15);\n",
              "      fill: #174EA6;\n",
              "    }\n",
              "\n",
              "    .colab-df-buttons div {\n",
              "      margin-bottom: 4px;\n",
              "    }\n",
              "\n",
              "    [theme=dark] .colab-df-convert {\n",
              "      background-color: #3B4455;\n",
              "      fill: #D2E3FC;\n",
              "    }\n",
              "\n",
              "    [theme=dark] .colab-df-convert:hover {\n",
              "      background-color: #434B5C;\n",
              "      box-shadow: 0px 1px 3px 1px rgba(0, 0, 0, 0.15);\n",
              "      filter: drop-shadow(0px 1px 2px rgba(0, 0, 0, 0.3));\n",
              "      fill: #FFFFFF;\n",
              "    }\n",
              "  </style>\n",
              "\n",
              "    <script>\n",
              "      const buttonEl =\n",
              "        document.querySelector('#df-395bd362-001c-436b-9b63-6db524db43f4 button.colab-df-convert');\n",
              "      buttonEl.style.display =\n",
              "        google.colab.kernel.accessAllowed ? 'block' : 'none';\n",
              "\n",
              "      async function convertToInteractive(key) {\n",
              "        const element = document.querySelector('#df-395bd362-001c-436b-9b63-6db524db43f4');\n",
              "        const dataTable =\n",
              "          await google.colab.kernel.invokeFunction('convertToInteractive',\n",
              "                                                    [key], {});\n",
              "        if (!dataTable) return;\n",
              "\n",
              "        const docLinkHtml = 'Like what you see? Visit the ' +\n",
              "          '<a target=\"_blank\" href=https://colab.research.google.com/notebooks/data_table.ipynb>data table notebook</a>'\n",
              "          + ' to learn more about interactive tables.';\n",
              "        element.innerHTML = '';\n",
              "        dataTable['output_type'] = 'display_data';\n",
              "        await google.colab.output.renderOutput(dataTable, element);\n",
              "        const docLink = document.createElement('div');\n",
              "        docLink.innerHTML = docLinkHtml;\n",
              "        element.appendChild(docLink);\n",
              "      }\n",
              "    </script>\n",
              "  </div>\n",
              "\n",
              "\n",
              "<div id=\"df-7cc2615c-e578-4b91-9a0f-ac5b5ae54e64\">\n",
              "  <button class=\"colab-df-quickchart\" onclick=\"quickchart('df-7cc2615c-e578-4b91-9a0f-ac5b5ae54e64')\"\n",
              "            title=\"Suggest charts\"\n",
              "            style=\"display:none;\">\n",
              "\n",
              "<svg xmlns=\"http://www.w3.org/2000/svg\" height=\"24px\"viewBox=\"0 0 24 24\"\n",
              "     width=\"24px\">\n",
              "    <g>\n",
              "        <path d=\"M19 3H5c-1.1 0-2 .9-2 2v14c0 1.1.9 2 2 2h14c1.1 0 2-.9 2-2V5c0-1.1-.9-2-2-2zM9 17H7v-7h2v7zm4 0h-2V7h2v10zm4 0h-2v-4h2v4z\"/>\n",
              "    </g>\n",
              "</svg>\n",
              "  </button>\n",
              "\n",
              "<style>\n",
              "  .colab-df-quickchart {\n",
              "      --bg-color: #E8F0FE;\n",
              "      --fill-color: #1967D2;\n",
              "      --hover-bg-color: #E2EBFA;\n",
              "      --hover-fill-color: #174EA6;\n",
              "      --disabled-fill-color: #AAA;\n",
              "      --disabled-bg-color: #DDD;\n",
              "  }\n",
              "\n",
              "  [theme=dark] .colab-df-quickchart {\n",
              "      --bg-color: #3B4455;\n",
              "      --fill-color: #D2E3FC;\n",
              "      --hover-bg-color: #434B5C;\n",
              "      --hover-fill-color: #FFFFFF;\n",
              "      --disabled-bg-color: #3B4455;\n",
              "      --disabled-fill-color: #666;\n",
              "  }\n",
              "\n",
              "  .colab-df-quickchart {\n",
              "    background-color: var(--bg-color);\n",
              "    border: none;\n",
              "    border-radius: 50%;\n",
              "    cursor: pointer;\n",
              "    display: none;\n",
              "    fill: var(--fill-color);\n",
              "    height: 32px;\n",
              "    padding: 0;\n",
              "    width: 32px;\n",
              "  }\n",
              "\n",
              "  .colab-df-quickchart:hover {\n",
              "    background-color: var(--hover-bg-color);\n",
              "    box-shadow: 0 1px 2px rgba(60, 64, 67, 0.3), 0 1px 3px 1px rgba(60, 64, 67, 0.15);\n",
              "    fill: var(--button-hover-fill-color);\n",
              "  }\n",
              "\n",
              "  .colab-df-quickchart-complete:disabled,\n",
              "  .colab-df-quickchart-complete:disabled:hover {\n",
              "    background-color: var(--disabled-bg-color);\n",
              "    fill: var(--disabled-fill-color);\n",
              "    box-shadow: none;\n",
              "  }\n",
              "\n",
              "  .colab-df-spinner {\n",
              "    border: 2px solid var(--fill-color);\n",
              "    border-color: transparent;\n",
              "    border-bottom-color: var(--fill-color);\n",
              "    animation:\n",
              "      spin 1s steps(1) infinite;\n",
              "  }\n",
              "\n",
              "  @keyframes spin {\n",
              "    0% {\n",
              "      border-color: transparent;\n",
              "      border-bottom-color: var(--fill-color);\n",
              "      border-left-color: var(--fill-color);\n",
              "    }\n",
              "    20% {\n",
              "      border-color: transparent;\n",
              "      border-left-color: var(--fill-color);\n",
              "      border-top-color: var(--fill-color);\n",
              "    }\n",
              "    30% {\n",
              "      border-color: transparent;\n",
              "      border-left-color: var(--fill-color);\n",
              "      border-top-color: var(--fill-color);\n",
              "      border-right-color: var(--fill-color);\n",
              "    }\n",
              "    40% {\n",
              "      border-color: transparent;\n",
              "      border-right-color: var(--fill-color);\n",
              "      border-top-color: var(--fill-color);\n",
              "    }\n",
              "    60% {\n",
              "      border-color: transparent;\n",
              "      border-right-color: var(--fill-color);\n",
              "    }\n",
              "    80% {\n",
              "      border-color: transparent;\n",
              "      border-right-color: var(--fill-color);\n",
              "      border-bottom-color: var(--fill-color);\n",
              "    }\n",
              "    90% {\n",
              "      border-color: transparent;\n",
              "      border-bottom-color: var(--fill-color);\n",
              "    }\n",
              "  }\n",
              "</style>\n",
              "\n",
              "  <script>\n",
              "    async function quickchart(key) {\n",
              "      const quickchartButtonEl =\n",
              "        document.querySelector('#' + key + ' button');\n",
              "      quickchartButtonEl.disabled = true;  // To prevent multiple clicks.\n",
              "      quickchartButtonEl.classList.add('colab-df-spinner');\n",
              "      try {\n",
              "        const charts = await google.colab.kernel.invokeFunction(\n",
              "            'suggestCharts', [key], {});\n",
              "      } catch (error) {\n",
              "        console.error('Error during call to suggestCharts:', error);\n",
              "      }\n",
              "      quickchartButtonEl.classList.remove('colab-df-spinner');\n",
              "      quickchartButtonEl.classList.add('colab-df-quickchart-complete');\n",
              "    }\n",
              "    (() => {\n",
              "      let quickchartButtonEl =\n",
              "        document.querySelector('#df-7cc2615c-e578-4b91-9a0f-ac5b5ae54e64 button');\n",
              "      quickchartButtonEl.style.display =\n",
              "        google.colab.kernel.accessAllowed ? 'block' : 'none';\n",
              "    })();\n",
              "  </script>\n",
              "</div>\n",
              "    </div>\n",
              "  </div>\n"
            ]
          },
          "metadata": {},
          "execution_count": 138
        }
      ]
    },
    {
      "cell_type": "markdown",
      "source": [
        "**Препроцесинг**\n"
      ],
      "metadata": {
        "id": "HcbKxqzS4ZFc"
      }
    },
    {
      "cell_type": "markdown",
      "source": [
        "Переглянемо коротку довідку про датасет:"
      ],
      "metadata": {
        "id": "UtXt7Ijj4joa"
      }
    },
    {
      "cell_type": "code",
      "source": [
        "df.info()"
      ],
      "metadata": {
        "colab": {
          "base_uri": "https://localhost:8080/"
        },
        "id": "5yzdBh3i4kVx",
        "outputId": "6a6509d8-4ee7-4f52-e7e4-46a14e8a289b"
      },
      "execution_count": 139,
      "outputs": [
        {
          "output_type": "stream",
          "name": "stdout",
          "text": [
            "<class 'pandas.core.frame.DataFrame'>\n",
            "RangeIndex: 5681 entries, 0 to 5680\n",
            "Data columns (total 11 columns):\n",
            " #   Column                     Non-Null Count  Dtype  \n",
            "---  ------                     --------------  -----  \n",
            " 0   Item_Identifier            5681 non-null   object \n",
            " 1   Item_Weight                4705 non-null   float64\n",
            " 2   Item_Fat_Content           5681 non-null   object \n",
            " 3   Item_Visibility            5681 non-null   float64\n",
            " 4   Item_Type                  5681 non-null   object \n",
            " 5   Item_MRP                   5681 non-null   float64\n",
            " 6   Outlet_Identifier          5681 non-null   object \n",
            " 7   Outlet_Establishment_Year  5681 non-null   int64  \n",
            " 8   Outlet_Size                4075 non-null   object \n",
            " 9   Outlet_Location_Type       5681 non-null   object \n",
            " 10  Outlet_Type                5681 non-null   object \n",
            "dtypes: float64(3), int64(1), object(7)\n",
            "memory usage: 488.3+ KB\n"
          ]
        }
      ]
    },
    {
      "cell_type": "markdown",
      "source": [
        "Датасет має: 5681 рядок, 11 колонок, 3 бульові значення, 1 int64 і 7 об'єктів."
      ],
      "metadata": {
        "id": "LO06ncWb5ZoB"
      }
    },
    {
      "cell_type": "markdown",
      "source": [
        "Короткий опис назв стовпців:\n",
        "1. Item_Identifier - Ідентифікатор_товару\n",
        "2. Item_Weight - Вага_товару\n",
        "3. Item_Fat_Content - Вміст_жиру_товару\n",
        "4. Item_Visibility - Видимість_товару\n",
        "5. Item_Type - Тип_товару\n",
        "6. Item_MRP - Максимальна_роздрібна_ціна_товару\n",
        "7. Outlet_Identifier - Ідентифікатор_магазину\n",
        "8. Outlet_Establishment_Year - Рік_заснування_магазину\n",
        "9. Outlet_Size - Розмір_магазину\n",
        "10. Outlet_Location_Type - Тип_розташування_магазину\n",
        "11. Outlet_Type - Тип_магазину"
      ],
      "metadata": {
        "id": "J9asH8xhvONs"
      }
    },
    {
      "cell_type": "markdown",
      "source": [
        "Для зручності перейменуємо назви стовпців в датасеті:"
      ],
      "metadata": {
        "id": "kom4ml8g55wQ"
      }
    },
    {
      "cell_type": "code",
      "source": [
        "df.rename(columns={'Item_Identifier': 'item_identifier',\n",
        "                   'Item_Weight':'item_weight',\n",
        "                   'Item_Fat_Content':'item_fat_content',\n",
        "                   'Item_Visibility':'item_visibility',\n",
        "                   'Item_Type':'item_type',\n",
        "                   'Item_MRP':'item_mrp',\n",
        "                   'Outlet_Identifier':'outlet_identifier',\n",
        "                   'Outlet_Establishment_Year':'outlet_establishment_year',\n",
        "                   'Outlet_Size':'outlet_size',\n",
        "                   'Outlet_Location_Type':'outlet_location_type',\n",
        "                   'Outlet_Type':'outlet_type'},inplace=True)\n"
      ],
      "metadata": {
        "id": "I-HFR7-45wEa"
      },
      "execution_count": 140,
      "outputs": []
    },
    {
      "cell_type": "markdown",
      "source": [
        "Вигляд датасету після перейменування стовпців (перші 5 записів):"
      ],
      "metadata": {
        "id": "aL9mbkUK7uBr"
      }
    },
    {
      "cell_type": "code",
      "source": [
        "df.head()"
      ],
      "metadata": {
        "colab": {
          "base_uri": "https://localhost:8080/",
          "height": 206
        },
        "id": "CuhFaOM97uYR",
        "outputId": "0010619a-7d9a-46d3-d190-263e727f23d1"
      },
      "execution_count": 141,
      "outputs": [
        {
          "output_type": "execute_result",
          "data": {
            "text/plain": [
              "  item_identifier  item_weight item_fat_content  item_visibility    item_type  \\\n",
              "0           FDW58       20.750          Low Fat         0.007565  Snack Foods   \n",
              "1           FDW14        8.300              reg         0.038428        Dairy   \n",
              "2           NCN55       14.600          Low Fat         0.099575       Others   \n",
              "3           FDQ58        7.315          Low Fat         0.015388  Snack Foods   \n",
              "4           FDY38          NaN          Regular         0.118599        Dairy   \n",
              "\n",
              "   item_mrp outlet_identifier  outlet_establishment_year outlet_size  \\\n",
              "0  107.8622            OUT049                       1999      Medium   \n",
              "1   87.3198            OUT017                       2007         NaN   \n",
              "2  241.7538            OUT010                       1998         NaN   \n",
              "3  155.0340            OUT017                       2007         NaN   \n",
              "4  234.2300            OUT027                       1985      Medium   \n",
              "\n",
              "  outlet_location_type        outlet_type  \n",
              "0               Tier 1  Supermarket Type1  \n",
              "1               Tier 2  Supermarket Type1  \n",
              "2               Tier 3      Grocery Store  \n",
              "3               Tier 2  Supermarket Type1  \n",
              "4               Tier 3  Supermarket Type3  "
            ],
            "text/html": [
              "\n",
              "  <div id=\"df-0c8f7da1-3de3-4925-9b9c-c3a4d66cc749\" class=\"colab-df-container\">\n",
              "    <div>\n",
              "<style scoped>\n",
              "    .dataframe tbody tr th:only-of-type {\n",
              "        vertical-align: middle;\n",
              "    }\n",
              "\n",
              "    .dataframe tbody tr th {\n",
              "        vertical-align: top;\n",
              "    }\n",
              "\n",
              "    .dataframe thead th {\n",
              "        text-align: right;\n",
              "    }\n",
              "</style>\n",
              "<table border=\"1\" class=\"dataframe\">\n",
              "  <thead>\n",
              "    <tr style=\"text-align: right;\">\n",
              "      <th></th>\n",
              "      <th>item_identifier</th>\n",
              "      <th>item_weight</th>\n",
              "      <th>item_fat_content</th>\n",
              "      <th>item_visibility</th>\n",
              "      <th>item_type</th>\n",
              "      <th>item_mrp</th>\n",
              "      <th>outlet_identifier</th>\n",
              "      <th>outlet_establishment_year</th>\n",
              "      <th>outlet_size</th>\n",
              "      <th>outlet_location_type</th>\n",
              "      <th>outlet_type</th>\n",
              "    </tr>\n",
              "  </thead>\n",
              "  <tbody>\n",
              "    <tr>\n",
              "      <th>0</th>\n",
              "      <td>FDW58</td>\n",
              "      <td>20.750</td>\n",
              "      <td>Low Fat</td>\n",
              "      <td>0.007565</td>\n",
              "      <td>Snack Foods</td>\n",
              "      <td>107.8622</td>\n",
              "      <td>OUT049</td>\n",
              "      <td>1999</td>\n",
              "      <td>Medium</td>\n",
              "      <td>Tier 1</td>\n",
              "      <td>Supermarket Type1</td>\n",
              "    </tr>\n",
              "    <tr>\n",
              "      <th>1</th>\n",
              "      <td>FDW14</td>\n",
              "      <td>8.300</td>\n",
              "      <td>reg</td>\n",
              "      <td>0.038428</td>\n",
              "      <td>Dairy</td>\n",
              "      <td>87.3198</td>\n",
              "      <td>OUT017</td>\n",
              "      <td>2007</td>\n",
              "      <td>NaN</td>\n",
              "      <td>Tier 2</td>\n",
              "      <td>Supermarket Type1</td>\n",
              "    </tr>\n",
              "    <tr>\n",
              "      <th>2</th>\n",
              "      <td>NCN55</td>\n",
              "      <td>14.600</td>\n",
              "      <td>Low Fat</td>\n",
              "      <td>0.099575</td>\n",
              "      <td>Others</td>\n",
              "      <td>241.7538</td>\n",
              "      <td>OUT010</td>\n",
              "      <td>1998</td>\n",
              "      <td>NaN</td>\n",
              "      <td>Tier 3</td>\n",
              "      <td>Grocery Store</td>\n",
              "    </tr>\n",
              "    <tr>\n",
              "      <th>3</th>\n",
              "      <td>FDQ58</td>\n",
              "      <td>7.315</td>\n",
              "      <td>Low Fat</td>\n",
              "      <td>0.015388</td>\n",
              "      <td>Snack Foods</td>\n",
              "      <td>155.0340</td>\n",
              "      <td>OUT017</td>\n",
              "      <td>2007</td>\n",
              "      <td>NaN</td>\n",
              "      <td>Tier 2</td>\n",
              "      <td>Supermarket Type1</td>\n",
              "    </tr>\n",
              "    <tr>\n",
              "      <th>4</th>\n",
              "      <td>FDY38</td>\n",
              "      <td>NaN</td>\n",
              "      <td>Regular</td>\n",
              "      <td>0.118599</td>\n",
              "      <td>Dairy</td>\n",
              "      <td>234.2300</td>\n",
              "      <td>OUT027</td>\n",
              "      <td>1985</td>\n",
              "      <td>Medium</td>\n",
              "      <td>Tier 3</td>\n",
              "      <td>Supermarket Type3</td>\n",
              "    </tr>\n",
              "  </tbody>\n",
              "</table>\n",
              "</div>\n",
              "    <div class=\"colab-df-buttons\">\n",
              "\n",
              "  <div class=\"colab-df-container\">\n",
              "    <button class=\"colab-df-convert\" onclick=\"convertToInteractive('df-0c8f7da1-3de3-4925-9b9c-c3a4d66cc749')\"\n",
              "            title=\"Convert this dataframe to an interactive table.\"\n",
              "            style=\"display:none;\">\n",
              "\n",
              "  <svg xmlns=\"http://www.w3.org/2000/svg\" height=\"24px\" viewBox=\"0 -960 960 960\">\n",
              "    <path d=\"M120-120v-720h720v720H120Zm60-500h600v-160H180v160Zm220 220h160v-160H400v160Zm0 220h160v-160H400v160ZM180-400h160v-160H180v160Zm440 0h160v-160H620v160ZM180-180h160v-160H180v160Zm440 0h160v-160H620v160Z\"/>\n",
              "  </svg>\n",
              "    </button>\n",
              "\n",
              "  <style>\n",
              "    .colab-df-container {\n",
              "      display:flex;\n",
              "      gap: 12px;\n",
              "    }\n",
              "\n",
              "    .colab-df-convert {\n",
              "      background-color: #E8F0FE;\n",
              "      border: none;\n",
              "      border-radius: 50%;\n",
              "      cursor: pointer;\n",
              "      display: none;\n",
              "      fill: #1967D2;\n",
              "      height: 32px;\n",
              "      padding: 0 0 0 0;\n",
              "      width: 32px;\n",
              "    }\n",
              "\n",
              "    .colab-df-convert:hover {\n",
              "      background-color: #E2EBFA;\n",
              "      box-shadow: 0px 1px 2px rgba(60, 64, 67, 0.3), 0px 1px 3px 1px rgba(60, 64, 67, 0.15);\n",
              "      fill: #174EA6;\n",
              "    }\n",
              "\n",
              "    .colab-df-buttons div {\n",
              "      margin-bottom: 4px;\n",
              "    }\n",
              "\n",
              "    [theme=dark] .colab-df-convert {\n",
              "      background-color: #3B4455;\n",
              "      fill: #D2E3FC;\n",
              "    }\n",
              "\n",
              "    [theme=dark] .colab-df-convert:hover {\n",
              "      background-color: #434B5C;\n",
              "      box-shadow: 0px 1px 3px 1px rgba(0, 0, 0, 0.15);\n",
              "      filter: drop-shadow(0px 1px 2px rgba(0, 0, 0, 0.3));\n",
              "      fill: #FFFFFF;\n",
              "    }\n",
              "  </style>\n",
              "\n",
              "    <script>\n",
              "      const buttonEl =\n",
              "        document.querySelector('#df-0c8f7da1-3de3-4925-9b9c-c3a4d66cc749 button.colab-df-convert');\n",
              "      buttonEl.style.display =\n",
              "        google.colab.kernel.accessAllowed ? 'block' : 'none';\n",
              "\n",
              "      async function convertToInteractive(key) {\n",
              "        const element = document.querySelector('#df-0c8f7da1-3de3-4925-9b9c-c3a4d66cc749');\n",
              "        const dataTable =\n",
              "          await google.colab.kernel.invokeFunction('convertToInteractive',\n",
              "                                                    [key], {});\n",
              "        if (!dataTable) return;\n",
              "\n",
              "        const docLinkHtml = 'Like what you see? Visit the ' +\n",
              "          '<a target=\"_blank\" href=https://colab.research.google.com/notebooks/data_table.ipynb>data table notebook</a>'\n",
              "          + ' to learn more about interactive tables.';\n",
              "        element.innerHTML = '';\n",
              "        dataTable['output_type'] = 'display_data';\n",
              "        await google.colab.output.renderOutput(dataTable, element);\n",
              "        const docLink = document.createElement('div');\n",
              "        docLink.innerHTML = docLinkHtml;\n",
              "        element.appendChild(docLink);\n",
              "      }\n",
              "    </script>\n",
              "  </div>\n",
              "\n",
              "\n",
              "<div id=\"df-934fdb8d-1490-4f6d-a00c-3c4df57aa61f\">\n",
              "  <button class=\"colab-df-quickchart\" onclick=\"quickchart('df-934fdb8d-1490-4f6d-a00c-3c4df57aa61f')\"\n",
              "            title=\"Suggest charts\"\n",
              "            style=\"display:none;\">\n",
              "\n",
              "<svg xmlns=\"http://www.w3.org/2000/svg\" height=\"24px\"viewBox=\"0 0 24 24\"\n",
              "     width=\"24px\">\n",
              "    <g>\n",
              "        <path d=\"M19 3H5c-1.1 0-2 .9-2 2v14c0 1.1.9 2 2 2h14c1.1 0 2-.9 2-2V5c0-1.1-.9-2-2-2zM9 17H7v-7h2v7zm4 0h-2V7h2v10zm4 0h-2v-4h2v4z\"/>\n",
              "    </g>\n",
              "</svg>\n",
              "  </button>\n",
              "\n",
              "<style>\n",
              "  .colab-df-quickchart {\n",
              "      --bg-color: #E8F0FE;\n",
              "      --fill-color: #1967D2;\n",
              "      --hover-bg-color: #E2EBFA;\n",
              "      --hover-fill-color: #174EA6;\n",
              "      --disabled-fill-color: #AAA;\n",
              "      --disabled-bg-color: #DDD;\n",
              "  }\n",
              "\n",
              "  [theme=dark] .colab-df-quickchart {\n",
              "      --bg-color: #3B4455;\n",
              "      --fill-color: #D2E3FC;\n",
              "      --hover-bg-color: #434B5C;\n",
              "      --hover-fill-color: #FFFFFF;\n",
              "      --disabled-bg-color: #3B4455;\n",
              "      --disabled-fill-color: #666;\n",
              "  }\n",
              "\n",
              "  .colab-df-quickchart {\n",
              "    background-color: var(--bg-color);\n",
              "    border: none;\n",
              "    border-radius: 50%;\n",
              "    cursor: pointer;\n",
              "    display: none;\n",
              "    fill: var(--fill-color);\n",
              "    height: 32px;\n",
              "    padding: 0;\n",
              "    width: 32px;\n",
              "  }\n",
              "\n",
              "  .colab-df-quickchart:hover {\n",
              "    background-color: var(--hover-bg-color);\n",
              "    box-shadow: 0 1px 2px rgba(60, 64, 67, 0.3), 0 1px 3px 1px rgba(60, 64, 67, 0.15);\n",
              "    fill: var(--button-hover-fill-color);\n",
              "  }\n",
              "\n",
              "  .colab-df-quickchart-complete:disabled,\n",
              "  .colab-df-quickchart-complete:disabled:hover {\n",
              "    background-color: var(--disabled-bg-color);\n",
              "    fill: var(--disabled-fill-color);\n",
              "    box-shadow: none;\n",
              "  }\n",
              "\n",
              "  .colab-df-spinner {\n",
              "    border: 2px solid var(--fill-color);\n",
              "    border-color: transparent;\n",
              "    border-bottom-color: var(--fill-color);\n",
              "    animation:\n",
              "      spin 1s steps(1) infinite;\n",
              "  }\n",
              "\n",
              "  @keyframes spin {\n",
              "    0% {\n",
              "      border-color: transparent;\n",
              "      border-bottom-color: var(--fill-color);\n",
              "      border-left-color: var(--fill-color);\n",
              "    }\n",
              "    20% {\n",
              "      border-color: transparent;\n",
              "      border-left-color: var(--fill-color);\n",
              "      border-top-color: var(--fill-color);\n",
              "    }\n",
              "    30% {\n",
              "      border-color: transparent;\n",
              "      border-left-color: var(--fill-color);\n",
              "      border-top-color: var(--fill-color);\n",
              "      border-right-color: var(--fill-color);\n",
              "    }\n",
              "    40% {\n",
              "      border-color: transparent;\n",
              "      border-right-color: var(--fill-color);\n",
              "      border-top-color: var(--fill-color);\n",
              "    }\n",
              "    60% {\n",
              "      border-color: transparent;\n",
              "      border-right-color: var(--fill-color);\n",
              "    }\n",
              "    80% {\n",
              "      border-color: transparent;\n",
              "      border-right-color: var(--fill-color);\n",
              "      border-bottom-color: var(--fill-color);\n",
              "    }\n",
              "    90% {\n",
              "      border-color: transparent;\n",
              "      border-bottom-color: var(--fill-color);\n",
              "    }\n",
              "  }\n",
              "</style>\n",
              "\n",
              "  <script>\n",
              "    async function quickchart(key) {\n",
              "      const quickchartButtonEl =\n",
              "        document.querySelector('#' + key + ' button');\n",
              "      quickchartButtonEl.disabled = true;  // To prevent multiple clicks.\n",
              "      quickchartButtonEl.classList.add('colab-df-spinner');\n",
              "      try {\n",
              "        const charts = await google.colab.kernel.invokeFunction(\n",
              "            'suggestCharts', [key], {});\n",
              "      } catch (error) {\n",
              "        console.error('Error during call to suggestCharts:', error);\n",
              "      }\n",
              "      quickchartButtonEl.classList.remove('colab-df-spinner');\n",
              "      quickchartButtonEl.classList.add('colab-df-quickchart-complete');\n",
              "    }\n",
              "    (() => {\n",
              "      let quickchartButtonEl =\n",
              "        document.querySelector('#df-934fdb8d-1490-4f6d-a00c-3c4df57aa61f button');\n",
              "      quickchartButtonEl.style.display =\n",
              "        google.colab.kernel.accessAllowed ? 'block' : 'none';\n",
              "    })();\n",
              "  </script>\n",
              "</div>\n",
              "    </div>\n",
              "  </div>\n"
            ]
          },
          "metadata": {},
          "execution_count": 141
        }
      ]
    },
    {
      "cell_type": "markdown",
      "source": [
        "Перевіримо, чи є в датасеті NaN елементи (пропуски в даних):"
      ],
      "metadata": {
        "id": "7B3ReCEj70pG"
      }
    },
    {
      "cell_type": "code",
      "source": [
        "df.isnull().sum()"
      ],
      "metadata": {
        "colab": {
          "base_uri": "https://localhost:8080/"
        },
        "id": "3RXUhLEO72mp",
        "outputId": "fc5288bd-170c-4eb2-d437-118145592ba3"
      },
      "execution_count": 142,
      "outputs": [
        {
          "output_type": "execute_result",
          "data": {
            "text/plain": [
              "item_identifier                 0\n",
              "item_weight                   976\n",
              "item_fat_content                0\n",
              "item_visibility                 0\n",
              "item_type                       0\n",
              "item_mrp                        0\n",
              "outlet_identifier               0\n",
              "outlet_establishment_year       0\n",
              "outlet_size                  1606\n",
              "outlet_location_type            0\n",
              "outlet_type                     0\n",
              "dtype: int64"
            ]
          },
          "metadata": {},
          "execution_count": 142
        }
      ]
    },
    {
      "cell_type": "markdown",
      "source": [
        "В даному датасеті є чимало NaN елементів, які варто видалити або заповнити.\n",
        "\n"
      ],
      "metadata": {
        "id": "gGTo3QFQ8Cbr"
      }
    },
    {
      "cell_type": "markdown",
      "source": [
        "Видалимо рядки, в яких є хоча б один NaN елемент:"
      ],
      "metadata": {
        "id": "E00h2Gxh8Fct"
      }
    },
    {
      "cell_type": "code",
      "source": [
        "df = df.dropna()"
      ],
      "metadata": {
        "id": "H0Cup2bO8G7J"
      },
      "execution_count": 143,
      "outputs": []
    },
    {
      "cell_type": "markdown",
      "source": [
        "Перевіримо, чи є в датасеті залишились NaN елементи (пропуски в даних):"
      ],
      "metadata": {
        "id": "KKR5135q8MT2"
      }
    },
    {
      "cell_type": "code",
      "source": [
        "df.isnull().sum()"
      ],
      "metadata": {
        "colab": {
          "base_uri": "https://localhost:8080/"
        },
        "id": "t5MXWZe78QGO",
        "outputId": "f19e275d-143c-4067-9c48-88f9caf8ad6f"
      },
      "execution_count": 144,
      "outputs": [
        {
          "output_type": "execute_result",
          "data": {
            "text/plain": [
              "item_identifier              0\n",
              "item_weight                  0\n",
              "item_fat_content             0\n",
              "item_visibility              0\n",
              "item_type                    0\n",
              "item_mrp                     0\n",
              "outlet_identifier            0\n",
              "outlet_establishment_year    0\n",
              "outlet_size                  0\n",
              "outlet_location_type         0\n",
              "outlet_type                  0\n",
              "dtype: int64"
            ]
          },
          "metadata": {},
          "execution_count": 144
        }
      ]
    },
    {
      "cell_type": "markdown",
      "source": [
        "В датасеті було успішно видалені NaN елементи."
      ],
      "metadata": {
        "id": "PEF84uaQ8T3Q"
      }
    },
    {
      "cell_type": "markdown",
      "source": [
        "Розвідувальний аналіз даних"
      ],
      "metadata": {
        "id": "qvgMWDkHr_bA"
      }
    },
    {
      "cell_type": "code",
      "source": [
        "df.describe()"
      ],
      "metadata": {
        "colab": {
          "base_uri": "https://localhost:8080/",
          "height": 300
        },
        "id": "XINsB6CW8Tf_",
        "outputId": "e0a131bf-1b0f-4b1f-92b2-4836b4b74e59"
      },
      "execution_count": 145,
      "outputs": [
        {
          "output_type": "execute_result",
          "data": {
            "text/plain": [
              "       item_weight  item_visibility     item_mrp  outlet_establishment_year\n",
              "count  3099.000000      3099.000000  3099.000000                3099.000000\n",
              "mean     12.658206         0.059063   140.036189                1999.189739\n",
              "std       4.616934         0.043592    61.608135                   7.387906\n",
              "min       4.555000         0.000000    31.990000                1987.000000\n",
              "25%       8.675000         0.025824    93.310700                1997.000000\n",
              "50%      12.350000         0.049154   141.315400                1999.000000\n",
              "75%      16.600000         0.085354   184.993700                2004.000000\n",
              "max      21.350000         0.185913   266.588400                2009.000000"
            ],
            "text/html": [
              "\n",
              "  <div id=\"df-e8fd4e91-2832-40e8-bbda-1b63365eec5e\" class=\"colab-df-container\">\n",
              "    <div>\n",
              "<style scoped>\n",
              "    .dataframe tbody tr th:only-of-type {\n",
              "        vertical-align: middle;\n",
              "    }\n",
              "\n",
              "    .dataframe tbody tr th {\n",
              "        vertical-align: top;\n",
              "    }\n",
              "\n",
              "    .dataframe thead th {\n",
              "        text-align: right;\n",
              "    }\n",
              "</style>\n",
              "<table border=\"1\" class=\"dataframe\">\n",
              "  <thead>\n",
              "    <tr style=\"text-align: right;\">\n",
              "      <th></th>\n",
              "      <th>item_weight</th>\n",
              "      <th>item_visibility</th>\n",
              "      <th>item_mrp</th>\n",
              "      <th>outlet_establishment_year</th>\n",
              "    </tr>\n",
              "  </thead>\n",
              "  <tbody>\n",
              "    <tr>\n",
              "      <th>count</th>\n",
              "      <td>3099.000000</td>\n",
              "      <td>3099.000000</td>\n",
              "      <td>3099.000000</td>\n",
              "      <td>3099.000000</td>\n",
              "    </tr>\n",
              "    <tr>\n",
              "      <th>mean</th>\n",
              "      <td>12.658206</td>\n",
              "      <td>0.059063</td>\n",
              "      <td>140.036189</td>\n",
              "      <td>1999.189739</td>\n",
              "    </tr>\n",
              "    <tr>\n",
              "      <th>std</th>\n",
              "      <td>4.616934</td>\n",
              "      <td>0.043592</td>\n",
              "      <td>61.608135</td>\n",
              "      <td>7.387906</td>\n",
              "    </tr>\n",
              "    <tr>\n",
              "      <th>min</th>\n",
              "      <td>4.555000</td>\n",
              "      <td>0.000000</td>\n",
              "      <td>31.990000</td>\n",
              "      <td>1987.000000</td>\n",
              "    </tr>\n",
              "    <tr>\n",
              "      <th>25%</th>\n",
              "      <td>8.675000</td>\n",
              "      <td>0.025824</td>\n",
              "      <td>93.310700</td>\n",
              "      <td>1997.000000</td>\n",
              "    </tr>\n",
              "    <tr>\n",
              "      <th>50%</th>\n",
              "      <td>12.350000</td>\n",
              "      <td>0.049154</td>\n",
              "      <td>141.315400</td>\n",
              "      <td>1999.000000</td>\n",
              "    </tr>\n",
              "    <tr>\n",
              "      <th>75%</th>\n",
              "      <td>16.600000</td>\n",
              "      <td>0.085354</td>\n",
              "      <td>184.993700</td>\n",
              "      <td>2004.000000</td>\n",
              "    </tr>\n",
              "    <tr>\n",
              "      <th>max</th>\n",
              "      <td>21.350000</td>\n",
              "      <td>0.185913</td>\n",
              "      <td>266.588400</td>\n",
              "      <td>2009.000000</td>\n",
              "    </tr>\n",
              "  </tbody>\n",
              "</table>\n",
              "</div>\n",
              "    <div class=\"colab-df-buttons\">\n",
              "\n",
              "  <div class=\"colab-df-container\">\n",
              "    <button class=\"colab-df-convert\" onclick=\"convertToInteractive('df-e8fd4e91-2832-40e8-bbda-1b63365eec5e')\"\n",
              "            title=\"Convert this dataframe to an interactive table.\"\n",
              "            style=\"display:none;\">\n",
              "\n",
              "  <svg xmlns=\"http://www.w3.org/2000/svg\" height=\"24px\" viewBox=\"0 -960 960 960\">\n",
              "    <path d=\"M120-120v-720h720v720H120Zm60-500h600v-160H180v160Zm220 220h160v-160H400v160Zm0 220h160v-160H400v160ZM180-400h160v-160H180v160Zm440 0h160v-160H620v160ZM180-180h160v-160H180v160Zm440 0h160v-160H620v160Z\"/>\n",
              "  </svg>\n",
              "    </button>\n",
              "\n",
              "  <style>\n",
              "    .colab-df-container {\n",
              "      display:flex;\n",
              "      gap: 12px;\n",
              "    }\n",
              "\n",
              "    .colab-df-convert {\n",
              "      background-color: #E8F0FE;\n",
              "      border: none;\n",
              "      border-radius: 50%;\n",
              "      cursor: pointer;\n",
              "      display: none;\n",
              "      fill: #1967D2;\n",
              "      height: 32px;\n",
              "      padding: 0 0 0 0;\n",
              "      width: 32px;\n",
              "    }\n",
              "\n",
              "    .colab-df-convert:hover {\n",
              "      background-color: #E2EBFA;\n",
              "      box-shadow: 0px 1px 2px rgba(60, 64, 67, 0.3), 0px 1px 3px 1px rgba(60, 64, 67, 0.15);\n",
              "      fill: #174EA6;\n",
              "    }\n",
              "\n",
              "    .colab-df-buttons div {\n",
              "      margin-bottom: 4px;\n",
              "    }\n",
              "\n",
              "    [theme=dark] .colab-df-convert {\n",
              "      background-color: #3B4455;\n",
              "      fill: #D2E3FC;\n",
              "    }\n",
              "\n",
              "    [theme=dark] .colab-df-convert:hover {\n",
              "      background-color: #434B5C;\n",
              "      box-shadow: 0px 1px 3px 1px rgba(0, 0, 0, 0.15);\n",
              "      filter: drop-shadow(0px 1px 2px rgba(0, 0, 0, 0.3));\n",
              "      fill: #FFFFFF;\n",
              "    }\n",
              "  </style>\n",
              "\n",
              "    <script>\n",
              "      const buttonEl =\n",
              "        document.querySelector('#df-e8fd4e91-2832-40e8-bbda-1b63365eec5e button.colab-df-convert');\n",
              "      buttonEl.style.display =\n",
              "        google.colab.kernel.accessAllowed ? 'block' : 'none';\n",
              "\n",
              "      async function convertToInteractive(key) {\n",
              "        const element = document.querySelector('#df-e8fd4e91-2832-40e8-bbda-1b63365eec5e');\n",
              "        const dataTable =\n",
              "          await google.colab.kernel.invokeFunction('convertToInteractive',\n",
              "                                                    [key], {});\n",
              "        if (!dataTable) return;\n",
              "\n",
              "        const docLinkHtml = 'Like what you see? Visit the ' +\n",
              "          '<a target=\"_blank\" href=https://colab.research.google.com/notebooks/data_table.ipynb>data table notebook</a>'\n",
              "          + ' to learn more about interactive tables.';\n",
              "        element.innerHTML = '';\n",
              "        dataTable['output_type'] = 'display_data';\n",
              "        await google.colab.output.renderOutput(dataTable, element);\n",
              "        const docLink = document.createElement('div');\n",
              "        docLink.innerHTML = docLinkHtml;\n",
              "        element.appendChild(docLink);\n",
              "      }\n",
              "    </script>\n",
              "  </div>\n",
              "\n",
              "\n",
              "<div id=\"df-21f9a5d5-b15c-4a1a-bb3d-701eb7b29799\">\n",
              "  <button class=\"colab-df-quickchart\" onclick=\"quickchart('df-21f9a5d5-b15c-4a1a-bb3d-701eb7b29799')\"\n",
              "            title=\"Suggest charts\"\n",
              "            style=\"display:none;\">\n",
              "\n",
              "<svg xmlns=\"http://www.w3.org/2000/svg\" height=\"24px\"viewBox=\"0 0 24 24\"\n",
              "     width=\"24px\">\n",
              "    <g>\n",
              "        <path d=\"M19 3H5c-1.1 0-2 .9-2 2v14c0 1.1.9 2 2 2h14c1.1 0 2-.9 2-2V5c0-1.1-.9-2-2-2zM9 17H7v-7h2v7zm4 0h-2V7h2v10zm4 0h-2v-4h2v4z\"/>\n",
              "    </g>\n",
              "</svg>\n",
              "  </button>\n",
              "\n",
              "<style>\n",
              "  .colab-df-quickchart {\n",
              "      --bg-color: #E8F0FE;\n",
              "      --fill-color: #1967D2;\n",
              "      --hover-bg-color: #E2EBFA;\n",
              "      --hover-fill-color: #174EA6;\n",
              "      --disabled-fill-color: #AAA;\n",
              "      --disabled-bg-color: #DDD;\n",
              "  }\n",
              "\n",
              "  [theme=dark] .colab-df-quickchart {\n",
              "      --bg-color: #3B4455;\n",
              "      --fill-color: #D2E3FC;\n",
              "      --hover-bg-color: #434B5C;\n",
              "      --hover-fill-color: #FFFFFF;\n",
              "      --disabled-bg-color: #3B4455;\n",
              "      --disabled-fill-color: #666;\n",
              "  }\n",
              "\n",
              "  .colab-df-quickchart {\n",
              "    background-color: var(--bg-color);\n",
              "    border: none;\n",
              "    border-radius: 50%;\n",
              "    cursor: pointer;\n",
              "    display: none;\n",
              "    fill: var(--fill-color);\n",
              "    height: 32px;\n",
              "    padding: 0;\n",
              "    width: 32px;\n",
              "  }\n",
              "\n",
              "  .colab-df-quickchart:hover {\n",
              "    background-color: var(--hover-bg-color);\n",
              "    box-shadow: 0 1px 2px rgba(60, 64, 67, 0.3), 0 1px 3px 1px rgba(60, 64, 67, 0.15);\n",
              "    fill: var(--button-hover-fill-color);\n",
              "  }\n",
              "\n",
              "  .colab-df-quickchart-complete:disabled,\n",
              "  .colab-df-quickchart-complete:disabled:hover {\n",
              "    background-color: var(--disabled-bg-color);\n",
              "    fill: var(--disabled-fill-color);\n",
              "    box-shadow: none;\n",
              "  }\n",
              "\n",
              "  .colab-df-spinner {\n",
              "    border: 2px solid var(--fill-color);\n",
              "    border-color: transparent;\n",
              "    border-bottom-color: var(--fill-color);\n",
              "    animation:\n",
              "      spin 1s steps(1) infinite;\n",
              "  }\n",
              "\n",
              "  @keyframes spin {\n",
              "    0% {\n",
              "      border-color: transparent;\n",
              "      border-bottom-color: var(--fill-color);\n",
              "      border-left-color: var(--fill-color);\n",
              "    }\n",
              "    20% {\n",
              "      border-color: transparent;\n",
              "      border-left-color: var(--fill-color);\n",
              "      border-top-color: var(--fill-color);\n",
              "    }\n",
              "    30% {\n",
              "      border-color: transparent;\n",
              "      border-left-color: var(--fill-color);\n",
              "      border-top-color: var(--fill-color);\n",
              "      border-right-color: var(--fill-color);\n",
              "    }\n",
              "    40% {\n",
              "      border-color: transparent;\n",
              "      border-right-color: var(--fill-color);\n",
              "      border-top-color: var(--fill-color);\n",
              "    }\n",
              "    60% {\n",
              "      border-color: transparent;\n",
              "      border-right-color: var(--fill-color);\n",
              "    }\n",
              "    80% {\n",
              "      border-color: transparent;\n",
              "      border-right-color: var(--fill-color);\n",
              "      border-bottom-color: var(--fill-color);\n",
              "    }\n",
              "    90% {\n",
              "      border-color: transparent;\n",
              "      border-bottom-color: var(--fill-color);\n",
              "    }\n",
              "  }\n",
              "</style>\n",
              "\n",
              "  <script>\n",
              "    async function quickchart(key) {\n",
              "      const quickchartButtonEl =\n",
              "        document.querySelector('#' + key + ' button');\n",
              "      quickchartButtonEl.disabled = true;  // To prevent multiple clicks.\n",
              "      quickchartButtonEl.classList.add('colab-df-spinner');\n",
              "      try {\n",
              "        const charts = await google.colab.kernel.invokeFunction(\n",
              "            'suggestCharts', [key], {});\n",
              "      } catch (error) {\n",
              "        console.error('Error during call to suggestCharts:', error);\n",
              "      }\n",
              "      quickchartButtonEl.classList.remove('colab-df-spinner');\n",
              "      quickchartButtonEl.classList.add('colab-df-quickchart-complete');\n",
              "    }\n",
              "    (() => {\n",
              "      let quickchartButtonEl =\n",
              "        document.querySelector('#df-21f9a5d5-b15c-4a1a-bb3d-701eb7b29799 button');\n",
              "      quickchartButtonEl.style.display =\n",
              "        google.colab.kernel.accessAllowed ? 'block' : 'none';\n",
              "    })();\n",
              "  </script>\n",
              "</div>\n",
              "    </div>\n",
              "  </div>\n"
            ]
          },
          "metadata": {},
          "execution_count": 145
        }
      ]
    },
    {
      "cell_type": "markdown",
      "source": [
        "Будуємо коробчасту діаграму для показника \"item_mrp\":"
      ],
      "metadata": {
        "id": "mks9QfgTsdVy"
      }
    },
    {
      "cell_type": "code",
      "source": [
        "df[['item_mrp']].boxplot(figsize=(8,6))"
      ],
      "metadata": {
        "colab": {
          "base_uri": "https://localhost:8080/",
          "height": 540
        },
        "id": "LI22Kmivsc7c",
        "outputId": "2f4b2b73-1ab4-45b1-91c0-229b4d1537a5"
      },
      "execution_count": 146,
      "outputs": [
        {
          "output_type": "execute_result",
          "data": {
            "text/plain": [
              "<Axes: >"
            ]
          },
          "metadata": {},
          "execution_count": 146
        },
        {
          "output_type": "display_data",
          "data": {
            "text/plain": [
              "<Figure size 800x600 with 1 Axes>"
            ],
            "image/png": "[encoded data removed]"
          },
          "metadata": {}
        }
      ]
    },
    {
      "cell_type": "markdown",
      "source": [
        "Я обрала не видаляти данні, так як не бачу сильних викидів в датасеті."
      ],
      "metadata": {
        "id": "r9dQAhDJt2Wm"
      }
    },
    {
      "cell_type": "markdown",
      "source": [
        "Будуємо коробчасту діаграму для показника \"item_visibility\":"
      ],
      "metadata": {
        "id": "NAg7e8tuv8qq"
      }
    },
    {
      "cell_type": "code",
      "source": [
        "df[['item_visibility']].boxplot(figsize=(8,6))"
      ],
      "metadata": {
        "colab": {
          "base_uri": "https://localhost:8080/",
          "height": 540
        },
        "id": "yKXYI3x8v8-_",
        "outputId": "190fb24d-0446-4281-edda-6d69d7a033d5"
      },
      "execution_count": 147,
      "outputs": [
        {
          "output_type": "execute_result",
          "data": {
            "text/plain": [
              "<Axes: >"
            ]
          },
          "metadata": {},
          "execution_count": 147
        },
        {
          "output_type": "display_data",
          "data": {
            "text/plain": [
              "<Figure size 800x600 with 1 Axes>"
            ],
            "image/png": "[encoded data removed]"
          },
          "metadata": {}
        }
      ]
    },
    {
      "cell_type": "markdown",
      "source": [
        "Видаляю інформацію про коеф. видимості товару, який вище за 0.175(значення найбільше відрізняються від інших):"
      ],
      "metadata": {
        "id": "l_v28ZkrwIW3"
      }
    },
    {
      "cell_type": "code",
      "source": [
        "df.drop(df[df['item_visibility'] > 0.175].index, inplace=True)"
      ],
      "metadata": {
        "id": "oi44vaERwnRQ"
      },
      "execution_count": 148,
      "outputs": []
    },
    {
      "cell_type": "markdown",
      "source": [
        "Будуємо коробчасту діаграму для показника \"item_weight\":"
      ],
      "metadata": {
        "id": "wvl4jClewJhW"
      }
    },
    {
      "cell_type": "code",
      "source": [
        "df[['item_weight']].boxplot(figsize=(8,6))"
      ],
      "metadata": {
        "colab": {
          "base_uri": "https://localhost:8080/",
          "height": 540
        },
        "id": "N23n9kGowJ8m",
        "outputId": "73c14957-3a7f-40e3-c866-579bd6aa11d1"
      },
      "execution_count": 149,
      "outputs": [
        {
          "output_type": "execute_result",
          "data": {
            "text/plain": [
              "<Axes: >"
            ]
          },
          "metadata": {},
          "execution_count": 149
        },
        {
          "output_type": "display_data",
          "data": {
            "text/plain": [
              "<Figure size 800x600 with 1 Axes>"
            ],
            "image/png": "[encoded data removed]"
          },
          "metadata": {}
        }
      ]
    },
    {
      "cell_type": "code",
      "source": [
        "df[['outlet_establishment_year']].boxplot(figsize=(8,6))"
      ],
      "metadata": {
        "colab": {
          "base_uri": "https://localhost:8080/",
          "height": 544
        },
        "id": "buxpxKL3yIYt",
        "outputId": "046aa810-cce1-433c-fed4-434bedc215e1"
      },
      "execution_count": 150,
      "outputs": [
        {
          "output_type": "execute_result",
          "data": {
            "text/plain": [
              "<Axes: >"
            ]
          },
          "metadata": {},
          "execution_count": 150
        },
        {
          "output_type": "display_data",
          "data": {
            "text/plain": [
              "<Figure size 800x600 with 1 Axes>"
            ],
            "image/png": "[encoded data removed]"
          },
          "metadata": {}
        }
      ]
    },
    {
      "cell_type": "markdown",
      "source": [
        "Видаляю інформацію про рік створення компанії, які засновані до 1990 (значення найбільше відрізняються від інших)"
      ],
      "metadata": {
        "id": "vHHNa_QOykk2"
      }
    },
    {
      "cell_type": "code",
      "source": [
        "df.drop(df[df['outlet_establishment_year'] < 1990].index, inplace=True)"
      ],
      "metadata": {
        "id": "vVSy_InNyjeR"
      },
      "execution_count": 151,
      "outputs": []
    },
    {
      "cell_type": "markdown",
      "source": [
        "Переглянемо основну статистику числових показників після внесених змін:"
      ],
      "metadata": {
        "id": "UXy_hnhozOoq"
      }
    },
    {
      "cell_type": "code",
      "source": [
        "df.describe()"
      ],
      "metadata": {
        "colab": {
          "base_uri": "https://localhost:8080/",
          "height": 300
        },
        "id": "9jdkii0Gy1Dt",
        "outputId": "f7efd490-50ec-4cb2-9a36-0caba4ef9493"
      },
      "execution_count": 152,
      "outputs": [
        {
          "output_type": "execute_result",
          "data": {
            "text/plain": [
              "       item_weight  item_visibility     item_mrp  outlet_establishment_year\n",
              "count  2461.000000      2461.000000  2461.000000                2461.000000\n",
              "mean     12.700000         0.057822   139.759250                2002.234864\n",
              "std       4.616615         0.042525    61.755118                   4.656504\n",
              "min       4.555000         0.000000    32.390000                1997.000000\n",
              "25%       8.710000         0.025581    92.580400                1997.000000\n",
              "50%      12.500000         0.048107   141.015400                1999.000000\n",
              "75%      16.700000         0.083854   185.160800                2004.000000\n",
              "max      21.350000         0.174758   266.588400                2009.000000"
            ],
            "text/html": [
              "\n",
              "  <div id=\"df-156891c4-2835-4129-b118-bfa2d24cee96\" class=\"colab-df-container\">\n",
              "    <div>\n",
              "<style scoped>\n",
              "    .dataframe tbody tr th:only-of-type {\n",
              "        vertical-align: middle;\n",
              "    }\n",
              "\n",
              "    .dataframe tbody tr th {\n",
              "        vertical-align: top;\n",
              "    }\n",
              "\n",
              "    .dataframe thead th {\n",
              "        text-align: right;\n",
              "    }\n",
              "</style>\n",
              "<table border=\"1\" class=\"dataframe\">\n",
              "  <thead>\n",
              "    <tr style=\"text-align: right;\">\n",
              "      <th></th>\n",
              "      <th>item_weight</th>\n",
              "      <th>item_visibility</th>\n",
              "      <th>item_mrp</th>\n",
              "      <th>outlet_establishment_year</th>\n",
              "    </tr>\n",
              "  </thead>\n",
              "  <tbody>\n",
              "    <tr>\n",
              "      <th>count</th>\n",
              "      <td>2461.000000</td>\n",
              "      <td>2461.000000</td>\n",
              "      <td>2461.000000</td>\n",
              "      <td>2461.000000</td>\n",
              "    </tr>\n",
              "    <tr>\n",
              "      <th>mean</th>\n",
              "      <td>12.700000</td>\n",
              "      <td>0.057822</td>\n",
              "      <td>139.759250</td>\n",
              "      <td>2002.234864</td>\n",
              "    </tr>\n",
              "    <tr>\n",
              "      <th>std</th>\n",
              "      <td>4.616615</td>\n",
              "      <td>0.042525</td>\n",
              "      <td>61.755118</td>\n",
              "      <td>4.656504</td>\n",
              "    </tr>\n",
              "    <tr>\n",
              "      <th>min</th>\n",
              "      <td>4.555000</td>\n",
              "      <td>0.000000</td>\n",
              "      <td>32.390000</td>\n",
              "      <td>1997.000000</td>\n",
              "    </tr>\n",
              "    <tr>\n",
              "      <th>25%</th>\n",
              "      <td>8.710000</td>\n",
              "      <td>0.025581</td>\n",
              "      <td>92.580400</td>\n",
              "      <td>1997.000000</td>\n",
              "    </tr>\n",
              "    <tr>\n",
              "      <th>50%</th>\n",
              "      <td>12.500000</td>\n",
              "      <td>0.048107</td>\n",
              "      <td>141.015400</td>\n",
              "      <td>1999.000000</td>\n",
              "    </tr>\n",
              "    <tr>\n",
              "      <th>75%</th>\n",
              "      <td>16.700000</td>\n",
              "      <td>0.083854</td>\n",
              "      <td>185.160800</td>\n",
              "      <td>2004.000000</td>\n",
              "    </tr>\n",
              "    <tr>\n",
              "      <th>max</th>\n",
              "      <td>21.350000</td>\n",
              "      <td>0.174758</td>\n",
              "      <td>266.588400</td>\n",
              "      <td>2009.000000</td>\n",
              "    </tr>\n",
              "  </tbody>\n",
              "</table>\n",
              "</div>\n",
              "    <div class=\"colab-df-buttons\">\n",
              "\n",
              "  <div class=\"colab-df-container\">\n",
              "    <button class=\"colab-df-convert\" onclick=\"convertToInteractive('df-156891c4-2835-4129-b118-bfa2d24cee96')\"\n",
              "            title=\"Convert this dataframe to an interactive table.\"\n",
              "            style=\"display:none;\">\n",
              "\n",
              "  <svg xmlns=\"http://www.w3.org/2000/svg\" height=\"24px\" viewBox=\"0 -960 960 960\">\n",
              "    <path d=\"M120-120v-720h720v720H120Zm60-500h600v-160H180v160Zm220 220h160v-160H400v160Zm0 220h160v-160H400v160ZM180-400h160v-160H180v160Zm440 0h160v-160H620v160ZM180-180h160v-160H180v160Zm440 0h160v-160H620v160Z\"/>\n",
              "  </svg>\n",
              "    </button>\n",
              "\n",
              "  <style>\n",
              "    .colab-df-container {\n",
              "      display:flex;\n",
              "      gap: 12px;\n",
              "    }\n",
              "\n",
              "    .colab-df-convert {\n",
              "      background-color: #E8F0FE;\n",
              "      border: none;\n",
              "      border-radius: 50%;\n",
              "      cursor: pointer;\n",
              "      display: none;\n",
              "      fill: #1967D2;\n",
              "      height: 32px;\n",
              "      padding: 0 0 0 0;\n",
              "      width: 32px;\n",
              "    }\n",
              "\n",
              "    .colab-df-convert:hover {\n",
              "      background-color: #E2EBFA;\n",
              "      box-shadow: 0px 1px 2px rgba(60, 64, 67, 0.3), 0px 1px 3px 1px rgba(60, 64, 67, 0.15);\n",
              "      fill: #174EA6;\n",
              "    }\n",
              "\n",
              "    .colab-df-buttons div {\n",
              "      margin-bottom: 4px;\n",
              "    }\n",
              "\n",
              "    [theme=dark] .colab-df-convert {\n",
              "      background-color: #3B4455;\n",
              "      fill: #D2E3FC;\n",
              "    }\n",
              "\n",
              "    [theme=dark] .colab-df-convert:hover {\n",
              "      background-color: #434B5C;\n",
              "      box-shadow: 0px 1px 3px 1px rgba(0, 0, 0, 0.15);\n",
              "      filter: drop-shadow(0px 1px 2px rgba(0, 0, 0, 0.3));\n",
              "      fill: #FFFFFF;\n",
              "    }\n",
              "  </style>\n",
              "\n",
              "    <script>\n",
              "      const buttonEl =\n",
              "        document.querySelector('#df-156891c4-2835-4129-b118-bfa2d24cee96 button.colab-df-convert');\n",
              "      buttonEl.style.display =\n",
              "        google.colab.kernel.accessAllowed ? 'block' : 'none';\n",
              "\n",
              "      async function convertToInteractive(key) {\n",
              "        const element = document.querySelector('#df-156891c4-2835-4129-b118-bfa2d24cee96');\n",
              "        const dataTable =\n",
              "          await google.colab.kernel.invokeFunction('convertToInteractive',\n",
              "                                                    [key], {});\n",
              "        if (!dataTable) return;\n",
              "\n",
              "        const docLinkHtml = 'Like what you see? Visit the ' +\n",
              "          '<a target=\"_blank\" href=https://colab.research.google.com/notebooks/data_table.ipynb>data table notebook</a>'\n",
              "          + ' to learn more about interactive tables.';\n",
              "        element.innerHTML = '';\n",
              "        dataTable['output_type'] = 'display_data';\n",
              "        await google.colab.output.renderOutput(dataTable, element);\n",
              "        const docLink = document.createElement('div');\n",
              "        docLink.innerHTML = docLinkHtml;\n",
              "        element.appendChild(docLink);\n",
              "      }\n",
              "    </script>\n",
              "  </div>\n",
              "\n",
              "\n",
              "<div id=\"df-49337e21-f797-4a97-b7d2-0b1736c93c1d\">\n",
              "  <button class=\"colab-df-quickchart\" onclick=\"quickchart('df-49337e21-f797-4a97-b7d2-0b1736c93c1d')\"\n",
              "            title=\"Suggest charts\"\n",
              "            style=\"display:none;\">\n",
              "\n",
              "<svg xmlns=\"http://www.w3.org/2000/svg\" height=\"24px\"viewBox=\"0 0 24 24\"\n",
              "     width=\"24px\">\n",
              "    <g>\n",
              "        <path d=\"M19 3H5c-1.1 0-2 .9-2 2v14c0 1.1.9 2 2 2h14c1.1 0 2-.9 2-2V5c0-1.1-.9-2-2-2zM9 17H7v-7h2v7zm4 0h-2V7h2v10zm4 0h-2v-4h2v4z\"/>\n",
              "    </g>\n",
              "</svg>\n",
              "  </button>\n",
              "\n",
              "<style>\n",
              "  .colab-df-quickchart {\n",
              "      --bg-color: #E8F0FE;\n",
              "      --fill-color: #1967D2;\n",
              "      --hover-bg-color: #E2EBFA;\n",
              "      --hover-fill-color: #174EA6;\n",
              "      --disabled-fill-color: #AAA;\n",
              "      --disabled-bg-color: #DDD;\n",
              "  }\n",
              "\n",
              "  [theme=dark] .colab-df-quickchart {\n",
              "      --bg-color: #3B4455;\n",
              "      --fill-color: #D2E3FC;\n",
              "      --hover-bg-color: #434B5C;\n",
              "      --hover-fill-color: #FFFFFF;\n",
              "      --disabled-bg-color: #3B4455;\n",
              "      --disabled-fill-color: #666;\n",
              "  }\n",
              "\n",
              "  .colab-df-quickchart {\n",
              "    background-color: var(--bg-color);\n",
              "    border: none;\n",
              "    border-radius: 50%;\n",
              "    cursor: pointer;\n",
              "    display: none;\n",
              "    fill: var(--fill-color);\n",
              "    height: 32px;\n",
              "    padding: 0;\n",
              "    width: 32px;\n",
              "  }\n",
              "\n",
              "  .colab-df-quickchart:hover {\n",
              "    background-color: var(--hover-bg-color);\n",
              "    box-shadow: 0 1px 2px rgba(60, 64, 67, 0.3), 0 1px 3px 1px rgba(60, 64, 67, 0.15);\n",
              "    fill: var(--button-hover-fill-color);\n",
              "  }\n",
              "\n",
              "  .colab-df-quickchart-complete:disabled,\n",
              "  .colab-df-quickchart-complete:disabled:hover {\n",
              "    background-color: var(--disabled-bg-color);\n",
              "    fill: var(--disabled-fill-color);\n",
              "    box-shadow: none;\n",
              "  }\n",
              "\n",
              "  .colab-df-spinner {\n",
              "    border: 2px solid var(--fill-color);\n",
              "    border-color: transparent;\n",
              "    border-bottom-color: var(--fill-color);\n",
              "    animation:\n",
              "      spin 1s steps(1) infinite;\n",
              "  }\n",
              "\n",
              "  @keyframes spin {\n",
              "    0% {\n",
              "      border-color: transparent;\n",
              "      border-bottom-color: var(--fill-color);\n",
              "      border-left-color: var(--fill-color);\n",
              "    }\n",
              "    20% {\n",
              "      border-color: transparent;\n",
              "      border-left-color: var(--fill-color);\n",
              "      border-top-color: var(--fill-color);\n",
              "    }\n",
              "    30% {\n",
              "      border-color: transparent;\n",
              "      border-left-color: var(--fill-color);\n",
              "      border-top-color: var(--fill-color);\n",
              "      border-right-color: var(--fill-color);\n",
              "    }\n",
              "    40% {\n",
              "      border-color: transparent;\n",
              "      border-right-color: var(--fill-color);\n",
              "      border-top-color: var(--fill-color);\n",
              "    }\n",
              "    60% {\n",
              "      border-color: transparent;\n",
              "      border-right-color: var(--fill-color);\n",
              "    }\n",
              "    80% {\n",
              "      border-color: transparent;\n",
              "      border-right-color: var(--fill-color);\n",
              "      border-bottom-color: var(--fill-color);\n",
              "    }\n",
              "    90% {\n",
              "      border-color: transparent;\n",
              "      border-bottom-color: var(--fill-color);\n",
              "    }\n",
              "  }\n",
              "</style>\n",
              "\n",
              "  <script>\n",
              "    async function quickchart(key) {\n",
              "      const quickchartButtonEl =\n",
              "        document.querySelector('#' + key + ' button');\n",
              "      quickchartButtonEl.disabled = true;  // To prevent multiple clicks.\n",
              "      quickchartButtonEl.classList.add('colab-df-spinner');\n",
              "      try {\n",
              "        const charts = await google.colab.kernel.invokeFunction(\n",
              "            'suggestCharts', [key], {});\n",
              "      } catch (error) {\n",
              "        console.error('Error during call to suggestCharts:', error);\n",
              "      }\n",
              "      quickchartButtonEl.classList.remove('colab-df-spinner');\n",
              "      quickchartButtonEl.classList.add('colab-df-quickchart-complete');\n",
              "    }\n",
              "    (() => {\n",
              "      let quickchartButtonEl =\n",
              "        document.querySelector('#df-49337e21-f797-4a97-b7d2-0b1736c93c1d button');\n",
              "      quickchartButtonEl.style.display =\n",
              "        google.colab.kernel.accessAllowed ? 'block' : 'none';\n",
              "    })();\n",
              "  </script>\n",
              "</div>\n",
              "    </div>\n",
              "  </div>\n"
            ]
          },
          "metadata": {},
          "execution_count": 152
        }
      ]
    },
    {
      "cell_type": "markdown",
      "source": [],
      "metadata": {
        "id": "XsZFSTcxzmGF"
      }
    },
    {
      "cell_type": "markdown",
      "source": [
        "Перекодуємо дані в стовпці \"outlet_location_type\n",
        "\" в числові:"
      ],
      "metadata": {
        "id": "zD6x5Z-pzqUl"
      }
    },
    {
      "cell_type": "code",
      "source": [
        "df.outlet_location_type = df.outlet_location_type.replace ({'Tier 1': 1,\n",
        "                                                            'Tier 2': 2,\n",
        "                                                            'Tier 3': 3})"
      ],
      "metadata": {
        "id": "4Q1i0-AtzmcJ"
      },
      "execution_count": 153,
      "outputs": []
    },
    {
      "cell_type": "markdown",
      "source": [],
      "metadata": {
        "id": "MruN8Ce21Ba6"
      }
    },
    {
      "cell_type": "code",
      "source": [
        "df['item_fat_content'].replace({'reg': 'Regular', 'LF': 'Low Fat', 'low fat': 'Low Fat'}, inplace=True)\n",
        "df.item_fat_content = df.item_fat_content.replace({'Regular': '1', 'Low Fat': '0'})"
      ],
      "metadata": {
        "id": "J7NtRwLt1B0q"
      },
      "execution_count": 154,
      "outputs": []
    },
    {
      "cell_type": "markdown",
      "source": [
        "Перекодуємо дані в стовпці \"outlet_size\" в числові:"
      ],
      "metadata": {
        "id": "kmCLWJI11gUA"
      }
    },
    {
      "cell_type": "code",
      "source": [
        "df.outlet_type = df.outlet_type.replace({'Supermarket Type1': '1', 'Supermarket Type2': '2', 'Supermarket Type3' : '3', 'Grocery Store' : '4'})"
      ],
      "metadata": {
        "id": "L0rf0GNN26vr"
      },
      "execution_count": 155,
      "outputs": []
    },
    {
      "cell_type": "markdown",
      "source": [
        "Після змін датасет має такий вигляд (перші 5 записів):"
      ],
      "metadata": {
        "id": "KakdgTfh2vsb"
      }
    },
    {
      "cell_type": "code",
      "source": [
        "df.head()"
      ],
      "metadata": {
        "colab": {
          "base_uri": "https://localhost:8080/",
          "height": 206
        },
        "id": "3Xys0lo22xff",
        "outputId": "9e295ed3-1c8a-4395-c3b5-66205b91801c"
      },
      "execution_count": 156,
      "outputs": [
        {
          "output_type": "execute_result",
          "data": {
            "text/plain": [
              "   item_identifier  item_weight item_fat_content  item_visibility  \\\n",
              "0            FDW58       20.750                0         0.007565   \n",
              "5            FDH56        9.800                1         0.063817   \n",
              "6            FDL48       19.350                1         0.082602   \n",
              "13           FDU11        4.785                0         0.092738   \n",
              "15           FDM24        6.135                1         0.079451   \n",
              "\n",
              "                item_type  item_mrp outlet_identifier  \\\n",
              "0             Snack Foods  107.8622            OUT049   \n",
              "5   Fruits and Vegetables  117.1492            OUT046   \n",
              "6            Baking Goods   50.1034            OUT018   \n",
              "13                 Breads  122.3098            OUT049   \n",
              "15           Baking Goods  151.6366            OUT049   \n",
              "\n",
              "    outlet_establishment_year outlet_size  outlet_location_type outlet_type  \n",
              "0                        1999      Medium                     1           1  \n",
              "5                        1997       Small                     1           1  \n",
              "6                        2009      Medium                     3           2  \n",
              "13                       1999      Medium                     1           1  \n",
              "15                       1999      Medium                     1           1  "
            ],
            "text/html": [
              "\n",
              "  <div id=\"df-1e8c00a9-d645-490f-bd58-3d39db739256\" class=\"colab-df-container\">\n",
              "    <div>\n",
              "<style scoped>\n",
              "    .dataframe tbody tr th:only-of-type {\n",
              "        vertical-align: middle;\n",
              "    }\n",
              "\n",
              "    .dataframe tbody tr th {\n",
              "        vertical-align: top;\n",
              "    }\n",
              "\n",
              "    .dataframe thead th {\n",
              "        text-align: right;\n",
              "    }\n",
              "</style>\n",
              "<table border=\"1\" class=\"dataframe\">\n",
              "  <thead>\n",
              "    <tr style=\"text-align: right;\">\n",
              "      <th></th>\n",
              "      <th>item_identifier</th>\n",
              "      <th>item_weight</th>\n",
              "      <th>item_fat_content</th>\n",
              "      <th>item_visibility</th>\n",
              "      <th>item_type</th>\n",
              "      <th>item_mrp</th>\n",
              "      <th>outlet_identifier</th>\n",
              "      <th>outlet_establishment_year</th>\n",
              "      <th>outlet_size</th>\n",
              "      <th>outlet_location_type</th>\n",
              "      <th>outlet_type</th>\n",
              "    </tr>\n",
              "  </thead>\n",
              "  <tbody>\n",
              "    <tr>\n",
              "      <th>0</th>\n",
              "      <td>FDW58</td>\n",
              "      <td>20.750</td>\n",
              "      <td>0</td>\n",
              "      <td>0.007565</td>\n",
              "      <td>Snack Foods</td>\n",
              "      <td>107.8622</td>\n",
              "      <td>OUT049</td>\n",
              "      <td>1999</td>\n",
              "      <td>Medium</td>\n",
              "      <td>1</td>\n",
              "      <td>1</td>\n",
              "    </tr>\n",
              "    <tr>\n",
              "      <th>5</th>\n",
              "      <td>FDH56</td>\n",
              "      <td>9.800</td>\n",
              "      <td>1</td>\n",
              "      <td>0.063817</td>\n",
              "      <td>Fruits and Vegetables</td>\n",
              "      <td>117.1492</td>\n",
              "      <td>OUT046</td>\n",
              "      <td>1997</td>\n",
              "      <td>Small</td>\n",
              "      <td>1</td>\n",
              "      <td>1</td>\n",
              "    </tr>\n",
              "    <tr>\n",
              "      <th>6</th>\n",
              "      <td>FDL48</td>\n",
              "      <td>19.350</td>\n",
              "      <td>1</td>\n",
              "      <td>0.082602</td>\n",
              "      <td>Baking Goods</td>\n",
              "      <td>50.1034</td>\n",
              "      <td>OUT018</td>\n",
              "      <td>2009</td>\n",
              "      <td>Medium</td>\n",
              "      <td>3</td>\n",
              "      <td>2</td>\n",
              "    </tr>\n",
              "    <tr>\n",
              "      <th>13</th>\n",
              "      <td>FDU11</td>\n",
              "      <td>4.785</td>\n",
              "      <td>0</td>\n",
              "      <td>0.092738</td>\n",
              "      <td>Breads</td>\n",
              "      <td>122.3098</td>\n",
              "      <td>OUT049</td>\n",
              "      <td>1999</td>\n",
              "      <td>Medium</td>\n",
              "      <td>1</td>\n",
              "      <td>1</td>\n",
              "    </tr>\n",
              "    <tr>\n",
              "      <th>15</th>\n",
              "      <td>FDM24</td>\n",
              "      <td>6.135</td>\n",
              "      <td>1</td>\n",
              "      <td>0.079451</td>\n",
              "      <td>Baking Goods</td>\n",
              "      <td>151.6366</td>\n",
              "      <td>OUT049</td>\n",
              "      <td>1999</td>\n",
              "      <td>Medium</td>\n",
              "      <td>1</td>\n",
              "      <td>1</td>\n",
              "    </tr>\n",
              "  </tbody>\n",
              "</table>\n",
              "</div>\n",
              "    <div class=\"colab-df-buttons\">\n",
              "\n",
              "  <div class=\"colab-df-container\">\n",
              "    <button class=\"colab-df-convert\" onclick=\"convertToInteractive('df-1e8c00a9-d645-490f-bd58-3d39db739256')\"\n",
              "            title=\"Convert this dataframe to an interactive table.\"\n",
              "            style=\"display:none;\">\n",
              "\n",
              "  <svg xmlns=\"http://www.w3.org/2000/svg\" height=\"24px\" viewBox=\"0 -960 960 960\">\n",
              "    <path d=\"M120-120v-720h720v720H120Zm60-500h600v-160H180v160Zm220 220h160v-160H400v160Zm0 220h160v-160H400v160ZM180-400h160v-160H180v160Zm440 0h160v-160H620v160ZM180-180h160v-160H180v160Zm440 0h160v-160H620v160Z\"/>\n",
              "  </svg>\n",
              "    </button>\n",
              "\n",
              "  <style>\n",
              "    .colab-df-container {\n",
              "      display:flex;\n",
              "      gap: 12px;\n",
              "    }\n",
              "\n",
              "    .colab-df-convert {\n",
              "      background-color: #E8F0FE;\n",
              "      border: none;\n",
              "      border-radius: 50%;\n",
              "      cursor: pointer;\n",
              "      display: none;\n",
              "      fill: #1967D2;\n",
              "      height: 32px;\n",
              "      padding: 0 0 0 0;\n",
              "      width: 32px;\n",
              "    }\n",
              "\n",
              "    .colab-df-convert:hover {\n",
              "      background-color: #E2EBFA;\n",
              "      box-shadow: 0px 1px 2px rgba(60, 64, 67, 0.3), 0px 1px 3px 1px rgba(60, 64, 67, 0.15);\n",
              "      fill: #174EA6;\n",
              "    }\n",
              "\n",
              "    .colab-df-buttons div {\n",
              "      margin-bottom: 4px;\n",
              "    }\n",
              "\n",
              "    [theme=dark] .colab-df-convert {\n",
              "      background-color: #3B4455;\n",
              "      fill: #D2E3FC;\n",
              "    }\n",
              "\n",
              "    [theme=dark] .colab-df-convert:hover {\n",
              "      background-color: #434B5C;\n",
              "      box-shadow: 0px 1px 3px 1px rgba(0, 0, 0, 0.15);\n",
              "      filter: drop-shadow(0px 1px 2px rgba(0, 0, 0, 0.3));\n",
              "      fill: #FFFFFF;\n",
              "    }\n",
              "  </style>\n",
              "\n",
              "    <script>\n",
              "      const buttonEl =\n",
              "        document.querySelector('#df-1e8c00a9-d645-490f-bd58-3d39db739256 button.colab-df-convert');\n",
              "      buttonEl.style.display =\n",
              "        google.colab.kernel.accessAllowed ? 'block' : 'none';\n",
              "\n",
              "      async function convertToInteractive(key) {\n",
              "        const element = document.querySelector('#df-1e8c00a9-d645-490f-bd58-3d39db739256');\n",
              "        const dataTable =\n",
              "          await google.colab.kernel.invokeFunction('convertToInteractive',\n",
              "                                                    [key], {});\n",
              "        if (!dataTable) return;\n",
              "\n",
              "        const docLinkHtml = 'Like what you see? Visit the ' +\n",
              "          '<a target=\"_blank\" href=https://colab.research.google.com/notebooks/data_table.ipynb>data table notebook</a>'\n",
              "          + ' to learn more about interactive tables.';\n",
              "        element.innerHTML = '';\n",
              "        dataTable['output_type'] = 'display_data';\n",
              "        await google.colab.output.renderOutput(dataTable, element);\n",
              "        const docLink = document.createElement('div');\n",
              "        docLink.innerHTML = docLinkHtml;\n",
              "        element.appendChild(docLink);\n",
              "      }\n",
              "    </script>\n",
              "  </div>\n",
              "\n",
              "\n",
              "<div id=\"df-6ecb0b4d-03a8-46a1-8ea4-518f0537b741\">\n",
              "  <button class=\"colab-df-quickchart\" onclick=\"quickchart('df-6ecb0b4d-03a8-46a1-8ea4-518f0537b741')\"\n",
              "            title=\"Suggest charts\"\n",
              "            style=\"display:none;\">\n",
              "\n",
              "<svg xmlns=\"http://www.w3.org/2000/svg\" height=\"24px\"viewBox=\"0 0 24 24\"\n",
              "     width=\"24px\">\n",
              "    <g>\n",
              "        <path d=\"M19 3H5c-1.1 0-2 .9-2 2v14c0 1.1.9 2 2 2h14c1.1 0 2-.9 2-2V5c0-1.1-.9-2-2-2zM9 17H7v-7h2v7zm4 0h-2V7h2v10zm4 0h-2v-4h2v4z\"/>\n",
              "    </g>\n",
              "</svg>\n",
              "  </button>\n",
              "\n",
              "<style>\n",
              "  .colab-df-quickchart {\n",
              "      --bg-color: #E8F0FE;\n",
              "      --fill-color: #1967D2;\n",
              "      --hover-bg-color: #E2EBFA;\n",
              "      --hover-fill-color: #174EA6;\n",
              "      --disabled-fill-color: #AAA;\n",
              "      --disabled-bg-color: #DDD;\n",
              "  }\n",
              "\n",
              "  [theme=dark] .colab-df-quickchart {\n",
              "      --bg-color: #3B4455;\n",
              "      --fill-color: #D2E3FC;\n",
              "      --hover-bg-color: #434B5C;\n",
              "      --hover-fill-color: #FFFFFF;\n",
              "      --disabled-bg-color: #3B4455;\n",
              "      --disabled-fill-color: #666;\n",
              "  }\n",
              "\n",
              "  .colab-df-quickchart {\n",
              "    background-color: var(--bg-color);\n",
              "    border: none;\n",
              "    border-radius: 50%;\n",
              "    cursor: pointer;\n",
              "    display: none;\n",
              "    fill: var(--fill-color);\n",
              "    height: 32px;\n",
              "    padding: 0;\n",
              "    width: 32px;\n",
              "  }\n",
              "\n",
              "  .colab-df-quickchart:hover {\n",
              "    background-color: var(--hover-bg-color);\n",
              "    box-shadow: 0 1px 2px rgba(60, 64, 67, 0.3), 0 1px 3px 1px rgba(60, 64, 67, 0.15);\n",
              "    fill: var(--button-hover-fill-color);\n",
              "  }\n",
              "\n",
              "  .colab-df-quickchart-complete:disabled,\n",
              "  .colab-df-quickchart-complete:disabled:hover {\n",
              "    background-color: var(--disabled-bg-color);\n",
              "    fill: var(--disabled-fill-color);\n",
              "    box-shadow: none;\n",
              "  }\n",
              "\n",
              "  .colab-df-spinner {\n",
              "    border: 2px solid var(--fill-color);\n",
              "    border-color: transparent;\n",
              "    border-bottom-color: var(--fill-color);\n",
              "    animation:\n",
              "      spin 1s steps(1) infinite;\n",
              "  }\n",
              "\n",
              "  @keyframes spin {\n",
              "    0% {\n",
              "      border-color: transparent;\n",
              "      border-bottom-color: var(--fill-color);\n",
              "      border-left-color: var(--fill-color);\n",
              "    }\n",
              "    20% {\n",
              "      border-color: transparent;\n",
              "      border-left-color: var(--fill-color);\n",
              "      border-top-color: var(--fill-color);\n",
              "    }\n",
              "    30% {\n",
              "      border-color: transparent;\n",
              "      border-left-color: var(--fill-color);\n",
              "      border-top-color: var(--fill-color);\n",
              "      border-right-color: var(--fill-color);\n",
              "    }\n",
              "    40% {\n",
              "      border-color: transparent;\n",
              "      border-right-color: var(--fill-color);\n",
              "      border-top-color: var(--fill-color);\n",
              "    }\n",
              "    60% {\n",
              "      border-color: transparent;\n",
              "      border-right-color: var(--fill-color);\n",
              "    }\n",
              "    80% {\n",
              "      border-color: transparent;\n",
              "      border-right-color: var(--fill-color);\n",
              "      border-bottom-color: var(--fill-color);\n",
              "    }\n",
              "    90% {\n",
              "      border-color: transparent;\n",
              "      border-bottom-color: var(--fill-color);\n",
              "    }\n",
              "  }\n",
              "</style>\n",
              "\n",
              "  <script>\n",
              "    async function quickchart(key) {\n",
              "      const quickchartButtonEl =\n",
              "        document.querySelector('#' + key + ' button');\n",
              "      quickchartButtonEl.disabled = true;  // To prevent multiple clicks.\n",
              "      quickchartButtonEl.classList.add('colab-df-spinner');\n",
              "      try {\n",
              "        const charts = await google.colab.kernel.invokeFunction(\n",
              "            'suggestCharts', [key], {});\n",
              "      } catch (error) {\n",
              "        console.error('Error during call to suggestCharts:', error);\n",
              "      }\n",
              "      quickchartButtonEl.classList.remove('colab-df-spinner');\n",
              "      quickchartButtonEl.classList.add('colab-df-quickchart-complete');\n",
              "    }\n",
              "    (() => {\n",
              "      let quickchartButtonEl =\n",
              "        document.querySelector('#df-6ecb0b4d-03a8-46a1-8ea4-518f0537b741 button');\n",
              "      quickchartButtonEl.style.display =\n",
              "        google.colab.kernel.accessAllowed ? 'block' : 'none';\n",
              "    })();\n",
              "  </script>\n",
              "</div>\n",
              "    </div>\n",
              "  </div>\n"
            ]
          },
          "metadata": {},
          "execution_count": 156
        }
      ]
    },
    {
      "cell_type": "code",
      "source": [
        "df.dtypes"
      ],
      "metadata": {
        "colab": {
          "base_uri": "https://localhost:8080/"
        },
        "id": "Z_X41ad_4wKL",
        "outputId": "9e139d60-193c-406b-d852-9a94a4a4fe07"
      },
      "execution_count": 157,
      "outputs": [
        {
          "output_type": "execute_result",
          "data": {
            "text/plain": [
              "item_identifier               object\n",
              "item_weight                  float64\n",
              "item_fat_content              object\n",
              "item_visibility              float64\n",
              "item_type                     object\n",
              "item_mrp                     float64\n",
              "outlet_identifier             object\n",
              "outlet_establishment_year      int64\n",
              "outlet_size                   object\n",
              "outlet_location_type           int64\n",
              "outlet_type                   object\n",
              "dtype: object"
            ]
          },
          "metadata": {},
          "execution_count": 157
        }
      ]
    },
    {
      "cell_type": "markdown",
      "source": [
        "Змінимо тип даних в стовпцях, які ми щойно змінювали:"
      ],
      "metadata": {
        "id": "KNDiuLUo3g2B"
      }
    },
    {
      "cell_type": "code",
      "source": [
        "df.outlet_location_type = df.outlet_location_type.astype(int)\n",
        "df.item_fat_content = df.item_fat_content.astype(int)\n",
        "# df.outlet_size = df.outlet_size.astype(int)\n",
        "df.outlet_type = df.outlet_type.astype(int)"
      ],
      "metadata": {
        "id": "3PhE2jC83utU"
      },
      "execution_count": 158,
      "outputs": []
    },
    {
      "cell_type": "code",
      "source": [
        "df.dtypes"
      ],
      "metadata": {
        "colab": {
          "base_uri": "https://localhost:8080/"
        },
        "id": "cni52ApH5gjq",
        "outputId": "d55d94e3-a3e0-4b2a-8dd8-01e7ebd305bf"
      },
      "execution_count": 159,
      "outputs": [
        {
          "output_type": "execute_result",
          "data": {
            "text/plain": [
              "item_identifier               object\n",
              "item_weight                  float64\n",
              "item_fat_content               int64\n",
              "item_visibility              float64\n",
              "item_type                     object\n",
              "item_mrp                     float64\n",
              "outlet_identifier             object\n",
              "outlet_establishment_year      int64\n",
              "outlet_size                   object\n",
              "outlet_location_type           int64\n",
              "outlet_type                    int64\n",
              "dtype: object"
            ]
          },
          "metadata": {},
          "execution_count": 159
        }
      ]
    },
    {
      "cell_type": "code",
      "source": [
        "object_columns = df.select_dtypes(include=['object']).columns\n",
        "data = df.drop(object_columns, axis=1)\n",
        "\n",
        "print(data)"
      ],
      "metadata": {
        "colab": {
          "base_uri": "https://localhost:8080/"
        },
        "id": "J4n3AEd35--6",
        "outputId": "49346baf-9ef1-4ff3-83bc-b2a99f3b8c09"
      },
      "execution_count": 160,
      "outputs": [
        {
          "output_type": "stream",
          "name": "stdout",
          "text": [
            "      item_weight  item_fat_content  item_visibility  item_mrp  \\\n",
            "0          20.750                 0         0.007565  107.8622   \n",
            "5           9.800                 1         0.063817  117.1492   \n",
            "6          19.350                 1         0.082602   50.1034   \n",
            "13          4.785                 0         0.092738  122.3098   \n",
            "15          6.135                 1         0.079451  151.6366   \n",
            "...           ...               ...              ...       ...   \n",
            "5673        7.070                 0         0.094053  116.0834   \n",
            "5674       15.700                 0         0.030704   43.2770   \n",
            "5675       13.000                 1         0.070411   63.4484   \n",
            "5676       10.500                 1         0.013496  141.3154   \n",
            "5677        7.600                 1         0.142991  169.1448   \n",
            "\n",
            "      outlet_establishment_year  outlet_location_type  outlet_type  \n",
            "0                          1999                     1            1  \n",
            "5                          1997                     1            1  \n",
            "6                          2009                     3            2  \n",
            "13                         1999                     1            1  \n",
            "15                         1999                     1            1  \n",
            "...                         ...                   ...          ...  \n",
            "5673                       2009                     3            2  \n",
            "5674                       1997                     1            1  \n",
            "5675                       1999                     1            1  \n",
            "5676                       1997                     1            1  \n",
            "5677                       2009                     3            2  \n",
            "\n",
            "[2461 rows x 7 columns]\n"
          ]
        }
      ]
    },
    {
      "cell_type": "code",
      "source": [
        "data.dtypes"
      ],
      "metadata": {
        "colab": {
          "base_uri": "https://localhost:8080/"
        },
        "id": "yD9rrv-U7AYk",
        "outputId": "5e110f58-979f-4e76-f0ea-7f4230a099d5"
      },
      "execution_count": 161,
      "outputs": [
        {
          "output_type": "execute_result",
          "data": {
            "text/plain": [
              "item_weight                  float64\n",
              "item_fat_content               int64\n",
              "item_visibility              float64\n",
              "item_mrp                     float64\n",
              "outlet_establishment_year      int64\n",
              "outlet_location_type           int64\n",
              "outlet_type                    int64\n",
              "dtype: object"
            ]
          },
          "metadata": {},
          "execution_count": 161
        }
      ]
    },
    {
      "cell_type": "markdown",
      "source": [
        "Всі типи даних були коректно змінені, а непотрібні стовпці видалені"
      ],
      "metadata": {
        "id": "ghvu0ikv7H2w"
      }
    },
    {
      "cell_type": "markdown",
      "source": [
        "**Побудова моделей**"
      ],
      "metadata": {
        "id": "3DijiSsE7P-d"
      }
    },
    {
      "cell_type": "markdown",
      "source": [
        "Залежною змінною Y для майбутніх моделей класифікації було обрано outlet_size:"
      ],
      "metadata": {
        "id": "e1yrTFgh3YNF"
      }
    },
    {
      "cell_type": "code",
      "source": [
        "Y = df['outlet_size']\n",
        "Y"
      ],
      "metadata": {
        "colab": {
          "base_uri": "https://localhost:8080/"
        },
        "id": "9BBCahFS3XbT",
        "outputId": "fb6ae8c2-ff8d-471e-aa94-86bb7236f5ac"
      },
      "execution_count": 162,
      "outputs": [
        {
          "output_type": "execute_result",
          "data": {
            "text/plain": [
              "0       Medium\n",
              "5        Small\n",
              "6       Medium\n",
              "13      Medium\n",
              "15      Medium\n",
              "         ...  \n",
              "5673    Medium\n",
              "5674     Small\n",
              "5675    Medium\n",
              "5676     Small\n",
              "5677    Medium\n",
              "Name: outlet_size, Length: 2461, dtype: object"
            ]
          },
          "metadata": {},
          "execution_count": 162
        }
      ]
    },
    {
      "cell_type": "markdown",
      "source": [
        "До масиву незалежних змінних віднесемо всі інші кількісні змінні в датасеті:"
      ],
      "metadata": {
        "id": "nHjyTFCt4Gef"
      }
    },
    {
      "cell_type": "code",
      "source": [
        "X = df.select_dtypes(exclude=['object']).values\n",
        "X"
      ],
      "metadata": {
        "colab": {
          "base_uri": "https://localhost:8080/"
        },
        "id": "QckZwwS-4HPu",
        "outputId": "c3d64179-1368-42a5-db4b-a94ccdac3e4d"
      },
      "execution_count": 163,
      "outputs": [
        {
          "output_type": "execute_result",
          "data": {
            "text/plain": [
              "array([[2.07500000e+01, 0.00000000e+00, 7.56483600e-03, ...,\n",
              "        1.99900000e+03, 1.00000000e+00, 1.00000000e+00],\n",
              "       [9.80000000e+00, 1.00000000e+00, 6.38172060e-02, ...,\n",
              "        1.99700000e+03, 1.00000000e+00, 1.00000000e+00],\n",
              "       [1.93500000e+01, 1.00000000e+00, 8.26015370e-02, ...,\n",
              "        2.00900000e+03, 3.00000000e+00, 2.00000000e+00],\n",
              "       ...,\n",
              "       [1.30000000e+01, 1.00000000e+00, 7.04109590e-02, ...,\n",
              "        1.99900000e+03, 1.00000000e+00, 1.00000000e+00],\n",
              "       [1.05000000e+01, 1.00000000e+00, 1.34964660e-02, ...,\n",
              "        1.99700000e+03, 1.00000000e+00, 1.00000000e+00],\n",
              "       [7.60000000e+00, 1.00000000e+00, 1.42990896e-01, ...,\n",
              "        2.00900000e+03, 3.00000000e+00, 2.00000000e+00]])"
            ]
          },
          "metadata": {},
          "execution_count": 163
        }
      ]
    },
    {
      "cell_type": "code",
      "source": [
        "X.shape"
      ],
      "metadata": {
        "colab": {
          "base_uri": "https://localhost:8080/"
        },
        "id": "cuH4QUxz4WZK",
        "outputId": "4df5c432-5517-4575-f0d5-e591c84b3898"
      },
      "execution_count": 164,
      "outputs": [
        {
          "output_type": "execute_result",
          "data": {
            "text/plain": [
              "(2461, 7)"
            ]
          },
          "metadata": {},
          "execution_count": 164
        }
      ]
    },
    {
      "cell_type": "markdown",
      "source": [
        "Даний масив складається з 2461 рядків і 7 стовпців."
      ],
      "metadata": {
        "id": "VX8yTjUp4bAR"
      }
    },
    {
      "cell_type": "markdown",
      "source": [
        "Імпортуємо функцію для розбиття даних на навчальний і тестовий набори:"
      ],
      "metadata": {
        "id": "nODRqL6L4jyP"
      }
    },
    {
      "cell_type": "code",
      "source": [
        "from sklearn.model_selection import train_test_split"
      ],
      "metadata": {
        "id": "01KuUURR5GCJ"
      },
      "execution_count": 165,
      "outputs": []
    },
    {
      "cell_type": "markdown",
      "source": [
        "Розділяємо незалежні (X) і залежні (Y) змінні на навчальні та тестові набори даних:"
      ],
      "metadata": {
        "id": "bOOMW51k5Pi-"
      }
    },
    {
      "cell_type": "code",
      "source": [
        "X_train, X_test, Y_train, Y_test = train_test_split(X, Y, test_size=0.2, random_state=42)"
      ],
      "metadata": {
        "id": "FlzCfgAq4lFx"
      },
      "execution_count": 166,
      "outputs": []
    },
    {
      "cell_type": "markdown",
      "source": [
        "**1.\tМетод найближчих сусідів k-nearest neighbors (k-NN):**"
      ],
      "metadata": {
        "id": "lM8OknXu5W18"
      }
    },
    {
      "cell_type": "markdown",
      "source": [
        "Метод найближчих сусідів (k-NN) - це алгоритм навчання без учителя, який можна використовувати як для задач класифікації, так і для регресії. Основна ідея полягає в тому, щоб прогнозувати клас (або значення) нового екземпляра даних, враховуючи його \"найближчих сусідів\" у вже навченому наборі даних."
      ],
      "metadata": {
        "id": "kMizofjavUXe"
      }
    },
    {
      "cell_type": "markdown",
      "source": [
        "Імпортуємо необхідний клас для створення моделі KNN:"
      ],
      "metadata": {
        "id": "UrBCZfpx5cK1"
      }
    },
    {
      "cell_type": "code",
      "source": [
        "from sklearn.neighbors import KNeighborsClassifier"
      ],
      "metadata": {
        "id": "97s3xvyV5f7g"
      },
      "execution_count": 167,
      "outputs": []
    },
    {
      "cell_type": "markdown",
      "source": [
        "Ініціалізуємо модель KNN з конкретними гіперпараметрами:"
      ],
      "metadata": {
        "id": "FY9UJLX25vdj"
      }
    },
    {
      "cell_type": "code",
      "source": [
        "model = KNeighborsClassifier(n_neighbors=100, metric='manhattan', n_jobs=-1)"
      ],
      "metadata": {
        "id": "ZKopV3d_5yRm"
      },
      "execution_count": 168,
      "outputs": []
    },
    {
      "cell_type": "markdown",
      "source": [
        "Тренуємо модель KNN, використовуючи навчальний набір даних:"
      ],
      "metadata": {
        "id": "7lrDo76D5xeH"
      }
    },
    {
      "cell_type": "code",
      "source": [
        "model.fit(X_train, Y_train)"
      ],
      "metadata": {
        "colab": {
          "base_uri": "https://localhost:8080/",
          "height": 75
        },
        "id": "Sohxr_iQ6Fpo",
        "outputId": "ec07f108-7532-4ab9-ba8b-722878679e4b"
      },
      "execution_count": 169,
      "outputs": [
        {
          "output_type": "execute_result",
          "data": {
            "text/plain": [
              "KNeighborsClassifier(metric='manhattan', n_jobs=-1, n_neighbors=100)"
            ],
            "text/html": [
              "<style>#sk-container-id-2 {color: black;background-color: white;}#sk-container-id-2 pre{padding: 0;}#sk-container-id-2 div.sk-toggleable {background-color: white;}#sk-container-id-2 label.sk-toggleable__label {cursor: pointer;display: block;width: 100%;margin-bottom: 0;padding: 0.3em;box-sizing: border-box;text-align: center;}#sk-container-id-2 label.sk-toggleable__label-arrow:before {content: \"▸\";float: left;margin-right: 0.25em;color: #696969;}#sk-container-id-2 label.sk-toggleable__label-arrow:hover:before {color: black;}#sk-container-id-2 div.sk-estimator:hover label.sk-toggleable__label-arrow:before {color: black;}#sk-container-id-2 div.sk-toggleable__content {max-height: 0;max-width: 0;overflow: hidden;text-align: left;background-color: #f0f8ff;}#sk-container-id-2 div.sk-toggleable__content pre {margin: 0.2em;color: black;border-radius: 0.25em;background-color: #f0f8ff;}#sk-container-id-2 input.sk-toggleable__control:checked~div.sk-toggleable__content {max-height: 200px;max-width: 100%;overflow: auto;}#sk-container-id-2 input.sk-toggleable__control:checked~label.sk-toggleable__label-arrow:before {content: \"▾\";}#sk-container-id-2 div.sk-estimator input.sk-toggleable__control:checked~label.sk-toggleable__label {background-color: #d4ebff;}#sk-container-id-2 div.sk-label input.sk-toggleable__control:checked~label.sk-toggleable__label {background-color: #d4ebff;}#sk-container-id-2 input.sk-hidden--visually {border: 0;clip: rect(1px 1px 1px 1px);clip: rect(1px, 1px, 1px, 1px);height: 1px;margin: -1px;overflow: hidden;padding: 0;position: absolute;width: 1px;}#sk-container-id-2 div.sk-estimator {font-family: monospace;background-color: #f0f8ff;border: 1px dotted black;border-radius: 0.25em;box-sizing: border-box;margin-bottom: 0.5em;}#sk-container-id-2 div.sk-estimator:hover {background-color: #d4ebff;}#sk-container-id-2 div.sk-parallel-item::after {content: \"\";width: 100%;border-bottom: 1px solid gray;flex-grow: 1;}#sk-container-id-2 div.sk-label:hover label.sk-toggleable__label {background-color: #d4ebff;}#sk-container-id-2 div.sk-serial::before {content: \"\";position: absolute;border-left: 1px solid gray;box-sizing: border-box;top: 0;bottom: 0;left: 50%;z-index: 0;}#sk-container-id-2 div.sk-serial {display: flex;flex-direction: column;align-items: center;background-color: white;padding-right: 0.2em;padding-left: 0.2em;position: relative;}#sk-container-id-2 div.sk-item {position: relative;z-index: 1;}#sk-container-id-2 div.sk-parallel {display: flex;align-items: stretch;justify-content: center;background-color: white;position: relative;}#sk-container-id-2 div.sk-item::before, #sk-container-id-2 div.sk-parallel-item::before {content: \"\";position: absolute;border-left: 1px solid gray;box-sizing: border-box;top: 0;bottom: 0;left: 50%;z-index: -1;}#sk-container-id-2 div.sk-parallel-item {display: flex;flex-direction: column;z-index: 1;position: relative;background-color: white;}#sk-container-id-2 div.sk-parallel-item:first-child::after {align-self: flex-end;width: 50%;}#sk-container-id-2 div.sk-parallel-item:last-child::after {align-self: flex-start;width: 50%;}#sk-container-id-2 div.sk-parallel-item:only-child::after {width: 0;}#sk-container-id-2 div.sk-dashed-wrapped {border: 1px dashed gray;margin: 0 0.4em 0.5em 0.4em;box-sizing: border-box;padding-bottom: 0.4em;background-color: white;}#sk-container-id-2 div.sk-label label {font-family: monospace;font-weight: bold;display: inline-block;line-height: 1.2em;}#sk-container-id-2 div.sk-label-container {text-align: center;}#sk-container-id-2 div.sk-container {/* jupyter's `normalize.less` sets `[hidden] { display: none; }` but bootstrap.min.css set `[hidden] { display: none !important; }` so we also need the `!important` here to be able to override the default hidden behavior on the sphinx rendered scikit-learn.org. See: https://github.com/scikit-learn/scikit-learn/issues/21755 */display: inline-block !important;position: relative;}#sk-container-id-2 div.sk-text-repr-fallback {display: none;}</style><div id=\"sk-container-id-2\" class=\"sk-top-container\"><div class=\"sk-text-repr-fallback\"><pre>KNeighborsClassifier(metric=&#x27;manhattan&#x27;, n_jobs=-1, n_neighbors=100)</pre><b>In a Jupyter environment, please rerun this cell to show the HTML representation or trust the notebook. <br />On GitHub, the HTML representation is unable to render, please try loading this page with nbviewer.org.</b></div><div class=\"sk-container\" hidden><div class=\"sk-item\"><div class=\"sk-estimator sk-toggleable\"><input class=\"sk-toggleable__control sk-hidden--visually\" id=\"sk-estimator-id-2\" type=\"checkbox\" checked><label for=\"sk-estimator-id-2\" class=\"sk-toggleable__label sk-toggleable__label-arrow\">KNeighborsClassifier</label><div class=\"sk-toggleable__content\"><pre>KNeighborsClassifier(metric=&#x27;manhattan&#x27;, n_jobs=-1, n_neighbors=100)</pre></div></div></div></div></div>"
            ]
          },
          "metadata": {},
          "execution_count": 169
        }
      ]
    },
    {
      "cell_type": "markdown",
      "source": [
        "Використовуючи натреновану модель, робимо прогнози на тестовому наборі даних:"
      ],
      "metadata": {
        "id": "X8C8L6YL6E8o"
      }
    },
    {
      "cell_type": "code",
      "source": [
        "predicted = model.predict(X_test) #ПРогнозовані мітки класів\n",
        "predicted_p = model.predict_proba(X_test)"
      ],
      "metadata": {
        "id": "6hLdUuW76SRc"
      },
      "execution_count": 170,
      "outputs": []
    },
    {
      "cell_type": "markdown",
      "source": [
        "Також робимо прогнози на навчальному наборі для подальшої оцінки перенавчання моделі:"
      ],
      "metadata": {
        "id": "czXxKUMg6w2I"
      }
    },
    {
      "cell_type": "code",
      "source": [
        "predicted_train = model.predict(X_train) #ПРогнозовані мітки класів\n",
        "predicted_p_train = model.predict_proba(X_train) #Ймовірності приналежності до кожного класу"
      ],
      "metadata": {
        "id": "V_oPwbqL62do"
      },
      "execution_count": 171,
      "outputs": []
    },
    {
      "cell_type": "markdown",
      "source": [
        "Виводимо прогнозовані мітки класів для тестового набору даних:"
      ],
      "metadata": {
        "id": "g0doDg2Y7IiE"
      }
    },
    {
      "cell_type": "code",
      "source": [
        "print(predicted)"
      ],
      "metadata": {
        "colab": {
          "base_uri": "https://localhost:8080/"
        },
        "id": "LcQEi3A-7KaL",
        "outputId": "298711f0-c13f-4369-b13c-8599b76aa247"
      },
      "execution_count": 172,
      "outputs": [
        {
          "output_type": "stream",
          "name": "stdout",
          "text": [
            "['Small' 'Medium' 'Small' 'Small' 'Medium' 'Small' 'Small' 'Small'\n",
            " 'Medium' 'Small' 'Small' 'Small' 'Small' 'Medium' 'Small' 'Medium'\n",
            " 'Small' 'Medium' 'Small' 'Small' 'Medium' 'Medium' 'Medium' 'Medium'\n",
            " 'Small' 'Small' 'Medium' 'Small' 'Medium' 'Small' 'Small' 'Small' 'Small'\n",
            " 'Small' 'Small' 'Medium' 'Small' 'Medium' 'Small' 'Small' 'Small' 'Small'\n",
            " 'Small' 'Small' 'Medium' 'Small' 'Small' 'Small' 'Medium' 'Small' 'Small'\n",
            " 'Small' 'Small' 'Medium' 'Medium' 'Medium' 'Medium' 'Small' 'Small'\n",
            " 'Medium' 'Medium' 'Small' 'Small' 'Medium' 'Small' 'Small' 'Small'\n",
            " 'Small' 'Medium' 'Small' 'Small' 'Small' 'Medium' 'Medium' 'Small'\n",
            " 'Medium' 'Medium' 'Medium' 'Small' 'Medium' 'Small' 'Small' 'Medium'\n",
            " 'Small' 'Small' 'Medium' 'Small' 'Small' 'Medium' 'Small' 'Small' 'Small'\n",
            " 'Medium' 'Medium' 'Medium' 'Small' 'Small' 'Small' 'Small' 'Medium'\n",
            " 'Small' 'Small' 'Small' 'Small' 'Small' 'Small' 'Small' 'Small' 'Small'\n",
            " 'Medium' 'Medium' 'Medium' 'Medium' 'Medium' 'Small' 'Small' 'Small'\n",
            " 'Small' 'Small' 'Small' 'Small' 'Small' 'Medium' 'Small' 'Small' 'Small'\n",
            " 'Medium' 'Small' 'Medium' 'Small' 'Small' 'Medium' 'Small' 'Medium'\n",
            " 'Small' 'Small' 'Medium' 'Medium' 'Medium' 'Medium' 'Small' 'Medium'\n",
            " 'Medium' 'Small' 'Medium' 'Medium' 'Small' 'Small' 'Medium' 'Medium'\n",
            " 'Medium' 'Small' 'Small' 'Medium' 'Medium' 'Small' 'Medium' 'Small'\n",
            " 'Small' 'Small' 'Medium' 'Small' 'Small' 'Small' 'Small' 'Small' 'Small'\n",
            " 'Small' 'Small' 'Small' 'Medium' 'Small' 'Small' 'Small' 'Small' 'Medium'\n",
            " 'Small' 'Small' 'Small' 'Small' 'Small' 'Small' 'Small' 'Small' 'Small'\n",
            " 'Medium' 'Small' 'Medium' 'Small' 'Medium' 'Medium' 'Medium' 'Small'\n",
            " 'Small' 'Small' 'Medium' 'Small' 'Medium' 'Small' 'Small' 'Small'\n",
            " 'Medium' 'Small' 'Small' 'Small' 'Small' 'Medium' 'Small' 'Small'\n",
            " 'Medium' 'Small' 'Small' 'Small' 'Small' 'Small' 'Small' 'Small' 'Medium'\n",
            " 'Medium' 'Small' 'Small' 'Small' 'Medium' 'Small' 'Medium' 'Small'\n",
            " 'Small' 'Small' 'Medium' 'Small' 'Small' 'Medium' 'Small' 'Small' 'Small'\n",
            " 'Medium' 'Small' 'Small' 'Small' 'Medium' 'Small' 'Medium' 'Small'\n",
            " 'Small' 'Medium' 'Small' 'Medium' 'Small' 'Small' 'Small' 'Small'\n",
            " 'Medium' 'Small' 'Small' 'Small' 'Small' 'Medium' 'Small' 'Small'\n",
            " 'Medium' 'Medium' 'Small' 'Small' 'Small' 'Medium' 'Medium' 'Small'\n",
            " 'Small' 'Small' 'Medium' 'Small' 'Medium' 'Medium' 'Small' 'Medium'\n",
            " 'Small' 'Small' 'Small' 'Small' 'Medium' 'Medium' 'Medium' 'Small'\n",
            " 'Small' 'Small' 'Small' 'Medium' 'Medium' 'Small' 'Small' 'Medium'\n",
            " 'Small' 'Small' 'Small' 'Small' 'Small' 'Small' 'Medium' 'Medium'\n",
            " 'Medium' 'Small' 'Small' 'Medium' 'Small' 'Small' 'Small' 'Medium'\n",
            " 'Small' 'Medium' 'Small' 'Medium' 'Small' 'Small' 'Medium' 'Medium'\n",
            " 'Medium' 'Small' 'Small' 'Small' 'Small' 'Small' 'Small' 'Small' 'Small'\n",
            " 'Small' 'Small' 'Medium' 'Small' 'Small' 'Medium' 'Small' 'Small'\n",
            " 'Medium' 'Small' 'Medium' 'Small' 'Medium' 'Small' 'Medium' 'Medium'\n",
            " 'Medium' 'Medium' 'Small' 'Small' 'Small' 'Small' 'Small' 'Small' 'Small'\n",
            " 'Small' 'Small' 'Small' 'Small' 'Small' 'Small' 'Small' 'Small' 'Small'\n",
            " 'Small' 'Small' 'Medium' 'Small' 'Medium' 'Small' 'Medium' 'Small'\n",
            " 'Medium' 'Small' 'Small' 'Medium' 'Small' 'Small' 'Medium' 'Small'\n",
            " 'Medium' 'Medium' 'Small' 'Small' 'Small' 'Small' 'Medium' 'Small'\n",
            " 'Small' 'Small' 'Small' 'Small' 'Small' 'Medium' 'Medium' 'Medium'\n",
            " 'Medium' 'Small' 'Small' 'Small' 'Medium' 'Small' 'Small' 'Small' 'Small'\n",
            " 'Small' 'Small' 'Small' 'Small' 'Medium' 'Medium' 'Medium' 'Small'\n",
            " 'Small' 'Small' 'Medium' 'Small' 'Small' 'Medium' 'Small' 'Small' 'Small'\n",
            " 'Small' 'Small' 'Small' 'Small' 'Small' 'Small' 'Small' 'Medium' 'Medium'\n",
            " 'Small' 'Medium' 'Small' 'Small' 'Small' 'Small' 'Small' 'Small' 'Medium'\n",
            " 'Small' 'Small' 'Medium' 'Small' 'Medium' 'Small' 'Small' 'Small' 'Small'\n",
            " 'Small' 'Small' 'Small' 'Medium' 'Small' 'Small' 'Small' 'Medium' 'Small'\n",
            " 'Small' 'Small' 'Small' 'Small' 'Small' 'Medium' 'Small' 'Medium'\n",
            " 'Medium' 'Small' 'Medium' 'Small' 'Medium' 'Small' 'Medium' 'Medium'\n",
            " 'Small' 'Small' 'Small' 'Small' 'Medium' 'Small' 'Small' 'Medium' 'Small'\n",
            " 'Small' 'Small' 'Medium' 'Small' 'Small' 'Small' 'Medium' 'Small' 'Small'\n",
            " 'Small' 'Small' 'Medium' 'Small' 'Small' 'Small' 'Medium']\n"
          ]
        }
      ]
    },
    {
      "cell_type": "markdown",
      "source": [
        "Виводимо прогнозовані ймовірності приналежності до кожного класу для тестового набору даних:"
      ],
      "metadata": {
        "id": "TM22WvrB9gc8"
      }
    },
    {
      "cell_type": "code",
      "source": [
        "print(predicted_p)"
      ],
      "metadata": {
        "colab": {
          "base_uri": "https://localhost:8080/"
        },
        "id": "nVbHYsPI9h42",
        "outputId": "50f49d88-6803-4d48-fcfb-0786eba55a6b"
      },
      "execution_count": 173,
      "outputs": [
        {
          "output_type": "stream",
          "name": "stdout",
          "text": [
            "[[0.39 0.61]\n",
            " [0.58 0.42]\n",
            " [0.43 0.57]\n",
            " [0.43 0.57]\n",
            " [0.68 0.32]\n",
            " [0.43 0.57]\n",
            " [0.42 0.58]\n",
            " [0.4  0.6 ]\n",
            " [0.73 0.27]\n",
            " [0.43 0.57]\n",
            " [0.43 0.57]\n",
            " [0.34 0.66]\n",
            " [0.46 0.54]\n",
            " [0.8  0.2 ]\n",
            " [0.43 0.57]\n",
            " [0.54 0.46]\n",
            " [0.44 0.56]\n",
            " [0.7  0.3 ]\n",
            " [0.4  0.6 ]\n",
            " [0.43 0.57]\n",
            " [0.52 0.48]\n",
            " [0.65 0.35]\n",
            " [0.56 0.44]\n",
            " [0.72 0.28]\n",
            " [0.49 0.51]\n",
            " [0.37 0.63]\n",
            " [0.64 0.36]\n",
            " [0.37 0.63]\n",
            " [0.77 0.23]\n",
            " [0.45 0.55]\n",
            " [0.45 0.55]\n",
            " [0.33 0.67]\n",
            " [0.47 0.53]\n",
            " [0.34 0.66]\n",
            " [0.34 0.66]\n",
            " [0.77 0.23]\n",
            " [0.46 0.54]\n",
            " [0.5  0.5 ]\n",
            " [0.38 0.62]\n",
            " [0.48 0.52]\n",
            " [0.35 0.65]\n",
            " [0.4  0.6 ]\n",
            " [0.3  0.7 ]\n",
            " [0.34 0.66]\n",
            " [0.67 0.33]\n",
            " [0.44 0.56]\n",
            " [0.48 0.52]\n",
            " [0.38 0.62]\n",
            " [0.74 0.26]\n",
            " [0.37 0.63]\n",
            " [0.46 0.54]\n",
            " [0.35 0.65]\n",
            " [0.39 0.61]\n",
            " [0.57 0.43]\n",
            " [0.71 0.29]\n",
            " [0.7  0.3 ]\n",
            " [0.57 0.43]\n",
            " [0.35 0.65]\n",
            " [0.3  0.7 ]\n",
            " [0.54 0.46]\n",
            " [0.77 0.23]\n",
            " [0.35 0.65]\n",
            " [0.37 0.63]\n",
            " [0.77 0.23]\n",
            " [0.44 0.56]\n",
            " [0.37 0.63]\n",
            " [0.49 0.51]\n",
            " [0.3  0.7 ]\n",
            " [0.5  0.5 ]\n",
            " [0.37 0.63]\n",
            " [0.36 0.64]\n",
            " [0.48 0.52]\n",
            " [0.77 0.23]\n",
            " [0.55 0.45]\n",
            " [0.43 0.57]\n",
            " [0.54 0.46]\n",
            " [0.51 0.49]\n",
            " [0.5  0.5 ]\n",
            " [0.43 0.57]\n",
            " [0.61 0.39]\n",
            " [0.38 0.62]\n",
            " [0.44 0.56]\n",
            " [0.74 0.26]\n",
            " [0.37 0.63]\n",
            " [0.45 0.55]\n",
            " [0.65 0.35]\n",
            " [0.46 0.54]\n",
            " [0.4  0.6 ]\n",
            " [0.73 0.27]\n",
            " [0.41 0.59]\n",
            " [0.27 0.73]\n",
            " [0.33 0.67]\n",
            " [0.52 0.48]\n",
            " [0.74 0.26]\n",
            " [0.66 0.34]\n",
            " [0.44 0.56]\n",
            " [0.49 0.51]\n",
            " [0.32 0.68]\n",
            " [0.41 0.59]\n",
            " [0.59 0.41]\n",
            " [0.3  0.7 ]\n",
            " [0.38 0.62]\n",
            " [0.35 0.65]\n",
            " [0.34 0.66]\n",
            " [0.42 0.58]\n",
            " [0.47 0.53]\n",
            " [0.41 0.59]\n",
            " [0.38 0.62]\n",
            " [0.34 0.66]\n",
            " [0.67 0.33]\n",
            " [0.63 0.37]\n",
            " [0.64 0.36]\n",
            " [0.71 0.29]\n",
            " [0.6  0.4 ]\n",
            " [0.39 0.61]\n",
            " [0.38 0.62]\n",
            " [0.38 0.62]\n",
            " [0.31 0.69]\n",
            " [0.41 0.59]\n",
            " [0.39 0.61]\n",
            " [0.41 0.59]\n",
            " [0.41 0.59]\n",
            " [0.51 0.49]\n",
            " [0.42 0.58]\n",
            " [0.4  0.6 ]\n",
            " [0.36 0.64]\n",
            " [0.73 0.27]\n",
            " [0.42 0.58]\n",
            " [0.64 0.36]\n",
            " [0.42 0.58]\n",
            " [0.42 0.58]\n",
            " [0.77 0.23]\n",
            " [0.44 0.56]\n",
            " [0.6  0.4 ]\n",
            " [0.44 0.56]\n",
            " [0.42 0.58]\n",
            " [0.55 0.45]\n",
            " [0.73 0.27]\n",
            " [0.77 0.23]\n",
            " [0.51 0.49]\n",
            " [0.47 0.53]\n",
            " [0.77 0.23]\n",
            " [0.69 0.31]\n",
            " [0.35 0.65]\n",
            " [0.7  0.3 ]\n",
            " [0.67 0.33]\n",
            " [0.28 0.72]\n",
            " [0.35 0.65]\n",
            " [0.64 0.36]\n",
            " [0.51 0.49]\n",
            " [0.64 0.36]\n",
            " [0.46 0.54]\n",
            " [0.44 0.56]\n",
            " [0.65 0.35]\n",
            " [0.56 0.44]\n",
            " [0.41 0.59]\n",
            " [0.51 0.49]\n",
            " [0.45 0.55]\n",
            " [0.48 0.52]\n",
            " [0.42 0.58]\n",
            " [0.74 0.26]\n",
            " [0.4  0.6 ]\n",
            " [0.45 0.55]\n",
            " [0.43 0.57]\n",
            " [0.29 0.71]\n",
            " [0.36 0.64]\n",
            " [0.41 0.59]\n",
            " [0.33 0.67]\n",
            " [0.44 0.56]\n",
            " [0.45 0.55]\n",
            " [0.73 0.27]\n",
            " [0.48 0.52]\n",
            " [0.43 0.57]\n",
            " [0.31 0.69]\n",
            " [0.38 0.62]\n",
            " [0.59 0.41]\n",
            " [0.33 0.67]\n",
            " [0.42 0.58]\n",
            " [0.44 0.56]\n",
            " [0.39 0.61]\n",
            " [0.31 0.69]\n",
            " [0.45 0.55]\n",
            " [0.4  0.6 ]\n",
            " [0.43 0.57]\n",
            " [0.34 0.66]\n",
            " [0.68 0.32]\n",
            " [0.47 0.53]\n",
            " [0.71 0.29]\n",
            " [0.48 0.52]\n",
            " [0.52 0.48]\n",
            " [0.51 0.49]\n",
            " [0.75 0.25]\n",
            " [0.45 0.55]\n",
            " [0.47 0.53]\n",
            " [0.45 0.55]\n",
            " [0.53 0.47]\n",
            " [0.36 0.64]\n",
            " [0.77 0.23]\n",
            " [0.4  0.6 ]\n",
            " [0.42 0.58]\n",
            " [0.38 0.62]\n",
            " [0.74 0.26]\n",
            " [0.37 0.63]\n",
            " [0.45 0.55]\n",
            " [0.35 0.65]\n",
            " [0.48 0.52]\n",
            " [0.5  0.5 ]\n",
            " [0.37 0.63]\n",
            " [0.34 0.66]\n",
            " [0.68 0.32]\n",
            " [0.42 0.58]\n",
            " [0.39 0.61]\n",
            " [0.44 0.56]\n",
            " [0.31 0.69]\n",
            " [0.46 0.54]\n",
            " [0.4  0.6 ]\n",
            " [0.38 0.62]\n",
            " [0.61 0.39]\n",
            " [0.6  0.4 ]\n",
            " [0.43 0.57]\n",
            " [0.36 0.64]\n",
            " [0.42 0.58]\n",
            " [0.56 0.44]\n",
            " [0.39 0.61]\n",
            " [0.66 0.34]\n",
            " [0.31 0.69]\n",
            " [0.46 0.54]\n",
            " [0.48 0.52]\n",
            " [0.57 0.43]\n",
            " [0.44 0.56]\n",
            " [0.39 0.61]\n",
            " [0.78 0.22]\n",
            " [0.49 0.51]\n",
            " [0.38 0.62]\n",
            " [0.38 0.62]\n",
            " [0.59 0.41]\n",
            " [0.41 0.59]\n",
            " [0.42 0.58]\n",
            " [0.36 0.64]\n",
            " [0.5  0.5 ]\n",
            " [0.46 0.54]\n",
            " [0.51 0.49]\n",
            " [0.49 0.51]\n",
            " [0.42 0.58]\n",
            " [0.67 0.33]\n",
            " [0.47 0.53]\n",
            " [0.73 0.27]\n",
            " [0.43 0.57]\n",
            " [0.35 0.65]\n",
            " [0.48 0.52]\n",
            " [0.28 0.72]\n",
            " [0.75 0.25]\n",
            " [0.32 0.68]\n",
            " [0.34 0.66]\n",
            " [0.48 0.52]\n",
            " [0.4  0.6 ]\n",
            " [0.51 0.49]\n",
            " [0.44 0.56]\n",
            " [0.42 0.58]\n",
            " [0.66 0.34]\n",
            " [0.55 0.45]\n",
            " [0.37 0.63]\n",
            " [0.49 0.51]\n",
            " [0.48 0.52]\n",
            " [0.6  0.4 ]\n",
            " [0.55 0.45]\n",
            " [0.4  0.6 ]\n",
            " [0.3  0.7 ]\n",
            " [0.46 0.54]\n",
            " [0.52 0.48]\n",
            " [0.47 0.53]\n",
            " [0.58 0.42]\n",
            " [0.68 0.32]\n",
            " [0.44 0.56]\n",
            " [0.63 0.37]\n",
            " [0.33 0.67]\n",
            " [0.49 0.51]\n",
            " [0.44 0.56]\n",
            " [0.38 0.62]\n",
            " [0.73 0.27]\n",
            " [0.58 0.42]\n",
            " [0.69 0.31]\n",
            " [0.31 0.69]\n",
            " [0.44 0.56]\n",
            " [0.34 0.66]\n",
            " [0.4  0.6 ]\n",
            " [0.58 0.42]\n",
            " [0.76 0.24]\n",
            " [0.3  0.7 ]\n",
            " [0.41 0.59]\n",
            " [0.65 0.35]\n",
            " [0.43 0.57]\n",
            " [0.47 0.53]\n",
            " [0.32 0.68]\n",
            " [0.49 0.51]\n",
            " [0.27 0.73]\n",
            " [0.43 0.57]\n",
            " [0.67 0.33]\n",
            " [0.79 0.21]\n",
            " [0.78 0.22]\n",
            " [0.49 0.51]\n",
            " [0.44 0.56]\n",
            " [0.52 0.48]\n",
            " [0.39 0.61]\n",
            " [0.44 0.56]\n",
            " [0.33 0.67]\n",
            " [0.7  0.3 ]\n",
            " [0.44 0.56]\n",
            " [0.72 0.28]\n",
            " [0.33 0.67]\n",
            " [0.51 0.49]\n",
            " [0.42 0.58]\n",
            " [0.36 0.64]\n",
            " [0.53 0.47]\n",
            " [0.71 0.29]\n",
            " [0.56 0.44]\n",
            " [0.41 0.59]\n",
            " [0.47 0.53]\n",
            " [0.48 0.52]\n",
            " [0.36 0.64]\n",
            " [0.33 0.67]\n",
            " [0.42 0.58]\n",
            " [0.41 0.59]\n",
            " [0.32 0.68]\n",
            " [0.45 0.55]\n",
            " [0.34 0.66]\n",
            " [0.62 0.38]\n",
            " [0.47 0.53]\n",
            " [0.31 0.69]\n",
            " [0.72 0.28]\n",
            " [0.4  0.6 ]\n",
            " [0.36 0.64]\n",
            " [0.76 0.24]\n",
            " [0.49 0.51]\n",
            " [0.63 0.37]\n",
            " [0.39 0.61]\n",
            " [0.75 0.25]\n",
            " [0.48 0.52]\n",
            " [0.64 0.36]\n",
            " [0.52 0.48]\n",
            " [0.56 0.44]\n",
            " [0.67 0.33]\n",
            " [0.29 0.71]\n",
            " [0.49 0.51]\n",
            " [0.32 0.68]\n",
            " [0.44 0.56]\n",
            " [0.38 0.62]\n",
            " [0.4  0.6 ]\n",
            " [0.39 0.61]\n",
            " [0.3  0.7 ]\n",
            " [0.4  0.6 ]\n",
            " [0.46 0.54]\n",
            " [0.38 0.62]\n",
            " [0.39 0.61]\n",
            " [0.35 0.65]\n",
            " [0.39 0.61]\n",
            " [0.36 0.64]\n",
            " [0.35 0.65]\n",
            " [0.47 0.53]\n",
            " [0.42 0.58]\n",
            " [0.57 0.43]\n",
            " [0.33 0.67]\n",
            " [0.51 0.49]\n",
            " [0.43 0.57]\n",
            " [0.78 0.22]\n",
            " [0.44 0.56]\n",
            " [0.72 0.28]\n",
            " [0.32 0.68]\n",
            " [0.43 0.57]\n",
            " [0.71 0.29]\n",
            " [0.47 0.53]\n",
            " [0.39 0.61]\n",
            " [0.63 0.37]\n",
            " [0.29 0.71]\n",
            " [0.7  0.3 ]\n",
            " [0.51 0.49]\n",
            " [0.37 0.63]\n",
            " [0.42 0.58]\n",
            " [0.47 0.53]\n",
            " [0.47 0.53]\n",
            " [0.5  0.5 ]\n",
            " [0.3  0.7 ]\n",
            " [0.4  0.6 ]\n",
            " [0.43 0.57]\n",
            " [0.31 0.69]\n",
            " [0.31 0.69]\n",
            " [0.41 0.59]\n",
            " [0.61 0.39]\n",
            " [0.61 0.39]\n",
            " [0.58 0.42]\n",
            " [0.57 0.43]\n",
            " [0.34 0.66]\n",
            " [0.44 0.56]\n",
            " [0.34 0.66]\n",
            " [0.52 0.48]\n",
            " [0.49 0.51]\n",
            " [0.45 0.55]\n",
            " [0.37 0.63]\n",
            " [0.38 0.62]\n",
            " [0.4  0.6 ]\n",
            " [0.48 0.52]\n",
            " [0.43 0.57]\n",
            " [0.48 0.52]\n",
            " [0.73 0.27]\n",
            " [0.51 0.49]\n",
            " [0.74 0.26]\n",
            " [0.33 0.67]\n",
            " [0.3  0.7 ]\n",
            " [0.46 0.54]\n",
            " [0.77 0.23]\n",
            " [0.46 0.54]\n",
            " [0.42 0.58]\n",
            " [0.51 0.49]\n",
            " [0.45 0.55]\n",
            " [0.31 0.69]\n",
            " [0.43 0.57]\n",
            " [0.28 0.72]\n",
            " [0.49 0.51]\n",
            " [0.35 0.65]\n",
            " [0.31 0.69]\n",
            " [0.43 0.57]\n",
            " [0.36 0.64]\n",
            " [0.39 0.61]\n",
            " [0.52 0.48]\n",
            " [0.72 0.28]\n",
            " [0.45 0.55]\n",
            " [0.55 0.45]\n",
            " [0.42 0.58]\n",
            " [0.42 0.58]\n",
            " [0.32 0.68]\n",
            " [0.4  0.6 ]\n",
            " [0.46 0.54]\n",
            " [0.41 0.59]\n",
            " [0.53 0.47]\n",
            " [0.4  0.6 ]\n",
            " [0.38 0.62]\n",
            " [0.58 0.42]\n",
            " [0.41 0.59]\n",
            " [0.56 0.44]\n",
            " [0.49 0.51]\n",
            " [0.31 0.69]\n",
            " [0.37 0.63]\n",
            " [0.37 0.63]\n",
            " [0.39 0.61]\n",
            " [0.33 0.67]\n",
            " [0.43 0.57]\n",
            " [0.7  0.3 ]\n",
            " [0.44 0.56]\n",
            " [0.45 0.55]\n",
            " [0.49 0.51]\n",
            " [0.62 0.38]\n",
            " [0.3  0.7 ]\n",
            " [0.46 0.54]\n",
            " [0.46 0.54]\n",
            " [0.37 0.63]\n",
            " [0.42 0.58]\n",
            " [0.4  0.6 ]\n",
            " [0.51 0.49]\n",
            " [0.45 0.55]\n",
            " [0.61 0.39]\n",
            " [0.62 0.38]\n",
            " [0.39 0.61]\n",
            " [0.57 0.43]\n",
            " [0.33 0.67]\n",
            " [0.53 0.47]\n",
            " [0.29 0.71]\n",
            " [0.56 0.44]\n",
            " [0.57 0.43]\n",
            " [0.34 0.66]\n",
            " [0.35 0.65]\n",
            " [0.42 0.58]\n",
            " [0.44 0.56]\n",
            " [0.55 0.45]\n",
            " [0.35 0.65]\n",
            " [0.44 0.56]\n",
            " [0.69 0.31]\n",
            " [0.44 0.56]\n",
            " [0.33 0.67]\n",
            " [0.41 0.59]\n",
            " [0.53 0.47]\n",
            " [0.43 0.57]\n",
            " [0.43 0.57]\n",
            " [0.38 0.62]\n",
            " [0.73 0.27]\n",
            " [0.39 0.61]\n",
            " [0.4  0.6 ]\n",
            " [0.48 0.52]\n",
            " [0.39 0.61]\n",
            " [0.66 0.34]\n",
            " [0.45 0.55]\n",
            " [0.37 0.63]\n",
            " [0.45 0.55]\n",
            " [0.5  0.5 ]]\n"
          ]
        }
      ]
    },
    {
      "cell_type": "markdown",
      "source": [
        "Кожен рядок виводу відповідає одному прикладу з тестового набору, а кожен стовпець відповідає ймовірності приналежності до конкретного класу. Ці значення можна використовувати для отримання деталізованої інформації про правильність прогнозів моделі та для розрахунку різних метрик оцінки якості моделі.\n",
        "\n",
        "Обчислюємо і виводимо частку правильних прогнозів (точність) на тестовому наборі даних:\n"
      ],
      "metadata": {
        "id": "wCdUdVKG9q44"
      }
    },
    {
      "cell_type": "code",
      "source": [
        "print((Y_test == predicted).mean())"
      ],
      "metadata": {
        "colab": {
          "base_uri": "https://localhost:8080/"
        },
        "id": "J6I9jads9uQ3",
        "outputId": "f0d350db-5a2e-4dbb-d31e-cdcea3c312a1"
      },
      "execution_count": 174,
      "outputs": [
        {
          "output_type": "stream",
          "name": "stdout",
          "text": [
            "0.821501014198783\n"
          ]
        }
      ]
    },
    {
      "cell_type": "markdown",
      "source": [
        "Побудована модель k-найближчих сусідів (KNN) демонструє точність приблизно 0.82 (або 82%) на тестовому наборі даних. Це означає, що модель правильно класифікує приблизно 82% прикладів з тестового набору."
      ],
      "metadata": {
        "id": "CZWPq4x695K0"
      }
    },
    {
      "cell_type": "markdown",
      "source": [
        "Відсортовуємо й виводимо ймовірності приналежності до класу 1 (другий стовпець predicted_p) також виводимо реальні мітки класів з тестового набору (Y_test) для порівняння:"
      ],
      "metadata": {
        "id": "HLtcGJz9-Ahq"
      }
    },
    {
      "cell_type": "code",
      "source": [
        "np.sort(predicted_p[:, 1]), Y_test.values"
      ],
      "metadata": {
        "colab": {
          "base_uri": "https://localhost:8080/"
        },
        "id": "c2uDD154-B1z",
        "outputId": "982aa71c-390d-4864-8328-1fa957203335"
      },
      "execution_count": 175,
      "outputs": [
        {
          "output_type": "execute_result",
          "data": {
            "text/plain": [
              "(array([0.2 , 0.21, 0.22, 0.22, 0.22, 0.23, 0.23, 0.23, 0.23, 0.23, 0.23,\n",
              "        0.23, 0.23, 0.23, 0.23, 0.24, 0.24, 0.25, 0.25, 0.25, 0.26, 0.26,\n",
              "        0.26, 0.26, 0.26, 0.26, 0.27, 0.27, 0.27, 0.27, 0.27, 0.27, 0.27,\n",
              "        0.27, 0.27, 0.28, 0.28, 0.28, 0.28, 0.28, 0.29, 0.29, 0.29, 0.29,\n",
              "        0.29, 0.3 , 0.3 , 0.3 , 0.3 , 0.3 , 0.3 , 0.31, 0.31, 0.31, 0.32,\n",
              "        0.32, 0.32, 0.32, 0.33, 0.33, 0.33, 0.33, 0.33, 0.33, 0.34, 0.34,\n",
              "        0.34, 0.34, 0.35, 0.35, 0.35, 0.35, 0.36, 0.36, 0.36, 0.36, 0.36,\n",
              "        0.36, 0.37, 0.37, 0.37, 0.37, 0.38, 0.38, 0.38, 0.39, 0.39, 0.39,\n",
              "        0.39, 0.39, 0.4 , 0.4 , 0.4 , 0.4 , 0.41, 0.41, 0.41, 0.42, 0.42,\n",
              "        0.42, 0.42, 0.42, 0.42, 0.43, 0.43, 0.43, 0.43, 0.43, 0.43, 0.43,\n",
              "        0.44, 0.44, 0.44, 0.44, 0.44, 0.44, 0.44, 0.45, 0.45, 0.45, 0.45,\n",
              "        0.45, 0.45, 0.46, 0.46, 0.46, 0.47, 0.47, 0.47, 0.47, 0.47, 0.48,\n",
              "        0.48, 0.48, 0.48, 0.48, 0.48, 0.48, 0.48, 0.49, 0.49, 0.49, 0.49,\n",
              "        0.49, 0.49, 0.49, 0.49, 0.49, 0.49, 0.49, 0.49, 0.49, 0.49, 0.5 ,\n",
              "        0.5 , 0.5 , 0.5 , 0.5 , 0.5 , 0.5 , 0.51, 0.51, 0.51, 0.51, 0.51,\n",
              "        0.51, 0.51, 0.51, 0.51, 0.51, 0.51, 0.51, 0.51, 0.51, 0.51, 0.52,\n",
              "        0.52, 0.52, 0.52, 0.52, 0.52, 0.52, 0.52, 0.52, 0.52, 0.52, 0.52,\n",
              "        0.52, 0.52, 0.52, 0.52, 0.53, 0.53, 0.53, 0.53, 0.53, 0.53, 0.53,\n",
              "        0.53, 0.53, 0.53, 0.53, 0.53, 0.53, 0.53, 0.54, 0.54, 0.54, 0.54,\n",
              "        0.54, 0.54, 0.54, 0.54, 0.54, 0.54, 0.54, 0.54, 0.54, 0.54, 0.54,\n",
              "        0.55, 0.55, 0.55, 0.55, 0.55, 0.55, 0.55, 0.55, 0.55, 0.55, 0.55,\n",
              "        0.55, 0.55, 0.55, 0.55, 0.55, 0.55, 0.55, 0.56, 0.56, 0.56, 0.56,\n",
              "        0.56, 0.56, 0.56, 0.56, 0.56, 0.56, 0.56, 0.56, 0.56, 0.56, 0.56,\n",
              "        0.56, 0.56, 0.56, 0.56, 0.56, 0.56, 0.56, 0.56, 0.56, 0.56, 0.56,\n",
              "        0.57, 0.57, 0.57, 0.57, 0.57, 0.57, 0.57, 0.57, 0.57, 0.57, 0.57,\n",
              "        0.57, 0.57, 0.57, 0.57, 0.57, 0.57, 0.57, 0.57, 0.57, 0.57, 0.57,\n",
              "        0.57, 0.57, 0.57, 0.58, 0.58, 0.58, 0.58, 0.58, 0.58, 0.58, 0.58,\n",
              "        0.58, 0.58, 0.58, 0.58, 0.58, 0.58, 0.58, 0.58, 0.58, 0.58, 0.58,\n",
              "        0.58, 0.58, 0.58, 0.58, 0.58, 0.59, 0.59, 0.59, 0.59, 0.59, 0.59,\n",
              "        0.59, 0.59, 0.59, 0.59, 0.59, 0.59, 0.59, 0.59, 0.59, 0.59, 0.6 ,\n",
              "        0.6 , 0.6 , 0.6 , 0.6 , 0.6 , 0.6 , 0.6 , 0.6 , 0.6 , 0.6 , 0.6 ,\n",
              "        0.6 , 0.6 , 0.6 , 0.6 , 0.6 , 0.6 , 0.6 , 0.6 , 0.6 , 0.61, 0.61,\n",
              "        0.61, 0.61, 0.61, 0.61, 0.61, 0.61, 0.61, 0.61, 0.61, 0.61, 0.61,\n",
              "        0.61, 0.61, 0.61, 0.61, 0.61, 0.61, 0.62, 0.62, 0.62, 0.62, 0.62,\n",
              "        0.62, 0.62, 0.62, 0.62, 0.62, 0.62, 0.62, 0.62, 0.62, 0.62, 0.62,\n",
              "        0.62, 0.62, 0.63, 0.63, 0.63, 0.63, 0.63, 0.63, 0.63, 0.63, 0.63,\n",
              "        0.63, 0.63, 0.63, 0.63, 0.63, 0.63, 0.63, 0.64, 0.64, 0.64, 0.64,\n",
              "        0.64, 0.64, 0.64, 0.64, 0.64, 0.64, 0.64, 0.65, 0.65, 0.65, 0.65,\n",
              "        0.65, 0.65, 0.65, 0.65, 0.65, 0.65, 0.65, 0.65, 0.65, 0.65, 0.66,\n",
              "        0.66, 0.66, 0.66, 0.66, 0.66, 0.66, 0.66, 0.66, 0.66, 0.66, 0.66,\n",
              "        0.66, 0.66, 0.67, 0.67, 0.67, 0.67, 0.67, 0.67, 0.67, 0.67, 0.67,\n",
              "        0.67, 0.67, 0.67, 0.67, 0.68, 0.68, 0.68, 0.68, 0.68, 0.68, 0.68,\n",
              "        0.69, 0.69, 0.69, 0.69, 0.69, 0.69, 0.69, 0.69, 0.69, 0.69, 0.69,\n",
              "        0.69, 0.7 , 0.7 , 0.7 , 0.7 , 0.7 , 0.7 , 0.7 , 0.7 , 0.7 , 0.7 ,\n",
              "        0.71, 0.71, 0.71, 0.71, 0.72, 0.72, 0.72, 0.73, 0.73]),\n",
              " array(['Medium', 'Medium', 'Small', 'Medium', 'Medium', 'Small', 'Small',\n",
              "        'Medium', 'Medium', 'Small', 'Small', 'Medium', 'Medium', 'Medium',\n",
              "        'Medium', 'Medium', 'Small', 'Medium', 'Small', 'Small', 'Medium',\n",
              "        'Medium', 'Medium', 'Medium', 'Medium', 'Small', 'Medium',\n",
              "        'Medium', 'Medium', 'Small', 'Small', 'Small', 'Small', 'Small',\n",
              "        'Small', 'Medium', 'Small', 'Medium', 'Small', 'Small', 'Small',\n",
              "        'Small', 'Small', 'Small', 'Medium', 'Small', 'Medium', 'Medium',\n",
              "        'Medium', 'Small', 'Small', 'Small', 'Medium', 'Medium', 'Medium',\n",
              "        'Medium', 'Medium', 'Small', 'Small', 'Medium', 'Medium', 'Small',\n",
              "        'Small', 'Medium', 'Small', 'Small', 'Medium', 'Small', 'Medium',\n",
              "        'Small', 'Small', 'Small', 'Medium', 'Medium', 'Small', 'Medium',\n",
              "        'Small', 'Medium', 'Small', 'Medium', 'Small', 'Small', 'Medium',\n",
              "        'Small', 'Medium', 'Medium', 'Small', 'Small', 'Medium', 'Medium',\n",
              "        'Small', 'Small', 'Medium', 'Medium', 'Medium', 'Small', 'Small',\n",
              "        'Small', 'Small', 'Medium', 'Small', 'Medium', 'Small', 'Small',\n",
              "        'Small', 'Small', 'Medium', 'Small', 'Small', 'Medium', 'Medium',\n",
              "        'Medium', 'Medium', 'Medium', 'Medium', 'Small', 'Small', 'Small',\n",
              "        'Small', 'Medium', 'Small', 'Small', 'Medium', 'Medium', 'Medium',\n",
              "        'Small', 'Medium', 'Small', 'Medium', 'Small', 'Medium', 'Medium',\n",
              "        'Small', 'Medium', 'Small', 'Small', 'Medium', 'Medium', 'Medium',\n",
              "        'Medium', 'Small', 'Medium', 'Medium', 'Small', 'Medium', 'Medium',\n",
              "        'Small', 'Small', 'Medium', 'Medium', 'Medium', 'Medium', 'Small',\n",
              "        'Medium', 'Medium', 'Small', 'Small', 'Small', 'Small', 'Small',\n",
              "        'Medium', 'Small', 'Medium', 'Small', 'Small', 'Small', 'Small',\n",
              "        'Medium', 'Medium', 'Small', 'Medium', 'Medium', 'Medium', 'Small',\n",
              "        'Small', 'Medium', 'Small', 'Small', 'Small', 'Small', 'Small',\n",
              "        'Small', 'Small', 'Medium', 'Small', 'Medium', 'Small', 'Medium',\n",
              "        'Medium', 'Medium', 'Medium', 'Medium', 'Small', 'Medium', 'Small',\n",
              "        'Medium', 'Small', 'Medium', 'Small', 'Small', 'Medium', 'Medium',\n",
              "        'Small', 'Small', 'Small', 'Medium', 'Medium', 'Small', 'Small',\n",
              "        'Medium', 'Small', 'Small', 'Small', 'Small', 'Small', 'Small',\n",
              "        'Medium', 'Medium', 'Medium', 'Medium', 'Medium', 'Small',\n",
              "        'Medium', 'Small', 'Medium', 'Small', 'Small', 'Medium', 'Medium',\n",
              "        'Small', 'Small', 'Medium', 'Small', 'Small', 'Medium', 'Medium',\n",
              "        'Small', 'Small', 'Small', 'Medium', 'Small', 'Medium', 'Medium',\n",
              "        'Small', 'Medium', 'Small', 'Medium', 'Medium', 'Small', 'Small',\n",
              "        'Small', 'Medium', 'Small', 'Small', 'Small', 'Medium', 'Medium',\n",
              "        'Small', 'Small', 'Medium', 'Medium', 'Medium', 'Medium', 'Medium',\n",
              "        'Medium', 'Medium', 'Small', 'Small', 'Small', 'Medium', 'Small',\n",
              "        'Medium', 'Medium', 'Small', 'Medium', 'Small', 'Small', 'Small',\n",
              "        'Small', 'Medium', 'Medium', 'Medium', 'Small', 'Medium', 'Small',\n",
              "        'Medium', 'Medium', 'Medium', 'Small', 'Small', 'Medium', 'Medium',\n",
              "        'Medium', 'Small', 'Medium', 'Small', 'Small', 'Medium', 'Medium',\n",
              "        'Medium', 'Medium', 'Small', 'Medium', 'Medium', 'Small', 'Small',\n",
              "        'Medium', 'Small', 'Medium', 'Small', 'Small', 'Small', 'Medium',\n",
              "        'Medium', 'Medium', 'Medium', 'Small', 'Medium', 'Small', 'Small',\n",
              "        'Small', 'Small', 'Small', 'Small', 'Small', 'Small', 'Medium',\n",
              "        'Medium', 'Small', 'Medium', 'Medium', 'Small', 'Medium', 'Medium',\n",
              "        'Medium', 'Small', 'Medium', 'Medium', 'Medium', 'Medium',\n",
              "        'Medium', 'Medium', 'Small', 'Medium', 'Small', 'Small', 'Small',\n",
              "        'Small', 'Small', 'Small', 'Small', 'Small', 'Medium', 'Small',\n",
              "        'Small', 'Small', 'Small', 'Small', 'Medium', 'Medium', 'Medium',\n",
              "        'Small', 'Medium', 'Small', 'Medium', 'Small', 'Medium', 'Small',\n",
              "        'Medium', 'Medium', 'Medium', 'Small', 'Medium', 'Small', 'Medium',\n",
              "        'Small', 'Small', 'Medium', 'Medium', 'Medium', 'Medium', 'Small',\n",
              "        'Small', 'Small', 'Small', 'Small', 'Small', 'Medium', 'Medium',\n",
              "        'Medium', 'Medium', 'Small', 'Medium', 'Small', 'Medium', 'Medium',\n",
              "        'Small', 'Small', 'Small', 'Small', 'Medium', 'Medium', 'Small',\n",
              "        'Medium', 'Medium', 'Medium', 'Small', 'Small', 'Medium', 'Medium',\n",
              "        'Small', 'Small', 'Medium', 'Medium', 'Small', 'Medium', 'Small',\n",
              "        'Medium', 'Medium', 'Small', 'Small', 'Small', 'Small', 'Medium',\n",
              "        'Medium', 'Medium', 'Medium', 'Small', 'Small', 'Small', 'Small',\n",
              "        'Small', 'Small', 'Medium', 'Small', 'Small', 'Medium', 'Small',\n",
              "        'Medium', 'Medium', 'Small', 'Small', 'Small', 'Small', 'Small',\n",
              "        'Small', 'Medium', 'Small', 'Small', 'Small', 'Medium', 'Small',\n",
              "        'Medium', 'Small', 'Medium', 'Small', 'Medium', 'Medium', 'Medium',\n",
              "        'Medium', 'Medium', 'Small', 'Medium', 'Small', 'Medium', 'Small',\n",
              "        'Medium', 'Medium', 'Small', 'Small', 'Small', 'Small', 'Medium',\n",
              "        'Small', 'Small', 'Medium', 'Small', 'Small', 'Medium', 'Medium',\n",
              "        'Small', 'Medium', 'Small', 'Medium', 'Small', 'Small', 'Small',\n",
              "        'Small', 'Medium', 'Medium', 'Medium', 'Small', 'Medium'],\n",
              "       dtype=object))"
            ]
          },
          "metadata": {},
          "execution_count": 175
        }
      ]
    },
    {
      "cell_type": "markdown",
      "source": [
        "Ми спостерігаємо, що прогнозовані ймовірності належності до класу 1 розподілені відносно рівномірно від низьких значень до високих. Однак слід зазначити, що деякі з найнижчих ймовірностей можуть бути відносно великими, що може свідчити про те, що модель не впевнена у своїх прогнозах для певних екземплярів. Також може бути важливим врахувати можливість незбалансованості класів, яка може вплинути на якість прогнозування для класу 1."
      ],
      "metadata": {
        "id": "tdIZ_IZ9_JWD"
      }
    },
    {
      "cell_type": "markdown",
      "source": [
        "Аналіз розподілу ймовірностей може допомогти зрозуміти, які приклади є особливими або потенційно складними для моделі."
      ],
      "metadata": {
        "id": "jqwoYbyhvmHg"
      }
    },
    {
      "cell_type": "markdown",
      "source": [
        "Імпортуємо необхідні метрики для оцінки якості моделі з бібліотеки scikit-learn:"
      ],
      "metadata": {
        "id": "C9uC9S4i_Xxb"
      }
    },
    {
      "cell_type": "code",
      "source": [
        "from sklearn.metrics import accuracy_score, f1_score, roc_auc_score, roc_curve, auc"
      ],
      "metadata": {
        "id": "qIIeHaD0_dCH"
      },
      "execution_count": 176,
      "outputs": []
    },
    {
      "cell_type": "markdown",
      "source": [
        "Розраховуємо та виводимо точність та F1-оцінку для тестового набору даних:"
      ],
      "metadata": {
        "id": "K1OJ02_r_ufK"
      }
    },
    {
      "cell_type": "markdown",
      "source": [
        "F1-оцінка - це міра точності бінарного класифікатора, яка об'єднує в собі дві ключові метри: точність (precision) і повноту (recall). Ця оцінка дозволяє оцінити якість класифікації моделі, зокрема, як вона справляється з розпізнаванням позитивних класів."
      ],
      "metadata": {
        "id": "H9J3dPBFv51O"
      }
    },
    {
      "cell_type": "code",
      "source": [
        "print('Test accuracy:', accuracy_score(Y_test, predicted))\n",
        "print('Test F1:', f1_score(Y_test, predicted, average='weighted'))\n"
      ],
      "metadata": {
        "colab": {
          "base_uri": "https://localhost:8080/"
        },
        "id": "t-2srMK6_wH7",
        "outputId": "2269b01f-f992-414c-8fa1-a0dacf843b46"
      },
      "execution_count": 177,
      "outputs": [
        {
          "output_type": "stream",
          "name": "stdout",
          "text": [
            "Test accuracy: 0.821501014198783\n",
            "Test F1: 0.8158353467313724\n"
          ]
        }
      ]
    },
    {
      "cell_type": "markdown",
      "source": [
        "Точність побудованої моделі дорівнює приблизно 82%, що означає, що модель правильно класифікує приблизно 82% прикладів у тестовому наборі даних. Це показник того, як модель веде себе на нових, невідомих даних."
      ],
      "metadata": {
        "id": "MwneKlQxBqxP"
      }
    },
    {
      "cell_type": "markdown",
      "source": [
        "Розраховуємо та виводимо точність та F1-оцінку для навчального набору даних:"
      ],
      "metadata": {
        "id": "NKGrz6dYBx2m"
      }
    },
    {
      "cell_type": "code",
      "source": [
        "print('Test accuracy:', accuracy_score(Y_train, predicted_train))\n",
        "print('Test F1:', f1_score(Y_train, predicted_train, average='weighted'))"
      ],
      "metadata": {
        "colab": {
          "base_uri": "https://localhost:8080/"
        },
        "id": "Yi4cBqmLBzOK",
        "outputId": "968afb39-e1ac-4a55-aef5-c41fab7a046e"
      },
      "execution_count": 178,
      "outputs": [
        {
          "output_type": "stream",
          "name": "stdout",
          "text": [
            "Test accuracy: 0.8155487804878049\n",
            "Test F1: 0.8103532532347011\n"
          ]
        }
      ]
    },
    {
      "cell_type": "markdown",
      "source": [
        "Точність та F1-оцінка на навчальному наборі майже збігаються з точністю та F1-оцінкою на тестовому наборі. Це хороший знак, що модель не перенавчена, оскільки вона показує схожу ефективність на обох наборах даних."
      ],
      "metadata": {
        "id": "ENtDYUNMCFZL"
      }
    },
    {
      "cell_type": "markdown",
      "source": [
        "Розраховуємо та виводимо площу під ROC-кривою (AUC) для тестового набору даних:"
      ],
      "metadata": {
        "id": "O--owEAtCIVX"
      }
    },
    {
      "cell_type": "code",
      "source": [
        "print(\"Test AUC:\", roc_auc_score(y_score=predicted_p[:, 1], y_true=Y_test, multi_class='ovr'))"
      ],
      "metadata": {
        "colab": {
          "base_uri": "https://localhost:8080/"
        },
        "id": "g2hFSs5PCJst",
        "outputId": "237ed305-10a3-4878-f325-ac0acbe5c3da"
      },
      "execution_count": 179,
      "outputs": [
        {
          "output_type": "stream",
          "name": "stdout",
          "text": [
            "Test AUC: 0.8963109354413703\n"
          ]
        }
      ]
    },
    {
      "cell_type": "markdown",
      "source": [
        "AUC є метрикою якості, яка вимірює здатність моделі відрізняти між різними класами; значення близькі до 1 вказують на високу якість моделі, тоді як значення близькі до 0.5 вказують на випадкові прогнози."
      ],
      "metadata": {
        "id": "ECC3y3lcD5AH"
      }
    },
    {
      "cell_type": "markdown",
      "source": [
        "Значення AUC близьке до 1 (максимально можливе значення), що вказує на те, що модель має добру дискримінативну здатність та може добре розрізняти між різними класами."
      ],
      "metadata": {
        "id": "Dixl2nMRD7NJ"
      }
    },
    {
      "cell_type": "markdown",
      "source": [
        "Розраховуємо та виводимо AUC для навчального набору даних:"
      ],
      "metadata": {
        "id": "99X0vwXCD9yh"
      }
    },
    {
      "cell_type": "code",
      "source": [
        "print(\"Test AUC:\", roc_auc_score(y_score=predicted_p_train[:, 1], y_true=Y_train, multi_class='ovr'))"
      ],
      "metadata": {
        "colab": {
          "base_uri": "https://localhost:8080/"
        },
        "id": "-C9qXvJoEAWY",
        "outputId": "fd62b5b2-50ca-4a9f-b8a7-ad32d33f07ac"
      },
      "execution_count": 180,
      "outputs": [
        {
          "output_type": "stream",
          "name": "stdout",
          "text": [
            "Test AUC: 0.9257385042661332\n"
          ]
        }
      ]
    },
    {
      "cell_type": "markdown",
      "source": [
        "AUC на навчальних даних вище, ніж на тестових даних. Це досить звичайне явище, оскільки модель має прямий доступ до навчальних даних і може краще адаптуватися до них.\n",
        "\n",
        "Оскільки AUC на навчальних даних вищий, ніж на тестових даних, можливо, є невеликий ризик перенавчання. Однак різниця не є критично великою, і модель демонструє добре узагальнення на тестових даних.\n",
        "\n",
        "Загалом, модель показує гарні результати як на навчальних, так і на тестових даних з точки зору AUC, що є показником її здатності добре розрізняти між різними класами.\n"
      ],
      "metadata": {
        "id": "G5onzgmxEPVM"
      }
    },
    {
      "cell_type": "markdown",
      "source": [
        "Вибираємо клас для аналізу, наприклад, 'Medium':"
      ],
      "metadata": {
        "id": "YZZB1BtcES6I"
      }
    },
    {
      "cell_type": "code",
      "source": [
        "target_class = 'Medium'"
      ],
      "metadata": {
        "id": "fVA0S_xzEYBZ"
      },
      "execution_count": 181,
      "outputs": []
    },
    {
      "cell_type": "markdown",
      "source": [
        "Конвертуємо реальні мітки класів у бінарний формат: 1, якщо клас дорівнює target_class, інакше 0:"
      ],
      "metadata": {
        "id": "G4AQwLETIdQI"
      }
    },
    {
      "cell_type": "code",
      "source": [
        "binary_Y_test = (Y_test == target_class).astype(int)"
      ],
      "metadata": {
        "id": "tP8qbgu-Hmwo"
      },
      "execution_count": 182,
      "outputs": []
    },
    {
      "cell_type": "markdown",
      "source": [
        "Обчислюємо F1-оцінку для різних порогових значень:"
      ],
      "metadata": {
        "id": "RyzDbdrekiz-"
      }
    },
    {
      "cell_type": "code",
      "source": [
        "import numpy as np\n",
        "from sklearn.metrics import f1_score\n",
        "thresholds = np.array(list(range(101)))/100 #Порогові значення від 0 до 1\n",
        "f1_score = [f1_score(binary_Y_test, (predicted_p[:, 1] > t).astype(int))for t in thresholds]"
      ],
      "metadata": {
        "id": "nLEHsT14kg8v"
      },
      "execution_count": 183,
      "outputs": []
    },
    {
      "cell_type": "code",
      "source": [
        "print(binary_Y_test)\n",
        "print(f1_score)"
      ],
      "metadata": {
        "colab": {
          "base_uri": "https://localhost:8080/"
        },
        "id": "WSa5HPR1Ii82",
        "outputId": "90706d57-5aec-4e8f-9094-a5bcebd68cc3"
      },
      "execution_count": 184,
      "outputs": [
        {
          "output_type": "stream",
          "name": "stdout",
          "text": [
            "4536    1\n",
            "4098    1\n",
            "2541    0\n",
            "5451    1\n",
            "4952    1\n",
            "       ..\n",
            "5623    1\n",
            "5509    1\n",
            "4623    1\n",
            "880     0\n",
            "568     1\n",
            "Name: outlet_size, Length: 493, dtype: int64\n",
            "[0.6548431105047748, 0.6548431105047748, 0.6548431105047748, 0.6548431105047748, 0.6548431105047748, 0.6548431105047748, 0.6548431105047748, 0.6548431105047748, 0.6548431105047748, 0.6548431105047748, 0.6548431105047748, 0.6548431105047748, 0.6548431105047748, 0.6548431105047748, 0.6548431105047748, 0.6548431105047748, 0.6548431105047748, 0.6548431105047748, 0.6548431105047748, 0.6548431105047748, 0.6530054644808744, 0.6511627906976745, 0.6456043956043956, 0.6267409470752089, 0.6229050279329609, 0.6171107994389902, 0.6053748231966054, 0.5873925501432664, 0.5772005772005773, 0.5668604651162791, 0.5542521994134897, 0.5478645066273932, 0.5392592592592592, 0.5261584454409567, 0.5172932330827068, 0.5083207261724659, 0.49465648854961825, 0.48540706605222733, 0.478395061728395, 0.46656298600311047, 0.45696400625978084, 0.44968553459119504, 0.4349206349206349, 0.41733547351524874, 0.39935064935064934, 0.3836065573770492, 0.37561779242174625, 0.36212624584717606, 0.34006734006734, 0.3137931034482759, 0.2931937172774869, 0.2616487455197133, 0.2398523985239852, 0.21590909090909088, 0.20662768031189085, 0.18989898989898993, 0.18763326226012791, 0.14864864864864866, 0.1380952380952381, 0.12871287128712874, 0.10443864229765012, 0.08241758241758242, 0.05202312138728324, 0.030303030303030304, 0.018808777429467086, 0.013114754098360656, 0.006872852233676976, 0.0, 0.0, 0.0, 0.0, 0.0, 0.0, 0.0, 0.0, 0.0, 0.0, 0.0, 0.0, 0.0, 0.0, 0.0, 0.0, 0.0, 0.0, 0.0, 0.0, 0.0, 0.0, 0.0, 0.0, 0.0, 0.0, 0.0, 0.0, 0.0, 0.0, 0.0, 0.0, 0.0, 0.0]\n"
          ]
        }
      ]
    },
    {
      "cell_type": "markdown",
      "source": [
        "Створюємо DataFrame для зберігання порогових значень і відповідних F1-оцінок:"
      ],
      "metadata": {
        "id": "UbXNThvpHRhN"
      }
    },
    {
      "cell_type": "code",
      "source": [
        "data_th = pd.DataFrame({\n",
        "      'threshold' : thresholds,\n",
        "      'f1' : f1_score\n",
        "})"
      ],
      "metadata": {
        "id": "nMbwlRkEJCvc"
      },
      "execution_count": 185,
      "outputs": []
    },
    {
      "cell_type": "markdown",
      "source": [
        "Візуалізуємо результати:"
      ],
      "metadata": {
        "id": "rBXLuBEpJhn-"
      }
    },
    {
      "cell_type": "code",
      "source": [
        "data_th.plot.line(x = 'threshold', y = 'f1')\n",
        "plt.xlabel('Threshold')\n",
        "plt.ylabel('F1 Score')\n",
        "plt.title(f'F1 Score for Different Tresholds (Class: {target_class})')\n",
        "plt.show()"
      ],
      "metadata": {
        "colab": {
          "base_uri": "https://localhost:8080/",
          "height": 872
        },
        "id": "J9Ek3Iu8Jizz",
        "outputId": "55b3bce4-05f6-4f03-958e-57027161cb8c"
      },
      "execution_count": 186,
      "outputs": [
        {
          "output_type": "display_data",
          "data": {
            "text/plain": [
              "<Figure size 2000x1000 with 1 Axes>"
            ],
            "image/png": "[encoded data removed]"
          },
          "metadata": {}
        }
      ]
    },
    {
      "cell_type": "markdown",
      "source": [
        "\n",
        "Висновок:\n",
        "\n",
        "Із графіка видно, що F1-рейтинг для різних порогів (клас: середній) є хорошим показником. Графік показує, що F1-рейтинг досягає свого максимуму (0,6) при порогу близько 0,4. Це означає, що модель може правильно класифікувати 60% даних як середні, якщо пороговий рівень встановлено на 0,4.\n",
        "\n",
        "Однак, якщо пороговий рівень встановлено занадто низько, модель буде схильна до помилок першого типу, тобто неправильно класифікувати дані як середні, коли вони насправді не є середніми. Якщо пороговий рівень встановлений занадто високо, модель буде схильна до помилок другого типу, тобто неправильно класифікувати дані як не середні, коли вони насправді є середніми.\n",
        "\n",
        "Отже, оптимальний пороговий рівень для даного випадку становить близько 0,4. Цей пороговий рівень забезпечить хороший баланс між точністю та чутливістю."
      ],
      "metadata": {
        "id": "q7POn7UXKT75"
      }
    },
    {
      "cell_type": "markdown",
      "source": [
        "Виведемо перші 50 рядків датафрейму, де зберігаються порогові значення і відповідні F1-оцінки:"
      ],
      "metadata": {
        "id": "2VOLBhYZLUZp"
      }
    },
    {
      "cell_type": "code",
      "source": [
        "import pandas as pd\n",
        "\n",
        "# Створюємо DataFrame з пороговими значеннями і F1-оцінками\n",
        "df_results = pd.DataFrame({'Threshold': thresholds, 'F1 Score': f1_score})\n",
        "\n",
        "# Виводимо перші 50 рядків DataFrame\n",
        "print(df_results.head(50))"
      ],
      "metadata": {
        "colab": {
          "base_uri": "https://localhost:8080/"
        },
        "id": "DDviKT2gLVX_",
        "outputId": "30ee667a-257d-472b-ab68-fac269269c7e"
      },
      "execution_count": 187,
      "outputs": [
        {
          "output_type": "stream",
          "name": "stdout",
          "text": [
            "    Threshold  F1 Score\n",
            "0        0.00  0.654843\n",
            "1        0.01  0.654843\n",
            "2        0.02  0.654843\n",
            "3        0.03  0.654843\n",
            "4        0.04  0.654843\n",
            "5        0.05  0.654843\n",
            "6        0.06  0.654843\n",
            "7        0.07  0.654843\n",
            "8        0.08  0.654843\n",
            "9        0.09  0.654843\n",
            "10       0.10  0.654843\n",
            "11       0.11  0.654843\n",
            "12       0.12  0.654843\n",
            "13       0.13  0.654843\n",
            "14       0.14  0.654843\n",
            "15       0.15  0.654843\n",
            "16       0.16  0.654843\n",
            "17       0.17  0.654843\n",
            "18       0.18  0.654843\n",
            "19       0.19  0.654843\n",
            "20       0.20  0.653005\n",
            "21       0.21  0.651163\n",
            "22       0.22  0.645604\n",
            "23       0.23  0.626741\n",
            "24       0.24  0.622905\n",
            "25       0.25  0.617111\n",
            "26       0.26  0.605375\n",
            "27       0.27  0.587393\n",
            "28       0.28  0.577201\n",
            "29       0.29  0.566860\n",
            "30       0.30  0.554252\n",
            "31       0.31  0.547865\n",
            "32       0.32  0.539259\n",
            "33       0.33  0.526158\n",
            "34       0.34  0.517293\n",
            "35       0.35  0.508321\n",
            "36       0.36  0.494656\n",
            "37       0.37  0.485407\n",
            "38       0.38  0.478395\n",
            "39       0.39  0.466563\n",
            "40       0.40  0.456964\n",
            "41       0.41  0.449686\n",
            "42       0.42  0.434921\n",
            "43       0.43  0.417335\n",
            "44       0.44  0.399351\n",
            "45       0.45  0.383607\n",
            "46       0.46  0.375618\n",
            "47       0.47  0.362126\n",
            "48       0.48  0.340067\n",
            "49       0.49  0.313793\n"
          ]
        }
      ]
    },
    {
      "cell_type": "markdown",
      "source": [
        "Максимальна F1-оцінка дорівнює 0.65 при пороговому значенні 0.\n",
        "Модель виявляється дуже чутливою до зміни порогового значення. Маленьке збільшення порогу призводить до значного зниження F1-оцінки. Модель найчутливіша при низьких порогових значеннях. Значення F1-оцінки швидко падає вже при невеликих збільшеннях порогу.\n",
        "З огляду на те, що найвища F1-оцінка спостерігається при пороговому значенні 0, може бути потрібно оптимізувати модель або розглянути інші стратегії визначення порогового значення, щоб уникнути великої кількості помилково позитивних результатів.\n"
      ],
      "metadata": {
        "id": "mSYgLv-sL9ct"
      }
    },
    {
      "cell_type": "code",
      "source": [
        "import numpy as np\n",
        "from sklearn.neighbors import KNeighborsClassifier\n",
        "from sklearn.metrics import roc_auc_score\n",
        "from sklearn.model_selection import train_test_split\n",
        "from sklearn.preprocessing import label_binarize\n",
        "\n",
        "# Розбиваю дані на тренувальний та тестовий набори\n",
        "X_train, X_test, Y_train, Y_test = train_test_split(X, Y, test_size=0.2, random_state=42)\n",
        "\n",
        "# Перебираю різні значення n_neighbors\n",
        "for n_neighbors in range(20, 201):\n",
        "\n",
        "    # Створіть та підберіть модель KNN\n",
        "    model = KNeighborsClassifier(n_neighbors=n_neighbors, metric=\"minkowski\", p=2)\n",
        "    model.fit(X_train, Y_train)\n",
        "\n",
        "    # Прогнозуємо ймовірності для тестового та тренувального наборів\n",
        "    predicted_p = model.predict_proba(X_test)[:, 1]\n",
        "    predicted_p_train = model.predict_proba(X_train)[:, 1]\n",
        "\n",
        "    # Бінаризуємо Y_test\n",
        "    Y_test_bin = label_binarize(Y_test, classes=np.unique(Y))\n",
        "\n",
        "    # Обчисліть показники ROC-AUC для тестового та тренувального наборів\n",
        "    test_roc_auc = roc_auc_score(y_score=predicted_p, y_true=Y_test_bin, average='weighted')\n",
        "    train_roc_auc = roc_auc_score(y_score=predicted_p_train, y_true=label_binarize(Y_train, classes=np.unique(Y_train)), average='weighted')\n",
        "\n",
        "    # Виводимо результат\n",
        "    print(n_neighbors,\n",
        "          \"- Test ROC-AUC:\", test_roc_auc,\n",
        "          \"Train ROC-AUC:\", train_roc_auc)\n",
        "\n"
      ],
      "metadata": {
        "colab": {
          "base_uri": "https://localhost:8080/"
        },
        "id": "_JxtM51YuAo4",
        "outputId": "daba93a8-7228-452a-f909-1d27435a72ce"
      },
      "execution_count": 188,
      "outputs": [
        {
          "output_type": "stream",
          "name": "stdout",
          "text": [
            "20 - Test ROC-AUC: 0.8138504611330698 Train ROC-AUC: 0.8904067002200975\n",
            "21 - Test ROC-AUC: 0.7967226613965744 Train ROC-AUC: 0.8819178130296517\n",
            "22 - Test ROC-AUC: 0.775494071146245 Train ROC-AUC: 0.8718213150700211\n",
            "23 - Test ROC-AUC: 0.7512434123847168 Train ROC-AUC: 0.8624674269035444\n",
            "24 - Test ROC-AUC: 0.7433876811594202 Train ROC-AUC: 0.8524396126035033\n",
            "25 - Test ROC-AUC: 0.7286231884057971 Train ROC-AUC: 0.8430253034733275\n",
            "26 - Test ROC-AUC: 0.7155961791831357 Train ROC-AUC: 0.8321340374527347\n",
            "27 - Test ROC-AUC: 0.6998600131752305 Train ROC-AUC: 0.821847497487624\n",
            "28 - Test ROC-AUC: 0.6789278656126482 Train ROC-AUC: 0.8127600812636141\n",
            "29 - Test ROC-AUC: 0.6746870882740448 Train ROC-AUC: 0.8017644987074045\n",
            "30 - Test ROC-AUC: 0.6657444005270091 Train ROC-AUC: 0.7922980313094204\n",
            "31 - Test ROC-AUC: 0.6542325428194993 Train ROC-AUC: 0.7805004508333445\n",
            "32 - Test ROC-AUC: 0.6431818181818182 Train ROC-AUC: 0.7698720418257666\n",
            "33 - Test ROC-AUC: 0.639640974967062 Train ROC-AUC: 0.7588537368558583\n",
            "34 - Test ROC-AUC: 0.62792325428195 Train ROC-AUC: 0.7464710542270403\n",
            "35 - Test ROC-AUC: 0.618453557312253 Train ROC-AUC: 0.734520097458498\n",
            "36 - Test ROC-AUC: 0.6127470355731225 Train ROC-AUC: 0.7238896227769475\n",
            "37 - Test ROC-AUC: 0.6036725955204216 Train ROC-AUC: 0.7152716309632136\n",
            "38 - Test ROC-AUC: 0.5958250988142293 Train ROC-AUC: 0.707027526138522\n",
            "39 - Test ROC-AUC: 0.5941946640316206 Train ROC-AUC: 0.6966500965186164\n",
            "40 - Test ROC-AUC: 0.5931488801054019 Train ROC-AUC: 0.6886182396946107\n",
            "41 - Test ROC-AUC: 0.5861166007905139 Train ROC-AUC: 0.6830073527665055\n",
            "42 - Test ROC-AUC: 0.58866930171278 Train ROC-AUC: 0.6785826791171722\n",
            "43 - Test ROC-AUC: 0.5795701581027668 Train ROC-AUC: 0.6728643771424913\n",
            "44 - Test ROC-AUC: 0.5773715415019762 Train ROC-AUC: 0.6675457830815104\n",
            "45 - Test ROC-AUC: 0.5775691699604744 Train ROC-AUC: 0.6620469589664193\n",
            "46 - Test ROC-AUC: 0.574505928853755 Train ROC-AUC: 0.6555411187896804\n",
            "47 - Test ROC-AUC: 0.5699934123847167 Train ROC-AUC: 0.6505473519608928\n",
            "48 - Test ROC-AUC: 0.566403162055336 Train ROC-AUC: 0.6460581259999153\n",
            "49 - Test ROC-AUC: 0.5670372200263504 Train ROC-AUC: 0.6422769097930505\n",
            "50 - Test ROC-AUC: 0.5664937417654808 Train ROC-AUC: 0.6372619698060435\n",
            "51 - Test ROC-AUC: 0.5649209486166008 Train ROC-AUC: 0.6335819716238366\n",
            "52 - Test ROC-AUC: 0.5662796442687748 Train ROC-AUC: 0.62960554922656\n",
            "53 - Test ROC-AUC: 0.5656620553359684 Train ROC-AUC: 0.6273524153409343\n",
            "54 - Test ROC-AUC: 0.5664525691699605 Train ROC-AUC: 0.6249459051628423\n",
            "55 - Test ROC-AUC: 0.5639986824769434 Train ROC-AUC: 0.6230036552100945\n",
            "56 - Test ROC-AUC: 0.564550395256917 Train ROC-AUC: 0.6228528610100939\n",
            "57 - Test ROC-AUC: 0.5640727931488801 Train ROC-AUC: 0.6213216801778959\n",
            "58 - Test ROC-AUC: 0.5605072463768116 Train ROC-AUC: 0.6197104544792591\n",
            "59 - Test ROC-AUC: 0.5628540843214757 Train ROC-AUC: 0.6189709431970642\n",
            "60 - Test ROC-AUC: 0.567185441370224 Train ROC-AUC: 0.6167575735354113\n",
            "61 - Test ROC-AUC: 0.5668231225296443 Train ROC-AUC: 0.6152713211121175\n",
            "62 - Test ROC-AUC: 0.5705862977602107 Train ROC-AUC: 0.6150941895689661\n",
            "63 - Test ROC-AUC: 0.5733201581027668 Train ROC-AUC: 0.6136657760169054\n",
            "64 - Test ROC-AUC: 0.5719120553359685 Train ROC-AUC: 0.6139363793073175\n",
            "65 - Test ROC-AUC: 0.5741106719367588 Train ROC-AUC: 0.6126912943203261\n",
            "66 - Test ROC-AUC: 0.5763257575757575 Train ROC-AUC: 0.6132743307990957\n",
            "67 - Test ROC-AUC: 0.5804347826086956 Train ROC-AUC: 0.6141398481936198\n",
            "68 - Test ROC-AUC: 0.5851449275362319 Train ROC-AUC: 0.6165045284737665\n",
            "69 - Test ROC-AUC: 0.5852025691699605 Train ROC-AUC: 0.6157381634299276\n",
            "70 - Test ROC-AUC: 0.585737812911726 Train ROC-AUC: 0.6170080365045905\n",
            "71 - Test ROC-AUC: 0.5870553359683794 Train ROC-AUC: 0.6175399475525378\n",
            "72 - Test ROC-AUC: 0.5855813570487484 Train ROC-AUC: 0.6176984880299357\n",
            "73 - Test ROC-AUC: 0.5868659420289856 Train ROC-AUC: 0.6169295408936312\n",
            "74 - Test ROC-AUC: 0.5871541501976284 Train ROC-AUC: 0.6175218729052775\n",
            "75 - Test ROC-AUC: 0.5886198945981554 Train ROC-AUC: 0.6183316171025411\n",
            "76 - Test ROC-AUC: 0.5897562582345192 Train ROC-AUC: 0.6182185214525406\n",
            "77 - Test ROC-AUC: 0.5897974308300395 Train ROC-AUC: 0.6191811255237775\n",
            "78 - Test ROC-AUC: 0.5895833333333333 Train ROC-AUC: 0.620166452008713\n",
            "79 - Test ROC-AUC: 0.5909420289855073 Train ROC-AUC: 0.6190261999758315\n",
            "80 - Test ROC-AUC: 0.5925065876152832 Train ROC-AUC: 0.6187736713326799\n",
            "81 - Test ROC-AUC: 0.5919137022397892 Train ROC-AUC: 0.6198178695258348\n",
            "82 - Test ROC-AUC: 0.593453557312253 Train ROC-AUC: 0.6205615121559749\n",
            "83 - Test ROC-AUC: 0.5946969696969696 Train ROC-AUC: 0.6213500831950193\n",
            "84 - Test ROC-AUC: 0.5979743083003953 Train ROC-AUC: 0.6223488365607768\n",
            "85 - Test ROC-AUC: 0.6014739789196311 Train ROC-AUC: 0.6236972052463988\n",
            "86 - Test ROC-AUC: 0.6033679183135705 Train ROC-AUC: 0.6255609595881872\n",
            "87 - Test ROC-AUC: 0.6060523715415019 Train ROC-AUC: 0.6267735102101101\n",
            "88 - Test ROC-AUC: 0.6066123188405798 Train ROC-AUC: 0.6289755186649136\n",
            "89 - Test ROC-AUC: 0.6069499341238472 Train ROC-AUC: 0.6311950853484845\n",
            "90 - Test ROC-AUC: 0.6079463109354414 Train ROC-AUC: 0.63249491069575\n",
            "91 - Test ROC-AUC: 0.6076416337285903 Train ROC-AUC: 0.6338448286368514\n",
            "92 - Test ROC-AUC: 0.6100625823451911 Train ROC-AUC: 0.6346328832574025\n",
            "93 - Test ROC-AUC: 0.6118741765480895 Train ROC-AUC: 0.636749682660836\n",
            "94 - Test ROC-AUC: 0.6130681818181818 Train ROC-AUC: 0.6382209589478284\n",
            "95 - Test ROC-AUC: 0.6126235177865613 Train ROC-AUC: 0.6390384494224892\n",
            "96 - Test ROC-AUC: 0.6138586956521739 Train ROC-AUC: 0.6383102993471437\n",
            "97 - Test ROC-AUC: 0.6144927536231883 Train ROC-AUC: 0.6382157947628967\n",
            "98 - Test ROC-AUC: 0.6146245059288538 Train ROC-AUC: 0.6393483005183809\n",
            "99 - Test ROC-AUC: 0.6137269433465086 Train ROC-AUC: 0.6414924701019513\n",
            "100 - Test ROC-AUC: 0.6149456521739131 Train ROC-AUC: 0.6432570720930545\n",
            "101 - Test ROC-AUC: 0.6168395915678524 Train ROC-AUC: 0.6440559715019618\n",
            "102 - Test ROC-AUC: 0.6182971014492753 Train ROC-AUC: 0.6450975876026511\n",
            "103 - Test ROC-AUC: 0.6184535573122529 Train ROC-AUC: 0.6460483140485455\n",
            "104 - Test ROC-AUC: 0.6190876152832675 Train ROC-AUC: 0.647754044331429\n",
            "105 - Test ROC-AUC: 0.6219285243741766 Train ROC-AUC: 0.6482043612574584\n",
            "106 - Test ROC-AUC: 0.621969696969697 Train ROC-AUC: 0.649142693659517\n",
            "107 - Test ROC-AUC: 0.6254117259552042 Train ROC-AUC: 0.6493647536115728\n",
            "108 - Test ROC-AUC: 0.6249505928853755 Train ROC-AUC: 0.649727279393766\n",
            "109 - Test ROC-AUC: 0.6252388010540185 Train ROC-AUC: 0.6501863754341789\n",
            "110 - Test ROC-AUC: 0.6275527009222662 Train ROC-AUC: 0.649899246751986\n",
            "111 - Test ROC-AUC: 0.6278903162055336 Train ROC-AUC: 0.6505148175958241\n",
            "112 - Test ROC-AUC: 0.6287878787878788 Train ROC-AUC: 0.6504182473376043\n",
            "113 - Test ROC-AUC: 0.6288537549407115 Train ROC-AUC: 0.6517289174732264\n",
            "114 - Test ROC-AUC: 0.6284914361001317 Train ROC-AUC: 0.6530468174677522\n",
            "115 - Test ROC-AUC: 0.6289443346508564 Train ROC-AUC: 0.6550257331335139\n",
            "116 - Test ROC-AUC: 0.6295042819499341 Train ROC-AUC: 0.6544411473992648\n",
            "117 - Test ROC-AUC: 0.6282691040843215 Train ROC-AUC: 0.6550598167540619\n",
            "118 - Test ROC-AUC: 0.6285655467720686 Train ROC-AUC: 0.6554099484924194\n",
            "119 - Test ROC-AUC: 0.6294795783926219 Train ROC-AUC: 0.6551186884622813\n",
            "120 - Test ROC-AUC: 0.6312335309617919 Train ROC-AUC: 0.6559243013115996\n",
            "121 - Test ROC-AUC: 0.6332262845849803 Train ROC-AUC: 0.6574637448396882\n",
            "122 - Test ROC-AUC: 0.6326333992094861 Train ROC-AUC: 0.6585730117629804\n",
            "123 - Test ROC-AUC: 0.6334568511198946 Train ROC-AUC: 0.6593192364855862\n",
            "124 - Test ROC-AUC: 0.6333415678524373 Train ROC-AUC: 0.6606779335410713\n",
            "125 - Test ROC-AUC: 0.6327898550724638 Train ROC-AUC: 0.6614329373780606\n",
            "126 - Test ROC-AUC: 0.6344285243741765 Train ROC-AUC: 0.6621316515992964\n",
            "127 - Test ROC-AUC: 0.6359436758893281 Train ROC-AUC: 0.663326643992452\n",
            "128 - Test ROC-AUC: 0.6353178524374177 Train ROC-AUC: 0.6638632028068377\n",
            "129 - Test ROC-AUC: 0.6343379446640316 Train ROC-AUC: 0.6638048475171116\n",
            "130 - Test ROC-AUC: 0.6342473649538867 Train ROC-AUC: 0.6643274630321822\n",
            "131 - Test ROC-AUC: 0.6328227931488801 Train ROC-AUC: 0.6646414454760191\n",
            "132 - Test ROC-AUC: 0.6334321475625824 Train ROC-AUC: 0.6644813557431417\n",
            "133 - Test ROC-AUC: 0.6330862977602107 Train ROC-AUC: 0.6653701119698577\n",
            "134 - Test ROC-AUC: 0.6332180500658762 Train ROC-AUC: 0.6657775661609552\n",
            "135 - Test ROC-AUC: 0.6340250329380763 Train ROC-AUC: 0.6669312450746586\n",
            "136 - Test ROC-AUC: 0.6339015151515152 Train ROC-AUC: 0.6679274163479503\n",
            "137 - Test ROC-AUC: 0.6337368247694335 Train ROC-AUC: 0.6687149545500084\n",
            "138 - Test ROC-AUC: 0.6358119235836628 Train ROC-AUC: 0.6698608871863144\n",
            "139 - Test ROC-AUC: 0.6348073122529645 Train ROC-AUC: 0.6707656523863182\n",
            "140 - Test ROC-AUC: 0.6360589591567852 Train ROC-AUC: 0.6711700080664569\n",
            "141 - Test ROC-AUC: 0.635935441370224 Train ROC-AUC: 0.6711503841637171\n",
            "142 - Test ROC-AUC: 0.6361989459815547 Train ROC-AUC: 0.6711002915698812\n",
            "143 - Test ROC-AUC: 0.6382575757575758 Train ROC-AUC: 0.6711870498767308\n",
            "144 - Test ROC-AUC: 0.6380105401844531 Train ROC-AUC: 0.6715340831041297\n",
            "145 - Test ROC-AUC: 0.6387845849802372 Train ROC-AUC: 0.6717458146863223\n",
            "146 - Test ROC-AUC: 0.6409337944664031 Train ROC-AUC: 0.671346106772622\n",
            "147 - Test ROC-AUC: 0.6404973649538866 Train ROC-AUC: 0.6719916298890629\n",
            "148 - Test ROC-AUC: 0.6401597496706192 Train ROC-AUC: 0.6729201503397517\n",
            "149 - Test ROC-AUC: 0.6396986166007905 Train ROC-AUC: 0.6729759235370122\n",
            "150 - Test ROC-AUC: 0.6406867588932806 Train ROC-AUC: 0.6736359063712616\n",
            "151 - Test ROC-AUC: 0.6412631752305665 Train ROC-AUC: 0.6746775224719507\n",
            "152 - Test ROC-AUC: 0.6404314888010539 Train ROC-AUC: 0.6757031295993522\n",
            "153 - Test ROC-AUC: 0.6412878787878787 Train ROC-AUC: 0.6744890297219499\n",
            "154 - Test ROC-AUC: 0.6410655467720685 Train ROC-AUC: 0.674996152682226\n",
            "155 - Test ROC-AUC: 0.6411561264822134 Train ROC-AUC: 0.6735878794513983\n",
            "156 - Test ROC-AUC: 0.6423336627140974 Train ROC-AUC: 0.6733152104870136\n",
            "157 - Test ROC-AUC: 0.642877140974967 Train ROC-AUC: 0.6730657803548208\n",
            "158 - Test ROC-AUC: 0.6436429512516469 Train ROC-AUC: 0.6737712080164675\n",
            "159 - Test ROC-AUC: 0.64491930171278 Train ROC-AUC: 0.6738657126007145\n",
            "160 - Test ROC-AUC: 0.6445075757575758 Train ROC-AUC: 0.6743754176534563\n",
            "161 - Test ROC-AUC: 0.6438241106719368 Train ROC-AUC: 0.6744709550746897\n",
            "162 - Test ROC-AUC: 0.6427042160737814 Train ROC-AUC: 0.6741636860712638\n",
            "163 - Test ROC-AUC: 0.6427206851119894 Train ROC-AUC: 0.6748639495479789\n",
            "164 - Test ROC-AUC: 0.6431900527009222 Train ROC-AUC: 0.6745902477466079\n",
            "165 - Test ROC-AUC: 0.6448040184453228 Train ROC-AUC: 0.6749667168281163\n",
            "166 - Test ROC-AUC: 0.644721673254282 Train ROC-AUC: 0.6744203460623607\n",
            "167 - Test ROC-AUC: 0.6438735177865613 Train ROC-AUC: 0.6756313474288039\n",
            "168 - Test ROC-AUC: 0.6458580368906457 Train ROC-AUC: 0.6759757985637369\n",
            "169 - Test ROC-AUC: 0.6465085638998682 Train ROC-AUC: 0.6760243419020932\n",
            "170 - Test ROC-AUC: 0.6462944664031621 Train ROC-AUC: 0.6760548105931893\n",
            "171 - Test ROC-AUC: 0.6438899868247694 Train ROC-AUC: 0.6762272943699024\n",
            "172 - Test ROC-AUC: 0.6447628458498024 Train ROC-AUC: 0.6762933959370258\n",
            "173 - Test ROC-AUC: 0.644244071146245 Train ROC-AUC: 0.6759649537753807\n",
            "174 - Test ROC-AUC: 0.6447052042160738 Train ROC-AUC: 0.6757594192151058\n",
            "175 - Test ROC-AUC: 0.6445734519104084 Train ROC-AUC: 0.6754092874767483\n",
            "176 - Test ROC-AUC: 0.6440629117259552 Train ROC-AUC: 0.6745923134205806\n",
            "177 - Test ROC-AUC: 0.6444169960474309 Train ROC-AUC: 0.6743392683589357\n",
            "178 - Test ROC-AUC: 0.6435194334650858 Train ROC-AUC: 0.6732196730657803\n",
            "179 - Test ROC-AUC: 0.6415760869565218 Train ROC-AUC: 0.673018786271944\n",
            "180 - Test ROC-AUC: 0.6405797101449275 Train ROC-AUC: 0.67256278874249\n",
            "181 - Test ROC-AUC: 0.6401515151515151 Train ROC-AUC: 0.671626522014404\n",
            "182 - Test ROC-AUC: 0.6406044137022399 Train ROC-AUC: 0.6713053097116629\n",
            "183 - Test ROC-AUC: 0.6402009222661396 Train ROC-AUC: 0.6716724832602946\n",
            "184 - Test ROC-AUC: 0.6399703557312253 Train ROC-AUC: 0.6715237547342665\n",
            "185 - Test ROC-AUC: 0.6386610671936759 Train ROC-AUC: 0.670886494313716\n",
            "186 - Test ROC-AUC: 0.6385540184453229 Train ROC-AUC: 0.670308622019878\n",
            "187 - Test ROC-AUC: 0.6381752305665349 Train ROC-AUC: 0.6698732812301502\n",
            "188 - Test ROC-AUC: 0.6397809617918313 Train ROC-AUC: 0.6695267644212446\n",
            "189 - Test ROC-AUC: 0.6379034914361 Train ROC-AUC: 0.6688590353095981\n",
            "190 - Test ROC-AUC: 0.6397068511198946 Train ROC-AUC: 0.6692060685369967\n",
            "191 - Test ROC-AUC: 0.6404232542819499 Train ROC-AUC: 0.6683240257506918\n",
            "192 - Test ROC-AUC: 0.6407526350461132 Train ROC-AUC: 0.6690779967506949\n",
            "193 - Test ROC-AUC: 0.6418642951251647 Train ROC-AUC: 0.6684020049431577\n",
            "194 - Test ROC-AUC: 0.6411231884057971 Train ROC-AUC: 0.6674363023609621\n",
            "195 - Test ROC-AUC: 0.6411972990777339 Train ROC-AUC: 0.6668052389623292\n",
            "196 - Test ROC-AUC: 0.6382987483530962 Train ROC-AUC: 0.6666497969958903\n",
            "197 - Test ROC-AUC: 0.6393527667984189 Train ROC-AUC: 0.6657419332849277\n",
            "198 - Test ROC-AUC: 0.6394598155467721 Train ROC-AUC: 0.6657878945308183\n",
            "199 - Test ROC-AUC: 0.6386857707509883 Train ROC-AUC: 0.6652508192979394\n",
            "200 - Test ROC-AUC: 0.6392951251646906 Train ROC-AUC: 0.6653788910842413\n"
          ]
        }
      ]
    },
    {
      "cell_type": "markdown",
      "source": [
        "Проведемо оптимізацію гіперпараметра n_neighbors (кількість найближчих сусідів) в моделі KNN, використовуючи евклідову метрику відстані та обчислимо ROC-AUC для кожного значення n_neighbors на тренувальних та тестових даних:"
      ],
      "metadata": {
        "id": "lZM5hYchMDWr"
      }
    },
    {
      "cell_type": "markdown",
      "source": [
        "Результати ROC-AUC для 166 тестів знаходяться в діапазоні від 0,5649209486166008 до 0,6749667168281163.\n",
        "\n",
        "Середній бал ROC-AUC становить 0,6398850611814256.\n",
        "\n",
        "Бали ROC-AUC показують, що модель здатна розрізняти позитивні та негативні випадки з деякою часткою точності. Однак бали не дуже високі, що свідчить про те, що все ще є простір для вдосконалення.\n",
        "\n",
        "Ось кілька можливих пояснень того, чому бали ROC-AUC не є вищими:\n",
        "\n",
        "1. Дані можуть бути невисокої якості.\n",
        "2. Ознаки, що використовуються для навчання моделі, можуть бути не найрелевантнішими.\n",
        "3. Модель може бути недостатньо складною, щоб відображати приховані закономірності в даних."
      ],
      "metadata": {
        "id": "EB7_qHjbzxjT"
      }
    },
    {
      "cell_type": "markdown",
      "source": [
        "Проведемо оптимізацію гіперпараметра n_neighbors (кількість найближчих сусідів) в моделі KNN, використовуючи тепер манхетенську метрику відстані та обчислимо ROC-AUC для кожного значення n_neighbors на тренувальних та тестових даних:"
      ],
      "metadata": {
        "id": "Cygxh6BE1o_0"
      }
    },
    {
      "cell_type": "code",
      "source": [
        "import numpy as np\n",
        "from sklearn.neighbors import KNeighborsClassifier\n",
        "from sklearn.metrics import roc_auc_score\n",
        "from sklearn.model_selection import train_test_split\n",
        "from sklearn.preprocessing import label_binarize\n",
        "\n",
        "# Розбиваю дані на тренувальний та тестовий набори\n",
        "X_train, X_test, Y_train, Y_test = train_test_split(X, Y, test_size=0.2, random_state=42)\n",
        "\n",
        "# Перебираю різні значення n_neighbors\n",
        "for n_neighbors in range(20, 201):\n",
        "\n",
        "    # Створіть та підберіть модель KNN\n",
        "    model = KNeighborsClassifier(n_neighbors=n_neighbors, metric=\"minkowski\", p=1)\n",
        "    model.fit(X_train, Y_train)\n",
        "\n",
        "    # Прогнозуємо ймовірності для тестового та тренувального наборів\n",
        "    predicted_p = model.predict_proba(X_test)[:, 1]\n",
        "    predicted_p_train = model.predict_proba(X_train)[:, 1]\n",
        "\n",
        "    # Бінаризуємо Y_test\n",
        "    Y_test_bin = label_binarize(Y_test, classes=np.unique(Y))\n",
        "\n",
        "    # Обчисліть показники ROC-AUC для тестового та тренувального наборів\n",
        "    test_roc_auc = roc_auc_score(y_score=predicted_p, y_true=Y_test_bin, average='weighted')\n",
        "    train_roc_auc = roc_auc_score(y_score=predicted_p_train, y_true=label_binarize(Y_train, classes=np.unique(Y_train)), average='weighted')\n",
        "\n",
        "    # Виводимо результат\n",
        "    print(n_neighbors,\n",
        "          \"- Test ROC-AUC:\", test_roc_auc,\n",
        "          \"Train ROC-AUC:\", train_roc_auc)\n"
      ],
      "metadata": {
        "colab": {
          "base_uri": "https://localhost:8080/"
        },
        "id": "4FEDliJn16Yt",
        "outputId": "48876e0b-f60f-4853-e060-096f6717fd25"
      },
      "execution_count": 189,
      "outputs": [
        {
          "output_type": "stream",
          "name": "stdout",
          "text": [
            "20 - Test ROC-AUC: 0.9856884057971015 Train ROC-AUC: 0.9940761634650441\n",
            "21 - Test ROC-AUC: 0.983893280632411 Train ROC-AUC: 0.9934352881150414\n",
            "22 - Test ROC-AUC: 0.98340744400527 Train ROC-AUC: 0.9931533236177802\n",
            "23 - Test ROC-AUC: 0.9804512516469038 Train ROC-AUC: 0.9931440280849033\n",
            "24 - Test ROC-AUC: 0.9788784584980237 Train ROC-AUC: 0.9928470874513405\n",
            "25 - Test ROC-AUC: 0.9780632411067194 Train ROC-AUC: 0.9923296361212013\n",
            "26 - Test ROC-AUC: 0.9769433465085638 Train ROC-AUC: 0.9915162769944857\n",
            "27 - Test ROC-AUC: 0.974892951251647 Train ROC-AUC: 0.9908748852259899\n",
            "28 - Test ROC-AUC: 0.9740365612648222 Train ROC-AUC: 0.9899386184979039\n",
            "29 - Test ROC-AUC: 0.9741024374176548 Train ROC-AUC: 0.9894774567835184\n",
            "30 - Test ROC-AUC: 0.9720438076416337 Train ROC-AUC: 0.989300325240367\n",
            "31 - Test ROC-AUC: 0.9693675889328063 Train ROC-AUC: 0.9892404206951613\n",
            "32 - Test ROC-AUC: 0.9669301712779974 Train ROC-AUC: 0.9888562053362556\n",
            "33 - Test ROC-AUC: 0.9658102766798419 Train ROC-AUC: 0.988641375243104\n",
            "34 - Test ROC-AUC: 0.9654726613965744 Train ROC-AUC: 0.9882210105896776\n",
            "35 - Test ROC-AUC: 0.9635622529644269 Train ROC-AUC: 0.987553281478031\n",
            "36 - Test ROC-AUC: 0.9616518445322794 Train ROC-AUC: 0.9865519460198078\n",
            "37 - Test ROC-AUC: 0.9613142292490119 Train ROC-AUC: 0.9855831449266531\n",
            "38 - Test ROC-AUC: 0.9596426218708828 Train ROC-AUC: 0.984812132116376\n",
            "39 - Test ROC-AUC: 0.9599720026350461 Train ROC-AUC: 0.9840653909752769\n",
            "40 - Test ROC-AUC: 0.9602931488801054 Train ROC-AUC: 0.9837090622150015\n",
            "41 - Test ROC-AUC: 0.9615447957839262 Train ROC-AUC: 0.9825104548923937\n",
            "42 - Test ROC-AUC: 0.9612977602108037 Train ROC-AUC: 0.9817224002718427\n",
            "43 - Test ROC-AUC: 0.9609107378129117 Train ROC-AUC: 0.9818458242917063\n",
            "44 - Test ROC-AUC: 0.9593873517786561 Train ROC-AUC: 0.9812643370684162\n",
            "45 - Test ROC-AUC: 0.958777997364954 Train ROC-AUC: 0.9804101808807415\n",
            "46 - Test ROC-AUC: 0.9573698945981554 Train ROC-AUC: 0.979726442795807\n",
            "47 - Test ROC-AUC: 0.9546772068511198 Train ROC-AUC: 0.9793437766923808\n",
            "48 - Test ROC-AUC: 0.9529808959156785 Train ROC-AUC: 0.9789332239903243\n",
            "49 - Test ROC-AUC: 0.9510540184453229 Train ROC-AUC: 0.9784699966019663\n",
            "50 - Test ROC-AUC: 0.9505517127799735 Train ROC-AUC: 0.9775838224677161\n",
            "51 - Test ROC-AUC: 0.9494235836627142 Train ROC-AUC: 0.9775869209786751\n",
            "52 - Test ROC-AUC: 0.9493330039525691 Train ROC-AUC: 0.9763557792909988\n",
            "53 - Test ROC-AUC: 0.9484683794466404 Train ROC-AUC: 0.9761962059766145\n",
            "54 - Test ROC-AUC: 0.9475296442687747 Train ROC-AUC: 0.975123088347843\n",
            "55 - Test ROC-AUC: 0.9480978260869566 Train ROC-AUC: 0.9742183231478392\n",
            "56 - Test ROC-AUC: 0.9484601449275362 Train ROC-AUC: 0.9728813156690665\n",
            "57 - Test ROC-AUC: 0.9474720026350462 Train ROC-AUC: 0.972186732795776\n",
            "58 - Test ROC-AUC: 0.9456439393939393 Train ROC-AUC: 0.9711771346416623\n",
            "59 - Test ROC-AUC: 0.9461380105401844 Train ROC-AUC: 0.9694135654875455\n",
            "60 - Test ROC-AUC: 0.9437088274044795 Train ROC-AUC: 0.9686027884532956\n",
            "61 - Test ROC-AUC: 0.9429924242424244 Train ROC-AUC: 0.9675379335204145\n",
            "62 - Test ROC-AUC: 0.9424324769433464 Train ROC-AUC: 0.9668640073868502\n",
            "63 - Test ROC-AUC: 0.9409502635046114 Train ROC-AUC: 0.9659953914813671\n",
            "64 - Test ROC-AUC: 0.9393692358366271 Train ROC-AUC: 0.9648964529279379\n",
            "65 - Test ROC-AUC: 0.938076416337286 Train ROC-AUC: 0.9624124799758729\n",
            "66 - Test ROC-AUC: 0.9352684453227932 Train ROC-AUC: 0.9615479954183351\n",
            "67 - Test ROC-AUC: 0.934379117259552 Train ROC-AUC: 0.959705414234766\n",
            "68 - Test ROC-AUC: 0.9334321475625823 Train ROC-AUC: 0.9588724312053104\n",
            "69 - Test ROC-AUC: 0.9324440052700922 Train ROC-AUC: 0.9581349855970882\n",
            "70 - Test ROC-AUC: 0.9313323451910409 Train ROC-AUC: 0.9572374502559887\n",
            "71 - Test ROC-AUC: 0.929685441370224 Train ROC-AUC: 0.9566941780011918\n",
            "72 - Test ROC-AUC: 0.9294219367588933 Train ROC-AUC: 0.9557878635457087\n",
            "73 - Test ROC-AUC: 0.9293642951251647 Train ROC-AUC: 0.9552946838847478\n",
            "74 - Test ROC-AUC: 0.9267786561264821 Train ROC-AUC: 0.9536152909450148\n",
            "75 - Test ROC-AUC: 0.9256258234519105 Train ROC-AUC: 0.9520304025895289\n",
            "76 - Test ROC-AUC: 0.9233613306982872 Train ROC-AUC: 0.9512041330004843\n",
            "77 - Test ROC-AUC: 0.9236495388669302 Train ROC-AUC: 0.9498464687819858\n",
            "78 - Test ROC-AUC: 0.9218297101449275 Train ROC-AUC: 0.9486519928073233\n",
            "79 - Test ROC-AUC: 0.9227931488801054 Train ROC-AUC: 0.9476909379915658\n",
            "80 - Test ROC-AUC: 0.9210556653491437 Train ROC-AUC: 0.9473020748662219\n",
            "81 - Test ROC-AUC: 0.9204957180500658 Train ROC-AUC: 0.9462320557484092\n",
            "82 - Test ROC-AUC: 0.9188323451910408 Train ROC-AUC: 0.9449306811456641\n",
            "83 - Test ROC-AUC: 0.9174654150197629 Train ROC-AUC: 0.9449188035203216\n",
            "84 - Test ROC-AUC: 0.915917325428195 Train ROC-AUC: 0.9440083577168932\n",
            "85 - Test ROC-AUC: 0.9133481554677206 Train ROC-AUC: 0.9434170585422332\n",
            "86 - Test ROC-AUC: 0.912302371541502 Train ROC-AUC: 0.9422757736723655\n",
            "87 - Test ROC-AUC: 0.9125576416337285 Train ROC-AUC: 0.9412413874305804\n",
            "88 - Test ROC-AUC: 0.9103343214756259 Train ROC-AUC: 0.9399431113387942\n",
            "89 - Test ROC-AUC: 0.9081686429512517 Train ROC-AUC: 0.9391204566792019\n",
            "90 - Test ROC-AUC: 0.9080286561264822 Train ROC-AUC: 0.9371281141326183\n",
            "91 - Test ROC-AUC: 0.9081521739130435 Train ROC-AUC: 0.9367346032408359\n",
            "92 - Test ROC-AUC: 0.9073451910408433 Train ROC-AUC: 0.9356144915291875\n",
            "93 - Test ROC-AUC: 0.9067605401844532 Train ROC-AUC: 0.934187110814113\n",
            "94 - Test ROC-AUC: 0.9067523056653491 Train ROC-AUC: 0.9335467518826037\n",
            "95 - Test ROC-AUC: 0.9044054677206851 Train ROC-AUC: 0.9321808249682145\n",
            "96 - Test ROC-AUC: 0.9029808959156785 Train ROC-AUC: 0.9310064893147849\n",
            "97 - Test ROC-AUC: 0.9023797760210803 Train ROC-AUC: 0.928850442105872\n",
            "98 - Test ROC-AUC: 0.9001976284584979 Train ROC-AUC: 0.9282782504154586\n",
            "99 - Test ROC-AUC: 0.8997117918313571 Train ROC-AUC: 0.9271276700127142\n",
            "100 - Test ROC-AUC: 0.8963109354413703 Train ROC-AUC: 0.9257385042661332\n",
            "101 - Test ROC-AUC: 0.894729907773386 Train ROC-AUC: 0.9243002787627026\n",
            "102 - Test ROC-AUC: 0.892671277997365 Train ROC-AUC: 0.9235499226921515\n",
            "103 - Test ROC-AUC: 0.8930253623188406 Train ROC-AUC: 0.9225614976962571\n",
            "104 - Test ROC-AUC: 0.8916254940711463 Train ROC-AUC: 0.9212890425291286\n",
            "105 - Test ROC-AUC: 0.8907855731225296 Train ROC-AUC: 0.9195166942606281\n",
            "106 - Test ROC-AUC: 0.8922430830039526 Train ROC-AUC: 0.918823144224324\n",
            "107 - Test ROC-AUC: 0.8903491436100133 Train ROC-AUC: 0.9187647889345976\n",
            "108 - Test ROC-AUC: 0.8894351119894598 Train ROC-AUC: 0.9172222468955502\n",
            "109 - Test ROC-AUC: 0.8885293148880107 Train ROC-AUC: 0.91510596391061\n",
            "110 - Test ROC-AUC: 0.8880352437417655 Train ROC-AUC: 0.9137989087044401\n",
            "111 - Test ROC-AUC: 0.8871459156785244 Train ROC-AUC: 0.9132329140359448\n",
            "112 - Test ROC-AUC: 0.8868412384716732 Train ROC-AUC: 0.9116356316366232\n",
            "113 - Test ROC-AUC: 0.8873353096179183 Train ROC-AUC: 0.9101638389311376\n",
            "114 - Test ROC-AUC: 0.8839426877470355 Train ROC-AUC: 0.9087152850578439\n",
            "115 - Test ROC-AUC: 0.883983860342556 Train ROC-AUC: 0.9076401017550999\n",
            "116 - Test ROC-AUC: 0.8821063899868248 Train ROC-AUC: 0.9067466977619455\n",
            "117 - Test ROC-AUC: 0.8823616600790514 Train ROC-AUC: 0.9057655026249553\n",
            "118 - Test ROC-AUC: 0.8818840579710145 Train ROC-AUC: 0.9054711440838581\n",
            "119 - Test ROC-AUC: 0.8801054018445322 Train ROC-AUC: 0.90430197261536\n",
            "120 - Test ROC-AUC: 0.8778573781291173 Train ROC-AUC: 0.9035753717954942\n",
            "121 - Test ROC-AUC: 0.8772480237154151 Train ROC-AUC: 0.9028214007954911\n",
            "122 - Test ROC-AUC: 0.8744647562582345 Train ROC-AUC: 0.9017653249769935\n",
            "123 - Test ROC-AUC: 0.8719944005270093 Train ROC-AUC: 0.9003560189091796\n",
            "124 - Test ROC-AUC: 0.8716320816864296 Train ROC-AUC: 0.8989869934838314\n",
            "125 - Test ROC-AUC: 0.8702651515151515 Train ROC-AUC: 0.8980378162934167\n",
            "126 - Test ROC-AUC: 0.8694664031620554 Train ROC-AUC: 0.8963196919666973\n",
            "127 - Test ROC-AUC: 0.8666913702239789 Train ROC-AUC: 0.894663021440663\n",
            "128 - Test ROC-AUC: 0.8656620553359684 Train ROC-AUC: 0.8928333507194226\n",
            "129 - Test ROC-AUC: 0.8656620553359684 Train ROC-AUC: 0.8923582457057221\n",
            "130 - Test ROC-AUC: 0.8649621212121213 Train ROC-AUC: 0.8913708535468138\n",
            "131 - Test ROC-AUC: 0.8633975625823452 Train ROC-AUC: 0.8912154115803749\n",
            "132 - Test ROC-AUC: 0.861520092226614 Train ROC-AUC: 0.8909396441050312\n",
            "133 - Test ROC-AUC: 0.8607789855072463 Train ROC-AUC: 0.8888574447406391\n",
            "134 - Test ROC-AUC: 0.8597990777338603 Train ROC-AUC: 0.888002255715978\n",
            "135 - Test ROC-AUC: 0.8593791172595521 Train ROC-AUC: 0.8868532245687132\n",
            "136 - Test ROC-AUC: 0.8595438076416337 Train ROC-AUC: 0.8852802138385697\n",
            "137 - Test ROC-AUC: 0.8578227931488801 Train ROC-AUC: 0.8851066972248702\n",
            "138 - Test ROC-AUC: 0.8576992753623188 Train ROC-AUC: 0.883632322426919\n",
            "139 - Test ROC-AUC: 0.8569828722002635 Train ROC-AUC: 0.8812252958303338\n",
            "140 - Test ROC-AUC: 0.8566287878787878 Train ROC-AUC: 0.8802663066885491\n",
            "141 - Test ROC-AUC: 0.8546689723320158 Train ROC-AUC: 0.8780896027399099\n",
            "142 - Test ROC-AUC: 0.8536067193675889 Train ROC-AUC: 0.8764680486714101\n",
            "143 - Test ROC-AUC: 0.8538784584980238 Train ROC-AUC: 0.8757393821775715\n",
            "144 - Test ROC-AUC: 0.8512269433465085 Train ROC-AUC: 0.8741818640022228\n",
            "145 - Test ROC-AUC: 0.850683465085639 Train ROC-AUC: 0.8738792427652351\n",
            "146 - Test ROC-AUC: 0.8490612648221344 Train ROC-AUC: 0.8724281067994758\n",
            "147 - Test ROC-AUC: 0.8479907773386035 Train ROC-AUC: 0.8730782776823551\n",
            "148 - Test ROC-AUC: 0.8489542160737813 Train ROC-AUC: 0.8717712224761854\n",
            "149 - Test ROC-AUC: 0.8482789855072463 Train ROC-AUC: 0.8713384637789233\n",
            "150 - Test ROC-AUC: 0.8491353754940713 Train ROC-AUC: 0.8699126323193284\n",
            "151 - Test ROC-AUC: 0.8474472990777339 Train ROC-AUC: 0.8697215574768619\n",
            "152 - Test ROC-AUC: 0.8451581027667985 Train ROC-AUC: 0.8693342436069973\n",
            "153 - Test ROC-AUC: 0.8425724637681159 Train ROC-AUC: 0.8685379262905557\n",
            "154 - Test ROC-AUC: 0.840135046113307 Train ROC-AUC: 0.8674833997275375\n",
            "155 - Test ROC-AUC: 0.8378952569169961 Train ROC-AUC: 0.8663767148967111\n",
            "156 - Test ROC-AUC: 0.8374917654808959 Train ROC-AUC: 0.8663410820206836\n",
            "157 - Test ROC-AUC: 0.8361001317523057 Train ROC-AUC: 0.8655411497747899\n",
            "158 - Test ROC-AUC: 0.8345849802371541 Train ROC-AUC: 0.863618523724782\n",
            "159 - Test ROC-AUC: 0.833596837944664 Train ROC-AUC: 0.862624934543956\n",
            "160 - Test ROC-AUC: 0.83183465085639 Train ROC-AUC: 0.8616623304727192\n",
            "161 - Test ROC-AUC: 0.832221673254282 Train ROC-AUC: 0.8612941240871013\n",
            "162 - Test ROC-AUC: 0.8326416337285902 Train ROC-AUC: 0.8611391985391553\n",
            "163 - Test ROC-AUC: 0.8331357048748352 Train ROC-AUC: 0.8604053678603851\n",
            "164 - Test ROC-AUC: 0.8339015151515151 Train ROC-AUC: 0.8594969877309295\n",
            "165 - Test ROC-AUC: 0.8344614624505928 Train ROC-AUC: 0.8587595421227072\n",
            "166 - Test ROC-AUC: 0.8357872200263504 Train ROC-AUC: 0.8578805978473611\n",
            "167 - Test ROC-AUC: 0.8332098155467721 Train ROC-AUC: 0.8563607782220124\n",
            "168 - Test ROC-AUC: 0.8314970355731226 Train ROC-AUC: 0.855010860280911\n",
            "169 - Test ROC-AUC: 0.8315135046113307 Train ROC-AUC: 0.8548786571466639\n",
            "170 - Test ROC-AUC: 0.8309123847167325 Train ROC-AUC: 0.8553790666665291\n",
            "171 - Test ROC-AUC: 0.8294301712779973 Train ROC-AUC: 0.8558861896268051\n",
            "172 - Test ROC-AUC: 0.8296277997364954 Train ROC-AUC: 0.8554751205062554\n",
            "173 - Test ROC-AUC: 0.8290184453227931 Train ROC-AUC: 0.8545997911603613\n",
            "174 - Test ROC-AUC: 0.8279067852437417 Train ROC-AUC: 0.8531279984548759\n",
            "175 - Test ROC-AUC: 0.8296854413702239 Train ROC-AUC: 0.8512466858843202\n",
            "176 - Test ROC-AUC: 0.8290349143610013 Train ROC-AUC: 0.8509822796158261\n",
            "177 - Test ROC-AUC: 0.8270915678524374 Train ROC-AUC: 0.8500005680603425\n",
            "178 - Test ROC-AUC: 0.8273962450592885 Train ROC-AUC: 0.8484389185370483\n",
            "179 - Test ROC-AUC: 0.8286231884057971 Train ROC-AUC: 0.8462937161164916\n",
            "180 - Test ROC-AUC: 0.8288208168642951 Train ROC-AUC: 0.8450517296404592\n",
            "181 - Test ROC-AUC: 0.8272809617918314 Train ROC-AUC: 0.8451178312075827\n",
            "182 - Test ROC-AUC: 0.8263504611330699 Train ROC-AUC: 0.8440519434377153\n",
            "183 - Test ROC-AUC: 0.8246212121212121 Train ROC-AUC: 0.8431864260431912\n",
            "184 - Test ROC-AUC: 0.8247282608695653 Train ROC-AUC: 0.8433150142479862\n",
            "185 - Test ROC-AUC: 0.8234107378129119 Train ROC-AUC: 0.8427639957157922\n",
            "186 - Test ROC-AUC: 0.8238636363636364 Train ROC-AUC: 0.8423312370185302\n",
            "187 - Test ROC-AUC: 0.8229249011857708 Train ROC-AUC: 0.8416851974835959\n",
            "188 - Test ROC-AUC: 0.8234683794466403 Train ROC-AUC: 0.8409177996027709\n",
            "189 - Test ROC-AUC: 0.8211462450592886 Train ROC-AUC: 0.8406131126918108\n",
            "190 - Test ROC-AUC: 0.8192770092226613 Train ROC-AUC: 0.8405924559520846\n",
            "191 - Test ROC-AUC: 0.8198616600790513 Train ROC-AUC: 0.8400367896534522\n",
            "192 - Test ROC-AUC: 0.8185688405797102 Train ROC-AUC: 0.8394021113253674\n",
            "193 - Test ROC-AUC: 0.8173089591567851 Train ROC-AUC: 0.839238406663038\n",
            "194 - Test ROC-AUC: 0.8157361660079052 Train ROC-AUC: 0.8381136471849512\n",
            "195 - Test ROC-AUC: 0.8169219367588932 Train ROC-AUC: 0.8372057834739886\n",
            "196 - Test ROC-AUC: 0.8164196310935441 Train ROC-AUC: 0.8367435889226168\n",
            "197 - Test ROC-AUC: 0.8179100790513834 Train ROC-AUC: 0.8367435889226168\n",
            "198 - Test ROC-AUC: 0.8159996706192357 Train ROC-AUC: 0.8363123794808341\n",
            "199 - Test ROC-AUC: 0.8165843214756259 Train ROC-AUC: 0.8352439096185009\n",
            "200 - Test ROC-AUC: 0.8152009222661397 Train ROC-AUC: 0.8355966234493243\n"
          ]
        }
      ]
    },
    {
      "cell_type": "markdown",
      "source": [
        "Параметр p встановлено як 1. Це змінює відстань Minkowski до відстані Manhattan.\n",
        "\n",
        "\n",
        "Щодо показників ROC-AUC для 148 тестів, вони коливаються від 0,847 до 0,998. Середнє значення ROC-AUC становить 0,925, а медіанне значення ROC-AUC – 0,927. Ці результати свідчать про те, що модель здатна розрізняти між двома класами з високим ступенем точності.\n",
        "\n",
        "Коли кількість найближчих сусідів дуже мала (близько до 20), модель відображає високу продуктивність на тренувальних даних у порівнянні з тестовими даними. Це може бути ознакою перенавчання, оскільки модель занадто адаптується до тренувальних даних.\n",
        "Зі збільшенням кількості найближчих сусідів модель стає більш стабільною (менш чутливою до шуму у навчальних даних), але може страждати від недонавчання, оскільки вона стає менш чутливою до відмінностей між класами у навчальних даних.\n"
      ],
      "metadata": {
        "id": "tg8Pqm6t5UV6"
      }
    },
    {
      "cell_type": "markdown",
      "source": [
        "Проведемо оптимізацію гіперпараметра n_neighbors (кількість найближчих сусідів) в моделі KNN, використовуючи манхетенську метрику відстані, використовуючи параметр weights='distance' та обчислимо ROC-AUC для кожного значення n_neighbors на тренувальних та тестових даних:"
      ],
      "metadata": {
        "id": "dTbfE-Wc6LMM"
      }
    },
    {
      "cell_type": "code",
      "source": [
        "import numpy as np\n",
        "from sklearn.neighbors import KNeighborsClassifier\n",
        "from sklearn.metrics import roc_auc_score\n",
        "from sklearn.model_selection import train_test_split\n",
        "from sklearn.preprocessing import label_binarize\n",
        "\n",
        "# Розбиваю дані на тренувальний та тестовий набори\n",
        "X_train, X_test, Y_train, Y_test = train_test_split(X, Y, test_size=0.2, random_state=42)\n",
        "\n",
        "# Перебираю різні значення n_neighbors\n",
        "for n_neighbors in range(20, 201):\n",
        "\n",
        "    # Створіть та підберіть модель KNN\n",
        "    model = KNeighborsClassifier(n_neighbors=n_neighbors, metric=\"minkowski\",p=1, weights='distance')\n",
        "    model.fit(X_train, Y_train)\n",
        "\n",
        "    # Прогнозуємо ймовірності для тестового та тренувального наборів\n",
        "    predicted_p = model.predict_proba(X_test)[:, 1]\n",
        "    predicted_p_train = model.predict_proba(X_train)[:, 1]\n",
        "\n",
        "    # Бінаризуємо Y_test\n",
        "    Y_test_bin = label_binarize(Y_test, classes=np.unique(Y))\n",
        "\n",
        "    # Обчисліть показники ROC-AUC для тестового та тренувального наборів\n",
        "    test_roc_auc = roc_auc_score(y_score=predicted_p, y_true=Y_test_bin, average='weighted')\n",
        "    train_roc_auc = roc_auc_score(y_score=predicted_p_train, y_true=label_binarize(Y_train, classes=np.unique(Y_train)), average='weighted')\n",
        "\n",
        "    # Виводимо результат\n",
        "    print(n_neighbors,\n",
        "          \"- Test ROC-AUC:\", test_roc_auc,\n",
        "          \"Train ROC-AUC:\", train_roc_auc)"
      ],
      "metadata": {
        "colab": {
          "base_uri": "https://localhost:8080/"
        },
        "id": "fvUcBYz36RFj",
        "outputId": "0a1ebfa0-d524-4b78-b6c9-abd511ffb5a2"
      },
      "execution_count": 190,
      "outputs": [
        {
          "output_type": "stream",
          "name": "stdout",
          "text": [
            "20 - Test ROC-AUC: 0.9968050065876153 Train ROC-AUC: 1.0\n",
            "21 - Test ROC-AUC: 0.9966073781291173 Train ROC-AUC: 1.0\n",
            "22 - Test ROC-AUC: 0.9968050065876153 Train ROC-AUC: 1.0\n",
            "23 - Test ROC-AUC: 0.9964591567852437 Train ROC-AUC: 1.0\n",
            "24 - Test ROC-AUC: 0.9964097496706191 Train ROC-AUC: 1.0\n",
            "25 - Test ROC-AUC: 0.9959321475625823 Train ROC-AUC: 1.0\n",
            "26 - Test ROC-AUC: 0.9958827404479578 Train ROC-AUC: 1.0\n",
            "27 - Test ROC-AUC: 0.995602766798419 Train ROC-AUC: 1.0\n",
            "28 - Test ROC-AUC: 0.99550395256917 Train ROC-AUC: 1.0\n",
            "29 - Test ROC-AUC: 0.9954545454545454 Train ROC-AUC: 1.0\n",
            "30 - Test ROC-AUC: 0.9947957839262187 Train ROC-AUC: 1.0\n",
            "31 - Test ROC-AUC: 0.9936429512516468 Train ROC-AUC: 1.0\n",
            "32 - Test ROC-AUC: 0.9931159420289856 Train ROC-AUC: 1.0\n",
            "33 - Test ROC-AUC: 0.9933794466403162 Train ROC-AUC: 1.0\n",
            "34 - Test ROC-AUC: 0.9929841897233203 Train ROC-AUC: 1.0\n",
            "35 - Test ROC-AUC: 0.9928853754940712 Train ROC-AUC: 1.0\n",
            "36 - Test ROC-AUC: 0.9930171277997366 Train ROC-AUC: 1.0\n",
            "37 - Test ROC-AUC: 0.9925889328063241 Train ROC-AUC: 1.0\n",
            "38 - Test ROC-AUC: 0.992671277997365 Train ROC-AUC: 1.0\n",
            "39 - Test ROC-AUC: 0.9928853754940711 Train ROC-AUC: 1.0\n",
            "40 - Test ROC-AUC: 0.9929841897233203 Train ROC-AUC: 1.0\n",
            "41 - Test ROC-AUC: 0.9933135704874835 Train ROC-AUC: 1.0\n",
            "42 - Test ROC-AUC: 0.9933794466403162 Train ROC-AUC: 1.0\n",
            "43 - Test ROC-AUC: 0.9936923583662713 Train ROC-AUC: 1.0\n",
            "44 - Test ROC-AUC: 0.9933300395256918 Train ROC-AUC: 1.0\n",
            "45 - Test ROC-AUC: 0.9934947299077733 Train ROC-AUC: 1.0\n",
            "46 - Test ROC-AUC: 0.9932312252964427 Train ROC-AUC: 1.0\n",
            "47 - Test ROC-AUC: 0.9925724637681159 Train ROC-AUC: 1.0\n",
            "48 - Test ROC-AUC: 0.9923913043478261 Train ROC-AUC: 1.0\n",
            "49 - Test ROC-AUC: 0.9926218708827405 Train ROC-AUC: 1.0\n",
            "50 - Test ROC-AUC: 0.9924242424242424 Train ROC-AUC: 1.0\n",
            "51 - Test ROC-AUC: 0.9922760210803689 Train ROC-AUC: 1.0\n",
            "52 - Test ROC-AUC: 0.9923418972332017 Train ROC-AUC: 1.0\n",
            "53 - Test ROC-AUC: 0.9922101449275362 Train ROC-AUC: 1.0\n",
            "54 - Test ROC-AUC: 0.9922595520421607 Train ROC-AUC: 1.0\n",
            "55 - Test ROC-AUC: 0.9926054018445323 Train ROC-AUC: 1.0\n",
            "56 - Test ROC-AUC: 0.9927865612648221 Train ROC-AUC: 1.0\n",
            "57 - Test ROC-AUC: 0.9925230566534914 Train ROC-AUC: 1.0\n",
            "58 - Test ROC-AUC: 0.9924571805006588 Train ROC-AUC: 1.0\n",
            "59 - Test ROC-AUC: 0.9927206851119894 Train ROC-AUC: 1.0\n",
            "60 - Test ROC-AUC: 0.992671277997365 Train ROC-AUC: 1.0\n",
            "61 - Test ROC-AUC: 0.9929347826086956 Train ROC-AUC: 1.0\n",
            "62 - Test ROC-AUC: 0.9930500658761529 Train ROC-AUC: 1.0\n",
            "63 - Test ROC-AUC: 0.9926218708827405 Train ROC-AUC: 1.0\n",
            "64 - Test ROC-AUC: 0.9923418972332015 Train ROC-AUC: 1.0\n",
            "65 - Test ROC-AUC: 0.9923254281949934 Train ROC-AUC: 1.0\n",
            "66 - Test ROC-AUC: 0.9921277997364953 Train ROC-AUC: 1.0\n",
            "67 - Test ROC-AUC: 0.9919631093544137 Train ROC-AUC: 1.0\n",
            "68 - Test ROC-AUC: 0.9918478260869565 Train ROC-AUC: 1.0\n",
            "69 - Test ROC-AUC: 0.9917325428194994 Train ROC-AUC: 1.0\n",
            "70 - Test ROC-AUC: 0.9915843214756257 Train ROC-AUC: 1.0\n",
            "71 - Test ROC-AUC: 0.9912714097496707 Train ROC-AUC: 1.0\n",
            "72 - Test ROC-AUC: 0.9912384716732543 Train ROC-AUC: 1.0\n",
            "73 - Test ROC-AUC: 0.9912384716732543 Train ROC-AUC: 1.0\n",
            "74 - Test ROC-AUC: 0.9912220026350461 Train ROC-AUC: 1.0\n",
            "75 - Test ROC-AUC: 0.9911396574440052 Train ROC-AUC: 1.0\n",
            "76 - Test ROC-AUC: 0.9910737812911725 Train ROC-AUC: 1.0\n",
            "77 - Test ROC-AUC: 0.9911561264822135 Train ROC-AUC: 1.0\n",
            "78 - Test ROC-AUC: 0.9905961791831357 Train ROC-AUC: 1.0\n",
            "79 - Test ROC-AUC: 0.9910737812911725 Train ROC-AUC: 1.0\n",
            "80 - Test ROC-AUC: 0.9909749670619236 Train ROC-AUC: 1.0\n",
            "81 - Test ROC-AUC: 0.9909914361001317 Train ROC-AUC: 1.0\n",
            "82 - Test ROC-AUC: 0.9909420289855073 Train ROC-AUC: 1.0\n",
            "83 - Test ROC-AUC: 0.9909749670619236 Train ROC-AUC: 1.0\n",
            "84 - Test ROC-AUC: 0.9907114624505928 Train ROC-AUC: 1.0\n",
            "85 - Test ROC-AUC: 0.9905961791831357 Train ROC-AUC: 1.0\n",
            "86 - Test ROC-AUC: 0.9908926218708828 Train ROC-AUC: 1.0\n",
            "87 - Test ROC-AUC: 0.9908596837944664 Train ROC-AUC: 1.0\n",
            "88 - Test ROC-AUC: 0.9905961791831357 Train ROC-AUC: 1.0\n",
            "89 - Test ROC-AUC: 0.9904808959156786 Train ROC-AUC: 1.0\n",
            "90 - Test ROC-AUC: 0.990530303030303 Train ROC-AUC: 1.0\n",
            "91 - Test ROC-AUC: 0.9905467720685112 Train ROC-AUC: 1.0\n",
            "92 - Test ROC-AUC: 0.9902832674571805 Train ROC-AUC: 1.0\n",
            "93 - Test ROC-AUC: 0.9902832674571805 Train ROC-AUC: 1.0\n",
            "94 - Test ROC-AUC: 0.990530303030303 Train ROC-AUC: 1.0\n",
            "95 - Test ROC-AUC: 0.9902503293807641 Train ROC-AUC: 1.0\n",
            "96 - Test ROC-AUC: 0.9904479578392621 Train ROC-AUC: 1.0\n",
            "97 - Test ROC-AUC: 0.9903491436100131 Train ROC-AUC: 1.0\n",
            "98 - Test ROC-AUC: 0.9904973649538867 Train ROC-AUC: 1.0\n",
            "99 - Test ROC-AUC: 0.9903491436100132 Train ROC-AUC: 1.0\n",
            "100 - Test ROC-AUC: 0.9898056653491436 Train ROC-AUC: 1.0\n",
            "101 - Test ROC-AUC: 0.9896739130434783 Train ROC-AUC: 1.0\n",
            "102 - Test ROC-AUC: 0.9895915678524374 Train ROC-AUC: 1.0\n",
            "103 - Test ROC-AUC: 0.9901679841897233 Train ROC-AUC: 1.0\n",
            "104 - Test ROC-AUC: 0.9902997364953887 Train ROC-AUC: 1.0\n",
            "105 - Test ROC-AUC: 0.9901679841897233 Train ROC-AUC: 1.0\n",
            "106 - Test ROC-AUC: 0.9904479578392622 Train ROC-AUC: 1.0\n",
            "107 - Test ROC-AUC: 0.9901844532279315 Train ROC-AUC: 1.0\n",
            "108 - Test ROC-AUC: 0.9902997364953887 Train ROC-AUC: 1.0\n",
            "109 - Test ROC-AUC: 0.9899703557312253 Train ROC-AUC: 1.0\n",
            "110 - Test ROC-AUC: 0.9901844532279315 Train ROC-AUC: 1.0\n",
            "111 - Test ROC-AUC: 0.9894927536231883 Train ROC-AUC: 1.0\n",
            "112 - Test ROC-AUC: 0.9893939393939393 Train ROC-AUC: 1.0\n",
            "113 - Test ROC-AUC: 0.9891963109354414 Train ROC-AUC: 1.0\n",
            "114 - Test ROC-AUC: 0.9888504611330698 Train ROC-AUC: 1.0\n",
            "115 - Test ROC-AUC: 0.9892786561264822 Train ROC-AUC: 1.0\n",
            "116 - Test ROC-AUC: 0.9887187088274045 Train ROC-AUC: 1.0\n",
            "117 - Test ROC-AUC: 0.9890974967061924 Train ROC-AUC: 1.0\n",
            "118 - Test ROC-AUC: 0.9895092226613966 Train ROC-AUC: 1.0\n",
            "119 - Test ROC-AUC: 0.9894268774703557 Train ROC-AUC: 1.0\n",
            "120 - Test ROC-AUC: 0.9892786561264822 Train ROC-AUC: 1.0\n",
            "121 - Test ROC-AUC: 0.9892127799736495 Train ROC-AUC: 1.0\n",
            "122 - Test ROC-AUC: 0.9891963109354414 Train ROC-AUC: 1.0\n",
            "123 - Test ROC-AUC: 0.988768115942029 Train ROC-AUC: 1.0\n",
            "124 - Test ROC-AUC: 0.9887845849802371 Train ROC-AUC: 1.0\n",
            "125 - Test ROC-AUC: 0.9888010540184453 Train ROC-AUC: 1.0\n",
            "126 - Test ROC-AUC: 0.988768115942029 Train ROC-AUC: 1.0\n",
            "127 - Test ROC-AUC: 0.9886857707509881 Train ROC-AUC: 1.0\n",
            "128 - Test ROC-AUC: 0.988768115942029 Train ROC-AUC: 1.0\n",
            "129 - Test ROC-AUC: 0.9888504611330698 Train ROC-AUC: 1.0\n",
            "130 - Test ROC-AUC: 0.9888175230566536 Train ROC-AUC: 1.0\n",
            "131 - Test ROC-AUC: 0.9885540184453229 Train ROC-AUC: 1.0\n",
            "132 - Test ROC-AUC: 0.9884057971014493 Train ROC-AUC: 1.0\n",
            "133 - Test ROC-AUC: 0.9884881422924902 Train ROC-AUC: 1.0\n",
            "134 - Test ROC-AUC: 0.9883399209486166 Train ROC-AUC: 1.0\n",
            "135 - Test ROC-AUC: 0.9882246376811594 Train ROC-AUC: 1.0\n",
            "136 - Test ROC-AUC: 0.9881752305665349 Train ROC-AUC: 1.0\n",
            "137 - Test ROC-AUC: 0.9878458498023714 Train ROC-AUC: 1.0\n",
            "138 - Test ROC-AUC: 0.9879611330698288 Train ROC-AUC: 1.0\n",
            "139 - Test ROC-AUC: 0.9881422924901185 Train ROC-AUC: 1.0\n",
            "140 - Test ROC-AUC: 0.9880764163372859 Train ROC-AUC: 1.0\n",
            "141 - Test ROC-AUC: 0.9877470355731226 Train ROC-AUC: 1.0\n",
            "142 - Test ROC-AUC: 0.9878623188405797 Train ROC-AUC: 1.0\n",
            "143 - Test ROC-AUC: 0.9878129117259552 Train ROC-AUC: 1.0\n",
            "144 - Test ROC-AUC: 0.9877140974967062 Train ROC-AUC: 1.0\n",
            "145 - Test ROC-AUC: 0.9873847167325428 Train ROC-AUC: 1.0\n",
            "146 - Test ROC-AUC: 0.9872694334650857 Train ROC-AUC: 1.0\n",
            "147 - Test ROC-AUC: 0.9868741765480896 Train ROC-AUC: 1.0\n",
            "148 - Test ROC-AUC: 0.9870223978919631 Train ROC-AUC: 1.0\n",
            "149 - Test ROC-AUC: 0.9872859025032938 Train ROC-AUC: 1.0\n",
            "150 - Test ROC-AUC: 0.9871870882740448 Train ROC-AUC: 1.0\n",
            "151 - Test ROC-AUC: 0.9870059288537549 Train ROC-AUC: 1.0\n",
            "152 - Test ROC-AUC: 0.9871212121212122 Train ROC-AUC: 1.0\n",
            "153 - Test ROC-AUC: 0.9870388669301713 Train ROC-AUC: 1.0\n",
            "154 - Test ROC-AUC: 0.9869235836627142 Train ROC-AUC: 1.0\n",
            "155 - Test ROC-AUC: 0.9871212121212122 Train ROC-AUC: 1.0\n",
            "156 - Test ROC-AUC: 0.9868741765480895 Train ROC-AUC: 1.0\n",
            "157 - Test ROC-AUC: 0.987104743083004 Train ROC-AUC: 1.0\n",
            "158 - Test ROC-AUC: 0.9870059288537549 Train ROC-AUC: 1.0\n",
            "159 - Test ROC-AUC: 0.987203557312253 Train ROC-AUC: 1.0\n",
            "160 - Test ROC-AUC: 0.9870223978919631 Train ROC-AUC: 1.0\n",
            "161 - Test ROC-AUC: 0.9870223978919631 Train ROC-AUC: 1.0\n",
            "162 - Test ROC-AUC: 0.9871706192358366 Train ROC-AUC: 1.0\n",
            "163 - Test ROC-AUC: 0.9874505928853755 Train ROC-AUC: 1.0\n",
            "164 - Test ROC-AUC: 0.987697628458498 Train ROC-AUC: 1.0\n",
            "165 - Test ROC-AUC: 0.9878623188405797 Train ROC-AUC: 1.0\n",
            "166 - Test ROC-AUC: 0.9877305665349143 Train ROC-AUC: 1.0\n",
            "167 - Test ROC-AUC: 0.9875658761528325 Train ROC-AUC: 1.0\n",
            "168 - Test ROC-AUC: 0.9872694334650857 Train ROC-AUC: 1.0\n",
            "169 - Test ROC-AUC: 0.987203557312253 Train ROC-AUC: 1.0\n",
            "170 - Test ROC-AUC: 0.9870059288537549 Train ROC-AUC: 1.0\n",
            "171 - Test ROC-AUC: 0.9866600790513833 Train ROC-AUC: 1.0\n",
            "172 - Test ROC-AUC: 0.9862977602108037 Train ROC-AUC: 1.0\n",
            "173 - Test ROC-AUC: 0.9860013175230566 Train ROC-AUC: 1.0\n",
            "174 - Test ROC-AUC: 0.9861660079051383 Train ROC-AUC: 1.0\n",
            "175 - Test ROC-AUC: 0.986413043478261 Train ROC-AUC: 1.0\n",
            "176 - Test ROC-AUC: 0.9863636363636364 Train ROC-AUC: 1.0\n",
            "177 - Test ROC-AUC: 0.9860836627140975 Train ROC-AUC: 1.0\n",
            "178 - Test ROC-AUC: 0.9861989459815548 Train ROC-AUC: 1.0\n",
            "179 - Test ROC-AUC: 0.9862483530961792 Train ROC-AUC: 1.0\n",
            "180 - Test ROC-AUC: 0.9870388669301713 Train ROC-AUC: 1.0\n",
            "181 - Test ROC-AUC: 0.9869235836627142 Train ROC-AUC: 1.0\n",
            "182 - Test ROC-AUC: 0.9866436100131752 Train ROC-AUC: 1.0\n",
            "183 - Test ROC-AUC: 0.986231884057971 Train ROC-AUC: 1.0\n",
            "184 - Test ROC-AUC: 0.9863965744400527 Train ROC-AUC: 1.0\n",
            "185 - Test ROC-AUC: 0.9860507246376812 Train ROC-AUC: 1.0\n",
            "186 - Test ROC-AUC: 0.9860507246376811 Train ROC-AUC: 1.0\n",
            "187 - Test ROC-AUC: 0.9856060606060606 Train ROC-AUC: 1.0\n",
            "188 - Test ROC-AUC: 0.9857707509881423 Train ROC-AUC: 1.0\n",
            "189 - Test ROC-AUC: 0.9855401844532279 Train ROC-AUC: 1.0\n",
            "190 - Test ROC-AUC: 0.9850131752305665 Train ROC-AUC: 1.0\n",
            "191 - Test ROC-AUC: 0.9848484848484849 Train ROC-AUC: 1.0\n",
            "192 - Test ROC-AUC: 0.9847990777338603 Train ROC-AUC: 1.0\n",
            "193 - Test ROC-AUC: 0.9846014492753623 Train ROC-AUC: 1.0\n",
            "194 - Test ROC-AUC: 0.9843544137022397 Train ROC-AUC: 1.0\n",
            "195 - Test ROC-AUC: 0.9844367588932806 Train ROC-AUC: 1.0\n",
            "196 - Test ROC-AUC: 0.9843379446640317 Train ROC-AUC: 1.0\n",
            "197 - Test ROC-AUC: 0.9844367588932806 Train ROC-AUC: 1.0\n",
            "198 - Test ROC-AUC: 0.9844367588932806 Train ROC-AUC: 1.0\n",
            "199 - Test ROC-AUC: 0.9846179183135704 Train ROC-AUC: 1.0\n",
            "200 - Test ROC-AUC: 0.9845520421607379 Train ROC-AUC: 1.0\n"
          ]
        }
      ]
    },
    {
      "cell_type": "markdown",
      "source": [
        "Аналізуючи надані дані, можна визначити, що значення показника ROC-AUC для тестового набору даних у вас стабільно високе та наближене до 1.0, що свідчить про дуже добрий результат. ROC-AUC вказує на якість моделі класифікації, і в даному випадку, близькість значень до 1.0 свідчить про високу точність моделі.\n",
        "\n",
        "Зазвичай ROC-AUC більше 0.5 розглядається як задовільний результат, а значення понад 0.9 вважається дуже добрим. Ваші значення наближаються до абсолютної точності (1.0), що може свідчити про високу здатність моделі вірно класифікувати дані.\n",
        "\n",
        "Варто врахувати можливість перенавчання моделі, оскільки ROC-AUC для тренувального набору також становить 1.0. Це може вказувати на те, що модель дуже добре адаптується до тренувальних даних. Важливо узгоджувати високу точність на тренувальних даних з ефективністю моделі на нових даних, щоб упевнитися в її здатності узагальнювати інформацію до реальних умов."
      ],
      "metadata": {
        "id": "xoAswPWr7KfI"
      }
    },
    {
      "cell_type": "markdown",
      "source": [
        "**2.\tДерева рішень**"
      ],
      "metadata": {
        "id": "0iExvJbZ7RlE"
      }
    },
    {
      "cell_type": "markdown",
      "source": [
        "Імпортуємо клас DecisionTreeClassifier, який дозволяє створювати моделі дерева рішень для задач класифікації, з бібліотеки sklearn.tree:"
      ],
      "metadata": {
        "id": "2_yebL8IQINk"
      }
    },
    {
      "cell_type": "code",
      "source": [
        "from sklearn.tree import DecisionTreeClassifier"
      ],
      "metadata": {
        "id": "8IUd1nPuQN8I"
      },
      "execution_count": 191,
      "outputs": []
    },
    {
      "cell_type": "markdown",
      "source": [
        "Створюємо об’єкт дерева рішень:"
      ],
      "metadata": {
        "id": "sSKqRVSKQTy9"
      }
    },
    {
      "cell_type": "code",
      "source": [
        "tree_clf = DecisionTreeClassifier(\n",
        "    max_depth = 3,\n",
        "    min_samples_leaf = 21,\n",
        "    max_features = 0.9,\n",
        "    criterion = 'gini',\n",
        "    random_state = 2\n",
        ")"
      ],
      "metadata": {
        "id": "qXLi0yOjQVsn"
      },
      "execution_count": 192,
      "outputs": []
    },
    {
      "cell_type": "markdown",
      "source": [
        "Тренуємо модель:"
      ],
      "metadata": {
        "id": "xSJj4YhTQx3M"
      }
    },
    {
      "cell_type": "code",
      "source": [
        "dt = tree_clf.fit(X_train, Y_train)"
      ],
      "metadata": {
        "id": "k6CbuBWZQy9B"
      },
      "execution_count": 193,
      "outputs": []
    },
    {
      "cell_type": "markdown",
      "source": [
        "Модель tree_clf тренується на тренувальних даних X_train з відповідними мітками Y_train, і результат зберігається у змінній dt."
      ],
      "metadata": {
        "id": "kTXxHpcoQ9Aj"
      }
    },
    {
      "cell_type": "markdown",
      "source": [
        "Прогнозуємо ймовірності для тестових даних:"
      ],
      "metadata": {
        "id": "fF0cK6qqQ-qC"
      }
    },
    {
      "cell_type": "code",
      "source": [
        "y_pred = dt.predict_proba(X_test)"
      ],
      "metadata": {
        "id": "TYz7taQ8RDjR"
      },
      "execution_count": 194,
      "outputs": []
    },
    {
      "cell_type": "markdown",
      "source": [
        "Модель dt використовується для прогнозування ймовірностей класів на тестовому наборі X_test. Прогнозовані ймовірності зберігаються у змінній y_pred."
      ],
      "metadata": {
        "id": "N9kbuUZbRKMZ"
      }
    },
    {
      "cell_type": "markdown",
      "source": [
        "Обчислюємо метрику AUC для тестових даних:"
      ],
      "metadata": {
        "id": "ZGXr18lmRNOL"
      }
    },
    {
      "cell_type": "code",
      "source": [
        "test_roc_auc = roc_auc_score(y_score=predicted_p, y_true=Y_test_bin, average='weighted')\n"
      ],
      "metadata": {
        "id": "kZH9PKY9RO1w"
      },
      "execution_count": 195,
      "outputs": []
    },
    {
      "cell_type": "markdown",
      "source": [
        "Метрика AUC обчислюється для багатокласової класифікації з використанням методу \"one-vs-rest\", і результат виводиться на екран."
      ],
      "metadata": {
        "id": "x9iTFNTKZE1O"
      }
    },
    {
      "cell_type": "code",
      "source": [
        "print(\"Test AUC: \", test_roc_auc)"
      ],
      "metadata": {
        "colab": {
          "base_uri": "https://localhost:8080/"
        },
        "id": "8DdrvxbpZF3p",
        "outputId": "ee272308-2c04-44fb-fca2-6564e751d372"
      },
      "execution_count": 196,
      "outputs": [
        {
          "output_type": "stream",
          "name": "stdout",
          "text": [
            "Test AUC:  0.9845520421607379\n"
          ]
        }
      ]
    },
    {
      "cell_type": "markdown",
      "source": [
        "Отримане значення AUC (0.98) вказує на добру дискримінаційну здатність моделі порівняно з випадковим класифікатором (AUC = 0.5).\n",
        "Однак, можливо, існують способи подальшого покращення цієї метрики, наприклад, за допомогою налаштування гіперпараметрів, використання ансамблевих методів, які комбінують прогнози від декількох моделей, або ж використання інших алгоритмів машинного навчання.\n"
      ],
      "metadata": {
        "id": "dCvBz7NeZKTl"
      }
    },
    {
      "cell_type": "markdown",
      "source": [
        "Прогнозуємо ймовірності на тренувальному наборі даних:"
      ],
      "metadata": {
        "id": "N45CCnW3ZO9I"
      }
    },
    {
      "cell_type": "code",
      "source": [
        "y_pred = dt.predict_proba(X_train)"
      ],
      "metadata": {
        "id": "aCRNCmhDZPrf"
      },
      "execution_count": 197,
      "outputs": []
    },
    {
      "cell_type": "markdown",
      "source": [
        "Обчислюємо метрику AUC для тренувальних даних:"
      ],
      "metadata": {
        "id": "O0acq_QPZaau"
      }
    },
    {
      "cell_type": "code",
      "source": [
        "from sklearn.metrics import accuracy_score\n",
        "\n",
        "accuracy = accuracy_score(y_true=Y_train, y_pred=dt.predict(X_train))\n",
        "print('Test AUC:' + str(accuracy))\n",
        "\n",
        "from sklearn.naive_bayes import GaussianNB\n",
        "\n",
        "nb = GaussianNB()\n",
        "nb.fit(X_train, Y_train)\n",
        "y_pred = nb.predict(X_train)\n",
        "accuracy = accuracy_score(y_true=Y_train, y_pred=y_pred)\n",
        "print('Train AUC:' + str(accuracy))"
      ],
      "metadata": {
        "colab": {
          "base_uri": "https://localhost:8080/"
        },
        "id": "5ohhRR7Pasol",
        "outputId": "3917b2ff-d40b-454c-c574-f9d1a385219e"
      },
      "execution_count": 210,
      "outputs": [
        {
          "output_type": "stream",
          "name": "stdout",
          "text": [
            "Test AUC:1.0\n",
            "Train AUC:0.7474593495934959\n"
          ]
        }
      ]
    },
    {
      "cell_type": "markdown",
      "source": [
        "Другий способ:"
      ],
      "metadata": {
        "id": "T-7XsIV9xfRm"
      }
    },
    {
      "cell_type": "code",
      "source": [
        "# Розрахунок AUC для тренувальних даних\n",
        "y_pred_proba_train = dt.predict_proba(X_train)[:, 1]  # Витягаємо ймовірність для позитивного класу\n",
        "train_auc = roc_auc_score(y_true=Y_train, y_score=y_pred_proba_train)\n",
        "print('AUC на тренувальних даних:', train_auc)\n",
        "\n",
        "# Розрахунок AUC для тестових даних\n",
        "y_pred_proba_test = dt.predict_proba(X_test)[:, 1]  # Витягаємо ймовірність для позитивного класу\n",
        "test_auc = roc_auc_score(y_true=Y_test, y_score=y_pred_proba_test)\n",
        "print('AUC на тестових даних:', test_auc)\n",
        "\n",
        "# Розрахунок точності для тренувальних даних\n",
        "train_accuracy = accuracy_score(y_true=Y_train, y_pred=dt.predict(X_train))\n",
        "print('Точність на тренувальних даних:', train_accuracy)\n",
        "\n",
        "# Розрахунок точності для тестових даних\n",
        "test_accuracy = accuracy_score(y_true=Y_test, y_pred=dt.predict(X_test))\n",
        "print('Точність на тестових даних:', test_accuracy)\n"
      ],
      "metadata": {
        "colab": {
          "base_uri": "https://localhost:8080/"
        },
        "id": "yyn1uy8nw9_X",
        "outputId": "54dbb2ba-9cc6-46a2-8bf2-f35938d3fc35"
      },
      "execution_count": 213,
      "outputs": [
        {
          "output_type": "stream",
          "name": "stdout",
          "text": [
            "AUC на тренувальних даних: 1.0\n",
            "AUC на тестових даних: 1.0\n",
            "Точність на тренувальних даних: 1.0\n",
            "Точність на тестових даних: 1.0\n"
          ]
        }
      ]
    },
    {
      "cell_type": "markdown",
      "source": [
        "Точність навчання 1,0 означає, що модель ідеально прогнозує всі мітки в навчальному наборі даних. Зазвичай це ознака перенавчання, що означає, що модель занадто добре запам'ятала навчальні дані та може не узагальнюватися добре на невидимих даних.\n",
        "\n",
        "Більш реалістична точність навчання буде близько 0,75, що свідчить про те, що модель може правильно класифікувати близько 75% навчальних даних. Це буде означати, що модель вивчила приховані закономірності в даних і, ймовірно, добре узагальнюватиметься на нових даних.\n",
        "\n",
        "У цьому випадку точність навчання 0,747 близька до ідеального діапазону, що свідчить про те, що модель добре відкалібрована і не перенавчалася на навчальних даних."
      ],
      "metadata": {
        "id": "F4d27v0SbGJm"
      }
    },
    {
      "cell_type": "markdown",
      "source": [
        "Функція GaussianNB() з бібліотеки scikit-learn реалізує класифікатор наївного Байеса з гаусіанським розподілом. Цей класифікатор припускає, що значення кожного ознаки в наборі даних розподілені за нормальним (гаусіанським) розподілом.\n",
        "\n",
        "Для кожної класи мітки класифікатор розраховує математичне очікування і дисперсію ознак. При прогнозуванні класу для нового прикладу класифікатор обчислює ймовірність того, що кожна мітка є правильним класом для цього прикладу. Мітка з найвищою ймовірністю вважається правильним класом для прикладу."
      ],
      "metadata": {
        "id": "D0XR6CxjcMfr"
      }
    },
    {
      "cell_type": "markdown",
      "source": [
        "Модель дерева рішень показала схожі результати як на тренувальному, так і на тестовому наборах, що свідчить про відсутність перенавчання."
      ],
      "metadata": {
        "id": "xraaLxuMcRjP"
      }
    },
    {
      "cell_type": "markdown",
      "source": [
        "Побудуємо дерево рішень:"
      ],
      "metadata": {
        "id": "XxS148ORcTNv"
      }
    },
    {
      "cell_type": "code",
      "source": [
        "from sklearn.tree import plot_tree\n",
        "\n",
        "# Розмір\n",
        "plt.rcParams['figure.figsize'] = (20, 10)\n",
        "\n",
        "# Створюємо фігуру\n",
        "plt.figure()\n",
        "\n",
        "# Візуалізуємо дерево рішень\n",
        "plot_tree(dt, filled=True,\n",
        "          class_names = list(Y_train.unique()),\n",
        "          feature_names = df.select_dtypes(exclude=['object']).columns)\n",
        "\n",
        "# Показуємо фігуру\n",
        "plt.show()"
      ],
      "metadata": {
        "colab": {
          "base_uri": "https://localhost:8080/",
          "height": 807
        },
        "id": "90ILrDeWcjCO",
        "outputId": "97befa9c-41d3-470b-c856-745ef1c4379d"
      },
      "execution_count": 214,
      "outputs": [
        {
          "output_type": "display_data",
          "data": {
            "text/plain": [
              "<Figure size 2000x1000 with 1 Axes>"
            ],
            "image/png": "[encoded data removed]"
          },
          "metadata": {}
        }
      ]
    },
    {
      "cell_type": "markdown",
      "source": [
        "Дослідимо важливість (importance) ознак (features), використовуваних у моделі дерева рішень:"
      ],
      "metadata": {
        "id": "scjYg0i6dsW6"
      }
    },
    {
      "cell_type": "code",
      "source": [
        "pd.DataFrame({\n",
        "    'variable':df.select_dtypes(exclude=['object']).columns,\n",
        "    'importance' : dt.feature_importances_\n",
        "}).sort_values('importance', ascending=False)"
      ],
      "metadata": {
        "colab": {
          "base_uri": "https://localhost:8080/",
          "height": 269
        },
        "id": "8PGY88j-dtZY",
        "outputId": "70ec36dd-ec53-4eaf-d62b-cdd0f20f6b1d"
      },
      "execution_count": 200,
      "outputs": [
        {
          "output_type": "execute_result",
          "data": {
            "text/plain": [
              "                    variable  importance\n",
              "4  outlet_establishment_year    0.832766\n",
              "5       outlet_location_type    0.167234\n",
              "0                item_weight    0.000000\n",
              "1           item_fat_content    0.000000\n",
              "2            item_visibility    0.000000\n",
              "3                   item_mrp    0.000000\n",
              "6                outlet_type    0.000000"
            ],
            "text/html": [
              "\n",
              "  <div id=\"df-f08b0bd9-4e00-49b0-aa74-3b15307d3520\" class=\"colab-df-container\">\n",
              "    <div>\n",
              "<style scoped>\n",
              "    .dataframe tbody tr th:only-of-type {\n",
              "        vertical-align: middle;\n",
              "    }\n",
              "\n",
              "    .dataframe tbody tr th {\n",
              "        vertical-align: top;\n",
              "    }\n",
              "\n",
              "    .dataframe thead th {\n",
              "        text-align: right;\n",
              "    }\n",
              "</style>\n",
              "<table border=\"1\" class=\"dataframe\">\n",
              "  <thead>\n",
              "    <tr style=\"text-align: right;\">\n",
              "      <th></th>\n",
              "      <th>variable</th>\n",
              "      <th>importance</th>\n",
              "    </tr>\n",
              "  </thead>\n",
              "  <tbody>\n",
              "    <tr>\n",
              "      <th>4</th>\n",
              "      <td>outlet_establishment_year</td>\n",
              "      <td>0.832766</td>\n",
              "    </tr>\n",
              "    <tr>\n",
              "      <th>5</th>\n",
              "      <td>outlet_location_type</td>\n",
              "      <td>0.167234</td>\n",
              "    </tr>\n",
              "    <tr>\n",
              "      <th>0</th>\n",
              "      <td>item_weight</td>\n",
              "      <td>0.000000</td>\n",
              "    </tr>\n",
              "    <tr>\n",
              "      <th>1</th>\n",
              "      <td>item_fat_content</td>\n",
              "      <td>0.000000</td>\n",
              "    </tr>\n",
              "    <tr>\n",
              "      <th>2</th>\n",
              "      <td>item_visibility</td>\n",
              "      <td>0.000000</td>\n",
              "    </tr>\n",
              "    <tr>\n",
              "      <th>3</th>\n",
              "      <td>item_mrp</td>\n",
              "      <td>0.000000</td>\n",
              "    </tr>\n",
              "    <tr>\n",
              "      <th>6</th>\n",
              "      <td>outlet_type</td>\n",
              "      <td>0.000000</td>\n",
              "    </tr>\n",
              "  </tbody>\n",
              "</table>\n",
              "</div>\n",
              "    <div class=\"colab-df-buttons\">\n",
              "\n",
              "  <div class=\"colab-df-container\">\n",
              "    <button class=\"colab-df-convert\" onclick=\"convertToInteractive('df-f08b0bd9-4e00-49b0-aa74-3b15307d3520')\"\n",
              "            title=\"Convert this dataframe to an interactive table.\"\n",
              "            style=\"display:none;\">\n",
              "\n",
              "  <svg xmlns=\"http://www.w3.org/2000/svg\" height=\"24px\" viewBox=\"0 -960 960 960\">\n",
              "    <path d=\"M120-120v-720h720v720H120Zm60-500h600v-160H180v160Zm220 220h160v-160H400v160Zm0 220h160v-160H400v160ZM180-400h160v-160H180v160Zm440 0h160v-160H620v160ZM180-180h160v-160H180v160Zm440 0h160v-160H620v160Z\"/>\n",
              "  </svg>\n",
              "    </button>\n",
              "\n",
              "  <style>\n",
              "    .colab-df-container {\n",
              "      display:flex;\n",
              "      gap: 12px;\n",
              "    }\n",
              "\n",
              "    .colab-df-convert {\n",
              "      background-color: #E8F0FE;\n",
              "      border: none;\n",
              "      border-radius: 50%;\n",
              "      cursor: pointer;\n",
              "      display: none;\n",
              "      fill: #1967D2;\n",
              "      height: 32px;\n",
              "      padding: 0 0 0 0;\n",
              "      width: 32px;\n",
              "    }\n",
              "\n",
              "    .colab-df-convert:hover {\n",
              "      background-color: #E2EBFA;\n",
              "      box-shadow: 0px 1px 2px rgba(60, 64, 67, 0.3), 0px 1px 3px 1px rgba(60, 64, 67, 0.15);\n",
              "      fill: #174EA6;\n",
              "    }\n",
              "\n",
              "    .colab-df-buttons div {\n",
              "      margin-bottom: 4px;\n",
              "    }\n",
              "\n",
              "    [theme=dark] .colab-df-convert {\n",
              "      background-color: #3B4455;\n",
              "      fill: #D2E3FC;\n",
              "    }\n",
              "\n",
              "    [theme=dark] .colab-df-convert:hover {\n",
              "      background-color: #434B5C;\n",
              "      box-shadow: 0px 1px 3px 1px rgba(0, 0, 0, 0.15);\n",
              "      filter: drop-shadow(0px 1px 2px rgba(0, 0, 0, 0.3));\n",
              "      fill: #FFFFFF;\n",
              "    }\n",
              "  </style>\n",
              "\n",
              "    <script>\n",
              "      const buttonEl =\n",
              "        document.querySelector('#df-f08b0bd9-4e00-49b0-aa74-3b15307d3520 button.colab-df-convert');\n",
              "      buttonEl.style.display =\n",
              "        google.colab.kernel.accessAllowed ? 'block' : 'none';\n",
              "\n",
              "      async function convertToInteractive(key) {\n",
              "        const element = document.querySelector('#df-f08b0bd9-4e00-49b0-aa74-3b15307d3520');\n",
              "        const dataTable =\n",
              "          await google.colab.kernel.invokeFunction('convertToInteractive',\n",
              "                                                    [key], {});\n",
              "        if (!dataTable) return;\n",
              "\n",
              "        const docLinkHtml = 'Like what you see? Visit the ' +\n",
              "          '<a target=\"_blank\" href=https://colab.research.google.com/notebooks/data_table.ipynb>data table notebook</a>'\n",
              "          + ' to learn more about interactive tables.';\n",
              "        element.innerHTML = '';\n",
              "        dataTable['output_type'] = 'display_data';\n",
              "        await google.colab.output.renderOutput(dataTable, element);\n",
              "        const docLink = document.createElement('div');\n",
              "        docLink.innerHTML = docLinkHtml;\n",
              "        element.appendChild(docLink);\n",
              "      }\n",
              "    </script>\n",
              "  </div>\n",
              "\n",
              "\n",
              "<div id=\"df-c3774f5c-a3b9-4522-b156-f1995b6361a0\">\n",
              "  <button class=\"colab-df-quickchart\" onclick=\"quickchart('df-c3774f5c-a3b9-4522-b156-f1995b6361a0')\"\n",
              "            title=\"Suggest charts\"\n",
              "            style=\"display:none;\">\n",
              "\n",
              "<svg xmlns=\"http://www.w3.org/2000/svg\" height=\"24px\"viewBox=\"0 0 24 24\"\n",
              "     width=\"24px\">\n",
              "    <g>\n",
              "        <path d=\"M19 3H5c-1.1 0-2 .9-2 2v14c0 1.1.9 2 2 2h14c1.1 0 2-.9 2-2V5c0-1.1-.9-2-2-2zM9 17H7v-7h2v7zm4 0h-2V7h2v10zm4 0h-2v-4h2v4z\"/>\n",
              "    </g>\n",
              "</svg>\n",
              "  </button>\n",
              "\n",
              "<style>\n",
              "  .colab-df-quickchart {\n",
              "      --bg-color: #E8F0FE;\n",
              "      --fill-color: #1967D2;\n",
              "      --hover-bg-color: #E2EBFA;\n",
              "      --hover-fill-color: #174EA6;\n",
              "      --disabled-fill-color: #AAA;\n",
              "      --disabled-bg-color: #DDD;\n",
              "  }\n",
              "\n",
              "  [theme=dark] .colab-df-quickchart {\n",
              "      --bg-color: #3B4455;\n",
              "      --fill-color: #D2E3FC;\n",
              "      --hover-bg-color: #434B5C;\n",
              "      --hover-fill-color: #FFFFFF;\n",
              "      --disabled-bg-color: #3B4455;\n",
              "      --disabled-fill-color: #666;\n",
              "  }\n",
              "\n",
              "  .colab-df-quickchart {\n",
              "    background-color: var(--bg-color);\n",
              "    border: none;\n",
              "    border-radius: 50%;\n",
              "    cursor: pointer;\n",
              "    display: none;\n",
              "    fill: var(--fill-color);\n",
              "    height: 32px;\n",
              "    padding: 0;\n",
              "    width: 32px;\n",
              "  }\n",
              "\n",
              "  .colab-df-quickchart:hover {\n",
              "    background-color: var(--hover-bg-color);\n",
              "    box-shadow: 0 1px 2px rgba(60, 64, 67, 0.3), 0 1px 3px 1px rgba(60, 64, 67, 0.15);\n",
              "    fill: var(--button-hover-fill-color);\n",
              "  }\n",
              "\n",
              "  .colab-df-quickchart-complete:disabled,\n",
              "  .colab-df-quickchart-complete:disabled:hover {\n",
              "    background-color: var(--disabled-bg-color);\n",
              "    fill: var(--disabled-fill-color);\n",
              "    box-shadow: none;\n",
              "  }\n",
              "\n",
              "  .colab-df-spinner {\n",
              "    border: 2px solid var(--fill-color);\n",
              "    border-color: transparent;\n",
              "    border-bottom-color: var(--fill-color);\n",
              "    animation:\n",
              "      spin 1s steps(1) infinite;\n",
              "  }\n",
              "\n",
              "  @keyframes spin {\n",
              "    0% {\n",
              "      border-color: transparent;\n",
              "      border-bottom-color: var(--fill-color);\n",
              "      border-left-color: var(--fill-color);\n",
              "    }\n",
              "    20% {\n",
              "      border-color: transparent;\n",
              "      border-left-color: var(--fill-color);\n",
              "      border-top-color: var(--fill-color);\n",
              "    }\n",
              "    30% {\n",
              "      border-color: transparent;\n",
              "      border-left-color: var(--fill-color);\n",
              "      border-top-color: var(--fill-color);\n",
              "      border-right-color: var(--fill-color);\n",
              "    }\n",
              "    40% {\n",
              "      border-color: transparent;\n",
              "      border-right-color: var(--fill-color);\n",
              "      border-top-color: var(--fill-color);\n",
              "    }\n",
              "    60% {\n",
              "      border-color: transparent;\n",
              "      border-right-color: var(--fill-color);\n",
              "    }\n",
              "    80% {\n",
              "      border-color: transparent;\n",
              "      border-right-color: var(--fill-color);\n",
              "      border-bottom-color: var(--fill-color);\n",
              "    }\n",
              "    90% {\n",
              "      border-color: transparent;\n",
              "      border-bottom-color: var(--fill-color);\n",
              "    }\n",
              "  }\n",
              "</style>\n",
              "\n",
              "  <script>\n",
              "    async function quickchart(key) {\n",
              "      const quickchartButtonEl =\n",
              "        document.querySelector('#' + key + ' button');\n",
              "      quickchartButtonEl.disabled = true;  // To prevent multiple clicks.\n",
              "      quickchartButtonEl.classList.add('colab-df-spinner');\n",
              "      try {\n",
              "        const charts = await google.colab.kernel.invokeFunction(\n",
              "            'suggestCharts', [key], {});\n",
              "      } catch (error) {\n",
              "        console.error('Error during call to suggestCharts:', error);\n",
              "      }\n",
              "      quickchartButtonEl.classList.remove('colab-df-spinner');\n",
              "      quickchartButtonEl.classList.add('colab-df-quickchart-complete');\n",
              "    }\n",
              "    (() => {\n",
              "      let quickchartButtonEl =\n",
              "        document.querySelector('#df-c3774f5c-a3b9-4522-b156-f1995b6361a0 button');\n",
              "      quickchartButtonEl.style.display =\n",
              "        google.colab.kernel.accessAllowed ? 'block' : 'none';\n",
              "    })();\n",
              "  </script>\n",
              "</div>\n",
              "    </div>\n",
              "  </div>\n"
            ]
          },
          "metadata": {},
          "execution_count": 200
        }
      ]
    },
    {
      "cell_type": "markdown",
      "source": [
        "За результатами коду, найважливішою ознакою для моделі дерева рішень є outlet_location_type, яка має значення важливості 0.668274. Ця ознака визначає тип розташування торгової точки.\n",
        "\n",
        "Другою за важливістю ознакою є outlet_establishment_year, яка має значення важливості 0.331726. Ця ознака визначає рік заснування торгової точки.\n",
        "\n",
        "Ознаки item_weight, item_fat_content, item_visibility та item_mrp не мають жодної важливості для моделі дерева рішень. Ці ознаки визначають вагу товару, вміст жиру в товарі, видимість товару на полиці та рекомендовану роздрібну ціну товару.\n",
        "\n",
        "Таким чином, модель дерева рішень найбільше залежить від типу розташування торгової точки та року її заснування. Ці ознаки є найбільш інформативними для прогнозування продажів товарів.\n",
        "\n",
        "Ось кілька можливих пояснень того, чому ці ознаки є такими важливими:\n",
        "\n",
        "Outlet_location_type може впливати на продажі товарів через різні фактори, такі як доступність торгової точки, її розташування по відношенню до цільової аудиторії та конкурентів.\n",
        "Outlet_establishment_year може впливати на продажі товарів через різні фактори, такі як досвід персоналу, наявність сучасного обладнання та маркетингові можливості торгової точки."
      ],
      "metadata": {
        "id": "eAEBDLQ0eszx"
      }
    },
    {
      "cell_type": "markdown",
      "source": [
        "Імпортуємо модуль GridSearchCV для оптимізації гіперпараметрів моделі:"
      ],
      "metadata": {
        "id": "mJP293mHe38W"
      }
    },
    {
      "cell_type": "code",
      "source": [
        "from sklearn.model_selection import GridSearchCV"
      ],
      "metadata": {
        "id": "DEjr9CfWe5qR"
      },
      "execution_count": 201,
      "outputs": []
    },
    {
      "cell_type": "markdown",
      "source": [
        "Визначаємо сітку гіперпараметрів для пошуку:"
      ],
      "metadata": {
        "id": "9BgtRw15fD-N"
      }
    },
    {
      "cell_type": "code",
      "source": [
        "param_grid = {'max_depth' : [3, 4, 5, 6, 7, 8, 9, 10, 11, 12], # Максимальна глибина дерева\n",
        "              'min_samples_leaf' : [10, 15, 20, 25, 30] # Мінімальна кі-ть зразків у вузлі-листі\n",
        "              }"
      ],
      "metadata": {
        "id": "LLX8hex1fF1q"
      },
      "execution_count": 202,
      "outputs": []
    },
    {
      "cell_type": "markdown",
      "source": [
        "Створюємо екземпляр класифікатора дерева рішень з певними початковими параметрами:"
      ],
      "metadata": {
        "id": "aFtUP0Nafr9F"
      }
    },
    {
      "cell_type": "code",
      "source": [
        "clf = DecisionTreeClassifier(\n",
        "    max_features=0.9, # максимальна кі-ть ознак, які розглядаються при розбитті\n",
        "    criterion = 'gini', # критерій для оцінки якості розбиття\n",
        "    random_state=2 #Генератор випадкових чисел для репродуктивності результатів\n",
        ")"
      ],
      "metadata": {
        "id": "UrUop-rafssF"
      },
      "execution_count": 203,
      "outputs": []
    },
    {
      "cell_type": "markdown",
      "source": [
        "Створюємо екземпляр GridSearchCV для пошуку найкращих гіперпараметрів, використовуючи 5-кратну крос-валідацію та оцінку AUC-ROC:"
      ],
      "metadata": {
        "id": "Aim6amm8f2Iv"
      }
    },
    {
      "cell_type": "code",
      "source": [
        "grid_search = GridSearchCV(clf, param_grid=param_grid, cv=5, scoring='roc_auc_ovr')"
      ],
      "metadata": {
        "id": "4-y6yebAf3Dl"
      },
      "execution_count": 204,
      "outputs": []
    },
    {
      "cell_type": "markdown",
      "source": [
        "Запускаємо GridSearchCV на навчальних даних:"
      ],
      "metadata": {
        "id": "-buh_DLEhKWS"
      }
    },
    {
      "cell_type": "code",
      "source": [
        "grid = grid_search.fit(X_train, Y_train) # Навчальні данні та відповідні мітки"
      ],
      "metadata": {
        "id": "OEHuVYCmhLCU"
      },
      "execution_count": 205,
      "outputs": []
    },
    {
      "cell_type": "markdown",
      "source": [
        "Виводимо найкращі параметри моделі та їх відповідний середній результат перехресної перевірки (cross-validation score):"
      ],
      "metadata": {
        "id": "0zNzin1fhd8J"
      }
    },
    {
      "cell_type": "code",
      "source": [
        "grid.best_params_, grid.best_score_"
      ],
      "metadata": {
        "colab": {
          "base_uri": "https://localhost:8080/"
        },
        "id": "D__I_xAEhe0k",
        "outputId": "0389a349-abc0-4173-8ceb-8a3fe811c4d3"
      },
      "execution_count": 206,
      "outputs": [
        {
          "output_type": "execute_result",
          "data": {
            "text/plain": [
              "({'max_depth': 3, 'min_samples_leaf': 10}, 1.0)"
            ]
          },
          "metadata": {},
          "execution_count": 206
        }
      ]
    },
    {
      "cell_type": "markdown",
      "source": [
        "Створюємо об’єкт дерева рішень з найкращими значеннями гіперпараметрів:"
      ],
      "metadata": {
        "id": "8nu1ifCah5fq"
      }
    },
    {
      "cell_type": "code",
      "source": [
        "tree_clf = DecisionTreeClassifier(\n",
        "    max_depth = 5,\n",
        "    min_samples_leaf = 30,\n",
        "    max_features = 0.9,\n",
        "    criterion = 'gini',\n",
        "    random_state = 2\n",
        ")"
      ],
      "metadata": {
        "id": "fqvpZdHVh8a0"
      },
      "execution_count": 207,
      "outputs": []
    },
    {
      "cell_type": "code",
      "source": [
        "import numpy as np\n",
        "from sklearn.naive_bayes import GaussianNB\n",
        "from sklearn.metrics import accuracy_score\n",
        "\n",
        "# Оцінка точності моделі дерева рішень (dt) на тестових даних (X_test, Y_test)\n",
        "accuracy = accuracy_score(y_true=Y_test, y_pred=dt.predict(X_test))\n",
        "print('Точність тестування дерева рішень:', accuracy)\n",
        "\n",
        "# Створення моделі Наївного Байєса Гаусса (nb)\n",
        "nb = GaussianNB()\n",
        "\n",
        "# Навчання моделі nb на тестових даних (X_test, Y_test)\n",
        "nb.fit(X_test, Y_test)\n",
        "\n",
        "# Прогнозування міток для тестових даних (X_test) за допомогою моделі nb\n",
        "y_pred = nb.predict(X_test)\n",
        "\n",
        "# Оцінка точності моделі nb на тестових даних (X_test, Y_test)\n",
        "accuracy = accuracy_score(y_true=Y_test, y_pred=y_pred)\n",
        "print('Точність тестування Наївного Байєса Гаусса:', accuracy)"
      ],
      "metadata": {
        "colab": {
          "base_uri": "https://localhost:8080/"
        },
        "id": "2Y9PbeF9oaLa",
        "outputId": "98420233-d840-4a99-a79c-aa2552498f90"
      },
      "execution_count": 208,
      "outputs": [
        {
          "output_type": "stream",
          "name": "stdout",
          "text": [
            "Точність тестування дерева рішень: 1.0\n",
            "Точність тестування Наївного Байєса Гаусса: 0.7545638945233266\n"
          ]
        }
      ]
    },
    {
      "cell_type": "markdown",
      "source": [
        "\n",
        "\n",
        "З отриманих результатів видно, що модель дерева рішень має вражаючу точність на тестових даних, рівну 1.0. Такий ідеальний результат може свідчити про те, що модель ідеально адаптується до тренувальних даних і має високу здатність до класифікації нових зразків. Проте, важливо враховувати можливість перенавчання, оскільки така висока точність може бути результатом підгонки моделі під тренувальні дані.\n",
        "\n",
        "У той час як модель Наївного Байєса Гаусса також має добру точність на тестових даних (близько 0.75), це значення, можливо, свідчить про меншу схильність моделі до перенавчання, а також її здатність до узагальнення на нові дані.\n",
        "\n",
        "Загальною висновок є те, що обидві моделі показують гарні результати на тестових даних, проте слід продовжувати вивчення та аналіз для забезпечення оптимальної ефективності і узагальнення на нові дані.\n",
        "\n",
        "Ось більш детальне пояснення результатів:\n",
        "\n",
        "Test AUC: 1.0 - Це означає, що класифікатор GNB ідеально передбачає всі мітки в тестових даних. Цей результат дещо незвичний, оскільки він свідчить про те, що модель надто тісно пов'язана з тестовими даними і може не добре узагальнюватися на нові дані.\n",
        "\n",
        "Train AUC: 0.754 - Це означає, що класифікатор GNB точно передбачає мітки для приблизно 75% точок даних у навчальному наборі. Це відносно хороша продуктивність для навчальних даних, але значне падіння продуктивності на тестових даних свідчить про перенавчання.\n",
        "\n",
        "Щоб вирішити проблему перенавчання, можна розглянути такі підходи:\n",
        "\n",
        "Зменшити складність моделі: Можна спробувати використовувати простішу модель, наприклад, дерево рішень з меншою глибиною або меншою кількістю ознак. Це може допомогти моделі краще узагальнюватися на невивчених даних.\n",
        "\n",
        "Регуляризувати модель: Можна використовувати методи регуляризації, такі як регуляризація L1 або L2, щоб штрафувати складні моделі та заохочувати плавніші межі рішень.\n",
        "\n",
        "Використовувати інший класифікатор: Можна розглянути використання іншого класифікатора, наприклад машини підтримки векторів (SVM) або моделі логістичної регресії, які можуть бути менш схильні до перенавчання для цього конкретного набору даних."
      ],
      "metadata": {
        "id": "8s0noubSj-Yl"
      }
    },
    {
      "cell_type": "markdown",
      "source": [
        "**Висновок**\n",
        "\n",
        "У лабораторній роботі було проведено дослідження двох класифікаторів: k-найближчих сусідів (KNN) та рішаючого дерева (Decision Tree). Моделі були оцінені за допомогою метрики AUC-ROC, яка є надійною для оцінки ефективності моделей класифікації, особливо у випадках незбалансованих класів.\n",
        "\n",
        "Оптимізація гіперпараметрів KNN дозволила покращити точність моделі, але призвела до ознак перенавчання. Оптимізація гіперпараметрів дерева рішень дозволила покращити точність моделі без ознак перенавчання.\n",
        "\n",
        "Аналіз важливості ознак виявив ключові змінні, які найбільше впливають на прогнози моделей. Ця інформація може бути корисною для подальшого вдосконалення моделей та дослідження даних."
      ],
      "metadata": {
        "id": "7mg5VB7MoAd9"
      }
    }
  ]
}